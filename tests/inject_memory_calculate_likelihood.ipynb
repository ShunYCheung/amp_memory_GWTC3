{
 "cells": [
  {
   "cell_type": "code",
   "execution_count": 3,
   "metadata": {},
   "outputs": [],
   "source": [
    "import numpy as np\n",
    "import bilby\n",
    "import lal\n",
    "import copy\n",
    "import pickle\n",
    "import gwpy\n",
    "from gwpy.timeseries import TimeSeries\n",
    "import matplotlib.pyplot as plt\n",
    "import multiprocessing as mp\n",
    "from scipy.special import logsumexp\n",
    "\n",
    "import sys\n",
    "import os\n",
    "\n",
    "sys.path.append(\"..\")\n",
    "\n",
    "from waveforms import mem_freq_XPHM, mem_freq_XPHM_only\n",
    "\n",
    "from reweight_mem_parallel import reweight_mem_parallel\n",
    "from create_post_dict import create_post_dict, extract_relevant_info, process_bilby_result\n",
    "from event_table import call_event_table"
   ]
  },
  {
   "cell_type": "code",
   "execution_count": 4,
   "metadata": {},
   "outputs": [],
   "source": [
    "event_number = 0\n",
    "event_name, file_path, waveform, data_file = call_event_table()[event_number]\n",
    "samples, meta_dict, config_dict, priors, psds, calibration = create_post_dict(file_path, waveform)"
   ]
  },
  {
   "cell_type": "code",
   "execution_count": 9,
   "metadata": {},
   "outputs": [
    {
     "name": "stderr",
     "output_type": "stream",
     "text": [
      "21:16 bilby INFO    : Waveform generator initiated with\n",
      "  frequency_domain_source_model: waveforms.mem_freq_XPHM\n",
      "  time_domain_source_model: None\n",
      "  parameter_conversion: bilby.gw.conversion.convert_to_lal_binary_black_hole_parameters\n"
     ]
    },
    {
     "name": "stderr",
     "output_type": "stream",
     "text": [
      "21:16 bilby INFO    : Waveform generator initiated with\n",
      "  frequency_domain_source_model: waveforms.mem_freq_XPHM\n",
      "  time_domain_source_model: None\n",
      "  parameter_conversion: bilby.gw.conversion.convert_to_lal_binary_black_hole_parameters\n"
     ]
    },
    {
     "name": "stdout",
     "output_type": "stream",
     "text": [
      "558.3674571096965\n"
     ]
    },
    {
     "name": "stderr",
     "output_type": "stream",
     "text": [
      "21:16 bilby INFO    : Waveform generator initiated with\n",
      "  frequency_domain_source_model: waveforms.mem_freq_XPHM\n",
      "  time_domain_source_model: None\n",
      "  parameter_conversion: bilby.gw.conversion.convert_to_lal_binary_black_hole_parameters\n"
     ]
    },
    {
     "name": "stdout",
     "output_type": "stream",
     "text": [
      "558.3862576904523\n"
     ]
    },
    {
     "name": "stderr",
     "output_type": "stream",
     "text": [
      "21:16 bilby INFO    : Waveform generator initiated with\n",
      "  frequency_domain_source_model: waveforms.mem_freq_XPHM\n",
      "  time_domain_source_model: None\n",
      "  parameter_conversion: bilby.gw.conversion.convert_to_lal_binary_black_hole_parameters\n"
     ]
    },
    {
     "name": "stdout",
     "output_type": "stream",
     "text": [
      "558.4028457814808\n"
     ]
    },
    {
     "name": "stderr",
     "output_type": "stream",
     "text": [
      "21:16 bilby INFO    : Waveform generator initiated with\n",
      "  frequency_domain_source_model: waveforms.mem_freq_XPHM\n",
      "  time_domain_source_model: None\n",
      "  parameter_conversion: bilby.gw.conversion.convert_to_lal_binary_black_hole_parameters\n"
     ]
    },
    {
     "name": "stdout",
     "output_type": "stream",
     "text": [
      "558.4172213827819\n"
     ]
    },
    {
     "name": "stderr",
     "output_type": "stream",
     "text": [
      "21:16 bilby INFO    : Waveform generator initiated with\n",
      "  frequency_domain_source_model: waveforms.mem_freq_XPHM\n",
      "  time_domain_source_model: None\n",
      "  parameter_conversion: bilby.gw.conversion.convert_to_lal_binary_black_hole_parameters\n"
     ]
    },
    {
     "name": "stdout",
     "output_type": "stream",
     "text": [
      "558.4293844943559\n"
     ]
    },
    {
     "name": "stderr",
     "output_type": "stream",
     "text": [
      "21:16 bilby INFO    : Waveform generator initiated with\n",
      "  frequency_domain_source_model: waveforms.mem_freq_XPHM\n",
      "  time_domain_source_model: None\n",
      "  parameter_conversion: bilby.gw.conversion.convert_to_lal_binary_black_hole_parameters\n"
     ]
    },
    {
     "name": "stdout",
     "output_type": "stream",
     "text": [
      "558.4393351162024\n"
     ]
    },
    {
     "name": "stderr",
     "output_type": "stream",
     "text": [
      "21:16 bilby INFO    : Waveform generator initiated with\n",
      "  frequency_domain_source_model: waveforms.mem_freq_XPHM\n",
      "  time_domain_source_model: None\n",
      "  parameter_conversion: bilby.gw.conversion.convert_to_lal_binary_black_hole_parameters\n"
     ]
    },
    {
     "name": "stdout",
     "output_type": "stream",
     "text": [
      "558.4470732483217\n"
     ]
    },
    {
     "name": "stderr",
     "output_type": "stream",
     "text": [
      "21:16 bilby INFO    : Waveform generator initiated with\n",
      "  frequency_domain_source_model: waveforms.mem_freq_XPHM\n",
      "  time_domain_source_model: None\n",
      "  parameter_conversion: bilby.gw.conversion.convert_to_lal_binary_black_hole_parameters\n"
     ]
    },
    {
     "name": "stdout",
     "output_type": "stream",
     "text": [
      "558.4525988907135\n"
     ]
    },
    {
     "name": "stderr",
     "output_type": "stream",
     "text": [
      "21:16 bilby INFO    : Waveform generator initiated with\n",
      "  frequency_domain_source_model: waveforms.mem_freq_XPHM\n",
      "  time_domain_source_model: None\n",
      "  parameter_conversion: bilby.gw.conversion.convert_to_lal_binary_black_hole_parameters\n"
     ]
    },
    {
     "name": "stdout",
     "output_type": "stream",
     "text": [
      "558.4559120433782\n"
     ]
    },
    {
     "name": "stderr",
     "output_type": "stream",
     "text": [
      "21:16 bilby INFO    : Waveform generator initiated with\n",
      "  frequency_domain_source_model: waveforms.mem_freq_XPHM\n",
      "  time_domain_source_model: None\n",
      "  parameter_conversion: bilby.gw.conversion.convert_to_lal_binary_black_hole_parameters\n"
     ]
    },
    {
     "name": "stdout",
     "output_type": "stream",
     "text": [
      "558.4570127063157\n"
     ]
    },
    {
     "name": "stderr",
     "output_type": "stream",
     "text": [
      "21:16 bilby INFO    : Waveform generator initiated with\n",
      "  frequency_domain_source_model: waveforms.mem_freq_XPHM\n",
      "  time_domain_source_model: None\n",
      "  parameter_conversion: bilby.gw.conversion.convert_to_lal_binary_black_hole_parameters\n"
     ]
    },
    {
     "name": "stdout",
     "output_type": "stream",
     "text": [
      "558.4559008795259\n"
     ]
    },
    {
     "name": "stderr",
     "output_type": "stream",
     "text": [
      "21:16 bilby INFO    : Waveform generator initiated with\n",
      "  frequency_domain_source_model: waveforms.mem_freq_XPHM\n",
      "  time_domain_source_model: None\n",
      "  parameter_conversion: bilby.gw.conversion.convert_to_lal_binary_black_hole_parameters\n"
     ]
    },
    {
     "name": "stdout",
     "output_type": "stream",
     "text": [
      "558.452576563009\n"
     ]
    },
    {
     "name": "stderr",
     "output_type": "stream",
     "text": [
      "21:16 bilby INFO    : Waveform generator initiated with\n",
      "  frequency_domain_source_model: waveforms.mem_freq_XPHM\n",
      "  time_domain_source_model: None\n",
      "  parameter_conversion: bilby.gw.conversion.convert_to_lal_binary_black_hole_parameters\n"
     ]
    },
    {
     "name": "stdout",
     "output_type": "stream",
     "text": [
      "558.4470397567643\n"
     ]
    },
    {
     "name": "stderr",
     "output_type": "stream",
     "text": [
      "21:16 bilby INFO    : Waveform generator initiated with\n",
      "  frequency_domain_source_model: waveforms.mem_freq_XPHM\n",
      "  time_domain_source_model: None\n",
      "  parameter_conversion: bilby.gw.conversion.convert_to_lal_binary_black_hole_parameters\n"
     ]
    },
    {
     "name": "stdout",
     "output_type": "stream",
     "text": [
      "558.4392904607928\n"
     ]
    },
    {
     "name": "stderr",
     "output_type": "stream",
     "text": [
      "21:16 bilby INFO    : Waveform generator initiated with\n",
      "  frequency_domain_source_model: waveforms.mem_freq_XPHM\n",
      "  time_domain_source_model: None\n",
      "  parameter_conversion: bilby.gw.conversion.convert_to_lal_binary_black_hole_parameters\n"
     ]
    },
    {
     "name": "stdout",
     "output_type": "stream",
     "text": [
      "558.4293286750938\n"
     ]
    },
    {
     "name": "stderr",
     "output_type": "stream",
     "text": [
      "21:16 bilby INFO    : Waveform generator initiated with\n",
      "  frequency_domain_source_model: waveforms.mem_freq_XPHM\n",
      "  time_domain_source_model: None\n",
      "  parameter_conversion: bilby.gw.conversion.convert_to_lal_binary_black_hole_parameters\n"
     ]
    },
    {
     "name": "stdout",
     "output_type": "stream",
     "text": [
      "558.4171543996674\n"
     ]
    },
    {
     "name": "stderr",
     "output_type": "stream",
     "text": [
      "21:16 bilby INFO    : Waveform generator initiated with\n",
      "  frequency_domain_source_model: waveforms.mem_freq_XPHM\n",
      "  time_domain_source_model: None\n",
      "  parameter_conversion: bilby.gw.conversion.convert_to_lal_binary_black_hole_parameters\n"
     ]
    },
    {
     "name": "stdout",
     "output_type": "stream",
     "text": [
      "558.4027676345138\n"
     ]
    },
    {
     "name": "stderr",
     "output_type": "stream",
     "text": [
      "21:16 bilby INFO    : Waveform generator initiated with\n",
      "  frequency_domain_source_model: waveforms.mem_freq_XPHM\n",
      "  time_domain_source_model: None\n",
      "  parameter_conversion: bilby.gw.conversion.convert_to_lal_binary_black_hole_parameters\n"
     ]
    },
    {
     "name": "stdout",
     "output_type": "stream",
     "text": [
      "558.3861683796329\n"
     ]
    },
    {
     "name": "stderr",
     "output_type": "stream",
     "text": [
      "21:16 bilby INFO    : Waveform generator initiated with\n",
      "  frequency_domain_source_model: waveforms.mem_freq_XPHM\n",
      "  time_domain_source_model: None\n",
      "  parameter_conversion: bilby.gw.conversion.convert_to_lal_binary_black_hole_parameters\n"
     ]
    },
    {
     "name": "stdout",
     "output_type": "stream",
     "text": [
      "558.3673566350249\n"
     ]
    },
    {
     "name": "stderr",
     "output_type": "stream",
     "text": [
      "21:16 bilby INFO    : Waveform generator initiated with\n",
      "  frequency_domain_source_model: waveforms.mem_freq_XPHM\n",
      "  time_domain_source_model: None\n",
      "  parameter_conversion: bilby.gw.conversion.convert_to_lal_binary_black_hole_parameters\n"
     ]
    },
    {
     "name": "stdout",
     "output_type": "stream",
     "text": [
      "558.3463324006894\n"
     ]
    },
    {
     "name": "stderr",
     "output_type": "stream",
     "text": [
      "21:16 bilby INFO    : Waveform generator initiated with\n",
      "  frequency_domain_source_model: waveforms.mem_freq_XPHM\n",
      "  time_domain_source_model: None\n",
      "  parameter_conversion: bilby.gw.conversion.convert_to_lal_binary_black_hole_parameters\n"
     ]
    },
    {
     "name": "stdout",
     "output_type": "stream",
     "text": [
      "558.3230956766266\n"
     ]
    },
    {
     "name": "stderr",
     "output_type": "stream",
     "text": [
      "21:16 bilby INFO    : Waveform generator initiated with\n",
      "  frequency_domain_source_model: waveforms.mem_freq_XPHM\n",
      "  time_domain_source_model: None\n",
      "  parameter_conversion: bilby.gw.conversion.convert_to_lal_binary_black_hole_parameters\n"
     ]
    },
    {
     "name": "stdout",
     "output_type": "stream",
     "text": [
      "558.2976464628364\n"
     ]
    },
    {
     "name": "stderr",
     "output_type": "stream",
     "text": [
      "21:16 bilby INFO    : Waveform generator initiated with\n",
      "  frequency_domain_source_model: waveforms.mem_freq_XPHM\n",
      "  time_domain_source_model: None\n",
      "  parameter_conversion: bilby.gw.conversion.convert_to_lal_binary_black_hole_parameters\n"
     ]
    },
    {
     "name": "stdout",
     "output_type": "stream",
     "text": [
      "558.269984759319\n"
     ]
    },
    {
     "name": "stderr",
     "output_type": "stream",
     "text": [
      "21:16 bilby INFO    : Waveform generator initiated with\n",
      "  frequency_domain_source_model: waveforms.mem_freq_XPHM\n",
      "  time_domain_source_model: None\n",
      "  parameter_conversion: bilby.gw.conversion.convert_to_lal_binary_black_hole_parameters\n"
     ]
    },
    {
     "name": "stdout",
     "output_type": "stream",
     "text": [
      "558.2401105660746\n"
     ]
    },
    {
     "name": "stderr",
     "output_type": "stream",
     "text": [
      "21:16 bilby INFO    : Waveform generator initiated with\n",
      "  frequency_domain_source_model: waveforms.mem_freq_XPHM\n",
      "  time_domain_source_model: None\n",
      "  parameter_conversion: bilby.gw.conversion.convert_to_lal_binary_black_hole_parameters\n"
     ]
    },
    {
     "name": "stdout",
     "output_type": "stream",
     "text": [
      "558.2080238831024\n"
     ]
    },
    {
     "name": "stderr",
     "output_type": "stream",
     "text": [
      "21:16 bilby INFO    : Waveform generator initiated with\n",
      "  frequency_domain_source_model: waveforms.mem_freq_XPHM\n",
      "  time_domain_source_model: None\n",
      "  parameter_conversion: bilby.gw.conversion.convert_to_lal_binary_black_hole_parameters\n"
     ]
    },
    {
     "name": "stdout",
     "output_type": "stream",
     "text": [
      "558.1737247104033\n"
     ]
    },
    {
     "name": "stderr",
     "output_type": "stream",
     "text": [
      "21:16 bilby INFO    : Waveform generator initiated with\n",
      "  frequency_domain_source_model: waveforms.mem_freq_XPHM\n",
      "  time_domain_source_model: None\n",
      "  parameter_conversion: bilby.gw.conversion.convert_to_lal_binary_black_hole_parameters\n"
     ]
    },
    {
     "name": "stdout",
     "output_type": "stream",
     "text": [
      "558.1372130479771\n"
     ]
    },
    {
     "name": "stderr",
     "output_type": "stream",
     "text": [
      "21:16 bilby INFO    : Waveform generator initiated with\n",
      "  frequency_domain_source_model: waveforms.mem_freq_XPHM\n",
      "  time_domain_source_model: None\n",
      "  parameter_conversion: bilby.gw.conversion.convert_to_lal_binary_black_hole_parameters\n"
     ]
    },
    {
     "name": "stdout",
     "output_type": "stream",
     "text": [
      "558.0984888958234\n"
     ]
    },
    {
     "name": "stderr",
     "output_type": "stream",
     "text": [
      "21:16 bilby INFO    : Waveform generator initiated with\n",
      "  frequency_domain_source_model: waveforms.mem_freq_XPHM\n",
      "  time_domain_source_model: None\n",
      "  parameter_conversion: bilby.gw.conversion.convert_to_lal_binary_black_hole_parameters\n"
     ]
    },
    {
     "name": "stdout",
     "output_type": "stream",
     "text": [
      "558.057552253942\n"
     ]
    },
    {
     "name": "stderr",
     "output_type": "stream",
     "text": [
      "21:16 bilby INFO    : Waveform generator initiated with\n",
      "  frequency_domain_source_model: waveforms.mem_freq_XPHM\n",
      "  time_domain_source_model: None\n",
      "  parameter_conversion: bilby.gw.conversion.convert_to_lal_binary_black_hole_parameters\n"
     ]
    },
    {
     "name": "stdout",
     "output_type": "stream",
     "text": [
      "558.0144031223338\n"
     ]
    },
    {
     "name": "stderr",
     "output_type": "stream",
     "text": [
      "21:16 bilby INFO    : Waveform generator initiated with\n",
      "  frequency_domain_source_model: waveforms.mem_freq_XPHM\n",
      "  time_domain_source_model: None\n",
      "  parameter_conversion: bilby.gw.conversion.convert_to_lal_binary_black_hole_parameters\n"
     ]
    },
    {
     "name": "stdout",
     "output_type": "stream",
     "text": [
      "557.9690415009982\n"
     ]
    },
    {
     "name": "stderr",
     "output_type": "stream",
     "text": [
      "21:16 bilby INFO    : Waveform generator initiated with\n",
      "  frequency_domain_source_model: waveforms.mem_freq_XPHM\n",
      "  time_domain_source_model: None\n",
      "  parameter_conversion: bilby.gw.conversion.convert_to_lal_binary_black_hole_parameters\n"
     ]
    },
    {
     "name": "stdout",
     "output_type": "stream",
     "text": [
      "557.9214673899354\n"
     ]
    },
    {
     "name": "stderr",
     "output_type": "stream",
     "text": [
      "21:16 bilby INFO    : Waveform generator initiated with\n",
      "  frequency_domain_source_model: waveforms.mem_freq_XPHM\n",
      "  time_domain_source_model: None\n",
      "  parameter_conversion: bilby.gw.conversion.convert_to_lal_binary_black_hole_parameters\n"
     ]
    },
    {
     "name": "stdout",
     "output_type": "stream",
     "text": [
      "557.8716807891451\n"
     ]
    },
    {
     "name": "stderr",
     "output_type": "stream",
     "text": [
      "21:16 bilby INFO    : Waveform generator initiated with\n",
      "  frequency_domain_source_model: waveforms.mem_freq_XPHM\n",
      "  time_domain_source_model: None\n",
      "  parameter_conversion: bilby.gw.conversion.convert_to_lal_binary_black_hole_parameters\n"
     ]
    },
    {
     "name": "stdout",
     "output_type": "stream",
     "text": [
      "557.8196816986276\n"
     ]
    },
    {
     "name": "stderr",
     "output_type": "stream",
     "text": [
      "21:16 bilby INFO    : Waveform generator initiated with\n",
      "  frequency_domain_source_model: waveforms.mem_freq_XPHM\n",
      "  time_domain_source_model: None\n",
      "  parameter_conversion: bilby.gw.conversion.convert_to_lal_binary_black_hole_parameters\n"
     ]
    },
    {
     "name": "stdout",
     "output_type": "stream",
     "text": [
      "557.7654701183828\n"
     ]
    },
    {
     "name": "stderr",
     "output_type": "stream",
     "text": [
      "21:16 bilby INFO    : Waveform generator initiated with\n",
      "  frequency_domain_source_model: waveforms.mem_freq_XPHM\n",
      "  time_domain_source_model: None\n",
      "  parameter_conversion: bilby.gw.conversion.convert_to_lal_binary_black_hole_parameters\n"
     ]
    },
    {
     "name": "stdout",
     "output_type": "stream",
     "text": [
      "557.7090460484108\n"
     ]
    },
    {
     "name": "stderr",
     "output_type": "stream",
     "text": [
      "21:16 bilby INFO    : Waveform generator initiated with\n",
      "  frequency_domain_source_model: waveforms.mem_freq_XPHM\n",
      "  time_domain_source_model: None\n",
      "  parameter_conversion: bilby.gw.conversion.convert_to_lal_binary_black_hole_parameters\n"
     ]
    },
    {
     "name": "stdout",
     "output_type": "stream",
     "text": [
      "557.6504094887115\n"
     ]
    },
    {
     "name": "stderr",
     "output_type": "stream",
     "text": [
      "21:16 bilby INFO    : Waveform generator initiated with\n",
      "  frequency_domain_source_model: waveforms.mem_freq_XPHM\n",
      "  time_domain_source_model: None\n",
      "  parameter_conversion: bilby.gw.conversion.convert_to_lal_binary_black_hole_parameters\n"
     ]
    },
    {
     "name": "stdout",
     "output_type": "stream",
     "text": [
      "557.5895604392852\n"
     ]
    },
    {
     "name": "stderr",
     "output_type": "stream",
     "text": [
      "21:16 bilby INFO    : Waveform generator initiated with\n",
      "  frequency_domain_source_model: waveforms.mem_freq_XPHM\n",
      "  time_domain_source_model: None\n",
      "  parameter_conversion: bilby.gw.conversion.convert_to_lal_binary_black_hole_parameters\n"
     ]
    },
    {
     "name": "stdout",
     "output_type": "stream",
     "text": [
      "557.526498900131\n"
     ]
    },
    {
     "name": "stderr",
     "output_type": "stream",
     "text": [
      "21:16 bilby INFO    : Waveform generator initiated with\n",
      "  frequency_domain_source_model: waveforms.mem_freq_XPHM\n",
      "  time_domain_source_model: None\n",
      "  parameter_conversion: bilby.gw.conversion.convert_to_lal_binary_black_hole_parameters\n"
     ]
    },
    {
     "name": "stdout",
     "output_type": "stream",
     "text": [
      "557.4612248712497\n"
     ]
    },
    {
     "name": "stderr",
     "output_type": "stream",
     "text": [
      "21:17 bilby INFO    : Waveform generator initiated with\n",
      "  frequency_domain_source_model: waveforms.mem_freq_XPHM\n",
      "  time_domain_source_model: None\n",
      "  parameter_conversion: bilby.gw.conversion.convert_to_lal_binary_black_hole_parameters\n"
     ]
    },
    {
     "name": "stdout",
     "output_type": "stream",
     "text": [
      "557.3937383526412\n"
     ]
    },
    {
     "name": "stderr",
     "output_type": "stream",
     "text": [
      "21:17 bilby INFO    : Waveform generator initiated with\n",
      "  frequency_domain_source_model: waveforms.mem_freq_XPHM\n",
      "  time_domain_source_model: None\n",
      "  parameter_conversion: bilby.gw.conversion.convert_to_lal_binary_black_hole_parameters\n"
     ]
    },
    {
     "name": "stdout",
     "output_type": "stream",
     "text": [
      "557.3240393443052\n"
     ]
    },
    {
     "name": "stderr",
     "output_type": "stream",
     "text": [
      "21:17 bilby INFO    : Waveform generator initiated with\n",
      "  frequency_domain_source_model: waveforms.mem_freq_XPHM\n",
      "  time_domain_source_model: None\n",
      "  parameter_conversion: bilby.gw.conversion.convert_to_lal_binary_black_hole_parameters\n"
     ]
    },
    {
     "name": "stdout",
     "output_type": "stream",
     "text": [
      "557.2521278462423\n"
     ]
    },
    {
     "name": "stderr",
     "output_type": "stream",
     "text": [
      "21:17 bilby INFO    : Waveform generator initiated with\n",
      "  frequency_domain_source_model: waveforms.mem_freq_XPHM\n",
      "  time_domain_source_model: None\n",
      "  parameter_conversion: bilby.gw.conversion.convert_to_lal_binary_black_hole_parameters\n"
     ]
    },
    {
     "name": "stdout",
     "output_type": "stream",
     "text": [
      "557.1780038584519\n"
     ]
    },
    {
     "name": "stderr",
     "output_type": "stream",
     "text": [
      "21:17 bilby INFO    : Waveform generator initiated with\n",
      "  frequency_domain_source_model: waveforms.mem_freq_XPHM\n",
      "  time_domain_source_model: None\n",
      "  parameter_conversion: bilby.gw.conversion.convert_to_lal_binary_black_hole_parameters\n"
     ]
    },
    {
     "name": "stdout",
     "output_type": "stream",
     "text": [
      "557.1016673809343\n"
     ]
    },
    {
     "name": "stderr",
     "output_type": "stream",
     "text": [
      "21:17 bilby INFO    : Waveform generator initiated with\n",
      "  frequency_domain_source_model: waveforms.mem_freq_XPHM\n",
      "  time_domain_source_model: None\n",
      "  parameter_conversion: bilby.gw.conversion.convert_to_lal_binary_black_hole_parameters\n"
     ]
    },
    {
     "name": "stdout",
     "output_type": "stream",
     "text": [
      "557.0231184136892\n"
     ]
    },
    {
     "name": "stderr",
     "output_type": "stream",
     "text": [
      "21:17 bilby INFO    : Waveform generator initiated with\n",
      "  frequency_domain_source_model: waveforms.mem_freq_XPHM\n",
      "  time_domain_source_model: None\n",
      "  parameter_conversion: bilby.gw.conversion.convert_to_lal_binary_black_hole_parameters\n"
     ]
    },
    {
     "name": "stdout",
     "output_type": "stream",
     "text": [
      "556.942356956717\n"
     ]
    },
    {
     "name": "stderr",
     "output_type": "stream",
     "text": [
      "21:17 bilby INFO    : Waveform generator initiated with\n",
      "  frequency_domain_source_model: waveforms.mem_freq_XPHM\n",
      "  time_domain_source_model: None\n",
      "  parameter_conversion: bilby.gw.conversion.convert_to_lal_binary_black_hole_parameters\n"
     ]
    },
    {
     "name": "stdout",
     "output_type": "stream",
     "text": [
      "556.8593830100176\n"
     ]
    },
    {
     "name": "stderr",
     "output_type": "stream",
     "text": [
      "21:17 bilby INFO    : Waveform generator initiated with\n",
      "  frequency_domain_source_model: waveforms.mem_freq_XPHM\n",
      "  time_domain_source_model: None\n",
      "  parameter_conversion: bilby.gw.conversion.convert_to_lal_binary_black_hole_parameters\n"
     ]
    },
    {
     "name": "stdout",
     "output_type": "stream",
     "text": [
      "556.7741965735906\n"
     ]
    },
    {
     "name": "stderr",
     "output_type": "stream",
     "text": [
      "21:17 bilby INFO    : Waveform generator initiated with\n",
      "  frequency_domain_source_model: waveforms.mem_freq_XPHM\n",
      "  time_domain_source_model: None\n",
      "  parameter_conversion: bilby.gw.conversion.convert_to_lal_binary_black_hole_parameters\n"
     ]
    },
    {
     "name": "stdout",
     "output_type": "stream",
     "text": [
      "556.6867976474366\n"
     ]
    },
    {
     "name": "stderr",
     "output_type": "stream",
     "text": [
      "21:17 bilby INFO    : Waveform generator initiated with\n",
      "  frequency_domain_source_model: waveforms.mem_freq_XPHM\n",
      "  time_domain_source_model: None\n",
      "  parameter_conversion: bilby.gw.conversion.convert_to_lal_binary_black_hole_parameters\n"
     ]
    },
    {
     "name": "stdout",
     "output_type": "stream",
     "text": [
      "556.5971862315553\n"
     ]
    },
    {
     "name": "stderr",
     "output_type": "stream",
     "text": [
      "21:17 bilby INFO    : Waveform generator initiated with\n",
      "  frequency_domain_source_model: waveforms.mem_freq_XPHM\n",
      "  time_domain_source_model: None\n",
      "  parameter_conversion: bilby.gw.conversion.convert_to_lal_binary_black_hole_parameters\n"
     ]
    },
    {
     "name": "stdout",
     "output_type": "stream",
     "text": [
      "556.5053623259464\n"
     ]
    },
    {
     "name": "stderr",
     "output_type": "stream",
     "text": [
      "21:17 bilby INFO    : Waveform generator initiated with\n",
      "  frequency_domain_source_model: waveforms.mem_freq_XPHM\n",
      "  time_domain_source_model: None\n",
      "  parameter_conversion: bilby.gw.conversion.convert_to_lal_binary_black_hole_parameters\n"
     ]
    },
    {
     "name": "stdout",
     "output_type": "stream",
     "text": [
      "556.4113259306105\n"
     ]
    },
    {
     "name": "stderr",
     "output_type": "stream",
     "text": [
      "21:17 bilby INFO    : Waveform generator initiated with\n",
      "  frequency_domain_source_model: waveforms.mem_freq_XPHM\n",
      "  time_domain_source_model: None\n",
      "  parameter_conversion: bilby.gw.conversion.convert_to_lal_binary_black_hole_parameters\n"
     ]
    },
    {
     "name": "stdout",
     "output_type": "stream",
     "text": [
      "556.3150770455472\n"
     ]
    },
    {
     "name": "stderr",
     "output_type": "stream",
     "text": [
      "21:17 bilby INFO    : Waveform generator initiated with\n",
      "  frequency_domain_source_model: waveforms.mem_freq_XPHM\n",
      "  time_domain_source_model: None\n",
      "  parameter_conversion: bilby.gw.conversion.convert_to_lal_binary_black_hole_parameters\n"
     ]
    },
    {
     "name": "stdout",
     "output_type": "stream",
     "text": [
      "556.2166156707567\n"
     ]
    },
    {
     "name": "stderr",
     "output_type": "stream",
     "text": [
      "21:17 bilby INFO    : Waveform generator initiated with\n",
      "  frequency_domain_source_model: waveforms.mem_freq_XPHM\n",
      "  time_domain_source_model: None\n",
      "  parameter_conversion: bilby.gw.conversion.convert_to_lal_binary_black_hole_parameters\n"
     ]
    },
    {
     "name": "stdout",
     "output_type": "stream",
     "text": [
      "556.1159418062389\n"
     ]
    },
    {
     "name": "stderr",
     "output_type": "stream",
     "text": [
      "21:17 bilby INFO    : Waveform generator initiated with\n",
      "  frequency_domain_source_model: waveforms.mem_freq_XPHM\n",
      "  time_domain_source_model: None\n",
      "  parameter_conversion: bilby.gw.conversion.convert_to_lal_binary_black_hole_parameters\n"
     ]
    },
    {
     "name": "stdout",
     "output_type": "stream",
     "text": [
      "556.0130554519938\n"
     ]
    },
    {
     "name": "stderr",
     "output_type": "stream",
     "text": [
      "21:17 bilby INFO    : Waveform generator initiated with\n",
      "  frequency_domain_source_model: waveforms.mem_freq_XPHM\n",
      "  time_domain_source_model: None\n",
      "  parameter_conversion: bilby.gw.conversion.convert_to_lal_binary_black_hole_parameters\n"
     ]
    },
    {
     "name": "stdout",
     "output_type": "stream",
     "text": [
      "555.9079566080212\n"
     ]
    },
    {
     "name": "stderr",
     "output_type": "stream",
     "text": [
      "21:17 bilby INFO    : Waveform generator initiated with\n",
      "  frequency_domain_source_model: waveforms.mem_freq_XPHM\n",
      "  time_domain_source_model: None\n",
      "  parameter_conversion: bilby.gw.conversion.convert_to_lal_binary_black_hole_parameters\n"
     ]
    },
    {
     "name": "stdout",
     "output_type": "stream",
     "text": [
      "555.8006452743217\n"
     ]
    },
    {
     "name": "stderr",
     "output_type": "stream",
     "text": [
      "21:17 bilby INFO    : Waveform generator initiated with\n",
      "  frequency_domain_source_model: waveforms.mem_freq_XPHM\n",
      "  time_domain_source_model: None\n",
      "  parameter_conversion: bilby.gw.conversion.convert_to_lal_binary_black_hole_parameters\n"
     ]
    },
    {
     "name": "stdout",
     "output_type": "stream",
     "text": [
      "555.6911214508945\n"
     ]
    },
    {
     "name": "stderr",
     "output_type": "stream",
     "text": [
      "21:17 bilby INFO    : Waveform generator initiated with\n",
      "  frequency_domain_source_model: waveforms.mem_freq_XPHM\n",
      "  time_domain_source_model: None\n",
      "  parameter_conversion: bilby.gw.conversion.convert_to_lal_binary_black_hole_parameters\n"
     ]
    },
    {
     "name": "stdout",
     "output_type": "stream",
     "text": [
      "555.5793851377405\n"
     ]
    },
    {
     "name": "stderr",
     "output_type": "stream",
     "text": [
      "21:17 bilby INFO    : Waveform generator initiated with\n",
      "  frequency_domain_source_model: waveforms.mem_freq_XPHM\n",
      "  time_domain_source_model: None\n",
      "  parameter_conversion: bilby.gw.conversion.convert_to_lal_binary_black_hole_parameters\n"
     ]
    },
    {
     "name": "stdout",
     "output_type": "stream",
     "text": [
      "555.4654363348591\n"
     ]
    },
    {
     "name": "stderr",
     "output_type": "stream",
     "text": [
      "21:17 bilby INFO    : Waveform generator initiated with\n",
      "  frequency_domain_source_model: waveforms.mem_freq_XPHM\n",
      "  time_domain_source_model: None\n",
      "  parameter_conversion: bilby.gw.conversion.convert_to_lal_binary_black_hole_parameters\n"
     ]
    },
    {
     "name": "stdout",
     "output_type": "stream",
     "text": [
      "555.3492750422499\n"
     ]
    },
    {
     "name": "stderr",
     "output_type": "stream",
     "text": [
      "21:17 bilby INFO    : Waveform generator initiated with\n",
      "  frequency_domain_source_model: waveforms.mem_freq_XPHM\n",
      "  time_domain_source_model: None\n",
      "  parameter_conversion: bilby.gw.conversion.convert_to_lal_binary_black_hole_parameters\n"
     ]
    },
    {
     "name": "stdout",
     "output_type": "stream",
     "text": [
      "555.2309012599138\n"
     ]
    },
    {
     "name": "stderr",
     "output_type": "stream",
     "text": [
      "21:17 bilby INFO    : Waveform generator initiated with\n",
      "  frequency_domain_source_model: waveforms.mem_freq_XPHM\n",
      "  time_domain_source_model: None\n",
      "  parameter_conversion: bilby.gw.conversion.convert_to_lal_binary_black_hole_parameters\n"
     ]
    },
    {
     "name": "stdout",
     "output_type": "stream",
     "text": [
      "555.1103149878504\n"
     ]
    },
    {
     "name": "stderr",
     "output_type": "stream",
     "text": [
      "21:17 bilby INFO    : Waveform generator initiated with\n",
      "  frequency_domain_source_model: waveforms.mem_freq_XPHM\n",
      "  time_domain_source_model: None\n",
      "  parameter_conversion: bilby.gw.conversion.convert_to_lal_binary_black_hole_parameters\n"
     ]
    },
    {
     "name": "stdout",
     "output_type": "stream",
     "text": [
      "554.9875162260597\n"
     ]
    },
    {
     "name": "stderr",
     "output_type": "stream",
     "text": [
      "21:17 bilby INFO    : Waveform generator initiated with\n",
      "  frequency_domain_source_model: waveforms.mem_freq_XPHM\n",
      "  time_domain_source_model: None\n",
      "  parameter_conversion: bilby.gw.conversion.convert_to_lal_binary_black_hole_parameters\n"
     ]
    },
    {
     "name": "stdout",
     "output_type": "stream",
     "text": [
      "554.8625049745415\n"
     ]
    },
    {
     "name": "stderr",
     "output_type": "stream",
     "text": [
      "21:17 bilby INFO    : Waveform generator initiated with\n",
      "  frequency_domain_source_model: waveforms.mem_freq_XPHM\n",
      "  time_domain_source_model: None\n",
      "  parameter_conversion: bilby.gw.conversion.convert_to_lal_binary_black_hole_parameters\n"
     ]
    },
    {
     "name": "stdout",
     "output_type": "stream",
     "text": [
      "554.7352812332964\n"
     ]
    },
    {
     "name": "stderr",
     "output_type": "stream",
     "text": [
      "21:17 bilby INFO    : Waveform generator initiated with\n",
      "  frequency_domain_source_model: waveforms.mem_freq_XPHM\n",
      "  time_domain_source_model: None\n",
      "  parameter_conversion: bilby.gw.conversion.convert_to_lal_binary_black_hole_parameters\n"
     ]
    },
    {
     "name": "stdout",
     "output_type": "stream",
     "text": [
      "554.6058450023238\n"
     ]
    },
    {
     "name": "stderr",
     "output_type": "stream",
     "text": [
      "21:17 bilby INFO    : Waveform generator initiated with\n",
      "  frequency_domain_source_model: waveforms.mem_freq_XPHM\n",
      "  time_domain_source_model: None\n",
      "  parameter_conversion: bilby.gw.conversion.convert_to_lal_binary_black_hole_parameters\n"
     ]
    },
    {
     "name": "stdout",
     "output_type": "stream",
     "text": [
      "554.474196281624\n"
     ]
    },
    {
     "name": "stderr",
     "output_type": "stream",
     "text": [
      "21:17 bilby INFO    : Waveform generator initiated with\n",
      "  frequency_domain_source_model: waveforms.mem_freq_XPHM\n",
      "  time_domain_source_model: None\n",
      "  parameter_conversion: bilby.gw.conversion.convert_to_lal_binary_black_hole_parameters\n"
     ]
    },
    {
     "name": "stdout",
     "output_type": "stream",
     "text": [
      "554.3403350711967\n"
     ]
    },
    {
     "name": "stderr",
     "output_type": "stream",
     "text": [
      "21:17 bilby INFO    : Waveform generator initiated with\n",
      "  frequency_domain_source_model: waveforms.mem_freq_XPHM\n",
      "  time_domain_source_model: None\n",
      "  parameter_conversion: bilby.gw.conversion.convert_to_lal_binary_black_hole_parameters\n"
     ]
    },
    {
     "name": "stdout",
     "output_type": "stream",
     "text": [
      "554.2042613710424\n"
     ]
    },
    {
     "name": "stderr",
     "output_type": "stream",
     "text": [
      "21:17 bilby INFO    : Waveform generator initiated with\n",
      "  frequency_domain_source_model: waveforms.mem_freq_XPHM\n",
      "  time_domain_source_model: None\n",
      "  parameter_conversion: bilby.gw.conversion.convert_to_lal_binary_black_hole_parameters\n"
     ]
    },
    {
     "name": "stdout",
     "output_type": "stream",
     "text": [
      "554.0659751811605\n"
     ]
    },
    {
     "name": "stderr",
     "output_type": "stream",
     "text": [
      "21:17 bilby INFO    : Waveform generator initiated with\n",
      "  frequency_domain_source_model: waveforms.mem_freq_XPHM\n",
      "  time_domain_source_model: None\n",
      "  parameter_conversion: bilby.gw.conversion.convert_to_lal_binary_black_hole_parameters\n"
     ]
    },
    {
     "name": "stdout",
     "output_type": "stream",
     "text": [
      "553.9254765015518\n"
     ]
    },
    {
     "name": "stderr",
     "output_type": "stream",
     "text": [
      "21:17 bilby INFO    : Waveform generator initiated with\n",
      "  frequency_domain_source_model: waveforms.mem_freq_XPHM\n",
      "  time_domain_source_model: None\n",
      "  parameter_conversion: bilby.gw.conversion.convert_to_lal_binary_black_hole_parameters\n"
     ]
    },
    {
     "name": "stdout",
     "output_type": "stream",
     "text": [
      "553.7827653322153\n"
     ]
    },
    {
     "name": "stderr",
     "output_type": "stream",
     "text": [
      "21:17 bilby INFO    : Waveform generator initiated with\n",
      "  frequency_domain_source_model: waveforms.mem_freq_XPHM\n",
      "  time_domain_source_model: None\n",
      "  parameter_conversion: bilby.gw.conversion.convert_to_lal_binary_black_hole_parameters\n"
     ]
    },
    {
     "name": "stdout",
     "output_type": "stream",
     "text": [
      "553.6378416731519\n"
     ]
    },
    {
     "name": "stderr",
     "output_type": "stream",
     "text": [
      "21:17 bilby INFO    : Waveform generator initiated with\n",
      "  frequency_domain_source_model: waveforms.mem_freq_XPHM\n",
      "  time_domain_source_model: None\n",
      "  parameter_conversion: bilby.gw.conversion.convert_to_lal_binary_black_hole_parameters\n"
     ]
    },
    {
     "name": "stdout",
     "output_type": "stream",
     "text": [
      "553.4907055243608\n"
     ]
    },
    {
     "name": "stderr",
     "output_type": "stream",
     "text": [
      "21:17 bilby INFO    : Waveform generator initiated with\n",
      "  frequency_domain_source_model: waveforms.mem_freq_XPHM\n",
      "  time_domain_source_model: None\n",
      "  parameter_conversion: bilby.gw.conversion.convert_to_lal_binary_black_hole_parameters\n"
     ]
    },
    {
     "name": "stdout",
     "output_type": "stream",
     "text": [
      "553.3413568858426\n"
     ]
    },
    {
     "name": "stderr",
     "output_type": "stream",
     "text": [
      "21:17 bilby INFO    : Waveform generator initiated with\n",
      "  frequency_domain_source_model: waveforms.mem_freq_XPHM\n",
      "  time_domain_source_model: None\n",
      "  parameter_conversion: bilby.gw.conversion.convert_to_lal_binary_black_hole_parameters\n"
     ]
    },
    {
     "name": "stdout",
     "output_type": "stream",
     "text": [
      "553.1897957575972\n",
      "553.0360221396245\n"
     ]
    }
   ],
   "source": [
    "max_like = np.argmax(samples['log_likelihood'])\n",
    "max_like_parameters = samples.iloc[max_like].to_dict()\n",
    "del max_like_parameters['iota']\n",
    "max_like_parameters.update({'theta_jn': np.pi/2})       # maximise the memory signal\n",
    "\n",
    "data_file = '/home/shunyin.cheung/amp_memory_GWTC3/injection_studies/GW150914_A1_injection_zero_noise/GW150914_A1_zero_noise/data/label_data0_1126259462-4_generation_data_dump.pickle'\n",
    "with open(data_file, 'rb') as f:\n",
    "    data_dump = pickle.load(f)\n",
    "try:\n",
    "    ifo_list = data_dump.interferometers\n",
    "\n",
    "except AttributeError:\n",
    "    ifo_list = data_dump['ifo_list']\n",
    "\n",
    "sampling_frequency = 2048\n",
    "reference_frequency = 20\n",
    "minimum_frequency = 20\n",
    "maximum_frequency = 1024\n",
    "roll_off=0.4\n",
    "duration = 4\n",
    "waveform_name = 'IMRPhenomXPHM'\n",
    "\n",
    "true_amplitude=1\n",
    "\n",
    "max_like = np.argmax(samples['log_likelihood'])\n",
    "max_like_parameters = samples.iloc[max_like].to_dict()\n",
    "del max_like_parameters['iota']\n",
    "max_like_parameters.update({'theta_jn': np.pi/2})       # maximise the memory signal\n",
    "\n",
    "trigger_time = 1126259462.4\n",
    "\n",
    "true_parameters = dict(mass_1=max_like_parameters['mass_1'],\n",
    "                            mass_2=max_like_parameters['mass_2'],\n",
    "                            luminosity_distance=max_like_parameters['luminosity_distance'],\n",
    "                            a_1=max_like_parameters['a_1'],\n",
    "                            a_2=max_like_parameters['a_2'], \n",
    "                            tilt_1=max_like_parameters['tilt_1'], \n",
    "                            phi_12=max_like_parameters['phi_12'], \n",
    "                            tilt_2=max_like_parameters['tilt_2'], \n",
    "                            phi_jl=max_like_parameters['phi_jl'], \n",
    "                            theta_jn=max_like_parameters['theta_jn'], \n",
    "                            phase=max_like_parameters['phase'],\n",
    "                            geocent_time=trigger_time,\n",
    "                            psi=max_like_parameters['psi'],\n",
    "                            ra=max_like_parameters['ra'],\n",
    "                            dec=max_like_parameters['dec'])\n",
    "\n",
    "amplitudes = np.arange(0.1, 8.1, 0.1)\n",
    "like = []\n",
    "\n",
    "for amplitude in amplitudes:\n",
    "        waveform_generator_full = bilby.gw.waveform_generator.WaveformGenerator(\n",
    "        duration=duration,\n",
    "        sampling_frequency=sampling_frequency,\n",
    "        frequency_domain_source_model= mem_freq_XPHM,\n",
    "        parameter_conversion = bilby.gw.conversion.convert_to_lal_binary_black_hole_parameters,\n",
    "        waveform_arguments=dict(duration=duration,\n",
    "                                roll_off=roll_off,\n",
    "                                minimum_frequency=minimum_frequency,\n",
    "                                maximum_frequency=maximum_frequency,\n",
    "                                sampling_frequency=sampling_frequency,\n",
    "                                reference_frequency=reference_frequency,\n",
    "                                waveform_approximant = waveform_name,\n",
    "                                amplitude=amplitude))\n",
    "        likelihood = bilby.gw.likelihood.GravitationalWaveTransient(\n",
    "                ifo_list,\n",
    "                waveform_generator_full,\n",
    "                priors = priors,\n",
    "                reference_frame = 'sky',\n",
    "                time_reference = 'geocent',\n",
    "        )\n",
    "        likelihood.parameters.update(true_parameters)\n",
    "        ln_likelihood_ratio = likelihood.log_likelihood_ratio()\n",
    "        print(ln_likelihood_ratio)\n",
    "        like.append(ln_likelihood_ratio)\n",
    "plt.figure()\n",
    "plt.plot(amplitudes, like)\n",
    "plt.axvline(true_amplitude, linestyle='dashed', color='black')\n",
    "plt.xlabel('A')\n",
    "plt.ylabel('log likelihood ratio')\n",
    "plt.tight_layout()\n",
    "plt.savefig(f'test_results/likelihood_A_in_gaussian_zero_noise_061223')\n"
   ]
  },
  {
   "cell_type": "code",
   "execution_count": 12,
   "metadata": {},
   "outputs": [
    {
     "name": "stderr",
     "output_type": "stream",
     "text": [
      "15:58 bilby INFO    : Waveform generator initiated with\n",
      "  frequency_domain_source_model: waveforms.mem_freq_XPHM_only\n",
      "  time_domain_source_model: None\n",
      "  parameter_conversion: bilby.gw.conversion.convert_to_lal_binary_black_hole_parameters\n",
      "15:58 bilby INFO    : Injected signal in H1:\n",
      "15:58 bilby INFO    :   optimal SNR = 0.75\n",
      "15:58 bilby INFO    :   matched filter SNR = 1.65+0.85j\n",
      "15:58 bilby INFO    :   chirp_mass = 29.8387469533461\n",
      "15:58 bilby INFO    :   mass_ratio = 0.8687955769814424\n",
      "15:58 bilby INFO    :   a_1 = 0.8608417198511092\n",
      "15:58 bilby INFO    :   a_2 = 0.7195088134379835\n",
      "15:58 bilby INFO    :   tilt_1 = 2.3792185506368795\n",
      "15:58 bilby INFO    :   tilt_2 = 0.8663525482689185\n",
      "15:58 bilby INFO    :   phi_12 = 5.878104994643697\n",
      "15:58 bilby INFO    :   phi_jl = 0.25757481830607415\n",
      "15:58 bilby INFO    :   theta_jn = 1.5707963267948966\n",
      "15:58 bilby INFO    :   psi = 0.6912519348265866\n",
      "15:58 bilby INFO    :   phase = 4.000226339478637\n",
      "15:58 bilby INFO    :   azimuth = 2.590928400193608\n",
      "15:58 bilby INFO    :   zenith = 2.3522458754068447\n",
      "15:58 bilby INFO    :   recalib_H1_amplitude_0 = -0.005868249419321757\n",
      "15:58 bilby INFO    :   recalib_H1_amplitude_1 = -0.043783360917849956\n",
      "15:58 bilby INFO    :   recalib_H1_amplitude_2 = -0.04728295327822305\n",
      "15:58 bilby INFO    :   recalib_H1_amplitude_3 = 0.08222264173465693\n",
      "15:58 bilby INFO    :   recalib_H1_amplitude_4 = 0.011855669695012536\n",
      "15:58 bilby INFO    :   recalib_H1_amplitude_5 = -0.008990421387286167\n",
      "15:58 bilby INFO    :   recalib_H1_amplitude_6 = -0.020009159194152252\n",
      "15:58 bilby INFO    :   recalib_H1_amplitude_7 = 0.008484833525516596\n",
      "15:58 bilby INFO    :   recalib_H1_amplitude_8 = -0.018327160189299724\n",
      "15:58 bilby INFO    :   recalib_H1_amplitude_9 = -0.0023772652335948725\n",
      "15:58 bilby INFO    :   recalib_H1_phase_0 = -0.0006461526627345466\n",
      "15:58 bilby INFO    :   recalib_H1_phase_1 = 0.051177755324892465\n",
      "15:58 bilby INFO    :   recalib_H1_phase_2 = 0.01399307494477739\n",
      "15:58 bilby INFO    :   recalib_H1_phase_3 = 0.08416966330293393\n",
      "15:58 bilby INFO    :   recalib_H1_phase_4 = 0.047473946777130974\n",
      "15:58 bilby INFO    :   recalib_H1_phase_5 = 0.013916433512643673\n",
      "15:58 bilby INFO    :   recalib_H1_phase_6 = -0.02128658443550522\n",
      "15:58 bilby INFO    :   recalib_H1_phase_7 = 0.02296630800067761\n",
      "15:58 bilby INFO    :   recalib_H1_phase_8 = -0.037098045831878486\n",
      "15:58 bilby INFO    :   recalib_H1_phase_9 = -0.018967830067115908\n",
      "15:58 bilby INFO    :   recalib_L1_amplitude_0 = -0.036293801292262916\n",
      "15:58 bilby INFO    :   recalib_L1_amplitude_1 = 0.014361561207618069\n",
      "15:58 bilby INFO    :   recalib_L1_amplitude_2 = -0.08693301208957734\n",
      "15:58 bilby INFO    :   recalib_L1_amplitude_3 = 0.10143853088596673\n",
      "15:58 bilby INFO    :   recalib_L1_amplitude_4 = -0.0077889246361674885\n",
      "15:58 bilby INFO    :   recalib_L1_amplitude_5 = -0.025543820665279264\n",
      "15:58 bilby INFO    :   recalib_L1_amplitude_6 = -0.021247887291087522\n",
      "15:58 bilby INFO    :   recalib_L1_amplitude_7 = 0.013667834994950237\n",
      "15:58 bilby INFO    :   recalib_L1_amplitude_8 = 0.012377526160578984\n",
      "15:58 bilby INFO    :   recalib_L1_amplitude_9 = 0.021583525090134788\n",
      "15:58 bilby INFO    :   recalib_L1_phase_0 = -0.02268955770914274\n",
      "15:58 bilby INFO    :   recalib_L1_phase_1 = -0.027473420705276475\n",
      "15:58 bilby INFO    :   recalib_L1_phase_2 = -0.0943607841222296\n",
      "15:58 bilby INFO    :   recalib_L1_phase_3 = 0.029977319706674166\n",
      "15:58 bilby INFO    :   recalib_L1_phase_4 = 0.08523838545670002\n",
      "15:58 bilby INFO    :   recalib_L1_phase_5 = -0.056840952818595976\n",
      "15:58 bilby INFO    :   recalib_L1_phase_6 = -0.004019423152701047\n",
      "15:58 bilby INFO    :   recalib_L1_phase_7 = 0.03270580357083033\n",
      "15:58 bilby INFO    :   recalib_L1_phase_8 = 0.02364064367507932\n",
      "15:58 bilby INFO    :   recalib_L1_phase_9 = -0.002027753595167955\n",
      "15:58 bilby INFO    :   time_jitter = 6.515517343713782e-06\n",
      "15:58 bilby INFO    :   luminosity_distance = 100\n",
      "15:58 bilby INFO    :   geocent_time = 1126259462.408404\n",
      "15:58 bilby INFO    :   recalib_H1_frequency_0 = 19.999999999999996\n",
      "15:58 bilby INFO    :   recalib_H1_frequency_1 = 30.514434824844255\n",
      "15:58 bilby INFO    :   recalib_H1_frequency_2 = 46.55653663398341\n",
      "15:58 bilby INFO    :   recalib_H1_frequency_3 = 71.03232013940804\n",
      "15:58 bilby INFO    :   recalib_H1_frequency_4 = 108.37555516757195\n",
      "15:58 bilby INFO    :   recalib_H1_frequency_5 = 165.35094073835938\n",
      "15:58 bilby INFO    :   recalib_H1_frequency_6 = 252.27952521936786\n",
      "15:58 bilby INFO    :   recalib_H1_frequency_7 = 384.9083564974527\n",
      "15:58 bilby INFO    :   recalib_H1_frequency_8 = 587.2630478939719\n",
      "15:58 bilby INFO    :   recalib_H1_frequency_9 = 895.9999999999999\n",
      "15:58 bilby INFO    :   recalib_L1_frequency_0 = 19.999999999999996\n",
      "15:58 bilby INFO    :   recalib_L1_frequency_1 = 30.514434824844255\n",
      "15:58 bilby INFO    :   recalib_L1_frequency_2 = 46.55653663398341\n",
      "15:58 bilby INFO    :   recalib_L1_frequency_3 = 71.03232013940804\n",
      "15:58 bilby INFO    :   recalib_L1_frequency_4 = 108.37555516757195\n",
      "15:58 bilby INFO    :   recalib_L1_frequency_5 = 165.35094073835938\n",
      "15:58 bilby INFO    :   recalib_L1_frequency_6 = 252.27952521936786\n",
      "15:58 bilby INFO    :   recalib_L1_frequency_7 = 384.9083564974527\n",
      "15:58 bilby INFO    :   recalib_L1_frequency_8 = 587.2630478939719\n",
      "15:58 bilby INFO    :   recalib_L1_frequency_9 = 895.9999999999999\n",
      "15:58 bilby INFO    :   log_likelihood = 328.4324942070929\n",
      "15:58 bilby INFO    :   log_prior = 66.29957866305776\n",
      "15:58 bilby INFO    :   total_mass = 68.75498279849768\n",
      "15:58 bilby INFO    :   mass_1 = 36.79106674126104\n",
      "15:58 bilby INFO    :   mass_2 = 31.96391605723664\n",
      "15:58 bilby INFO    :   ra = 2.216116171456804\n",
      "15:58 bilby INFO    :   dec = -1.2259035208296045\n",
      "15:58 bilby INFO    :   symmetric_mass_ratio = 0.24876770874914655\n",
      "15:58 bilby INFO    :   spin_1x = 0.5904472619004925\n",
      "15:58 bilby INFO    :   spin_1y = -0.06957261443892127\n",
      "15:58 bilby INFO    :   spin_1z = -0.6225593536929314\n",
      "15:58 bilby INFO    :   spin_2x = 0.4751310354864326\n",
      "15:58 bilby INFO    :   spin_2y = -0.2735390509327497\n",
      "15:58 bilby INFO    :   spin_2z = 0.46596117794011116\n",
      "15:58 bilby INFO    :   phi_1 = 6.1658957660048594\n",
      "15:58 bilby INFO    :   phi_2 = 5.760815453468969\n",
      "15:58 bilby INFO    :   chi_eff = -0.11651051936092104\n",
      "15:58 bilby INFO    :   chi_1_in_plane = 0.5945320157616876\n",
      "15:58 bilby INFO    :   chi_2_in_plane = 0.5482454863175794\n",
      "15:58 bilby INFO    :   chi_p = 0.5945320157616876\n",
      "15:58 bilby INFO    :   cos_tilt_1 = -0.7231983991210473\n",
      "15:58 bilby INFO    :   cos_tilt_2 = 0.6476101046123928\n",
      "15:58 bilby INFO    :   comoving_distance = 460.07828764617136\n",
      "15:58 bilby INFO    :   H1_matched_filter_snr = 21.221089162046386\n",
      "15:58 bilby INFO    :   H1_optimal_snr = 19.957775833584304\n",
      "15:58 bilby INFO    :   L1_matched_filter_snr = 15.167442050430017\n",
      "15:58 bilby INFO    :   L1_optimal_snr = 13.072732183576488\n",
      "15:58 bilby INFO    :   H1_matched_filter_abs_snr = 21.320120947355953\n",
      "15:58 bilby INFO    :   H1_matched_filter_snr_angle = -0.09642190803027524\n",
      "15:58 bilby INFO    :   L1_matched_filter_abs_snr = 15.262798565714363\n",
      "15:58 bilby INFO    :   L1_matched_filter_snr_angle = -0.11184059441681089\n",
      "15:58 bilby INFO    :   redshift = 0.10685806108071728\n",
      "15:58 bilby INFO    :   inverted_mass_ratio = 1.1510187511248808\n",
      "15:58 bilby INFO    :   mass_1_source = 33.23919121602536\n",
      "15:58 bilby INFO    :   mass_2_source = 28.878062310923244\n",
      "15:58 bilby INFO    :   total_mass_source = 62.1172535269486\n",
      "15:58 bilby INFO    :   chirp_mass_source = 26.958060841344064\n",
      "15:58 bilby INFO    :   chi_p_2spin = 0.6991048646002762\n",
      "15:58 bilby INFO    :   beta = 0.2964834516665308\n",
      "15:58 bilby INFO    :   psi_J = 1.8454358595594362\n",
      "15:58 bilby INFO    :   final_spin = 0.6847123040726873\n",
      "15:58 bilby INFO    :   peak_luminosity = 3.4650910541734206\n",
      "15:58 bilby INFO    :   final_mass = 65.67190490679377\n",
      "15:58 bilby INFO    :   final_mass_source = 59.33182150082807\n",
      "15:58 bilby INFO    :   radiated_energy = 2.7854320261205316\n",
      "15:58 bilby INFO    :   H1_time = 1126259462.4241831\n",
      "15:58 bilby INFO    :   L1_time = 1126259462.417131\n",
      "15:58 bilby INFO    :   network_optimal_snr = 23.858104345633123\n",
      "15:58 bilby INFO    :   network_matched_filter_snr = 26.062659432941388\n",
      "15:58 bilby INFO    :   cos_theta_jn = -0.7957343530217185\n",
      "15:58 bilby INFO    :   viewing_angle = 0.6505771989131781\n",
      "15:58 bilby INFO    :   cos_iota = -0.7159420610982777\n",
      "15:58 bilby INFO    :   tilt_1_infinity_only_prec_avg = 1.9184456335196816\n",
      "15:58 bilby INFO    :   tilt_2_infinity_only_prec_avg = 1.4496492121062137\n",
      "15:58 bilby INFO    :   spin_1z_infinity_only_prec_avg = -0.29327903351648726\n",
      "15:58 bilby INFO    :   spin_2z_infinity_only_prec_avg = 0.08695335504061963\n",
      "15:58 bilby INFO    :   chi_eff_infinity_only_prec_avg = -0.11651051936092102\n",
      "15:58 bilby INFO    :   chi_p_infinity_only_prec_avg = 0.8093428662414038\n",
      "15:58 bilby INFO    :   cos_tilt_1_infinity_only_prec_avg = -0.3406886849852173\n",
      "15:58 bilby INFO    :   cos_tilt_2_infinity_only_prec_avg = 0.12085099364542307\n",
      "15:58 bilby INFO    : Injected signal in L1:\n",
      "15:58 bilby INFO    :   optimal SNR = 0.58\n",
      "15:58 bilby INFO    :   matched filter SNR = -1.03-0.67j\n",
      "15:58 bilby INFO    :   chirp_mass = 29.8387469533461\n",
      "15:58 bilby INFO    :   mass_ratio = 0.8687955769814424\n",
      "15:58 bilby INFO    :   a_1 = 0.8608417198511092\n",
      "15:58 bilby INFO    :   a_2 = 0.7195088134379835\n",
      "15:58 bilby INFO    :   tilt_1 = 2.3792185506368795\n",
      "15:58 bilby INFO    :   tilt_2 = 0.8663525482689185\n",
      "15:58 bilby INFO    :   phi_12 = 5.878104994643697\n",
      "15:58 bilby INFO    :   phi_jl = 0.25757481830607415\n",
      "15:58 bilby INFO    :   theta_jn = 1.5707963267948966\n",
      "15:58 bilby INFO    :   psi = 0.6912519348265866\n",
      "15:58 bilby INFO    :   phase = 4.000226339478637\n",
      "15:58 bilby INFO    :   azimuth = 2.590928400193608\n",
      "15:58 bilby INFO    :   zenith = 2.3522458754068447\n",
      "15:58 bilby INFO    :   recalib_H1_amplitude_0 = -0.005868249419321757\n",
      "15:58 bilby INFO    :   recalib_H1_amplitude_1 = -0.043783360917849956\n",
      "15:58 bilby INFO    :   recalib_H1_amplitude_2 = -0.04728295327822305\n",
      "15:58 bilby INFO    :   recalib_H1_amplitude_3 = 0.08222264173465693\n",
      "15:58 bilby INFO    :   recalib_H1_amplitude_4 = 0.011855669695012536\n",
      "15:58 bilby INFO    :   recalib_H1_amplitude_5 = -0.008990421387286167\n",
      "15:58 bilby INFO    :   recalib_H1_amplitude_6 = -0.020009159194152252\n",
      "15:58 bilby INFO    :   recalib_H1_amplitude_7 = 0.008484833525516596\n",
      "15:58 bilby INFO    :   recalib_H1_amplitude_8 = -0.018327160189299724\n",
      "15:58 bilby INFO    :   recalib_H1_amplitude_9 = -0.0023772652335948725\n",
      "15:58 bilby INFO    :   recalib_H1_phase_0 = -0.0006461526627345466\n",
      "15:58 bilby INFO    :   recalib_H1_phase_1 = 0.051177755324892465\n",
      "15:58 bilby INFO    :   recalib_H1_phase_2 = 0.01399307494477739\n",
      "15:58 bilby INFO    :   recalib_H1_phase_3 = 0.08416966330293393\n",
      "15:58 bilby INFO    :   recalib_H1_phase_4 = 0.047473946777130974\n",
      "15:58 bilby INFO    :   recalib_H1_phase_5 = 0.013916433512643673\n",
      "15:58 bilby INFO    :   recalib_H1_phase_6 = -0.02128658443550522\n",
      "15:58 bilby INFO    :   recalib_H1_phase_7 = 0.02296630800067761\n",
      "15:58 bilby INFO    :   recalib_H1_phase_8 = -0.037098045831878486\n",
      "15:58 bilby INFO    :   recalib_H1_phase_9 = -0.018967830067115908\n",
      "15:58 bilby INFO    :   recalib_L1_amplitude_0 = -0.036293801292262916\n",
      "15:58 bilby INFO    :   recalib_L1_amplitude_1 = 0.014361561207618069\n",
      "15:58 bilby INFO    :   recalib_L1_amplitude_2 = -0.08693301208957734\n",
      "15:58 bilby INFO    :   recalib_L1_amplitude_3 = 0.10143853088596673\n",
      "15:58 bilby INFO    :   recalib_L1_amplitude_4 = -0.0077889246361674885\n",
      "15:58 bilby INFO    :   recalib_L1_amplitude_5 = -0.025543820665279264\n",
      "15:58 bilby INFO    :   recalib_L1_amplitude_6 = -0.021247887291087522\n",
      "15:58 bilby INFO    :   recalib_L1_amplitude_7 = 0.013667834994950237\n",
      "15:58 bilby INFO    :   recalib_L1_amplitude_8 = 0.012377526160578984\n",
      "15:58 bilby INFO    :   recalib_L1_amplitude_9 = 0.021583525090134788\n",
      "15:58 bilby INFO    :   recalib_L1_phase_0 = -0.02268955770914274\n",
      "15:58 bilby INFO    :   recalib_L1_phase_1 = -0.027473420705276475\n",
      "15:58 bilby INFO    :   recalib_L1_phase_2 = -0.0943607841222296\n",
      "15:58 bilby INFO    :   recalib_L1_phase_3 = 0.029977319706674166\n",
      "15:58 bilby INFO    :   recalib_L1_phase_4 = 0.08523838545670002\n",
      "15:58 bilby INFO    :   recalib_L1_phase_5 = -0.056840952818595976\n",
      "15:58 bilby INFO    :   recalib_L1_phase_6 = -0.004019423152701047\n",
      "15:58 bilby INFO    :   recalib_L1_phase_7 = 0.03270580357083033\n",
      "15:58 bilby INFO    :   recalib_L1_phase_8 = 0.02364064367507932\n",
      "15:58 bilby INFO    :   recalib_L1_phase_9 = -0.002027753595167955\n",
      "15:58 bilby INFO    :   time_jitter = 6.515517343713782e-06\n",
      "15:58 bilby INFO    :   luminosity_distance = 100\n",
      "15:58 bilby INFO    :   geocent_time = 1126259462.408404\n",
      "15:58 bilby INFO    :   recalib_H1_frequency_0 = 19.999999999999996\n",
      "15:58 bilby INFO    :   recalib_H1_frequency_1 = 30.514434824844255\n",
      "15:58 bilby INFO    :   recalib_H1_frequency_2 = 46.55653663398341\n",
      "15:58 bilby INFO    :   recalib_H1_frequency_3 = 71.03232013940804\n",
      "15:58 bilby INFO    :   recalib_H1_frequency_4 = 108.37555516757195\n",
      "15:58 bilby INFO    :   recalib_H1_frequency_5 = 165.35094073835938\n",
      "15:58 bilby INFO    :   recalib_H1_frequency_6 = 252.27952521936786\n",
      "15:58 bilby INFO    :   recalib_H1_frequency_7 = 384.9083564974527\n",
      "15:58 bilby INFO    :   recalib_H1_frequency_8 = 587.2630478939719\n",
      "15:58 bilby INFO    :   recalib_H1_frequency_9 = 895.9999999999999\n",
      "15:58 bilby INFO    :   recalib_L1_frequency_0 = 19.999999999999996\n",
      "15:58 bilby INFO    :   recalib_L1_frequency_1 = 30.514434824844255\n",
      "15:58 bilby INFO    :   recalib_L1_frequency_2 = 46.55653663398341\n",
      "15:58 bilby INFO    :   recalib_L1_frequency_3 = 71.03232013940804\n",
      "15:58 bilby INFO    :   recalib_L1_frequency_4 = 108.37555516757195\n",
      "15:58 bilby INFO    :   recalib_L1_frequency_5 = 165.35094073835938\n",
      "15:58 bilby INFO    :   recalib_L1_frequency_6 = 252.27952521936786\n",
      "15:58 bilby INFO    :   recalib_L1_frequency_7 = 384.9083564974527\n",
      "15:58 bilby INFO    :   recalib_L1_frequency_8 = 587.2630478939719\n",
      "15:58 bilby INFO    :   recalib_L1_frequency_9 = 895.9999999999999\n",
      "15:58 bilby INFO    :   log_likelihood = 328.4324942070929\n",
      "15:58 bilby INFO    :   log_prior = 66.29957866305776\n",
      "15:58 bilby INFO    :   total_mass = 68.75498279849768\n",
      "15:58 bilby INFO    :   mass_1 = 36.79106674126104\n",
      "15:58 bilby INFO    :   mass_2 = 31.96391605723664\n",
      "15:58 bilby INFO    :   ra = 2.216116171456804\n",
      "15:58 bilby INFO    :   dec = -1.2259035208296045\n",
      "15:58 bilby INFO    :   symmetric_mass_ratio = 0.24876770874914655\n",
      "15:58 bilby INFO    :   spin_1x = 0.5904472619004925\n",
      "15:58 bilby INFO    :   spin_1y = -0.06957261443892127\n",
      "15:58 bilby INFO    :   spin_1z = -0.6225593536929314\n",
      "15:58 bilby INFO    :   spin_2x = 0.4751310354864326\n",
      "15:58 bilby INFO    :   spin_2y = -0.2735390509327497\n",
      "15:58 bilby INFO    :   spin_2z = 0.46596117794011116\n",
      "15:58 bilby INFO    :   phi_1 = 6.1658957660048594\n",
      "15:58 bilby INFO    :   phi_2 = 5.760815453468969\n",
      "15:58 bilby INFO    :   chi_eff = -0.11651051936092104\n",
      "15:58 bilby INFO    :   chi_1_in_plane = 0.5945320157616876\n",
      "15:58 bilby INFO    :   chi_2_in_plane = 0.5482454863175794\n",
      "15:58 bilby INFO    :   chi_p = 0.5945320157616876\n",
      "15:58 bilby INFO    :   cos_tilt_1 = -0.7231983991210473\n",
      "15:58 bilby INFO    :   cos_tilt_2 = 0.6476101046123928\n",
      "15:58 bilby INFO    :   comoving_distance = 460.07828764617136\n",
      "15:58 bilby INFO    :   H1_matched_filter_snr = 21.221089162046386\n",
      "15:58 bilby INFO    :   H1_optimal_snr = 19.957775833584304\n",
      "15:58 bilby INFO    :   L1_matched_filter_snr = 15.167442050430017\n",
      "15:58 bilby INFO    :   L1_optimal_snr = 13.072732183576488\n",
      "15:58 bilby INFO    :   H1_matched_filter_abs_snr = 21.320120947355953\n",
      "15:58 bilby INFO    :   H1_matched_filter_snr_angle = -0.09642190803027524\n",
      "15:58 bilby INFO    :   L1_matched_filter_abs_snr = 15.262798565714363\n",
      "15:58 bilby INFO    :   L1_matched_filter_snr_angle = -0.11184059441681089\n",
      "15:58 bilby INFO    :   redshift = 0.10685806108071728\n",
      "15:58 bilby INFO    :   inverted_mass_ratio = 1.1510187511248808\n",
      "15:58 bilby INFO    :   mass_1_source = 33.23919121602536\n",
      "15:58 bilby INFO    :   mass_2_source = 28.878062310923244\n",
      "15:58 bilby INFO    :   total_mass_source = 62.1172535269486\n",
      "15:58 bilby INFO    :   chirp_mass_source = 26.958060841344064\n",
      "15:58 bilby INFO    :   chi_p_2spin = 0.6991048646002762\n",
      "15:58 bilby INFO    :   beta = 0.2964834516665308\n",
      "15:58 bilby INFO    :   psi_J = 1.8454358595594362\n",
      "15:58 bilby INFO    :   final_spin = 0.6847123040726873\n",
      "15:58 bilby INFO    :   peak_luminosity = 3.4650910541734206\n",
      "15:58 bilby INFO    :   final_mass = 65.67190490679377\n",
      "15:58 bilby INFO    :   final_mass_source = 59.33182150082807\n",
      "15:58 bilby INFO    :   radiated_energy = 2.7854320261205316\n",
      "15:58 bilby INFO    :   H1_time = 1126259462.4241831\n",
      "15:58 bilby INFO    :   L1_time = 1126259462.417131\n",
      "15:58 bilby INFO    :   network_optimal_snr = 23.858104345633123\n",
      "15:58 bilby INFO    :   network_matched_filter_snr = 26.062659432941388\n",
      "15:58 bilby INFO    :   cos_theta_jn = -0.7957343530217185\n",
      "15:58 bilby INFO    :   viewing_angle = 0.6505771989131781\n",
      "15:58 bilby INFO    :   cos_iota = -0.7159420610982777\n",
      "15:58 bilby INFO    :   tilt_1_infinity_only_prec_avg = 1.9184456335196816\n",
      "15:58 bilby INFO    :   tilt_2_infinity_only_prec_avg = 1.4496492121062137\n",
      "15:58 bilby INFO    :   spin_1z_infinity_only_prec_avg = -0.29327903351648726\n",
      "15:58 bilby INFO    :   spin_2z_infinity_only_prec_avg = 0.08695335504061963\n",
      "15:58 bilby INFO    :   chi_eff_infinity_only_prec_avg = -0.11651051936092102\n",
      "15:58 bilby INFO    :   chi_p_infinity_only_prec_avg = 0.8093428662414038\n",
      "15:58 bilby INFO    :   cos_tilt_1_infinity_only_prec_avg = -0.3406886849852173\n",
      "15:58 bilby INFO    :   cos_tilt_2_infinity_only_prec_avg = 0.12085099364542307\n",
      "15:58 bilby INFO    : Injected signal in H1:\n",
      "15:58 bilby INFO    :   optimal SNR = 0.75\n",
      "15:58 bilby INFO    :   matched filter SNR = 0.05-0.36j\n",
      "15:58 bilby INFO    :   chirp_mass = 29.8387469533461\n",
      "15:58 bilby INFO    :   mass_ratio = 0.8687955769814424\n",
      "15:58 bilby INFO    :   a_1 = 0.8608417198511092\n",
      "15:58 bilby INFO    :   a_2 = 0.7195088134379835\n",
      "15:58 bilby INFO    :   tilt_1 = 2.3792185506368795\n",
      "15:58 bilby INFO    :   tilt_2 = 0.8663525482689185\n",
      "15:58 bilby INFO    :   phi_12 = 5.878104994643697\n",
      "15:58 bilby INFO    :   phi_jl = 0.25757481830607415\n",
      "15:58 bilby INFO    :   theta_jn = 1.5707963267948966\n",
      "15:58 bilby INFO    :   psi = 0.6912519348265866\n",
      "15:58 bilby INFO    :   phase = 4.000226339478637\n",
      "15:58 bilby INFO    :   azimuth = 2.590928400193608\n",
      "15:58 bilby INFO    :   zenith = 2.3522458754068447\n",
      "15:58 bilby INFO    :   recalib_H1_amplitude_0 = -0.005868249419321757\n",
      "15:58 bilby INFO    :   recalib_H1_amplitude_1 = -0.043783360917849956\n",
      "15:58 bilby INFO    :   recalib_H1_amplitude_2 = -0.04728295327822305\n",
      "15:58 bilby INFO    :   recalib_H1_amplitude_3 = 0.08222264173465693\n",
      "15:58 bilby INFO    :   recalib_H1_amplitude_4 = 0.011855669695012536\n",
      "15:58 bilby INFO    :   recalib_H1_amplitude_5 = -0.008990421387286167\n",
      "15:58 bilby INFO    :   recalib_H1_amplitude_6 = -0.020009159194152252\n",
      "15:58 bilby INFO    :   recalib_H1_amplitude_7 = 0.008484833525516596\n",
      "15:58 bilby INFO    :   recalib_H1_amplitude_8 = -0.018327160189299724\n",
      "15:58 bilby INFO    :   recalib_H1_amplitude_9 = -0.0023772652335948725\n",
      "15:58 bilby INFO    :   recalib_H1_phase_0 = -0.0006461526627345466\n",
      "15:58 bilby INFO    :   recalib_H1_phase_1 = 0.051177755324892465\n",
      "15:58 bilby INFO    :   recalib_H1_phase_2 = 0.01399307494477739\n",
      "15:58 bilby INFO    :   recalib_H1_phase_3 = 0.08416966330293393\n",
      "15:58 bilby INFO    :   recalib_H1_phase_4 = 0.047473946777130974\n",
      "15:58 bilby INFO    :   recalib_H1_phase_5 = 0.013916433512643673\n",
      "15:58 bilby INFO    :   recalib_H1_phase_6 = -0.02128658443550522\n",
      "15:58 bilby INFO    :   recalib_H1_phase_7 = 0.02296630800067761\n",
      "15:58 bilby INFO    :   recalib_H1_phase_8 = -0.037098045831878486\n",
      "15:58 bilby INFO    :   recalib_H1_phase_9 = -0.018967830067115908\n",
      "15:58 bilby INFO    :   recalib_L1_amplitude_0 = -0.036293801292262916\n",
      "15:58 bilby INFO    :   recalib_L1_amplitude_1 = 0.014361561207618069\n",
      "15:58 bilby INFO    :   recalib_L1_amplitude_2 = -0.08693301208957734\n",
      "15:58 bilby INFO    :   recalib_L1_amplitude_3 = 0.10143853088596673\n",
      "15:58 bilby INFO    :   recalib_L1_amplitude_4 = -0.0077889246361674885\n",
      "15:58 bilby INFO    :   recalib_L1_amplitude_5 = -0.025543820665279264\n",
      "15:58 bilby INFO    :   recalib_L1_amplitude_6 = -0.021247887291087522\n",
      "15:58 bilby INFO    :   recalib_L1_amplitude_7 = 0.013667834994950237\n",
      "15:58 bilby INFO    :   recalib_L1_amplitude_8 = 0.012377526160578984\n",
      "15:58 bilby INFO    :   recalib_L1_amplitude_9 = 0.021583525090134788\n",
      "15:58 bilby INFO    :   recalib_L1_phase_0 = -0.02268955770914274\n",
      "15:58 bilby INFO    :   recalib_L1_phase_1 = -0.027473420705276475\n",
      "15:58 bilby INFO    :   recalib_L1_phase_2 = -0.0943607841222296\n",
      "15:58 bilby INFO    :   recalib_L1_phase_3 = 0.029977319706674166\n",
      "15:58 bilby INFO    :   recalib_L1_phase_4 = 0.08523838545670002\n",
      "15:58 bilby INFO    :   recalib_L1_phase_5 = -0.056840952818595976\n",
      "15:58 bilby INFO    :   recalib_L1_phase_6 = -0.004019423152701047\n",
      "15:58 bilby INFO    :   recalib_L1_phase_7 = 0.03270580357083033\n",
      "15:58 bilby INFO    :   recalib_L1_phase_8 = 0.02364064367507932\n",
      "15:58 bilby INFO    :   recalib_L1_phase_9 = -0.002027753595167955\n",
      "15:58 bilby INFO    :   time_jitter = 6.515517343713782e-06\n",
      "15:58 bilby INFO    :   luminosity_distance = 100\n",
      "15:58 bilby INFO    :   geocent_time = 1126259462.408404\n",
      "15:58 bilby INFO    :   recalib_H1_frequency_0 = 19.999999999999996\n",
      "15:58 bilby INFO    :   recalib_H1_frequency_1 = 30.514434824844255\n",
      "15:58 bilby INFO    :   recalib_H1_frequency_2 = 46.55653663398341\n",
      "15:58 bilby INFO    :   recalib_H1_frequency_3 = 71.03232013940804\n",
      "15:58 bilby INFO    :   recalib_H1_frequency_4 = 108.37555516757195\n",
      "15:58 bilby INFO    :   recalib_H1_frequency_5 = 165.35094073835938\n",
      "15:58 bilby INFO    :   recalib_H1_frequency_6 = 252.27952521936786\n",
      "15:58 bilby INFO    :   recalib_H1_frequency_7 = 384.9083564974527\n",
      "15:58 bilby INFO    :   recalib_H1_frequency_8 = 587.2630478939719\n",
      "15:58 bilby INFO    :   recalib_H1_frequency_9 = 895.9999999999999\n",
      "15:58 bilby INFO    :   recalib_L1_frequency_0 = 19.999999999999996\n",
      "15:58 bilby INFO    :   recalib_L1_frequency_1 = 30.514434824844255\n",
      "15:58 bilby INFO    :   recalib_L1_frequency_2 = 46.55653663398341\n",
      "15:58 bilby INFO    :   recalib_L1_frequency_3 = 71.03232013940804\n",
      "15:58 bilby INFO    :   recalib_L1_frequency_4 = 108.37555516757195\n",
      "15:58 bilby INFO    :   recalib_L1_frequency_5 = 165.35094073835938\n",
      "15:58 bilby INFO    :   recalib_L1_frequency_6 = 252.27952521936786\n",
      "15:58 bilby INFO    :   recalib_L1_frequency_7 = 384.9083564974527\n",
      "15:58 bilby INFO    :   recalib_L1_frequency_8 = 587.2630478939719\n",
      "15:58 bilby INFO    :   recalib_L1_frequency_9 = 895.9999999999999\n",
      "15:58 bilby INFO    :   log_likelihood = 328.4324942070929\n",
      "15:58 bilby INFO    :   log_prior = 66.29957866305776\n",
      "15:58 bilby INFO    :   total_mass = 68.75498279849768\n",
      "15:58 bilby INFO    :   mass_1 = 36.79106674126104\n",
      "15:58 bilby INFO    :   mass_2 = 31.96391605723664\n",
      "15:58 bilby INFO    :   ra = 2.216116171456804\n",
      "15:58 bilby INFO    :   dec = -1.2259035208296045\n",
      "15:58 bilby INFO    :   symmetric_mass_ratio = 0.24876770874914655\n",
      "15:58 bilby INFO    :   spin_1x = 0.5904472619004925\n",
      "15:58 bilby INFO    :   spin_1y = -0.06957261443892127\n",
      "15:58 bilby INFO    :   spin_1z = -0.6225593536929314\n",
      "15:58 bilby INFO    :   spin_2x = 0.4751310354864326\n",
      "15:58 bilby INFO    :   spin_2y = -0.2735390509327497\n",
      "15:58 bilby INFO    :   spin_2z = 0.46596117794011116\n",
      "15:58 bilby INFO    :   phi_1 = 6.1658957660048594\n",
      "15:58 bilby INFO    :   phi_2 = 5.760815453468969\n",
      "15:58 bilby INFO    :   chi_eff = -0.11651051936092104\n",
      "15:58 bilby INFO    :   chi_1_in_plane = 0.5945320157616876\n",
      "15:58 bilby INFO    :   chi_2_in_plane = 0.5482454863175794\n",
      "15:58 bilby INFO    :   chi_p = 0.5945320157616876\n",
      "15:58 bilby INFO    :   cos_tilt_1 = -0.7231983991210473\n",
      "15:58 bilby INFO    :   cos_tilt_2 = 0.6476101046123928\n",
      "15:58 bilby INFO    :   comoving_distance = 460.07828764617136\n",
      "15:58 bilby INFO    :   H1_matched_filter_snr = 21.221089162046386\n",
      "15:58 bilby INFO    :   H1_optimal_snr = 19.957775833584304\n",
      "15:58 bilby INFO    :   L1_matched_filter_snr = 15.167442050430017\n",
      "15:58 bilby INFO    :   L1_optimal_snr = 13.072732183576488\n",
      "15:58 bilby INFO    :   H1_matched_filter_abs_snr = 21.320120947355953\n",
      "15:58 bilby INFO    :   H1_matched_filter_snr_angle = -0.09642190803027524\n",
      "15:58 bilby INFO    :   L1_matched_filter_abs_snr = 15.262798565714363\n",
      "15:58 bilby INFO    :   L1_matched_filter_snr_angle = -0.11184059441681089\n",
      "15:58 bilby INFO    :   redshift = 0.10685806108071728\n",
      "15:58 bilby INFO    :   inverted_mass_ratio = 1.1510187511248808\n",
      "15:58 bilby INFO    :   mass_1_source = 33.23919121602536\n",
      "15:58 bilby INFO    :   mass_2_source = 28.878062310923244\n",
      "15:58 bilby INFO    :   total_mass_source = 62.1172535269486\n",
      "15:58 bilby INFO    :   chirp_mass_source = 26.958060841344064\n",
      "15:58 bilby INFO    :   chi_p_2spin = 0.6991048646002762\n",
      "15:58 bilby INFO    :   beta = 0.2964834516665308\n",
      "15:58 bilby INFO    :   psi_J = 1.8454358595594362\n",
      "15:58 bilby INFO    :   final_spin = 0.6847123040726873\n",
      "15:58 bilby INFO    :   peak_luminosity = 3.4650910541734206\n",
      "15:58 bilby INFO    :   final_mass = 65.67190490679377\n",
      "15:58 bilby INFO    :   final_mass_source = 59.33182150082807\n",
      "15:58 bilby INFO    :   radiated_energy = 2.7854320261205316\n",
      "15:58 bilby INFO    :   H1_time = 1126259462.4241831\n",
      "15:58 bilby INFO    :   L1_time = 1126259462.417131\n",
      "15:58 bilby INFO    :   network_optimal_snr = 23.858104345633123\n",
      "15:58 bilby INFO    :   network_matched_filter_snr = 26.062659432941388\n",
      "15:58 bilby INFO    :   cos_theta_jn = -0.7957343530217185\n",
      "15:58 bilby INFO    :   viewing_angle = 0.6505771989131781\n",
      "15:58 bilby INFO    :   cos_iota = -0.7159420610982777\n",
      "15:58 bilby INFO    :   tilt_1_infinity_only_prec_avg = 1.9184456335196816\n",
      "15:58 bilby INFO    :   tilt_2_infinity_only_prec_avg = 1.4496492121062137\n",
      "15:58 bilby INFO    :   spin_1z_infinity_only_prec_avg = -0.29327903351648726\n",
      "15:58 bilby INFO    :   spin_2z_infinity_only_prec_avg = 0.08695335504061963\n",
      "15:58 bilby INFO    :   chi_eff_infinity_only_prec_avg = -0.11651051936092102\n",
      "15:58 bilby INFO    :   chi_p_infinity_only_prec_avg = 0.8093428662414038\n",
      "15:58 bilby INFO    :   cos_tilt_1_infinity_only_prec_avg = -0.3406886849852173\n",
      "15:58 bilby INFO    :   cos_tilt_2_infinity_only_prec_avg = 0.12085099364542307\n",
      "15:58 bilby INFO    : Injected signal in L1:\n",
      "15:58 bilby INFO    :   optimal SNR = 0.58\n",
      "15:58 bilby INFO    :   matched filter SNR = 2.47-1.10j\n",
      "15:58 bilby INFO    :   chirp_mass = 29.8387469533461\n",
      "15:58 bilby INFO    :   mass_ratio = 0.8687955769814424\n",
      "15:58 bilby INFO    :   a_1 = 0.8608417198511092\n",
      "15:58 bilby INFO    :   a_2 = 0.7195088134379835\n",
      "15:58 bilby INFO    :   tilt_1 = 2.3792185506368795\n",
      "15:58 bilby INFO    :   tilt_2 = 0.8663525482689185\n",
      "15:58 bilby INFO    :   phi_12 = 5.878104994643697\n",
      "15:58 bilby INFO    :   phi_jl = 0.25757481830607415\n",
      "15:58 bilby INFO    :   theta_jn = 1.5707963267948966\n",
      "15:58 bilby INFO    :   psi = 0.6912519348265866\n",
      "15:58 bilby INFO    :   phase = 4.000226339478637\n",
      "15:58 bilby INFO    :   azimuth = 2.590928400193608\n",
      "15:58 bilby INFO    :   zenith = 2.3522458754068447\n",
      "15:58 bilby INFO    :   recalib_H1_amplitude_0 = -0.005868249419321757\n",
      "15:58 bilby INFO    :   recalib_H1_amplitude_1 = -0.043783360917849956\n",
      "15:58 bilby INFO    :   recalib_H1_amplitude_2 = -0.04728295327822305\n",
      "15:58 bilby INFO    :   recalib_H1_amplitude_3 = 0.08222264173465693\n",
      "15:58 bilby INFO    :   recalib_H1_amplitude_4 = 0.011855669695012536\n",
      "15:58 bilby INFO    :   recalib_H1_amplitude_5 = -0.008990421387286167\n",
      "15:58 bilby INFO    :   recalib_H1_amplitude_6 = -0.020009159194152252\n",
      "15:58 bilby INFO    :   recalib_H1_amplitude_7 = 0.008484833525516596\n",
      "15:58 bilby INFO    :   recalib_H1_amplitude_8 = -0.018327160189299724\n",
      "15:58 bilby INFO    :   recalib_H1_amplitude_9 = -0.0023772652335948725\n",
      "15:58 bilby INFO    :   recalib_H1_phase_0 = -0.0006461526627345466\n",
      "15:58 bilby INFO    :   recalib_H1_phase_1 = 0.051177755324892465\n",
      "15:58 bilby INFO    :   recalib_H1_phase_2 = 0.01399307494477739\n",
      "15:58 bilby INFO    :   recalib_H1_phase_3 = 0.08416966330293393\n",
      "15:58 bilby INFO    :   recalib_H1_phase_4 = 0.047473946777130974\n",
      "15:58 bilby INFO    :   recalib_H1_phase_5 = 0.013916433512643673\n",
      "15:58 bilby INFO    :   recalib_H1_phase_6 = -0.02128658443550522\n",
      "15:58 bilby INFO    :   recalib_H1_phase_7 = 0.02296630800067761\n",
      "15:58 bilby INFO    :   recalib_H1_phase_8 = -0.037098045831878486\n",
      "15:58 bilby INFO    :   recalib_H1_phase_9 = -0.018967830067115908\n",
      "15:58 bilby INFO    :   recalib_L1_amplitude_0 = -0.036293801292262916\n",
      "15:58 bilby INFO    :   recalib_L1_amplitude_1 = 0.014361561207618069\n",
      "15:58 bilby INFO    :   recalib_L1_amplitude_2 = -0.08693301208957734\n",
      "15:58 bilby INFO    :   recalib_L1_amplitude_3 = 0.10143853088596673\n",
      "15:58 bilby INFO    :   recalib_L1_amplitude_4 = -0.0077889246361674885\n",
      "15:58 bilby INFO    :   recalib_L1_amplitude_5 = -0.025543820665279264\n",
      "15:58 bilby INFO    :   recalib_L1_amplitude_6 = -0.021247887291087522\n",
      "15:58 bilby INFO    :   recalib_L1_amplitude_7 = 0.013667834994950237\n",
      "15:58 bilby INFO    :   recalib_L1_amplitude_8 = 0.012377526160578984\n",
      "15:58 bilby INFO    :   recalib_L1_amplitude_9 = 0.021583525090134788\n",
      "15:58 bilby INFO    :   recalib_L1_phase_0 = -0.02268955770914274\n",
      "15:58 bilby INFO    :   recalib_L1_phase_1 = -0.027473420705276475\n",
      "15:58 bilby INFO    :   recalib_L1_phase_2 = -0.0943607841222296\n",
      "15:58 bilby INFO    :   recalib_L1_phase_3 = 0.029977319706674166\n",
      "15:58 bilby INFO    :   recalib_L1_phase_4 = 0.08523838545670002\n",
      "15:58 bilby INFO    :   recalib_L1_phase_5 = -0.056840952818595976\n",
      "15:58 bilby INFO    :   recalib_L1_phase_6 = -0.004019423152701047\n",
      "15:58 bilby INFO    :   recalib_L1_phase_7 = 0.03270580357083033\n",
      "15:58 bilby INFO    :   recalib_L1_phase_8 = 0.02364064367507932\n",
      "15:58 bilby INFO    :   recalib_L1_phase_9 = -0.002027753595167955\n",
      "15:58 bilby INFO    :   time_jitter = 6.515517343713782e-06\n",
      "15:58 bilby INFO    :   luminosity_distance = 100\n",
      "15:58 bilby INFO    :   geocent_time = 1126259462.408404\n",
      "15:58 bilby INFO    :   recalib_H1_frequency_0 = 19.999999999999996\n",
      "15:58 bilby INFO    :   recalib_H1_frequency_1 = 30.514434824844255\n",
      "15:58 bilby INFO    :   recalib_H1_frequency_2 = 46.55653663398341\n",
      "15:58 bilby INFO    :   recalib_H1_frequency_3 = 71.03232013940804\n",
      "15:58 bilby INFO    :   recalib_H1_frequency_4 = 108.37555516757195\n",
      "15:58 bilby INFO    :   recalib_H1_frequency_5 = 165.35094073835938\n",
      "15:58 bilby INFO    :   recalib_H1_frequency_6 = 252.27952521936786\n",
      "15:58 bilby INFO    :   recalib_H1_frequency_7 = 384.9083564974527\n",
      "15:58 bilby INFO    :   recalib_H1_frequency_8 = 587.2630478939719\n",
      "15:58 bilby INFO    :   recalib_H1_frequency_9 = 895.9999999999999\n",
      "15:58 bilby INFO    :   recalib_L1_frequency_0 = 19.999999999999996\n",
      "15:58 bilby INFO    :   recalib_L1_frequency_1 = 30.514434824844255\n",
      "15:58 bilby INFO    :   recalib_L1_frequency_2 = 46.55653663398341\n",
      "15:58 bilby INFO    :   recalib_L1_frequency_3 = 71.03232013940804\n",
      "15:58 bilby INFO    :   recalib_L1_frequency_4 = 108.37555516757195\n",
      "15:58 bilby INFO    :   recalib_L1_frequency_5 = 165.35094073835938\n",
      "15:58 bilby INFO    :   recalib_L1_frequency_6 = 252.27952521936786\n",
      "15:58 bilby INFO    :   recalib_L1_frequency_7 = 384.9083564974527\n",
      "15:58 bilby INFO    :   recalib_L1_frequency_8 = 587.2630478939719\n",
      "15:58 bilby INFO    :   recalib_L1_frequency_9 = 895.9999999999999\n",
      "15:58 bilby INFO    :   log_likelihood = 328.4324942070929\n",
      "15:58 bilby INFO    :   log_prior = 66.29957866305776\n",
      "15:58 bilby INFO    :   total_mass = 68.75498279849768\n",
      "15:58 bilby INFO    :   mass_1 = 36.79106674126104\n",
      "15:58 bilby INFO    :   mass_2 = 31.96391605723664\n",
      "15:58 bilby INFO    :   ra = 2.216116171456804\n",
      "15:58 bilby INFO    :   dec = -1.2259035208296045\n",
      "15:58 bilby INFO    :   symmetric_mass_ratio = 0.24876770874914655\n",
      "15:58 bilby INFO    :   spin_1x = 0.5904472619004925\n",
      "15:58 bilby INFO    :   spin_1y = -0.06957261443892127\n",
      "15:58 bilby INFO    :   spin_1z = -0.6225593536929314\n",
      "15:58 bilby INFO    :   spin_2x = 0.4751310354864326\n",
      "15:58 bilby INFO    :   spin_2y = -0.2735390509327497\n",
      "15:58 bilby INFO    :   spin_2z = 0.46596117794011116\n",
      "15:58 bilby INFO    :   phi_1 = 6.1658957660048594\n",
      "15:58 bilby INFO    :   phi_2 = 5.760815453468969\n",
      "15:58 bilby INFO    :   chi_eff = -0.11651051936092104\n",
      "15:58 bilby INFO    :   chi_1_in_plane = 0.5945320157616876\n",
      "15:58 bilby INFO    :   chi_2_in_plane = 0.5482454863175794\n",
      "15:58 bilby INFO    :   chi_p = 0.5945320157616876\n",
      "15:58 bilby INFO    :   cos_tilt_1 = -0.7231983991210473\n",
      "15:58 bilby INFO    :   cos_tilt_2 = 0.6476101046123928\n",
      "15:58 bilby INFO    :   comoving_distance = 460.07828764617136\n",
      "15:58 bilby INFO    :   H1_matched_filter_snr = 21.221089162046386\n",
      "15:58 bilby INFO    :   H1_optimal_snr = 19.957775833584304\n",
      "15:58 bilby INFO    :   L1_matched_filter_snr = 15.167442050430017\n",
      "15:58 bilby INFO    :   L1_optimal_snr = 13.072732183576488\n",
      "15:58 bilby INFO    :   H1_matched_filter_abs_snr = 21.320120947355953\n",
      "15:58 bilby INFO    :   H1_matched_filter_snr_angle = -0.09642190803027524\n",
      "15:58 bilby INFO    :   L1_matched_filter_abs_snr = 15.262798565714363\n",
      "15:58 bilby INFO    :   L1_matched_filter_snr_angle = -0.11184059441681089\n",
      "15:58 bilby INFO    :   redshift = 0.10685806108071728\n",
      "15:58 bilby INFO    :   inverted_mass_ratio = 1.1510187511248808\n",
      "15:58 bilby INFO    :   mass_1_source = 33.23919121602536\n",
      "15:58 bilby INFO    :   mass_2_source = 28.878062310923244\n",
      "15:58 bilby INFO    :   total_mass_source = 62.1172535269486\n",
      "15:58 bilby INFO    :   chirp_mass_source = 26.958060841344064\n",
      "15:58 bilby INFO    :   chi_p_2spin = 0.6991048646002762\n",
      "15:58 bilby INFO    :   beta = 0.2964834516665308\n",
      "15:58 bilby INFO    :   psi_J = 1.8454358595594362\n",
      "15:58 bilby INFO    :   final_spin = 0.6847123040726873\n",
      "15:58 bilby INFO    :   peak_luminosity = 3.4650910541734206\n",
      "15:58 bilby INFO    :   final_mass = 65.67190490679377\n",
      "15:58 bilby INFO    :   final_mass_source = 59.33182150082807\n",
      "15:58 bilby INFO    :   radiated_energy = 2.7854320261205316\n",
      "15:58 bilby INFO    :   H1_time = 1126259462.4241831\n",
      "15:58 bilby INFO    :   L1_time = 1126259462.417131\n",
      "15:58 bilby INFO    :   network_optimal_snr = 23.858104345633123\n",
      "15:58 bilby INFO    :   network_matched_filter_snr = 26.062659432941388\n",
      "15:58 bilby INFO    :   cos_theta_jn = -0.7957343530217185\n",
      "15:58 bilby INFO    :   viewing_angle = 0.6505771989131781\n",
      "15:58 bilby INFO    :   cos_iota = -0.7159420610982777\n",
      "15:58 bilby INFO    :   tilt_1_infinity_only_prec_avg = 1.9184456335196816\n",
      "15:58 bilby INFO    :   tilt_2_infinity_only_prec_avg = 1.4496492121062137\n",
      "15:58 bilby INFO    :   spin_1z_infinity_only_prec_avg = -0.29327903351648726\n",
      "15:58 bilby INFO    :   spin_2z_infinity_only_prec_avg = 0.08695335504061963\n",
      "15:58 bilby INFO    :   chi_eff_infinity_only_prec_avg = -0.11651051936092102\n",
      "15:58 bilby INFO    :   chi_p_infinity_only_prec_avg = 0.8093428662414038\n",
      "15:58 bilby INFO    :   cos_tilt_1_infinity_only_prec_avg = -0.3406886849852173\n",
      "15:58 bilby INFO    :   cos_tilt_2_infinity_only_prec_avg = 0.12085099364542307\n"
     ]
    }
   ],
   "source": [
    "sampling_frequency = 2048\n",
    "reference_frequency = 20\n",
    "minimum_frequency = 20\n",
    "maximum_frequency = 1024\n",
    "roll_off=0.4\n",
    "\n",
    "true_amplitude=1\n",
    "\n",
    "max_like = np.argmax(samples['log_likelihood'])\n",
    "max_like_parameters = samples.iloc[max_like].to_dict()\n",
    "del max_like_parameters['iota']\n",
    "max_like_parameters.update({'theta_jn': np.pi/2})       # maximise the memory signal\n",
    "\n",
    "\n",
    "# event properties\n",
    "duration = 4\n",
    "detectors = ['H1', 'L1']\n",
    "\n",
    "end_time = 1126259462.4 +2\n",
    "start_time = end_time - duration\n",
    "\n",
    "waveform_name = 'IMRPhenomXPHM'\n",
    "\n",
    "waveform_generator_inject = bilby.gw.waveform_generator.WaveformGenerator(\n",
    "        duration=duration,\n",
    "        sampling_frequency=sampling_frequency,\n",
    "        frequency_domain_source_model= mem_freq_XPHM_only,\n",
    "        parameter_conversion = bilby.gw.conversion.convert_to_lal_binary_black_hole_parameters,\n",
    "        waveform_arguments=dict(duration=duration,\n",
    "                                roll_off=roll_off,\n",
    "                                minimum_frequency=minimum_frequency,\n",
    "                                maximum_frequency=maximum_frequency,\n",
    "                                sampling_frequency=sampling_frequency,\n",
    "                                reference_frequency=reference_frequency,\n",
    "                                waveform_approximant = waveform_name,\n",
    "                                amplitude=true_amplitude))\n",
    "\n",
    "# Set up interferometers.\n",
    "interferometers = bilby.gw.detector.InterferometerList([\"H1\", \"L1\"])\n",
    "for interferometer in interferometers:\n",
    "        interferometer.minimum_frequency = 20\n",
    "        interferometers.set_strain_data_from_power_spectral_densities(\n",
    "        sampling_frequency=sampling_frequency, duration=duration, start_time=start_time\n",
    "        )\n",
    "\n",
    "        interferometers.inject_signal(\n",
    "        parameters=max_like_parameters, waveform_generator=waveform_generator_inject,\n",
    "        )"
   ]
  },
  {
   "cell_type": "code",
   "execution_count": 15,
   "metadata": {},
   "outputs": [
    {
     "name": "stderr",
     "output_type": "stream",
     "text": [
      "16:07 bilby INFO    : Waveform generator initiated with\n",
      "  frequency_domain_source_model: waveforms.mem_freq_XPHM\n",
      "  time_domain_source_model: None\n",
      "  parameter_conversion: bilby.gw.conversion.convert_to_lal_binary_black_hole_parameters\n"
     ]
    },
    {
     "name": "stderr",
     "output_type": "stream",
     "text": [
      "16:07 bilby INFO    : Injected signal in H1:\n",
      "16:07 bilby INFO    :   optimal SNR = 257.12\n",
      "16:07 bilby INFO    :   matched filter SNR = 258.31+3.18j\n",
      "16:07 bilby INFO    :   chirp_mass = 29.8387469533461\n",
      "16:07 bilby INFO    :   mass_ratio = 0.8687955769814424\n",
      "16:07 bilby INFO    :   a_1 = 0.8608417198511092\n",
      "16:07 bilby INFO    :   a_2 = 0.7195088134379835\n",
      "16:07 bilby INFO    :   tilt_1 = 2.3792185506368795\n",
      "16:07 bilby INFO    :   tilt_2 = 0.8663525482689185\n",
      "16:07 bilby INFO    :   phi_12 = 5.878104994643697\n",
      "16:07 bilby INFO    :   phi_jl = 0.25757481830607415\n",
      "16:07 bilby INFO    :   theta_jn = 1.5707963267948966\n",
      "16:07 bilby INFO    :   psi = 0.6912519348265866\n",
      "16:07 bilby INFO    :   phase = 4.000226339478637\n",
      "16:07 bilby INFO    :   azimuth = 2.590928400193608\n",
      "16:07 bilby INFO    :   zenith = 2.3522458754068447\n",
      "16:07 bilby INFO    :   recalib_H1_amplitude_0 = -0.005868249419321757\n",
      "16:07 bilby INFO    :   recalib_H1_amplitude_1 = -0.043783360917849956\n",
      "16:07 bilby INFO    :   recalib_H1_amplitude_2 = -0.04728295327822305\n",
      "16:07 bilby INFO    :   recalib_H1_amplitude_3 = 0.08222264173465693\n",
      "16:07 bilby INFO    :   recalib_H1_amplitude_4 = 0.011855669695012536\n",
      "16:07 bilby INFO    :   recalib_H1_amplitude_5 = -0.008990421387286167\n",
      "16:07 bilby INFO    :   recalib_H1_amplitude_6 = -0.020009159194152252\n",
      "16:07 bilby INFO    :   recalib_H1_amplitude_7 = 0.008484833525516596\n",
      "16:07 bilby INFO    :   recalib_H1_amplitude_8 = -0.018327160189299724\n",
      "16:07 bilby INFO    :   recalib_H1_amplitude_9 = -0.0023772652335948725\n",
      "16:07 bilby INFO    :   recalib_H1_phase_0 = -0.0006461526627345466\n",
      "16:07 bilby INFO    :   recalib_H1_phase_1 = 0.051177755324892465\n",
      "16:07 bilby INFO    :   recalib_H1_phase_2 = 0.01399307494477739\n",
      "16:07 bilby INFO    :   recalib_H1_phase_3 = 0.08416966330293393\n",
      "16:07 bilby INFO    :   recalib_H1_phase_4 = 0.047473946777130974\n",
      "16:07 bilby INFO    :   recalib_H1_phase_5 = 0.013916433512643673\n",
      "16:07 bilby INFO    :   recalib_H1_phase_6 = -0.02128658443550522\n",
      "16:07 bilby INFO    :   recalib_H1_phase_7 = 0.02296630800067761\n",
      "16:07 bilby INFO    :   recalib_H1_phase_8 = -0.037098045831878486\n",
      "16:07 bilby INFO    :   recalib_H1_phase_9 = -0.018967830067115908\n",
      "16:07 bilby INFO    :   recalib_L1_amplitude_0 = -0.036293801292262916\n",
      "16:07 bilby INFO    :   recalib_L1_amplitude_1 = 0.014361561207618069\n",
      "16:07 bilby INFO    :   recalib_L1_amplitude_2 = -0.08693301208957734\n",
      "16:07 bilby INFO    :   recalib_L1_amplitude_3 = 0.10143853088596673\n",
      "16:07 bilby INFO    :   recalib_L1_amplitude_4 = -0.0077889246361674885\n",
      "16:07 bilby INFO    :   recalib_L1_amplitude_5 = -0.025543820665279264\n",
      "16:07 bilby INFO    :   recalib_L1_amplitude_6 = -0.021247887291087522\n",
      "16:07 bilby INFO    :   recalib_L1_amplitude_7 = 0.013667834994950237\n",
      "16:07 bilby INFO    :   recalib_L1_amplitude_8 = 0.012377526160578984\n",
      "16:07 bilby INFO    :   recalib_L1_amplitude_9 = 0.021583525090134788\n",
      "16:07 bilby INFO    :   recalib_L1_phase_0 = -0.02268955770914274\n",
      "16:07 bilby INFO    :   recalib_L1_phase_1 = -0.027473420705276475\n",
      "16:07 bilby INFO    :   recalib_L1_phase_2 = -0.0943607841222296\n",
      "16:07 bilby INFO    :   recalib_L1_phase_3 = 0.029977319706674166\n",
      "16:07 bilby INFO    :   recalib_L1_phase_4 = 0.08523838545670002\n",
      "16:07 bilby INFO    :   recalib_L1_phase_5 = -0.056840952818595976\n",
      "16:07 bilby INFO    :   recalib_L1_phase_6 = -0.004019423152701047\n",
      "16:07 bilby INFO    :   recalib_L1_phase_7 = 0.03270580357083033\n",
      "16:07 bilby INFO    :   recalib_L1_phase_8 = 0.02364064367507932\n",
      "16:07 bilby INFO    :   recalib_L1_phase_9 = -0.002027753595167955\n",
      "16:07 bilby INFO    :   time_jitter = 6.515517343713782e-06\n",
      "16:07 bilby INFO    :   luminosity_distance = 100\n",
      "16:07 bilby INFO    :   geocent_time = 1126259462.408404\n",
      "16:07 bilby INFO    :   recalib_H1_frequency_0 = 19.999999999999996\n",
      "16:07 bilby INFO    :   recalib_H1_frequency_1 = 30.514434824844255\n",
      "16:07 bilby INFO    :   recalib_H1_frequency_2 = 46.55653663398341\n",
      "16:07 bilby INFO    :   recalib_H1_frequency_3 = 71.03232013940804\n",
      "16:07 bilby INFO    :   recalib_H1_frequency_4 = 108.37555516757195\n",
      "16:07 bilby INFO    :   recalib_H1_frequency_5 = 165.35094073835938\n",
      "16:07 bilby INFO    :   recalib_H1_frequency_6 = 252.27952521936786\n",
      "16:07 bilby INFO    :   recalib_H1_frequency_7 = 384.9083564974527\n",
      "16:07 bilby INFO    :   recalib_H1_frequency_8 = 587.2630478939719\n",
      "16:07 bilby INFO    :   recalib_H1_frequency_9 = 895.9999999999999\n",
      "16:07 bilby INFO    :   recalib_L1_frequency_0 = 19.999999999999996\n",
      "16:07 bilby INFO    :   recalib_L1_frequency_1 = 30.514434824844255\n",
      "16:07 bilby INFO    :   recalib_L1_frequency_2 = 46.55653663398341\n",
      "16:07 bilby INFO    :   recalib_L1_frequency_3 = 71.03232013940804\n",
      "16:07 bilby INFO    :   recalib_L1_frequency_4 = 108.37555516757195\n",
      "16:07 bilby INFO    :   recalib_L1_frequency_5 = 165.35094073835938\n",
      "16:07 bilby INFO    :   recalib_L1_frequency_6 = 252.27952521936786\n",
      "16:07 bilby INFO    :   recalib_L1_frequency_7 = 384.9083564974527\n",
      "16:07 bilby INFO    :   recalib_L1_frequency_8 = 587.2630478939719\n",
      "16:07 bilby INFO    :   recalib_L1_frequency_9 = 895.9999999999999\n",
      "16:07 bilby INFO    :   log_likelihood = 328.4324942070929\n",
      "16:07 bilby INFO    :   log_prior = 66.29957866305776\n",
      "16:07 bilby INFO    :   total_mass = 68.75498279849768\n",
      "16:07 bilby INFO    :   mass_1 = 36.79106674126104\n",
      "16:07 bilby INFO    :   mass_2 = 31.96391605723664\n",
      "16:07 bilby INFO    :   ra = 2.216116171456804\n",
      "16:07 bilby INFO    :   dec = -1.2259035208296045\n",
      "16:07 bilby INFO    :   symmetric_mass_ratio = 0.24876770874914655\n",
      "16:07 bilby INFO    :   spin_1x = 0.5904472619004925\n",
      "16:07 bilby INFO    :   spin_1y = -0.06957261443892127\n",
      "16:07 bilby INFO    :   spin_1z = -0.6225593536929314\n",
      "16:07 bilby INFO    :   spin_2x = 0.4751310354864326\n",
      "16:07 bilby INFO    :   spin_2y = -0.2735390509327497\n",
      "16:07 bilby INFO    :   spin_2z = 0.46596117794011116\n",
      "16:07 bilby INFO    :   phi_1 = 6.1658957660048594\n",
      "16:07 bilby INFO    :   phi_2 = 5.760815453468969\n",
      "16:07 bilby INFO    :   chi_eff = -0.11651051936092104\n",
      "16:07 bilby INFO    :   chi_1_in_plane = 0.5945320157616876\n",
      "16:07 bilby INFO    :   chi_2_in_plane = 0.5482454863175794\n",
      "16:07 bilby INFO    :   chi_p = 0.5945320157616876\n",
      "16:07 bilby INFO    :   cos_tilt_1 = -0.7231983991210473\n",
      "16:07 bilby INFO    :   cos_tilt_2 = 0.6476101046123928\n",
      "16:07 bilby INFO    :   comoving_distance = 460.07828764617136\n",
      "16:07 bilby INFO    :   H1_matched_filter_snr = 21.221089162046386\n",
      "16:07 bilby INFO    :   H1_optimal_snr = 19.957775833584304\n",
      "16:07 bilby INFO    :   L1_matched_filter_snr = 15.167442050430017\n",
      "16:07 bilby INFO    :   L1_optimal_snr = 13.072732183576488\n",
      "16:07 bilby INFO    :   H1_matched_filter_abs_snr = 21.320120947355953\n",
      "16:07 bilby INFO    :   H1_matched_filter_snr_angle = -0.09642190803027524\n",
      "16:07 bilby INFO    :   L1_matched_filter_abs_snr = 15.262798565714363\n",
      "16:07 bilby INFO    :   L1_matched_filter_snr_angle = -0.11184059441681089\n",
      "16:07 bilby INFO    :   redshift = 0.10685806108071728\n",
      "16:07 bilby INFO    :   inverted_mass_ratio = 1.1510187511248808\n",
      "16:07 bilby INFO    :   mass_1_source = 33.23919121602536\n",
      "16:07 bilby INFO    :   mass_2_source = 28.878062310923244\n",
      "16:07 bilby INFO    :   total_mass_source = 62.1172535269486\n",
      "16:07 bilby INFO    :   chirp_mass_source = 26.958060841344064\n",
      "16:07 bilby INFO    :   chi_p_2spin = 0.6991048646002762\n",
      "16:07 bilby INFO    :   beta = 0.2964834516665308\n",
      "16:07 bilby INFO    :   psi_J = 1.8454358595594362\n",
      "16:07 bilby INFO    :   final_spin = 0.6847123040726873\n",
      "16:07 bilby INFO    :   peak_luminosity = 3.4650910541734206\n",
      "16:07 bilby INFO    :   final_mass = 65.67190490679377\n",
      "16:07 bilby INFO    :   final_mass_source = 59.33182150082807\n",
      "16:07 bilby INFO    :   radiated_energy = 2.7854320261205316\n",
      "16:07 bilby INFO    :   H1_time = 1126259462.4241831\n",
      "16:07 bilby INFO    :   L1_time = 1126259462.417131\n",
      "16:07 bilby INFO    :   network_optimal_snr = 23.858104345633123\n",
      "16:07 bilby INFO    :   network_matched_filter_snr = 26.062659432941388\n",
      "16:07 bilby INFO    :   cos_theta_jn = -0.7957343530217185\n",
      "16:07 bilby INFO    :   viewing_angle = 0.6505771989131781\n",
      "16:07 bilby INFO    :   cos_iota = -0.7159420610982777\n",
      "16:07 bilby INFO    :   tilt_1_infinity_only_prec_avg = 1.9184456335196816\n",
      "16:07 bilby INFO    :   tilt_2_infinity_only_prec_avg = 1.4496492121062137\n",
      "16:07 bilby INFO    :   spin_1z_infinity_only_prec_avg = -0.29327903351648726\n",
      "16:07 bilby INFO    :   spin_2z_infinity_only_prec_avg = 0.08695335504061963\n",
      "16:07 bilby INFO    :   chi_eff_infinity_only_prec_avg = -0.11651051936092102\n",
      "16:07 bilby INFO    :   chi_p_infinity_only_prec_avg = 0.8093428662414038\n",
      "16:07 bilby INFO    :   cos_tilt_1_infinity_only_prec_avg = -0.3406886849852173\n",
      "16:07 bilby INFO    :   cos_tilt_2_infinity_only_prec_avg = 0.12085099364542307\n",
      "16:07 bilby INFO    : Injected signal in L1:\n",
      "16:07 bilby INFO    :   optimal SNR = 193.44\n",
      "16:07 bilby INFO    :   matched filter SNR = 193.50+0.43j\n",
      "16:07 bilby INFO    :   chirp_mass = 29.8387469533461\n",
      "16:07 bilby INFO    :   mass_ratio = 0.8687955769814424\n",
      "16:07 bilby INFO    :   a_1 = 0.8608417198511092\n",
      "16:07 bilby INFO    :   a_2 = 0.7195088134379835\n",
      "16:07 bilby INFO    :   tilt_1 = 2.3792185506368795\n",
      "16:07 bilby INFO    :   tilt_2 = 0.8663525482689185\n",
      "16:07 bilby INFO    :   phi_12 = 5.878104994643697\n",
      "16:07 bilby INFO    :   phi_jl = 0.25757481830607415\n",
      "16:07 bilby INFO    :   theta_jn = 1.5707963267948966\n",
      "16:07 bilby INFO    :   psi = 0.6912519348265866\n",
      "16:07 bilby INFO    :   phase = 4.000226339478637\n",
      "16:07 bilby INFO    :   azimuth = 2.590928400193608\n",
      "16:07 bilby INFO    :   zenith = 2.3522458754068447\n",
      "16:07 bilby INFO    :   recalib_H1_amplitude_0 = -0.005868249419321757\n",
      "16:07 bilby INFO    :   recalib_H1_amplitude_1 = -0.043783360917849956\n",
      "16:07 bilby INFO    :   recalib_H1_amplitude_2 = -0.04728295327822305\n",
      "16:07 bilby INFO    :   recalib_H1_amplitude_3 = 0.08222264173465693\n",
      "16:07 bilby INFO    :   recalib_H1_amplitude_4 = 0.011855669695012536\n",
      "16:07 bilby INFO    :   recalib_H1_amplitude_5 = -0.008990421387286167\n",
      "16:07 bilby INFO    :   recalib_H1_amplitude_6 = -0.020009159194152252\n",
      "16:07 bilby INFO    :   recalib_H1_amplitude_7 = 0.008484833525516596\n",
      "16:07 bilby INFO    :   recalib_H1_amplitude_8 = -0.018327160189299724\n",
      "16:07 bilby INFO    :   recalib_H1_amplitude_9 = -0.0023772652335948725\n",
      "16:07 bilby INFO    :   recalib_H1_phase_0 = -0.0006461526627345466\n",
      "16:07 bilby INFO    :   recalib_H1_phase_1 = 0.051177755324892465\n",
      "16:07 bilby INFO    :   recalib_H1_phase_2 = 0.01399307494477739\n",
      "16:07 bilby INFO    :   recalib_H1_phase_3 = 0.08416966330293393\n",
      "16:07 bilby INFO    :   recalib_H1_phase_4 = 0.047473946777130974\n",
      "16:07 bilby INFO    :   recalib_H1_phase_5 = 0.013916433512643673\n",
      "16:07 bilby INFO    :   recalib_H1_phase_6 = -0.02128658443550522\n",
      "16:07 bilby INFO    :   recalib_H1_phase_7 = 0.02296630800067761\n",
      "16:07 bilby INFO    :   recalib_H1_phase_8 = -0.037098045831878486\n",
      "16:07 bilby INFO    :   recalib_H1_phase_9 = -0.018967830067115908\n",
      "16:07 bilby INFO    :   recalib_L1_amplitude_0 = -0.036293801292262916\n",
      "16:07 bilby INFO    :   recalib_L1_amplitude_1 = 0.014361561207618069\n",
      "16:07 bilby INFO    :   recalib_L1_amplitude_2 = -0.08693301208957734\n",
      "16:07 bilby INFO    :   recalib_L1_amplitude_3 = 0.10143853088596673\n",
      "16:07 bilby INFO    :   recalib_L1_amplitude_4 = -0.0077889246361674885\n",
      "16:07 bilby INFO    :   recalib_L1_amplitude_5 = -0.025543820665279264\n",
      "16:07 bilby INFO    :   recalib_L1_amplitude_6 = -0.021247887291087522\n",
      "16:07 bilby INFO    :   recalib_L1_amplitude_7 = 0.013667834994950237\n",
      "16:07 bilby INFO    :   recalib_L1_amplitude_8 = 0.012377526160578984\n",
      "16:07 bilby INFO    :   recalib_L1_amplitude_9 = 0.021583525090134788\n",
      "16:07 bilby INFO    :   recalib_L1_phase_0 = -0.02268955770914274\n",
      "16:07 bilby INFO    :   recalib_L1_phase_1 = -0.027473420705276475\n",
      "16:07 bilby INFO    :   recalib_L1_phase_2 = -0.0943607841222296\n",
      "16:07 bilby INFO    :   recalib_L1_phase_3 = 0.029977319706674166\n",
      "16:07 bilby INFO    :   recalib_L1_phase_4 = 0.08523838545670002\n",
      "16:07 bilby INFO    :   recalib_L1_phase_5 = -0.056840952818595976\n",
      "16:07 bilby INFO    :   recalib_L1_phase_6 = -0.004019423152701047\n",
      "16:07 bilby INFO    :   recalib_L1_phase_7 = 0.03270580357083033\n",
      "16:07 bilby INFO    :   recalib_L1_phase_8 = 0.02364064367507932\n",
      "16:07 bilby INFO    :   recalib_L1_phase_9 = -0.002027753595167955\n",
      "16:07 bilby INFO    :   time_jitter = 6.515517343713782e-06\n",
      "16:07 bilby INFO    :   luminosity_distance = 100\n",
      "16:07 bilby INFO    :   geocent_time = 1126259462.408404\n",
      "16:07 bilby INFO    :   recalib_H1_frequency_0 = 19.999999999999996\n",
      "16:07 bilby INFO    :   recalib_H1_frequency_1 = 30.514434824844255\n",
      "16:07 bilby INFO    :   recalib_H1_frequency_2 = 46.55653663398341\n",
      "16:07 bilby INFO    :   recalib_H1_frequency_3 = 71.03232013940804\n",
      "16:07 bilby INFO    :   recalib_H1_frequency_4 = 108.37555516757195\n",
      "16:07 bilby INFO    :   recalib_H1_frequency_5 = 165.35094073835938\n",
      "16:07 bilby INFO    :   recalib_H1_frequency_6 = 252.27952521936786\n",
      "16:07 bilby INFO    :   recalib_H1_frequency_7 = 384.9083564974527\n",
      "16:07 bilby INFO    :   recalib_H1_frequency_8 = 587.2630478939719\n",
      "16:07 bilby INFO    :   recalib_H1_frequency_9 = 895.9999999999999\n",
      "16:07 bilby INFO    :   recalib_L1_frequency_0 = 19.999999999999996\n",
      "16:07 bilby INFO    :   recalib_L1_frequency_1 = 30.514434824844255\n",
      "16:07 bilby INFO    :   recalib_L1_frequency_2 = 46.55653663398341\n",
      "16:07 bilby INFO    :   recalib_L1_frequency_3 = 71.03232013940804\n",
      "16:07 bilby INFO    :   recalib_L1_frequency_4 = 108.37555516757195\n",
      "16:07 bilby INFO    :   recalib_L1_frequency_5 = 165.35094073835938\n",
      "16:07 bilby INFO    :   recalib_L1_frequency_6 = 252.27952521936786\n",
      "16:07 bilby INFO    :   recalib_L1_frequency_7 = 384.9083564974527\n",
      "16:07 bilby INFO    :   recalib_L1_frequency_8 = 587.2630478939719\n",
      "16:07 bilby INFO    :   recalib_L1_frequency_9 = 895.9999999999999\n",
      "16:07 bilby INFO    :   log_likelihood = 328.4324942070929\n",
      "16:07 bilby INFO    :   log_prior = 66.29957866305776\n",
      "16:07 bilby INFO    :   total_mass = 68.75498279849768\n",
      "16:07 bilby INFO    :   mass_1 = 36.79106674126104\n",
      "16:07 bilby INFO    :   mass_2 = 31.96391605723664\n",
      "16:07 bilby INFO    :   ra = 2.216116171456804\n",
      "16:07 bilby INFO    :   dec = -1.2259035208296045\n",
      "16:07 bilby INFO    :   symmetric_mass_ratio = 0.24876770874914655\n",
      "16:07 bilby INFO    :   spin_1x = 0.5904472619004925\n",
      "16:07 bilby INFO    :   spin_1y = -0.06957261443892127\n",
      "16:07 bilby INFO    :   spin_1z = -0.6225593536929314\n",
      "16:07 bilby INFO    :   spin_2x = 0.4751310354864326\n",
      "16:07 bilby INFO    :   spin_2y = -0.2735390509327497\n",
      "16:07 bilby INFO    :   spin_2z = 0.46596117794011116\n",
      "16:07 bilby INFO    :   phi_1 = 6.1658957660048594\n",
      "16:07 bilby INFO    :   phi_2 = 5.760815453468969\n",
      "16:07 bilby INFO    :   chi_eff = -0.11651051936092104\n",
      "16:07 bilby INFO    :   chi_1_in_plane = 0.5945320157616876\n",
      "16:07 bilby INFO    :   chi_2_in_plane = 0.5482454863175794\n",
      "16:07 bilby INFO    :   chi_p = 0.5945320157616876\n",
      "16:07 bilby INFO    :   cos_tilt_1 = -0.7231983991210473\n",
      "16:07 bilby INFO    :   cos_tilt_2 = 0.6476101046123928\n",
      "16:07 bilby INFO    :   comoving_distance = 460.07828764617136\n",
      "16:07 bilby INFO    :   H1_matched_filter_snr = 21.221089162046386\n",
      "16:07 bilby INFO    :   H1_optimal_snr = 19.957775833584304\n",
      "16:07 bilby INFO    :   L1_matched_filter_snr = 15.167442050430017\n",
      "16:07 bilby INFO    :   L1_optimal_snr = 13.072732183576488\n",
      "16:07 bilby INFO    :   H1_matched_filter_abs_snr = 21.320120947355953\n",
      "16:07 bilby INFO    :   H1_matched_filter_snr_angle = -0.09642190803027524\n",
      "16:07 bilby INFO    :   L1_matched_filter_abs_snr = 15.262798565714363\n",
      "16:07 bilby INFO    :   L1_matched_filter_snr_angle = -0.11184059441681089\n",
      "16:07 bilby INFO    :   redshift = 0.10685806108071728\n",
      "16:07 bilby INFO    :   inverted_mass_ratio = 1.1510187511248808\n",
      "16:07 bilby INFO    :   mass_1_source = 33.23919121602536\n",
      "16:07 bilby INFO    :   mass_2_source = 28.878062310923244\n",
      "16:07 bilby INFO    :   total_mass_source = 62.1172535269486\n",
      "16:07 bilby INFO    :   chirp_mass_source = 26.958060841344064\n",
      "16:07 bilby INFO    :   chi_p_2spin = 0.6991048646002762\n",
      "16:07 bilby INFO    :   beta = 0.2964834516665308\n",
      "16:07 bilby INFO    :   psi_J = 1.8454358595594362\n",
      "16:07 bilby INFO    :   final_spin = 0.6847123040726873\n",
      "16:07 bilby INFO    :   peak_luminosity = 3.4650910541734206\n",
      "16:07 bilby INFO    :   final_mass = 65.67190490679377\n",
      "16:07 bilby INFO    :   final_mass_source = 59.33182150082807\n",
      "16:07 bilby INFO    :   radiated_energy = 2.7854320261205316\n",
      "16:07 bilby INFO    :   H1_time = 1126259462.4241831\n",
      "16:07 bilby INFO    :   L1_time = 1126259462.417131\n",
      "16:07 bilby INFO    :   network_optimal_snr = 23.858104345633123\n",
      "16:07 bilby INFO    :   network_matched_filter_snr = 26.062659432941388\n",
      "16:07 bilby INFO    :   cos_theta_jn = -0.7957343530217185\n",
      "16:07 bilby INFO    :   viewing_angle = 0.6505771989131781\n",
      "16:07 bilby INFO    :   cos_iota = -0.7159420610982777\n",
      "16:07 bilby INFO    :   tilt_1_infinity_only_prec_avg = 1.9184456335196816\n",
      "16:07 bilby INFO    :   tilt_2_infinity_only_prec_avg = 1.4496492121062137\n",
      "16:07 bilby INFO    :   spin_1z_infinity_only_prec_avg = -0.29327903351648726\n",
      "16:07 bilby INFO    :   spin_2z_infinity_only_prec_avg = 0.08695335504061963\n",
      "16:07 bilby INFO    :   chi_eff_infinity_only_prec_avg = -0.11651051936092102\n",
      "16:07 bilby INFO    :   chi_p_infinity_only_prec_avg = 0.8093428662414038\n",
      "16:07 bilby INFO    :   cos_tilt_1_infinity_only_prec_avg = -0.3406886849852173\n",
      "16:07 bilby INFO    :   cos_tilt_2_infinity_only_prec_avg = 0.12085099364542307\n",
      "16:07 bilby INFO    : Injected signal in H1:\n",
      "16:07 bilby INFO    :   optimal SNR = 257.12\n",
      "16:07 bilby INFO    :   matched filter SNR = 257.36-0.94j\n",
      "16:07 bilby INFO    :   chirp_mass = 29.8387469533461\n",
      "16:07 bilby INFO    :   mass_ratio = 0.8687955769814424\n",
      "16:07 bilby INFO    :   a_1 = 0.8608417198511092\n",
      "16:07 bilby INFO    :   a_2 = 0.7195088134379835\n",
      "16:07 bilby INFO    :   tilt_1 = 2.3792185506368795\n",
      "16:07 bilby INFO    :   tilt_2 = 0.8663525482689185\n",
      "16:07 bilby INFO    :   phi_12 = 5.878104994643697\n",
      "16:07 bilby INFO    :   phi_jl = 0.25757481830607415\n",
      "16:07 bilby INFO    :   theta_jn = 1.5707963267948966\n",
      "16:07 bilby INFO    :   psi = 0.6912519348265866\n",
      "16:07 bilby INFO    :   phase = 4.000226339478637\n",
      "16:07 bilby INFO    :   azimuth = 2.590928400193608\n",
      "16:07 bilby INFO    :   zenith = 2.3522458754068447\n",
      "16:07 bilby INFO    :   recalib_H1_amplitude_0 = -0.005868249419321757\n",
      "16:07 bilby INFO    :   recalib_H1_amplitude_1 = -0.043783360917849956\n",
      "16:07 bilby INFO    :   recalib_H1_amplitude_2 = -0.04728295327822305\n",
      "16:07 bilby INFO    :   recalib_H1_amplitude_3 = 0.08222264173465693\n",
      "16:07 bilby INFO    :   recalib_H1_amplitude_4 = 0.011855669695012536\n",
      "16:07 bilby INFO    :   recalib_H1_amplitude_5 = -0.008990421387286167\n",
      "16:07 bilby INFO    :   recalib_H1_amplitude_6 = -0.020009159194152252\n",
      "16:07 bilby INFO    :   recalib_H1_amplitude_7 = 0.008484833525516596\n",
      "16:07 bilby INFO    :   recalib_H1_amplitude_8 = -0.018327160189299724\n",
      "16:07 bilby INFO    :   recalib_H1_amplitude_9 = -0.0023772652335948725\n",
      "16:07 bilby INFO    :   recalib_H1_phase_0 = -0.0006461526627345466\n",
      "16:07 bilby INFO    :   recalib_H1_phase_1 = 0.051177755324892465\n",
      "16:07 bilby INFO    :   recalib_H1_phase_2 = 0.01399307494477739\n",
      "16:07 bilby INFO    :   recalib_H1_phase_3 = 0.08416966330293393\n",
      "16:07 bilby INFO    :   recalib_H1_phase_4 = 0.047473946777130974\n",
      "16:07 bilby INFO    :   recalib_H1_phase_5 = 0.013916433512643673\n",
      "16:07 bilby INFO    :   recalib_H1_phase_6 = -0.02128658443550522\n",
      "16:07 bilby INFO    :   recalib_H1_phase_7 = 0.02296630800067761\n",
      "16:07 bilby INFO    :   recalib_H1_phase_8 = -0.037098045831878486\n",
      "16:07 bilby INFO    :   recalib_H1_phase_9 = -0.018967830067115908\n",
      "16:07 bilby INFO    :   recalib_L1_amplitude_0 = -0.036293801292262916\n",
      "16:07 bilby INFO    :   recalib_L1_amplitude_1 = 0.014361561207618069\n",
      "16:07 bilby INFO    :   recalib_L1_amplitude_2 = -0.08693301208957734\n",
      "16:07 bilby INFO    :   recalib_L1_amplitude_3 = 0.10143853088596673\n",
      "16:07 bilby INFO    :   recalib_L1_amplitude_4 = -0.0077889246361674885\n",
      "16:07 bilby INFO    :   recalib_L1_amplitude_5 = -0.025543820665279264\n",
      "16:07 bilby INFO    :   recalib_L1_amplitude_6 = -0.021247887291087522\n",
      "16:07 bilby INFO    :   recalib_L1_amplitude_7 = 0.013667834994950237\n",
      "16:07 bilby INFO    :   recalib_L1_amplitude_8 = 0.012377526160578984\n",
      "16:07 bilby INFO    :   recalib_L1_amplitude_9 = 0.021583525090134788\n",
      "16:07 bilby INFO    :   recalib_L1_phase_0 = -0.02268955770914274\n",
      "16:07 bilby INFO    :   recalib_L1_phase_1 = -0.027473420705276475\n",
      "16:07 bilby INFO    :   recalib_L1_phase_2 = -0.0943607841222296\n",
      "16:07 bilby INFO    :   recalib_L1_phase_3 = 0.029977319706674166\n",
      "16:07 bilby INFO    :   recalib_L1_phase_4 = 0.08523838545670002\n",
      "16:07 bilby INFO    :   recalib_L1_phase_5 = -0.056840952818595976\n",
      "16:07 bilby INFO    :   recalib_L1_phase_6 = -0.004019423152701047\n",
      "16:07 bilby INFO    :   recalib_L1_phase_7 = 0.03270580357083033\n",
      "16:07 bilby INFO    :   recalib_L1_phase_8 = 0.02364064367507932\n",
      "16:07 bilby INFO    :   recalib_L1_phase_9 = -0.002027753595167955\n",
      "16:07 bilby INFO    :   time_jitter = 6.515517343713782e-06\n",
      "16:07 bilby INFO    :   luminosity_distance = 100\n",
      "16:07 bilby INFO    :   geocent_time = 1126259462.408404\n",
      "16:07 bilby INFO    :   recalib_H1_frequency_0 = 19.999999999999996\n",
      "16:07 bilby INFO    :   recalib_H1_frequency_1 = 30.514434824844255\n",
      "16:07 bilby INFO    :   recalib_H1_frequency_2 = 46.55653663398341\n",
      "16:07 bilby INFO    :   recalib_H1_frequency_3 = 71.03232013940804\n",
      "16:07 bilby INFO    :   recalib_H1_frequency_4 = 108.37555516757195\n",
      "16:07 bilby INFO    :   recalib_H1_frequency_5 = 165.35094073835938\n",
      "16:07 bilby INFO    :   recalib_H1_frequency_6 = 252.27952521936786\n",
      "16:07 bilby INFO    :   recalib_H1_frequency_7 = 384.9083564974527\n",
      "16:07 bilby INFO    :   recalib_H1_frequency_8 = 587.2630478939719\n",
      "16:07 bilby INFO    :   recalib_H1_frequency_9 = 895.9999999999999\n",
      "16:07 bilby INFO    :   recalib_L1_frequency_0 = 19.999999999999996\n",
      "16:07 bilby INFO    :   recalib_L1_frequency_1 = 30.514434824844255\n",
      "16:07 bilby INFO    :   recalib_L1_frequency_2 = 46.55653663398341\n",
      "16:07 bilby INFO    :   recalib_L1_frequency_3 = 71.03232013940804\n",
      "16:07 bilby INFO    :   recalib_L1_frequency_4 = 108.37555516757195\n",
      "16:07 bilby INFO    :   recalib_L1_frequency_5 = 165.35094073835938\n",
      "16:07 bilby INFO    :   recalib_L1_frequency_6 = 252.27952521936786\n",
      "16:07 bilby INFO    :   recalib_L1_frequency_7 = 384.9083564974527\n",
      "16:07 bilby INFO    :   recalib_L1_frequency_8 = 587.2630478939719\n",
      "16:07 bilby INFO    :   recalib_L1_frequency_9 = 895.9999999999999\n",
      "16:07 bilby INFO    :   log_likelihood = 328.4324942070929\n",
      "16:07 bilby INFO    :   log_prior = 66.29957866305776\n",
      "16:07 bilby INFO    :   total_mass = 68.75498279849768\n",
      "16:07 bilby INFO    :   mass_1 = 36.79106674126104\n",
      "16:07 bilby INFO    :   mass_2 = 31.96391605723664\n",
      "16:07 bilby INFO    :   ra = 2.216116171456804\n",
      "16:07 bilby INFO    :   dec = -1.2259035208296045\n",
      "16:07 bilby INFO    :   symmetric_mass_ratio = 0.24876770874914655\n",
      "16:07 bilby INFO    :   spin_1x = 0.5904472619004925\n",
      "16:07 bilby INFO    :   spin_1y = -0.06957261443892127\n",
      "16:07 bilby INFO    :   spin_1z = -0.6225593536929314\n",
      "16:07 bilby INFO    :   spin_2x = 0.4751310354864326\n",
      "16:07 bilby INFO    :   spin_2y = -0.2735390509327497\n",
      "16:07 bilby INFO    :   spin_2z = 0.46596117794011116\n",
      "16:07 bilby INFO    :   phi_1 = 6.1658957660048594\n",
      "16:07 bilby INFO    :   phi_2 = 5.760815453468969\n",
      "16:07 bilby INFO    :   chi_eff = -0.11651051936092104\n",
      "16:07 bilby INFO    :   chi_1_in_plane = 0.5945320157616876\n",
      "16:07 bilby INFO    :   chi_2_in_plane = 0.5482454863175794\n",
      "16:07 bilby INFO    :   chi_p = 0.5945320157616876\n",
      "16:07 bilby INFO    :   cos_tilt_1 = -0.7231983991210473\n",
      "16:07 bilby INFO    :   cos_tilt_2 = 0.6476101046123928\n",
      "16:07 bilby INFO    :   comoving_distance = 460.07828764617136\n",
      "16:07 bilby INFO    :   H1_matched_filter_snr = 21.221089162046386\n",
      "16:07 bilby INFO    :   H1_optimal_snr = 19.957775833584304\n",
      "16:07 bilby INFO    :   L1_matched_filter_snr = 15.167442050430017\n",
      "16:07 bilby INFO    :   L1_optimal_snr = 13.072732183576488\n",
      "16:07 bilby INFO    :   H1_matched_filter_abs_snr = 21.320120947355953\n",
      "16:07 bilby INFO    :   H1_matched_filter_snr_angle = -0.09642190803027524\n",
      "16:07 bilby INFO    :   L1_matched_filter_abs_snr = 15.262798565714363\n",
      "16:07 bilby INFO    :   L1_matched_filter_snr_angle = -0.11184059441681089\n",
      "16:07 bilby INFO    :   redshift = 0.10685806108071728\n",
      "16:07 bilby INFO    :   inverted_mass_ratio = 1.1510187511248808\n",
      "16:07 bilby INFO    :   mass_1_source = 33.23919121602536\n",
      "16:07 bilby INFO    :   mass_2_source = 28.878062310923244\n",
      "16:07 bilby INFO    :   total_mass_source = 62.1172535269486\n",
      "16:07 bilby INFO    :   chirp_mass_source = 26.958060841344064\n",
      "16:07 bilby INFO    :   chi_p_2spin = 0.6991048646002762\n",
      "16:07 bilby INFO    :   beta = 0.2964834516665308\n",
      "16:07 bilby INFO    :   psi_J = 1.8454358595594362\n",
      "16:07 bilby INFO    :   final_spin = 0.6847123040726873\n",
      "16:07 bilby INFO    :   peak_luminosity = 3.4650910541734206\n",
      "16:07 bilby INFO    :   final_mass = 65.67190490679377\n",
      "16:07 bilby INFO    :   final_mass_source = 59.33182150082807\n",
      "16:07 bilby INFO    :   radiated_energy = 2.7854320261205316\n",
      "16:07 bilby INFO    :   H1_time = 1126259462.4241831\n",
      "16:07 bilby INFO    :   L1_time = 1126259462.417131\n",
      "16:07 bilby INFO    :   network_optimal_snr = 23.858104345633123\n",
      "16:07 bilby INFO    :   network_matched_filter_snr = 26.062659432941388\n",
      "16:07 bilby INFO    :   cos_theta_jn = -0.7957343530217185\n",
      "16:07 bilby INFO    :   viewing_angle = 0.6505771989131781\n",
      "16:07 bilby INFO    :   cos_iota = -0.7159420610982777\n",
      "16:07 bilby INFO    :   tilt_1_infinity_only_prec_avg = 1.9184456335196816\n",
      "16:07 bilby INFO    :   tilt_2_infinity_only_prec_avg = 1.4496492121062137\n",
      "16:07 bilby INFO    :   spin_1z_infinity_only_prec_avg = -0.29327903351648726\n",
      "16:07 bilby INFO    :   spin_2z_infinity_only_prec_avg = 0.08695335504061963\n",
      "16:07 bilby INFO    :   chi_eff_infinity_only_prec_avg = -0.11651051936092102\n",
      "16:07 bilby INFO    :   chi_p_infinity_only_prec_avg = 0.8093428662414038\n",
      "16:07 bilby INFO    :   cos_tilt_1_infinity_only_prec_avg = -0.3406886849852173\n",
      "16:07 bilby INFO    :   cos_tilt_2_infinity_only_prec_avg = 0.12085099364542307\n",
      "16:07 bilby INFO    : Injected signal in L1:\n",
      "16:07 bilby INFO    :   optimal SNR = 193.44\n",
      "16:07 bilby INFO    :   matched filter SNR = 195.48+1.94j\n",
      "16:07 bilby INFO    :   chirp_mass = 29.8387469533461\n",
      "16:07 bilby INFO    :   mass_ratio = 0.8687955769814424\n",
      "16:07 bilby INFO    :   a_1 = 0.8608417198511092\n",
      "16:07 bilby INFO    :   a_2 = 0.7195088134379835\n",
      "16:07 bilby INFO    :   tilt_1 = 2.3792185506368795\n",
      "16:07 bilby INFO    :   tilt_2 = 0.8663525482689185\n",
      "16:07 bilby INFO    :   phi_12 = 5.878104994643697\n",
      "16:07 bilby INFO    :   phi_jl = 0.25757481830607415\n",
      "16:07 bilby INFO    :   theta_jn = 1.5707963267948966\n",
      "16:07 bilby INFO    :   psi = 0.6912519348265866\n",
      "16:07 bilby INFO    :   phase = 4.000226339478637\n",
      "16:07 bilby INFO    :   azimuth = 2.590928400193608\n",
      "16:07 bilby INFO    :   zenith = 2.3522458754068447\n",
      "16:07 bilby INFO    :   recalib_H1_amplitude_0 = -0.005868249419321757\n",
      "16:07 bilby INFO    :   recalib_H1_amplitude_1 = -0.043783360917849956\n",
      "16:07 bilby INFO    :   recalib_H1_amplitude_2 = -0.04728295327822305\n",
      "16:07 bilby INFO    :   recalib_H1_amplitude_3 = 0.08222264173465693\n",
      "16:07 bilby INFO    :   recalib_H1_amplitude_4 = 0.011855669695012536\n",
      "16:07 bilby INFO    :   recalib_H1_amplitude_5 = -0.008990421387286167\n",
      "16:07 bilby INFO    :   recalib_H1_amplitude_6 = -0.020009159194152252\n",
      "16:07 bilby INFO    :   recalib_H1_amplitude_7 = 0.008484833525516596\n",
      "16:07 bilby INFO    :   recalib_H1_amplitude_8 = -0.018327160189299724\n",
      "16:07 bilby INFO    :   recalib_H1_amplitude_9 = -0.0023772652335948725\n",
      "16:07 bilby INFO    :   recalib_H1_phase_0 = -0.0006461526627345466\n",
      "16:07 bilby INFO    :   recalib_H1_phase_1 = 0.051177755324892465\n",
      "16:07 bilby INFO    :   recalib_H1_phase_2 = 0.01399307494477739\n",
      "16:07 bilby INFO    :   recalib_H1_phase_3 = 0.08416966330293393\n",
      "16:07 bilby INFO    :   recalib_H1_phase_4 = 0.047473946777130974\n",
      "16:07 bilby INFO    :   recalib_H1_phase_5 = 0.013916433512643673\n",
      "16:07 bilby INFO    :   recalib_H1_phase_6 = -0.02128658443550522\n",
      "16:07 bilby INFO    :   recalib_H1_phase_7 = 0.02296630800067761\n",
      "16:07 bilby INFO    :   recalib_H1_phase_8 = -0.037098045831878486\n",
      "16:07 bilby INFO    :   recalib_H1_phase_9 = -0.018967830067115908\n",
      "16:07 bilby INFO    :   recalib_L1_amplitude_0 = -0.036293801292262916\n",
      "16:07 bilby INFO    :   recalib_L1_amplitude_1 = 0.014361561207618069\n",
      "16:07 bilby INFO    :   recalib_L1_amplitude_2 = -0.08693301208957734\n",
      "16:07 bilby INFO    :   recalib_L1_amplitude_3 = 0.10143853088596673\n",
      "16:07 bilby INFO    :   recalib_L1_amplitude_4 = -0.0077889246361674885\n",
      "16:07 bilby INFO    :   recalib_L1_amplitude_5 = -0.025543820665279264\n",
      "16:07 bilby INFO    :   recalib_L1_amplitude_6 = -0.021247887291087522\n",
      "16:07 bilby INFO    :   recalib_L1_amplitude_7 = 0.013667834994950237\n",
      "16:07 bilby INFO    :   recalib_L1_amplitude_8 = 0.012377526160578984\n",
      "16:07 bilby INFO    :   recalib_L1_amplitude_9 = 0.021583525090134788\n",
      "16:07 bilby INFO    :   recalib_L1_phase_0 = -0.02268955770914274\n",
      "16:07 bilby INFO    :   recalib_L1_phase_1 = -0.027473420705276475\n",
      "16:07 bilby INFO    :   recalib_L1_phase_2 = -0.0943607841222296\n",
      "16:07 bilby INFO    :   recalib_L1_phase_3 = 0.029977319706674166\n",
      "16:07 bilby INFO    :   recalib_L1_phase_4 = 0.08523838545670002\n",
      "16:07 bilby INFO    :   recalib_L1_phase_5 = -0.056840952818595976\n",
      "16:07 bilby INFO    :   recalib_L1_phase_6 = -0.004019423152701047\n",
      "16:07 bilby INFO    :   recalib_L1_phase_7 = 0.03270580357083033\n",
      "16:07 bilby INFO    :   recalib_L1_phase_8 = 0.02364064367507932\n",
      "16:07 bilby INFO    :   recalib_L1_phase_9 = -0.002027753595167955\n",
      "16:07 bilby INFO    :   time_jitter = 6.515517343713782e-06\n",
      "16:07 bilby INFO    :   luminosity_distance = 100\n",
      "16:07 bilby INFO    :   geocent_time = 1126259462.408404\n",
      "16:07 bilby INFO    :   recalib_H1_frequency_0 = 19.999999999999996\n",
      "16:07 bilby INFO    :   recalib_H1_frequency_1 = 30.514434824844255\n",
      "16:07 bilby INFO    :   recalib_H1_frequency_2 = 46.55653663398341\n",
      "16:07 bilby INFO    :   recalib_H1_frequency_3 = 71.03232013940804\n",
      "16:07 bilby INFO    :   recalib_H1_frequency_4 = 108.37555516757195\n",
      "16:07 bilby INFO    :   recalib_H1_frequency_5 = 165.35094073835938\n",
      "16:07 bilby INFO    :   recalib_H1_frequency_6 = 252.27952521936786\n",
      "16:07 bilby INFO    :   recalib_H1_frequency_7 = 384.9083564974527\n",
      "16:07 bilby INFO    :   recalib_H1_frequency_8 = 587.2630478939719\n",
      "16:07 bilby INFO    :   recalib_H1_frequency_9 = 895.9999999999999\n",
      "16:07 bilby INFO    :   recalib_L1_frequency_0 = 19.999999999999996\n",
      "16:07 bilby INFO    :   recalib_L1_frequency_1 = 30.514434824844255\n",
      "16:07 bilby INFO    :   recalib_L1_frequency_2 = 46.55653663398341\n",
      "16:07 bilby INFO    :   recalib_L1_frequency_3 = 71.03232013940804\n",
      "16:07 bilby INFO    :   recalib_L1_frequency_4 = 108.37555516757195\n",
      "16:07 bilby INFO    :   recalib_L1_frequency_5 = 165.35094073835938\n",
      "16:07 bilby INFO    :   recalib_L1_frequency_6 = 252.27952521936786\n",
      "16:07 bilby INFO    :   recalib_L1_frequency_7 = 384.9083564974527\n",
      "16:07 bilby INFO    :   recalib_L1_frequency_8 = 587.2630478939719\n",
      "16:07 bilby INFO    :   recalib_L1_frequency_9 = 895.9999999999999\n",
      "16:07 bilby INFO    :   log_likelihood = 328.4324942070929\n",
      "16:07 bilby INFO    :   log_prior = 66.29957866305776\n",
      "16:07 bilby INFO    :   total_mass = 68.75498279849768\n",
      "16:07 bilby INFO    :   mass_1 = 36.79106674126104\n",
      "16:07 bilby INFO    :   mass_2 = 31.96391605723664\n",
      "16:07 bilby INFO    :   ra = 2.216116171456804\n",
      "16:07 bilby INFO    :   dec = -1.2259035208296045\n",
      "16:07 bilby INFO    :   symmetric_mass_ratio = 0.24876770874914655\n",
      "16:07 bilby INFO    :   spin_1x = 0.5904472619004925\n",
      "16:07 bilby INFO    :   spin_1y = -0.06957261443892127\n",
      "16:07 bilby INFO    :   spin_1z = -0.6225593536929314\n",
      "16:07 bilby INFO    :   spin_2x = 0.4751310354864326\n",
      "16:07 bilby INFO    :   spin_2y = -0.2735390509327497\n",
      "16:07 bilby INFO    :   spin_2z = 0.46596117794011116\n",
      "16:07 bilby INFO    :   phi_1 = 6.1658957660048594\n",
      "16:07 bilby INFO    :   phi_2 = 5.760815453468969\n",
      "16:07 bilby INFO    :   chi_eff = -0.11651051936092104\n",
      "16:07 bilby INFO    :   chi_1_in_plane = 0.5945320157616876\n",
      "16:07 bilby INFO    :   chi_2_in_plane = 0.5482454863175794\n",
      "16:07 bilby INFO    :   chi_p = 0.5945320157616876\n",
      "16:07 bilby INFO    :   cos_tilt_1 = -0.7231983991210473\n",
      "16:07 bilby INFO    :   cos_tilt_2 = 0.6476101046123928\n",
      "16:07 bilby INFO    :   comoving_distance = 460.07828764617136\n",
      "16:07 bilby INFO    :   H1_matched_filter_snr = 21.221089162046386\n",
      "16:07 bilby INFO    :   H1_optimal_snr = 19.957775833584304\n",
      "16:07 bilby INFO    :   L1_matched_filter_snr = 15.167442050430017\n",
      "16:07 bilby INFO    :   L1_optimal_snr = 13.072732183576488\n",
      "16:07 bilby INFO    :   H1_matched_filter_abs_snr = 21.320120947355953\n",
      "16:07 bilby INFO    :   H1_matched_filter_snr_angle = -0.09642190803027524\n",
      "16:07 bilby INFO    :   L1_matched_filter_abs_snr = 15.262798565714363\n",
      "16:07 bilby INFO    :   L1_matched_filter_snr_angle = -0.11184059441681089\n",
      "16:07 bilby INFO    :   redshift = 0.10685806108071728\n",
      "16:07 bilby INFO    :   inverted_mass_ratio = 1.1510187511248808\n",
      "16:07 bilby INFO    :   mass_1_source = 33.23919121602536\n",
      "16:07 bilby INFO    :   mass_2_source = 28.878062310923244\n",
      "16:07 bilby INFO    :   total_mass_source = 62.1172535269486\n",
      "16:07 bilby INFO    :   chirp_mass_source = 26.958060841344064\n",
      "16:07 bilby INFO    :   chi_p_2spin = 0.6991048646002762\n",
      "16:07 bilby INFO    :   beta = 0.2964834516665308\n",
      "16:07 bilby INFO    :   psi_J = 1.8454358595594362\n",
      "16:07 bilby INFO    :   final_spin = 0.6847123040726873\n",
      "16:07 bilby INFO    :   peak_luminosity = 3.4650910541734206\n",
      "16:07 bilby INFO    :   final_mass = 65.67190490679377\n",
      "16:07 bilby INFO    :   final_mass_source = 59.33182150082807\n",
      "16:07 bilby INFO    :   radiated_energy = 2.7854320261205316\n",
      "16:07 bilby INFO    :   H1_time = 1126259462.4241831\n",
      "16:07 bilby INFO    :   L1_time = 1126259462.417131\n",
      "16:07 bilby INFO    :   network_optimal_snr = 23.858104345633123\n",
      "16:07 bilby INFO    :   network_matched_filter_snr = 26.062659432941388\n",
      "16:07 bilby INFO    :   cos_theta_jn = -0.7957343530217185\n",
      "16:07 bilby INFO    :   viewing_angle = 0.6505771989131781\n",
      "16:07 bilby INFO    :   cos_iota = -0.7159420610982777\n",
      "16:07 bilby INFO    :   tilt_1_infinity_only_prec_avg = 1.9184456335196816\n",
      "16:07 bilby INFO    :   tilt_2_infinity_only_prec_avg = 1.4496492121062137\n",
      "16:07 bilby INFO    :   spin_1z_infinity_only_prec_avg = -0.29327903351648726\n",
      "16:07 bilby INFO    :   spin_2z_infinity_only_prec_avg = 0.08695335504061963\n",
      "16:07 bilby INFO    :   chi_eff_infinity_only_prec_avg = -0.11651051936092102\n",
      "16:07 bilby INFO    :   chi_p_infinity_only_prec_avg = 0.8093428662414038\n",
      "16:07 bilby INFO    :   cos_tilt_1_infinity_only_prec_avg = -0.3406886849852173\n",
      "16:07 bilby INFO    :   cos_tilt_2_infinity_only_prec_avg = 0.12085099364542307\n",
      "16:07 bilby INFO    : Waveform generator initiated with\n",
      "  frequency_domain_source_model: waveforms.mem_freq_XPHM\n",
      "  time_domain_source_model: None\n",
      "  parameter_conversion: bilby.gw.conversion.convert_to_lal_binary_black_hole_parameters\n",
      "16:07 bilby INFO    : Waveform generator initiated with\n",
      "  frequency_domain_source_model: waveforms.mem_freq_XPHM\n",
      "  time_domain_source_model: None\n",
      "  parameter_conversion: bilby.gw.conversion.convert_to_lal_binary_black_hole_parameters\n"
     ]
    },
    {
     "name": "stdout",
     "output_type": "stream",
     "text": [
      "52222.848980517636\n"
     ]
    },
    {
     "name": "stderr",
     "output_type": "stream",
     "text": [
      "16:07 bilby INFO    : Waveform generator initiated with\n",
      "  frequency_domain_source_model: waveforms.mem_freq_XPHM\n",
      "  time_domain_source_model: None\n",
      "  parameter_conversion: bilby.gw.conversion.convert_to_lal_binary_black_hole_parameters\n"
     ]
    },
    {
     "name": "stdout",
     "output_type": "stream",
     "text": [
      "52222.771622508735\n"
     ]
    },
    {
     "name": "stderr",
     "output_type": "stream",
     "text": [
      "16:07 bilby INFO    : Waveform generator initiated with\n",
      "  frequency_domain_source_model: waveforms.mem_freq_XPHM\n",
      "  time_domain_source_model: None\n",
      "  parameter_conversion: bilby.gw.conversion.convert_to_lal_binary_black_hole_parameters\n"
     ]
    },
    {
     "name": "stdout",
     "output_type": "stream",
     "text": [
      "52222.68515469023\n"
     ]
    },
    {
     "name": "stderr",
     "output_type": "stream",
     "text": [
      "16:07 bilby INFO    : Waveform generator initiated with\n",
      "  frequency_domain_source_model: waveforms.mem_freq_XPHM\n",
      "  time_domain_source_model: None\n",
      "  parameter_conversion: bilby.gw.conversion.convert_to_lal_binary_black_hole_parameters\n"
     ]
    },
    {
     "name": "stdout",
     "output_type": "stream",
     "text": [
      "52222.589577061975\n"
     ]
    },
    {
     "name": "stderr",
     "output_type": "stream",
     "text": [
      "16:07 bilby INFO    : Waveform generator initiated with\n",
      "  frequency_domain_source_model: waveforms.mem_freq_XPHM\n",
      "  time_domain_source_model: None\n",
      "  parameter_conversion: bilby.gw.conversion.convert_to_lal_binary_black_hole_parameters\n"
     ]
    },
    {
     "name": "stdout",
     "output_type": "stream",
     "text": [
      "52222.484889624066\n"
     ]
    },
    {
     "name": "stderr",
     "output_type": "stream",
     "text": [
      "16:07 bilby INFO    : Waveform generator initiated with\n",
      "  frequency_domain_source_model: waveforms.mem_freq_XPHM\n",
      "  time_domain_source_model: None\n",
      "  parameter_conversion: bilby.gw.conversion.convert_to_lal_binary_black_hole_parameters\n"
     ]
    },
    {
     "name": "stdout",
     "output_type": "stream",
     "text": [
      "52222.37109237647\n"
     ]
    },
    {
     "name": "stderr",
     "output_type": "stream",
     "text": [
      "16:07 bilby INFO    : Waveform generator initiated with\n",
      "  frequency_domain_source_model: waveforms.mem_freq_XPHM\n",
      "  time_domain_source_model: None\n",
      "  parameter_conversion: bilby.gw.conversion.convert_to_lal_binary_black_hole_parameters\n"
     ]
    },
    {
     "name": "stdout",
     "output_type": "stream",
     "text": [
      "52222.2481853192\n"
     ]
    },
    {
     "name": "stderr",
     "output_type": "stream",
     "text": [
      "16:07 bilby INFO    : Waveform generator initiated with\n",
      "  frequency_domain_source_model: waveforms.mem_freq_XPHM\n",
      "  time_domain_source_model: None\n",
      "  parameter_conversion: bilby.gw.conversion.convert_to_lal_binary_black_hole_parameters\n"
     ]
    },
    {
     "name": "stdout",
     "output_type": "stream",
     "text": [
      "52222.11616845224\n"
     ]
    },
    {
     "name": "stderr",
     "output_type": "stream",
     "text": [
      "16:07 bilby INFO    : Waveform generator initiated with\n",
      "  frequency_domain_source_model: waveforms.mem_freq_XPHM\n",
      "  time_domain_source_model: None\n",
      "  parameter_conversion: bilby.gw.conversion.convert_to_lal_binary_black_hole_parameters\n"
     ]
    },
    {
     "name": "stdout",
     "output_type": "stream",
     "text": [
      "52221.975041775586\n"
     ]
    },
    {
     "name": "stderr",
     "output_type": "stream",
     "text": [
      "16:07 bilby INFO    : Waveform generator initiated with\n",
      "  frequency_domain_source_model: waveforms.mem_freq_XPHM\n",
      "  time_domain_source_model: None\n",
      "  parameter_conversion: bilby.gw.conversion.convert_to_lal_binary_black_hole_parameters\n"
     ]
    },
    {
     "name": "stdout",
     "output_type": "stream",
     "text": [
      "52221.82480528928\n"
     ]
    },
    {
     "name": "stderr",
     "output_type": "stream",
     "text": [
      "16:07 bilby INFO    : Waveform generator initiated with\n",
      "  frequency_domain_source_model: waveforms.mem_freq_XPHM\n",
      "  time_domain_source_model: None\n",
      "  parameter_conversion: bilby.gw.conversion.convert_to_lal_binary_black_hole_parameters\n"
     ]
    },
    {
     "name": "stdout",
     "output_type": "stream",
     "text": [
      "52221.66545899327\n"
     ]
    },
    {
     "name": "stderr",
     "output_type": "stream",
     "text": [
      "16:07 bilby INFO    : Waveform generator initiated with\n",
      "  frequency_domain_source_model: waveforms.mem_freq_XPHM\n",
      "  time_domain_source_model: None\n",
      "  parameter_conversion: bilby.gw.conversion.convert_to_lal_binary_black_hole_parameters\n"
     ]
    },
    {
     "name": "stdout",
     "output_type": "stream",
     "text": [
      "52221.4970028876\n"
     ]
    },
    {
     "name": "stderr",
     "output_type": "stream",
     "text": [
      "16:07 bilby INFO    : Waveform generator initiated with\n",
      "  frequency_domain_source_model: waveforms.mem_freq_XPHM\n",
      "  time_domain_source_model: None\n",
      "  parameter_conversion: bilby.gw.conversion.convert_to_lal_binary_black_hole_parameters\n"
     ]
    },
    {
     "name": "stdout",
     "output_type": "stream",
     "text": [
      "52221.31943697223\n"
     ]
    },
    {
     "name": "stderr",
     "output_type": "stream",
     "text": [
      "16:07 bilby INFO    : Waveform generator initiated with\n",
      "  frequency_domain_source_model: waveforms.mem_freq_XPHM\n",
      "  time_domain_source_model: None\n",
      "  parameter_conversion: bilby.gw.conversion.convert_to_lal_binary_black_hole_parameters\n"
     ]
    },
    {
     "name": "stdout",
     "output_type": "stream",
     "text": [
      "52221.132761247165\n"
     ]
    },
    {
     "name": "stderr",
     "output_type": "stream",
     "text": [
      "16:07 bilby INFO    : Waveform generator initiated with\n",
      "  frequency_domain_source_model: waveforms.mem_freq_XPHM\n",
      "  time_domain_source_model: None\n",
      "  parameter_conversion: bilby.gw.conversion.convert_to_lal_binary_black_hole_parameters\n"
     ]
    },
    {
     "name": "stdout",
     "output_type": "stream",
     "text": [
      "52220.93697571245\n"
     ]
    },
    {
     "name": "stderr",
     "output_type": "stream",
     "text": [
      "16:07 bilby INFO    : Waveform generator initiated with\n",
      "  frequency_domain_source_model: waveforms.mem_freq_XPHM\n",
      "  time_domain_source_model: None\n",
      "  parameter_conversion: bilby.gw.conversion.convert_to_lal_binary_black_hole_parameters\n"
     ]
    },
    {
     "name": "stdout",
     "output_type": "stream",
     "text": [
      "52220.73208036806\n"
     ]
    },
    {
     "name": "stderr",
     "output_type": "stream",
     "text": [
      "16:07 bilby INFO    : Waveform generator initiated with\n",
      "  frequency_domain_source_model: waveforms.mem_freq_XPHM\n",
      "  time_domain_source_model: None\n",
      "  parameter_conversion: bilby.gw.conversion.convert_to_lal_binary_black_hole_parameters\n"
     ]
    },
    {
     "name": "stdout",
     "output_type": "stream",
     "text": [
      "52220.51807521394\n"
     ]
    },
    {
     "name": "stderr",
     "output_type": "stream",
     "text": [
      "16:07 bilby INFO    : Waveform generator initiated with\n",
      "  frequency_domain_source_model: waveforms.mem_freq_XPHM\n",
      "  time_domain_source_model: None\n",
      "  parameter_conversion: bilby.gw.conversion.convert_to_lal_binary_black_hole_parameters\n"
     ]
    },
    {
     "name": "stdout",
     "output_type": "stream",
     "text": [
      "52220.2949602502\n"
     ]
    },
    {
     "name": "stderr",
     "output_type": "stream",
     "text": [
      "16:07 bilby INFO    : Waveform generator initiated with\n",
      "  frequency_domain_source_model: waveforms.mem_freq_XPHM\n",
      "  time_domain_source_model: None\n",
      "  parameter_conversion: bilby.gw.conversion.convert_to_lal_binary_black_hole_parameters\n"
     ]
    },
    {
     "name": "stdout",
     "output_type": "stream",
     "text": [
      "52220.062735476735\n"
     ]
    },
    {
     "name": "stderr",
     "output_type": "stream",
     "text": [
      "16:07 bilby INFO    : Waveform generator initiated with\n",
      "  frequency_domain_source_model: waveforms.mem_freq_XPHM\n",
      "  time_domain_source_model: None\n",
      "  parameter_conversion: bilby.gw.conversion.convert_to_lal_binary_black_hole_parameters\n"
     ]
    },
    {
     "name": "stdout",
     "output_type": "stream",
     "text": [
      "52219.82140089362\n"
     ]
    },
    {
     "name": "stderr",
     "output_type": "stream",
     "text": [
      "16:07 bilby INFO    : Waveform generator initiated with\n",
      "  frequency_domain_source_model: waveforms.mem_freq_XPHM\n",
      "  time_domain_source_model: None\n",
      "  parameter_conversion: bilby.gw.conversion.convert_to_lal_binary_black_hole_parameters\n"
     ]
    },
    {
     "name": "stdout",
     "output_type": "stream",
     "text": [
      "52219.570956500815\n"
     ]
    },
    {
     "name": "stderr",
     "output_type": "stream",
     "text": [
      "16:07 bilby INFO    : Waveform generator initiated with\n",
      "  frequency_domain_source_model: waveforms.mem_freq_XPHM\n",
      "  time_domain_source_model: None\n",
      "  parameter_conversion: bilby.gw.conversion.convert_to_lal_binary_black_hole_parameters\n"
     ]
    },
    {
     "name": "stdout",
     "output_type": "stream",
     "text": [
      "52219.3114022983\n"
     ]
    },
    {
     "name": "stderr",
     "output_type": "stream",
     "text": [
      "16:07 bilby INFO    : Waveform generator initiated with\n",
      "  frequency_domain_source_model: waveforms.mem_freq_XPHM\n",
      "  time_domain_source_model: None\n",
      "  parameter_conversion: bilby.gw.conversion.convert_to_lal_binary_black_hole_parameters\n"
     ]
    },
    {
     "name": "stdout",
     "output_type": "stream",
     "text": [
      "52219.04273828612\n"
     ]
    },
    {
     "name": "stderr",
     "output_type": "stream",
     "text": [
      "16:07 bilby INFO    : Waveform generator initiated with\n",
      "  frequency_domain_source_model: waveforms.mem_freq_XPHM\n",
      "  time_domain_source_model: None\n",
      "  parameter_conversion: bilby.gw.conversion.convert_to_lal_binary_black_hole_parameters\n"
     ]
    },
    {
     "name": "stdout",
     "output_type": "stream",
     "text": [
      "52218.76496446427\n"
     ]
    },
    {
     "name": "stderr",
     "output_type": "stream",
     "text": [
      "16:07 bilby INFO    : Waveform generator initiated with\n",
      "  frequency_domain_source_model: waveforms.mem_freq_XPHM\n",
      "  time_domain_source_model: None\n",
      "  parameter_conversion: bilby.gw.conversion.convert_to_lal_binary_black_hole_parameters\n"
     ]
    },
    {
     "name": "stdout",
     "output_type": "stream",
     "text": [
      "52218.478080832734\n"
     ]
    },
    {
     "name": "stderr",
     "output_type": "stream",
     "text": [
      "16:07 bilby INFO    : Waveform generator initiated with\n",
      "  frequency_domain_source_model: waveforms.mem_freq_XPHM\n",
      "  time_domain_source_model: None\n",
      "  parameter_conversion: bilby.gw.conversion.convert_to_lal_binary_black_hole_parameters\n"
     ]
    },
    {
     "name": "stdout",
     "output_type": "stream",
     "text": [
      "52218.18208739154\n"
     ]
    },
    {
     "name": "stderr",
     "output_type": "stream",
     "text": [
      "16:07 bilby INFO    : Waveform generator initiated with\n",
      "  frequency_domain_source_model: waveforms.mem_freq_XPHM\n",
      "  time_domain_source_model: None\n",
      "  parameter_conversion: bilby.gw.conversion.convert_to_lal_binary_black_hole_parameters\n"
     ]
    },
    {
     "name": "stdout",
     "output_type": "stream",
     "text": [
      "52217.87698414063\n"
     ]
    },
    {
     "name": "stderr",
     "output_type": "stream",
     "text": [
      "16:07 bilby INFO    : Waveform generator initiated with\n",
      "  frequency_domain_source_model: waveforms.mem_freq_XPHM\n",
      "  time_domain_source_model: None\n",
      "  parameter_conversion: bilby.gw.conversion.convert_to_lal_binary_black_hole_parameters\n"
     ]
    },
    {
     "name": "stdout",
     "output_type": "stream",
     "text": [
      "52217.56277108005\n"
     ]
    },
    {
     "name": "stderr",
     "output_type": "stream",
     "text": [
      "16:07 bilby INFO    : Waveform generator initiated with\n",
      "  frequency_domain_source_model: waveforms.mem_freq_XPHM\n",
      "  time_domain_source_model: None\n",
      "  parameter_conversion: bilby.gw.conversion.convert_to_lal_binary_black_hole_parameters\n"
     ]
    },
    {
     "name": "stdout",
     "output_type": "stream",
     "text": [
      "52217.23944820979\n"
     ]
    },
    {
     "name": "stderr",
     "output_type": "stream",
     "text": [
      "16:07 bilby INFO    : Waveform generator initiated with\n",
      "  frequency_domain_source_model: waveforms.mem_freq_XPHM\n",
      "  time_domain_source_model: None\n",
      "  parameter_conversion: bilby.gw.conversion.convert_to_lal_binary_black_hole_parameters\n"
     ]
    },
    {
     "name": "stdout",
     "output_type": "stream",
     "text": [
      "52216.907015529825\n"
     ]
    },
    {
     "name": "stderr",
     "output_type": "stream",
     "text": [
      "16:07 bilby INFO    : Waveform generator initiated with\n",
      "  frequency_domain_source_model: waveforms.mem_freq_XPHM\n",
      "  time_domain_source_model: None\n",
      "  parameter_conversion: bilby.gw.conversion.convert_to_lal_binary_black_hole_parameters\n"
     ]
    },
    {
     "name": "stdout",
     "output_type": "stream",
     "text": [
      "52216.5654730402\n"
     ]
    },
    {
     "name": "stderr",
     "output_type": "stream",
     "text": [
      "16:07 bilby INFO    : Waveform generator initiated with\n",
      "  frequency_domain_source_model: waveforms.mem_freq_XPHM\n",
      "  time_domain_source_model: None\n",
      "  parameter_conversion: bilby.gw.conversion.convert_to_lal_binary_black_hole_parameters\n"
     ]
    },
    {
     "name": "stdout",
     "output_type": "stream",
     "text": [
      "52216.214820740905\n"
     ]
    },
    {
     "name": "stderr",
     "output_type": "stream",
     "text": [
      "16:07 bilby INFO    : Waveform generator initiated with\n",
      "  frequency_domain_source_model: waveforms.mem_freq_XPHM\n",
      "  time_domain_source_model: None\n",
      "  parameter_conversion: bilby.gw.conversion.convert_to_lal_binary_black_hole_parameters\n"
     ]
    },
    {
     "name": "stdout",
     "output_type": "stream",
     "text": [
      "52215.85505863193\n"
     ]
    },
    {
     "name": "stderr",
     "output_type": "stream",
     "text": [
      "16:08 bilby INFO    : Waveform generator initiated with\n",
      "  frequency_domain_source_model: waveforms.mem_freq_XPHM\n",
      "  time_domain_source_model: None\n",
      "  parameter_conversion: bilby.gw.conversion.convert_to_lal_binary_black_hole_parameters\n"
     ]
    },
    {
     "name": "stdout",
     "output_type": "stream",
     "text": [
      "52215.48618671324\n"
     ]
    },
    {
     "name": "stderr",
     "output_type": "stream",
     "text": [
      "16:08 bilby INFO    : Waveform generator initiated with\n",
      "  frequency_domain_source_model: waveforms.mem_freq_XPHM\n",
      "  time_domain_source_model: None\n",
      "  parameter_conversion: bilby.gw.conversion.convert_to_lal_binary_black_hole_parameters\n"
     ]
    },
    {
     "name": "stdout",
     "output_type": "stream",
     "text": [
      "52215.10820498491\n"
     ]
    },
    {
     "name": "stderr",
     "output_type": "stream",
     "text": [
      "16:08 bilby INFO    : Waveform generator initiated with\n",
      "  frequency_domain_source_model: waveforms.mem_freq_XPHM\n",
      "  time_domain_source_model: None\n",
      "  parameter_conversion: bilby.gw.conversion.convert_to_lal_binary_black_hole_parameters\n"
     ]
    },
    {
     "name": "stdout",
     "output_type": "stream",
     "text": [
      "52214.72111344688\n"
     ]
    },
    {
     "name": "stderr",
     "output_type": "stream",
     "text": [
      "16:08 bilby INFO    : Waveform generator initiated with\n",
      "  frequency_domain_source_model: waveforms.mem_freq_XPHM\n",
      "  time_domain_source_model: None\n",
      "  parameter_conversion: bilby.gw.conversion.convert_to_lal_binary_black_hole_parameters\n"
     ]
    },
    {
     "name": "stdout",
     "output_type": "stream",
     "text": [
      "52214.32491209916\n"
     ]
    },
    {
     "name": "stderr",
     "output_type": "stream",
     "text": [
      "16:08 bilby INFO    : Waveform generator initiated with\n",
      "  frequency_domain_source_model: waveforms.mem_freq_XPHM\n",
      "  time_domain_source_model: None\n",
      "  parameter_conversion: bilby.gw.conversion.convert_to_lal_binary_black_hole_parameters\n"
     ]
    },
    {
     "name": "stdout",
     "output_type": "stream",
     "text": [
      "52213.91960094175\n"
     ]
    },
    {
     "name": "stderr",
     "output_type": "stream",
     "text": [
      "16:08 bilby INFO    : Waveform generator initiated with\n",
      "  frequency_domain_source_model: waveforms.mem_freq_XPHM\n",
      "  time_domain_source_model: None\n",
      "  parameter_conversion: bilby.gw.conversion.convert_to_lal_binary_black_hole_parameters\n"
     ]
    },
    {
     "name": "stdout",
     "output_type": "stream",
     "text": [
      "52213.5051799747\n"
     ]
    },
    {
     "name": "stderr",
     "output_type": "stream",
     "text": [
      "16:08 bilby INFO    : Waveform generator initiated with\n",
      "  frequency_domain_source_model: waveforms.mem_freq_XPHM\n",
      "  time_domain_source_model: None\n",
      "  parameter_conversion: bilby.gw.conversion.convert_to_lal_binary_black_hole_parameters\n"
     ]
    },
    {
     "name": "stdout",
     "output_type": "stream",
     "text": [
      "52213.08164919795\n"
     ]
    },
    {
     "name": "stderr",
     "output_type": "stream",
     "text": [
      "16:08 bilby INFO    : Waveform generator initiated with\n",
      "  frequency_domain_source_model: waveforms.mem_freq_XPHM\n",
      "  time_domain_source_model: None\n",
      "  parameter_conversion: bilby.gw.conversion.convert_to_lal_binary_black_hole_parameters\n"
     ]
    },
    {
     "name": "stdout",
     "output_type": "stream",
     "text": [
      "52212.64900861149\n"
     ]
    },
    {
     "name": "stderr",
     "output_type": "stream",
     "text": [
      "16:08 bilby INFO    : Waveform generator initiated with\n",
      "  frequency_domain_source_model: waveforms.mem_freq_XPHM\n",
      "  time_domain_source_model: None\n",
      "  parameter_conversion: bilby.gw.conversion.convert_to_lal_binary_black_hole_parameters\n"
     ]
    },
    {
     "name": "stdout",
     "output_type": "stream",
     "text": [
      "52212.20725821541\n"
     ]
    },
    {
     "name": "stderr",
     "output_type": "stream",
     "text": [
      "16:08 bilby INFO    : Waveform generator initiated with\n",
      "  frequency_domain_source_model: waveforms.mem_freq_XPHM\n",
      "  time_domain_source_model: None\n",
      "  parameter_conversion: bilby.gw.conversion.convert_to_lal_binary_black_hole_parameters\n"
     ]
    },
    {
     "name": "stdout",
     "output_type": "stream",
     "text": [
      "52211.75639800959\n"
     ]
    },
    {
     "name": "stderr",
     "output_type": "stream",
     "text": [
      "16:08 bilby INFO    : Waveform generator initiated with\n",
      "  frequency_domain_source_model: waveforms.mem_freq_XPHM\n",
      "  time_domain_source_model: None\n",
      "  parameter_conversion: bilby.gw.conversion.convert_to_lal_binary_black_hole_parameters\n"
     ]
    },
    {
     "name": "stdout",
     "output_type": "stream",
     "text": [
      "52211.2964279941\n"
     ]
    },
    {
     "name": "stderr",
     "output_type": "stream",
     "text": [
      "16:08 bilby INFO    : Waveform generator initiated with\n",
      "  frequency_domain_source_model: waveforms.mem_freq_XPHM\n",
      "  time_domain_source_model: None\n",
      "  parameter_conversion: bilby.gw.conversion.convert_to_lal_binary_black_hole_parameters\n"
     ]
    },
    {
     "name": "stdout",
     "output_type": "stream",
     "text": [
      "52210.827348168954\n"
     ]
    },
    {
     "name": "stderr",
     "output_type": "stream",
     "text": [
      "16:08 bilby INFO    : Waveform generator initiated with\n",
      "  frequency_domain_source_model: waveforms.mem_freq_XPHM\n",
      "  time_domain_source_model: None\n",
      "  parameter_conversion: bilby.gw.conversion.convert_to_lal_binary_black_hole_parameters\n"
     ]
    },
    {
     "name": "stdout",
     "output_type": "stream",
     "text": [
      "52210.349158534125\n"
     ]
    },
    {
     "name": "stderr",
     "output_type": "stream",
     "text": [
      "16:08 bilby INFO    : Waveform generator initiated with\n",
      "  frequency_domain_source_model: waveforms.mem_freq_XPHM\n",
      "  time_domain_source_model: None\n",
      "  parameter_conversion: bilby.gw.conversion.convert_to_lal_binary_black_hole_parameters\n"
     ]
    },
    {
     "name": "stdout",
     "output_type": "stream",
     "text": [
      "52209.861859089586\n"
     ]
    },
    {
     "name": "stderr",
     "output_type": "stream",
     "text": [
      "16:08 bilby INFO    : Waveform generator initiated with\n",
      "  frequency_domain_source_model: waveforms.mem_freq_XPHM\n",
      "  time_domain_source_model: None\n",
      "  parameter_conversion: bilby.gw.conversion.convert_to_lal_binary_black_hole_parameters\n"
     ]
    },
    {
     "name": "stdout",
     "output_type": "stream",
     "text": [
      "52209.36544983537\n"
     ]
    },
    {
     "name": "stderr",
     "output_type": "stream",
     "text": [
      "16:08 bilby INFO    : Waveform generator initiated with\n",
      "  frequency_domain_source_model: waveforms.mem_freq_XPHM\n",
      "  time_domain_source_model: None\n",
      "  parameter_conversion: bilby.gw.conversion.convert_to_lal_binary_black_hole_parameters\n"
     ]
    },
    {
     "name": "stdout",
     "output_type": "stream",
     "text": [
      "52208.8599307715\n"
     ]
    },
    {
     "name": "stderr",
     "output_type": "stream",
     "text": [
      "16:08 bilby INFO    : Waveform generator initiated with\n",
      "  frequency_domain_source_model: waveforms.mem_freq_XPHM\n",
      "  time_domain_source_model: None\n",
      "  parameter_conversion: bilby.gw.conversion.convert_to_lal_binary_black_hole_parameters\n"
     ]
    },
    {
     "name": "stdout",
     "output_type": "stream",
     "text": [
      "52208.34530189792\n"
     ]
    },
    {
     "name": "stderr",
     "output_type": "stream",
     "text": [
      "16:08 bilby INFO    : Waveform generator initiated with\n",
      "  frequency_domain_source_model: waveforms.mem_freq_XPHM\n",
      "  time_domain_source_model: None\n",
      "  parameter_conversion: bilby.gw.conversion.convert_to_lal_binary_black_hole_parameters\n"
     ]
    },
    {
     "name": "stdout",
     "output_type": "stream",
     "text": [
      "52207.821563214675\n"
     ]
    },
    {
     "name": "stderr",
     "output_type": "stream",
     "text": [
      "16:08 bilby INFO    : Waveform generator initiated with\n",
      "  frequency_domain_source_model: waveforms.mem_freq_XPHM\n",
      "  time_domain_source_model: None\n",
      "  parameter_conversion: bilby.gw.conversion.convert_to_lal_binary_black_hole_parameters\n"
     ]
    },
    {
     "name": "stdout",
     "output_type": "stream",
     "text": [
      "52207.28871472175\n"
     ]
    },
    {
     "name": "stderr",
     "output_type": "stream",
     "text": [
      "16:08 bilby INFO    : Waveform generator initiated with\n",
      "  frequency_domain_source_model: waveforms.mem_freq_XPHM\n",
      "  time_domain_source_model: None\n",
      "  parameter_conversion: bilby.gw.conversion.convert_to_lal_binary_black_hole_parameters\n"
     ]
    },
    {
     "name": "stdout",
     "output_type": "stream",
     "text": [
      "52206.74675641912\n"
     ]
    },
    {
     "name": "stderr",
     "output_type": "stream",
     "text": [
      "16:08 bilby INFO    : Waveform generator initiated with\n",
      "  frequency_domain_source_model: waveforms.mem_freq_XPHM\n",
      "  time_domain_source_model: None\n",
      "  parameter_conversion: bilby.gw.conversion.convert_to_lal_binary_black_hole_parameters\n"
     ]
    },
    {
     "name": "stdout",
     "output_type": "stream",
     "text": [
      "52206.19568830685\n"
     ]
    },
    {
     "name": "stderr",
     "output_type": "stream",
     "text": [
      "16:08 bilby INFO    : Waveform generator initiated with\n",
      "  frequency_domain_source_model: waveforms.mem_freq_XPHM\n",
      "  time_domain_source_model: None\n",
      "  parameter_conversion: bilby.gw.conversion.convert_to_lal_binary_black_hole_parameters\n"
     ]
    },
    {
     "name": "stdout",
     "output_type": "stream",
     "text": [
      "52205.63551038486\n"
     ]
    },
    {
     "name": "stderr",
     "output_type": "stream",
     "text": [
      "16:08 bilby INFO    : Waveform generator initiated with\n",
      "  frequency_domain_source_model: waveforms.mem_freq_XPHM\n",
      "  time_domain_source_model: None\n",
      "  parameter_conversion: bilby.gw.conversion.convert_to_lal_binary_black_hole_parameters\n"
     ]
    },
    {
     "name": "stdout",
     "output_type": "stream",
     "text": [
      "52205.0662226532\n"
     ]
    },
    {
     "name": "stderr",
     "output_type": "stream",
     "text": [
      "16:08 bilby INFO    : Waveform generator initiated with\n",
      "  frequency_domain_source_model: waveforms.mem_freq_XPHM\n",
      "  time_domain_source_model: None\n",
      "  parameter_conversion: bilby.gw.conversion.convert_to_lal_binary_black_hole_parameters\n"
     ]
    },
    {
     "name": "stdout",
     "output_type": "stream",
     "text": [
      "52204.487825111864\n"
     ]
    },
    {
     "name": "stderr",
     "output_type": "stream",
     "text": [
      "16:08 bilby INFO    : Waveform generator initiated with\n",
      "  frequency_domain_source_model: waveforms.mem_freq_XPHM\n",
      "  time_domain_source_model: None\n",
      "  parameter_conversion: bilby.gw.conversion.convert_to_lal_binary_black_hole_parameters\n"
     ]
    },
    {
     "name": "stdout",
     "output_type": "stream",
     "text": [
      "52203.900317760876\n"
     ]
    },
    {
     "name": "stderr",
     "output_type": "stream",
     "text": [
      "16:08 bilby INFO    : Waveform generator initiated with\n",
      "  frequency_domain_source_model: waveforms.mem_freq_XPHM\n",
      "  time_domain_source_model: None\n",
      "  parameter_conversion: bilby.gw.conversion.convert_to_lal_binary_black_hole_parameters\n"
     ]
    },
    {
     "name": "stdout",
     "output_type": "stream",
     "text": [
      "52203.30370060016\n"
     ]
    },
    {
     "name": "stderr",
     "output_type": "stream",
     "text": [
      "16:08 bilby INFO    : Waveform generator initiated with\n",
      "  frequency_domain_source_model: waveforms.mem_freq_XPHM\n",
      "  time_domain_source_model: None\n",
      "  parameter_conversion: bilby.gw.conversion.convert_to_lal_binary_black_hole_parameters\n"
     ]
    },
    {
     "name": "stdout",
     "output_type": "stream",
     "text": [
      "52202.697973629794\n"
     ]
    },
    {
     "name": "stderr",
     "output_type": "stream",
     "text": [
      "16:08 bilby INFO    : Waveform generator initiated with\n",
      "  frequency_domain_source_model: waveforms.mem_freq_XPHM\n",
      "  time_domain_source_model: None\n",
      "  parameter_conversion: bilby.gw.conversion.convert_to_lal_binary_black_hole_parameters\n"
     ]
    },
    {
     "name": "stdout",
     "output_type": "stream",
     "text": [
      "52202.083136849746\n"
     ]
    },
    {
     "name": "stderr",
     "output_type": "stream",
     "text": [
      "16:08 bilby INFO    : Waveform generator initiated with\n",
      "  frequency_domain_source_model: waveforms.mem_freq_XPHM\n",
      "  time_domain_source_model: None\n",
      "  parameter_conversion: bilby.gw.conversion.convert_to_lal_binary_black_hole_parameters\n"
     ]
    },
    {
     "name": "stdout",
     "output_type": "stream",
     "text": [
      "52201.459190259986\n"
     ]
    },
    {
     "name": "stderr",
     "output_type": "stream",
     "text": [
      "16:08 bilby INFO    : Waveform generator initiated with\n",
      "  frequency_domain_source_model: waveforms.mem_freq_XPHM\n",
      "  time_domain_source_model: None\n",
      "  parameter_conversion: bilby.gw.conversion.convert_to_lal_binary_black_hole_parameters\n"
     ]
    },
    {
     "name": "stdout",
     "output_type": "stream",
     "text": [
      "52200.826133860566\n"
     ]
    },
    {
     "name": "stderr",
     "output_type": "stream",
     "text": [
      "16:08 bilby INFO    : Waveform generator initiated with\n",
      "  frequency_domain_source_model: waveforms.mem_freq_XPHM\n",
      "  time_domain_source_model: None\n",
      "  parameter_conversion: bilby.gw.conversion.convert_to_lal_binary_black_hole_parameters\n"
     ]
    },
    {
     "name": "stdout",
     "output_type": "stream",
     "text": [
      "52200.18396765148\n"
     ]
    },
    {
     "name": "stderr",
     "output_type": "stream",
     "text": [
      "16:08 bilby INFO    : Waveform generator initiated with\n",
      "  frequency_domain_source_model: waveforms.mem_freq_XPHM\n",
      "  time_domain_source_model: None\n",
      "  parameter_conversion: bilby.gw.conversion.convert_to_lal_binary_black_hole_parameters\n"
     ]
    },
    {
     "name": "stdout",
     "output_type": "stream",
     "text": [
      "52199.53269163269\n"
     ]
    },
    {
     "name": "stderr",
     "output_type": "stream",
     "text": [
      "16:08 bilby INFO    : Waveform generator initiated with\n",
      "  frequency_domain_source_model: waveforms.mem_freq_XPHM\n",
      "  time_domain_source_model: None\n",
      "  parameter_conversion: bilby.gw.conversion.convert_to_lal_binary_black_hole_parameters\n"
     ]
    },
    {
     "name": "stdout",
     "output_type": "stream",
     "text": [
      "52198.87230580421\n"
     ]
    },
    {
     "name": "stderr",
     "output_type": "stream",
     "text": [
      "16:08 bilby INFO    : Waveform generator initiated with\n",
      "  frequency_domain_source_model: waveforms.mem_freq_XPHM\n",
      "  time_domain_source_model: None\n",
      "  parameter_conversion: bilby.gw.conversion.convert_to_lal_binary_black_hole_parameters\n"
     ]
    },
    {
     "name": "stdout",
     "output_type": "stream",
     "text": [
      "52198.20281016606\n"
     ]
    },
    {
     "name": "stderr",
     "output_type": "stream",
     "text": [
      "16:08 bilby INFO    : Waveform generator initiated with\n",
      "  frequency_domain_source_model: waveforms.mem_freq_XPHM\n",
      "  time_domain_source_model: None\n",
      "  parameter_conversion: bilby.gw.conversion.convert_to_lal_binary_black_hole_parameters\n"
     ]
    },
    {
     "name": "stdout",
     "output_type": "stream",
     "text": [
      "52197.52420471825\n"
     ]
    },
    {
     "name": "stderr",
     "output_type": "stream",
     "text": [
      "16:08 bilby INFO    : Waveform generator initiated with\n",
      "  frequency_domain_source_model: waveforms.mem_freq_XPHM\n",
      "  time_domain_source_model: None\n",
      "  parameter_conversion: bilby.gw.conversion.convert_to_lal_binary_black_hole_parameters\n"
     ]
    },
    {
     "name": "stdout",
     "output_type": "stream",
     "text": [
      "52196.836489460744\n"
     ]
    },
    {
     "name": "stderr",
     "output_type": "stream",
     "text": [
      "16:08 bilby INFO    : Waveform generator initiated with\n",
      "  frequency_domain_source_model: waveforms.mem_freq_XPHM\n",
      "  time_domain_source_model: None\n",
      "  parameter_conversion: bilby.gw.conversion.convert_to_lal_binary_black_hole_parameters\n"
     ]
    },
    {
     "name": "stdout",
     "output_type": "stream",
     "text": [
      "52196.13966439354\n"
     ]
    },
    {
     "name": "stderr",
     "output_type": "stream",
     "text": [
      "16:08 bilby INFO    : Waveform generator initiated with\n",
      "  frequency_domain_source_model: waveforms.mem_freq_XPHM\n",
      "  time_domain_source_model: None\n",
      "  parameter_conversion: bilby.gw.conversion.convert_to_lal_binary_black_hole_parameters\n"
     ]
    },
    {
     "name": "stdout",
     "output_type": "stream",
     "text": [
      "52195.43372951667\n"
     ]
    },
    {
     "name": "stderr",
     "output_type": "stream",
     "text": [
      "16:08 bilby INFO    : Waveform generator initiated with\n",
      "  frequency_domain_source_model: waveforms.mem_freq_XPHM\n",
      "  time_domain_source_model: None\n",
      "  parameter_conversion: bilby.gw.conversion.convert_to_lal_binary_black_hole_parameters\n"
     ]
    },
    {
     "name": "stdout",
     "output_type": "stream",
     "text": [
      "52194.71868483012\n"
     ]
    },
    {
     "name": "stderr",
     "output_type": "stream",
     "text": [
      "16:08 bilby INFO    : Waveform generator initiated with\n",
      "  frequency_domain_source_model: waveforms.mem_freq_XPHM\n",
      "  time_domain_source_model: None\n",
      "  parameter_conversion: bilby.gw.conversion.convert_to_lal_binary_black_hole_parameters\n"
     ]
    },
    {
     "name": "stdout",
     "output_type": "stream",
     "text": [
      "52193.99453033386\n"
     ]
    },
    {
     "name": "stderr",
     "output_type": "stream",
     "text": [
      "16:08 bilby INFO    : Waveform generator initiated with\n",
      "  frequency_domain_source_model: waveforms.mem_freq_XPHM\n",
      "  time_domain_source_model: None\n",
      "  parameter_conversion: bilby.gw.conversion.convert_to_lal_binary_black_hole_parameters\n"
     ]
    },
    {
     "name": "stdout",
     "output_type": "stream",
     "text": [
      "52193.261266027985\n"
     ]
    },
    {
     "name": "stderr",
     "output_type": "stream",
     "text": [
      "16:08 bilby INFO    : Waveform generator initiated with\n",
      "  frequency_domain_source_model: waveforms.mem_freq_XPHM\n",
      "  time_domain_source_model: None\n",
      "  parameter_conversion: bilby.gw.conversion.convert_to_lal_binary_black_hole_parameters\n"
     ]
    },
    {
     "name": "stdout",
     "output_type": "stream",
     "text": [
      "52192.518891912376\n"
     ]
    },
    {
     "name": "stderr",
     "output_type": "stream",
     "text": [
      "16:08 bilby INFO    : Waveform generator initiated with\n",
      "  frequency_domain_source_model: waveforms.mem_freq_XPHM\n",
      "  time_domain_source_model: None\n",
      "  parameter_conversion: bilby.gw.conversion.convert_to_lal_binary_black_hole_parameters\n"
     ]
    },
    {
     "name": "stdout",
     "output_type": "stream",
     "text": [
      "52191.76740798711\n"
     ]
    },
    {
     "name": "stderr",
     "output_type": "stream",
     "text": [
      "16:08 bilby INFO    : Waveform generator initiated with\n",
      "  frequency_domain_source_model: waveforms.mem_freq_XPHM\n",
      "  time_domain_source_model: None\n",
      "  parameter_conversion: bilby.gw.conversion.convert_to_lal_binary_black_hole_parameters\n"
     ]
    },
    {
     "name": "stdout",
     "output_type": "stream",
     "text": [
      "52191.00681425212\n"
     ]
    },
    {
     "name": "stderr",
     "output_type": "stream",
     "text": [
      "16:08 bilby INFO    : Waveform generator initiated with\n",
      "  frequency_domain_source_model: waveforms.mem_freq_XPHM\n",
      "  time_domain_source_model: None\n",
      "  parameter_conversion: bilby.gw.conversion.convert_to_lal_binary_black_hole_parameters\n"
     ]
    },
    {
     "name": "stdout",
     "output_type": "stream",
     "text": [
      "52190.23711070751\n"
     ]
    },
    {
     "name": "stderr",
     "output_type": "stream",
     "text": [
      "16:08 bilby INFO    : Waveform generator initiated with\n",
      "  frequency_domain_source_model: waveforms.mem_freq_XPHM\n",
      "  time_domain_source_model: None\n",
      "  parameter_conversion: bilby.gw.conversion.convert_to_lal_binary_black_hole_parameters\n"
     ]
    },
    {
     "name": "stdout",
     "output_type": "stream",
     "text": [
      "52189.45829735315\n",
      "52188.67037418917\n"
     ]
    },
    {
     "name": "stderr",
     "output_type": "stream",
     "text": [
      "16:08 bilby INFO    : Injected signal in H1:\n",
      "16:08 bilby INFO    :   optimal SNR = 257.12\n",
      "16:08 bilby INFO    :   matched filter SNR = 257.63+0.47j\n",
      "16:08 bilby INFO    :   chirp_mass = 29.8387469533461\n",
      "16:08 bilby INFO    :   mass_ratio = 0.8687955769814424\n",
      "16:08 bilby INFO    :   a_1 = 0.8608417198511092\n",
      "16:08 bilby INFO    :   a_2 = 0.7195088134379835\n",
      "16:08 bilby INFO    :   tilt_1 = 2.3792185506368795\n",
      "16:08 bilby INFO    :   tilt_2 = 0.8663525482689185\n",
      "16:08 bilby INFO    :   phi_12 = 5.878104994643697\n",
      "16:08 bilby INFO    :   phi_jl = 0.25757481830607415\n",
      "16:08 bilby INFO    :   theta_jn = 1.5707963267948966\n",
      "16:08 bilby INFO    :   psi = 0.6912519348265866\n",
      "16:08 bilby INFO    :   phase = 4.000226339478637\n",
      "16:08 bilby INFO    :   azimuth = 2.590928400193608\n",
      "16:08 bilby INFO    :   zenith = 2.3522458754068447\n",
      "16:08 bilby INFO    :   recalib_H1_amplitude_0 = -0.005868249419321757\n",
      "16:08 bilby INFO    :   recalib_H1_amplitude_1 = -0.043783360917849956\n",
      "16:08 bilby INFO    :   recalib_H1_amplitude_2 = -0.04728295327822305\n",
      "16:08 bilby INFO    :   recalib_H1_amplitude_3 = 0.08222264173465693\n",
      "16:08 bilby INFO    :   recalib_H1_amplitude_4 = 0.011855669695012536\n",
      "16:08 bilby INFO    :   recalib_H1_amplitude_5 = -0.008990421387286167\n",
      "16:08 bilby INFO    :   recalib_H1_amplitude_6 = -0.020009159194152252\n",
      "16:08 bilby INFO    :   recalib_H1_amplitude_7 = 0.008484833525516596\n",
      "16:08 bilby INFO    :   recalib_H1_amplitude_8 = -0.018327160189299724\n",
      "16:08 bilby INFO    :   recalib_H1_amplitude_9 = -0.0023772652335948725\n",
      "16:08 bilby INFO    :   recalib_H1_phase_0 = -0.0006461526627345466\n",
      "16:08 bilby INFO    :   recalib_H1_phase_1 = 0.051177755324892465\n",
      "16:08 bilby INFO    :   recalib_H1_phase_2 = 0.01399307494477739\n",
      "16:08 bilby INFO    :   recalib_H1_phase_3 = 0.08416966330293393\n",
      "16:08 bilby INFO    :   recalib_H1_phase_4 = 0.047473946777130974\n",
      "16:08 bilby INFO    :   recalib_H1_phase_5 = 0.013916433512643673\n",
      "16:08 bilby INFO    :   recalib_H1_phase_6 = -0.02128658443550522\n",
      "16:08 bilby INFO    :   recalib_H1_phase_7 = 0.02296630800067761\n",
      "16:08 bilby INFO    :   recalib_H1_phase_8 = -0.037098045831878486\n",
      "16:08 bilby INFO    :   recalib_H1_phase_9 = -0.018967830067115908\n",
      "16:08 bilby INFO    :   recalib_L1_amplitude_0 = -0.036293801292262916\n",
      "16:08 bilby INFO    :   recalib_L1_amplitude_1 = 0.014361561207618069\n",
      "16:08 bilby INFO    :   recalib_L1_amplitude_2 = -0.08693301208957734\n",
      "16:08 bilby INFO    :   recalib_L1_amplitude_3 = 0.10143853088596673\n",
      "16:08 bilby INFO    :   recalib_L1_amplitude_4 = -0.0077889246361674885\n",
      "16:08 bilby INFO    :   recalib_L1_amplitude_5 = -0.025543820665279264\n",
      "16:08 bilby INFO    :   recalib_L1_amplitude_6 = -0.021247887291087522\n",
      "16:08 bilby INFO    :   recalib_L1_amplitude_7 = 0.013667834994950237\n",
      "16:08 bilby INFO    :   recalib_L1_amplitude_8 = 0.012377526160578984\n",
      "16:08 bilby INFO    :   recalib_L1_amplitude_9 = 0.021583525090134788\n",
      "16:08 bilby INFO    :   recalib_L1_phase_0 = -0.02268955770914274\n",
      "16:08 bilby INFO    :   recalib_L1_phase_1 = -0.027473420705276475\n",
      "16:08 bilby INFO    :   recalib_L1_phase_2 = -0.0943607841222296\n",
      "16:08 bilby INFO    :   recalib_L1_phase_3 = 0.029977319706674166\n",
      "16:08 bilby INFO    :   recalib_L1_phase_4 = 0.08523838545670002\n",
      "16:08 bilby INFO    :   recalib_L1_phase_5 = -0.056840952818595976\n",
      "16:08 bilby INFO    :   recalib_L1_phase_6 = -0.004019423152701047\n",
      "16:08 bilby INFO    :   recalib_L1_phase_7 = 0.03270580357083033\n",
      "16:08 bilby INFO    :   recalib_L1_phase_8 = 0.02364064367507932\n",
      "16:08 bilby INFO    :   recalib_L1_phase_9 = -0.002027753595167955\n",
      "16:08 bilby INFO    :   time_jitter = 6.515517343713782e-06\n",
      "16:08 bilby INFO    :   luminosity_distance = 100\n",
      "16:08 bilby INFO    :   geocent_time = 1126259462.408404\n",
      "16:08 bilby INFO    :   recalib_H1_frequency_0 = 19.999999999999996\n",
      "16:08 bilby INFO    :   recalib_H1_frequency_1 = 30.514434824844255\n",
      "16:08 bilby INFO    :   recalib_H1_frequency_2 = 46.55653663398341\n",
      "16:08 bilby INFO    :   recalib_H1_frequency_3 = 71.03232013940804\n",
      "16:08 bilby INFO    :   recalib_H1_frequency_4 = 108.37555516757195\n",
      "16:08 bilby INFO    :   recalib_H1_frequency_5 = 165.35094073835938\n",
      "16:08 bilby INFO    :   recalib_H1_frequency_6 = 252.27952521936786\n",
      "16:08 bilby INFO    :   recalib_H1_frequency_7 = 384.9083564974527\n",
      "16:08 bilby INFO    :   recalib_H1_frequency_8 = 587.2630478939719\n",
      "16:08 bilby INFO    :   recalib_H1_frequency_9 = 895.9999999999999\n",
      "16:08 bilby INFO    :   recalib_L1_frequency_0 = 19.999999999999996\n",
      "16:08 bilby INFO    :   recalib_L1_frequency_1 = 30.514434824844255\n",
      "16:08 bilby INFO    :   recalib_L1_frequency_2 = 46.55653663398341\n",
      "16:08 bilby INFO    :   recalib_L1_frequency_3 = 71.03232013940804\n",
      "16:08 bilby INFO    :   recalib_L1_frequency_4 = 108.37555516757195\n",
      "16:08 bilby INFO    :   recalib_L1_frequency_5 = 165.35094073835938\n",
      "16:08 bilby INFO    :   recalib_L1_frequency_6 = 252.27952521936786\n",
      "16:08 bilby INFO    :   recalib_L1_frequency_7 = 384.9083564974527\n",
      "16:08 bilby INFO    :   recalib_L1_frequency_8 = 587.2630478939719\n",
      "16:08 bilby INFO    :   recalib_L1_frequency_9 = 895.9999999999999\n",
      "16:08 bilby INFO    :   log_likelihood = 328.4324942070929\n",
      "16:08 bilby INFO    :   log_prior = 66.29957866305776\n",
      "16:08 bilby INFO    :   total_mass = 68.75498279849768\n",
      "16:08 bilby INFO    :   mass_1 = 36.79106674126104\n",
      "16:08 bilby INFO    :   mass_2 = 31.96391605723664\n",
      "16:08 bilby INFO    :   ra = 2.216116171456804\n",
      "16:08 bilby INFO    :   dec = -1.2259035208296045\n",
      "16:08 bilby INFO    :   symmetric_mass_ratio = 0.24876770874914655\n",
      "16:08 bilby INFO    :   spin_1x = 0.5904472619004925\n",
      "16:08 bilby INFO    :   spin_1y = -0.06957261443892127\n",
      "16:08 bilby INFO    :   spin_1z = -0.6225593536929314\n",
      "16:08 bilby INFO    :   spin_2x = 0.4751310354864326\n",
      "16:08 bilby INFO    :   spin_2y = -0.2735390509327497\n",
      "16:08 bilby INFO    :   spin_2z = 0.46596117794011116\n",
      "16:08 bilby INFO    :   phi_1 = 6.1658957660048594\n",
      "16:08 bilby INFO    :   phi_2 = 5.760815453468969\n",
      "16:08 bilby INFO    :   chi_eff = -0.11651051936092104\n",
      "16:08 bilby INFO    :   chi_1_in_plane = 0.5945320157616876\n",
      "16:08 bilby INFO    :   chi_2_in_plane = 0.5482454863175794\n",
      "16:08 bilby INFO    :   chi_p = 0.5945320157616876\n",
      "16:08 bilby INFO    :   cos_tilt_1 = -0.7231983991210473\n",
      "16:08 bilby INFO    :   cos_tilt_2 = 0.6476101046123928\n",
      "16:08 bilby INFO    :   comoving_distance = 460.07828764617136\n",
      "16:08 bilby INFO    :   H1_matched_filter_snr = 21.221089162046386\n",
      "16:08 bilby INFO    :   H1_optimal_snr = 19.957775833584304\n",
      "16:08 bilby INFO    :   L1_matched_filter_snr = 15.167442050430017\n",
      "16:08 bilby INFO    :   L1_optimal_snr = 13.072732183576488\n",
      "16:08 bilby INFO    :   H1_matched_filter_abs_snr = 21.320120947355953\n",
      "16:08 bilby INFO    :   H1_matched_filter_snr_angle = -0.09642190803027524\n",
      "16:08 bilby INFO    :   L1_matched_filter_abs_snr = 15.262798565714363\n",
      "16:08 bilby INFO    :   L1_matched_filter_snr_angle = -0.11184059441681089\n",
      "16:08 bilby INFO    :   redshift = 0.10685806108071728\n",
      "16:08 bilby INFO    :   inverted_mass_ratio = 1.1510187511248808\n",
      "16:08 bilby INFO    :   mass_1_source = 33.23919121602536\n",
      "16:08 bilby INFO    :   mass_2_source = 28.878062310923244\n",
      "16:08 bilby INFO    :   total_mass_source = 62.1172535269486\n",
      "16:08 bilby INFO    :   chirp_mass_source = 26.958060841344064\n",
      "16:08 bilby INFO    :   chi_p_2spin = 0.6991048646002762\n",
      "16:08 bilby INFO    :   beta = 0.2964834516665308\n",
      "16:08 bilby INFO    :   psi_J = 1.8454358595594362\n",
      "16:08 bilby INFO    :   final_spin = 0.6847123040726873\n",
      "16:08 bilby INFO    :   peak_luminosity = 3.4650910541734206\n",
      "16:08 bilby INFO    :   final_mass = 65.67190490679377\n",
      "16:08 bilby INFO    :   final_mass_source = 59.33182150082807\n",
      "16:08 bilby INFO    :   radiated_energy = 2.7854320261205316\n",
      "16:08 bilby INFO    :   H1_time = 1126259462.4241831\n",
      "16:08 bilby INFO    :   L1_time = 1126259462.417131\n",
      "16:08 bilby INFO    :   network_optimal_snr = 23.858104345633123\n",
      "16:08 bilby INFO    :   network_matched_filter_snr = 26.062659432941388\n",
      "16:08 bilby INFO    :   cos_theta_jn = -0.7957343530217185\n",
      "16:08 bilby INFO    :   viewing_angle = 0.6505771989131781\n",
      "16:08 bilby INFO    :   cos_iota = -0.7159420610982777\n",
      "16:08 bilby INFO    :   tilt_1_infinity_only_prec_avg = 1.9184456335196816\n",
      "16:08 bilby INFO    :   tilt_2_infinity_only_prec_avg = 1.4496492121062137\n",
      "16:08 bilby INFO    :   spin_1z_infinity_only_prec_avg = -0.29327903351648726\n",
      "16:08 bilby INFO    :   spin_2z_infinity_only_prec_avg = 0.08695335504061963\n",
      "16:08 bilby INFO    :   chi_eff_infinity_only_prec_avg = -0.11651051936092102\n",
      "16:08 bilby INFO    :   chi_p_infinity_only_prec_avg = 0.8093428662414038\n",
      "16:08 bilby INFO    :   cos_tilt_1_infinity_only_prec_avg = -0.3406886849852173\n",
      "16:08 bilby INFO    :   cos_tilt_2_infinity_only_prec_avg = 0.12085099364542307\n",
      "16:08 bilby INFO    : Injected signal in L1:\n",
      "16:08 bilby INFO    :   optimal SNR = 193.44\n",
      "16:08 bilby INFO    :   matched filter SNR = 192.98-1.48j\n",
      "16:08 bilby INFO    :   chirp_mass = 29.8387469533461\n",
      "16:08 bilby INFO    :   mass_ratio = 0.8687955769814424\n",
      "16:08 bilby INFO    :   a_1 = 0.8608417198511092\n",
      "16:08 bilby INFO    :   a_2 = 0.7195088134379835\n",
      "16:08 bilby INFO    :   tilt_1 = 2.3792185506368795\n",
      "16:08 bilby INFO    :   tilt_2 = 0.8663525482689185\n",
      "16:08 bilby INFO    :   phi_12 = 5.878104994643697\n",
      "16:08 bilby INFO    :   phi_jl = 0.25757481830607415\n",
      "16:08 bilby INFO    :   theta_jn = 1.5707963267948966\n",
      "16:08 bilby INFO    :   psi = 0.6912519348265866\n",
      "16:08 bilby INFO    :   phase = 4.000226339478637\n",
      "16:08 bilby INFO    :   azimuth = 2.590928400193608\n",
      "16:08 bilby INFO    :   zenith = 2.3522458754068447\n",
      "16:08 bilby INFO    :   recalib_H1_amplitude_0 = -0.005868249419321757\n",
      "16:08 bilby INFO    :   recalib_H1_amplitude_1 = -0.043783360917849956\n",
      "16:08 bilby INFO    :   recalib_H1_amplitude_2 = -0.04728295327822305\n",
      "16:08 bilby INFO    :   recalib_H1_amplitude_3 = 0.08222264173465693\n",
      "16:08 bilby INFO    :   recalib_H1_amplitude_4 = 0.011855669695012536\n",
      "16:08 bilby INFO    :   recalib_H1_amplitude_5 = -0.008990421387286167\n",
      "16:08 bilby INFO    :   recalib_H1_amplitude_6 = -0.020009159194152252\n",
      "16:08 bilby INFO    :   recalib_H1_amplitude_7 = 0.008484833525516596\n",
      "16:08 bilby INFO    :   recalib_H1_amplitude_8 = -0.018327160189299724\n",
      "16:08 bilby INFO    :   recalib_H1_amplitude_9 = -0.0023772652335948725\n",
      "16:08 bilby INFO    :   recalib_H1_phase_0 = -0.0006461526627345466\n",
      "16:08 bilby INFO    :   recalib_H1_phase_1 = 0.051177755324892465\n",
      "16:08 bilby INFO    :   recalib_H1_phase_2 = 0.01399307494477739\n",
      "16:08 bilby INFO    :   recalib_H1_phase_3 = 0.08416966330293393\n",
      "16:08 bilby INFO    :   recalib_H1_phase_4 = 0.047473946777130974\n",
      "16:08 bilby INFO    :   recalib_H1_phase_5 = 0.013916433512643673\n",
      "16:08 bilby INFO    :   recalib_H1_phase_6 = -0.02128658443550522\n",
      "16:08 bilby INFO    :   recalib_H1_phase_7 = 0.02296630800067761\n",
      "16:08 bilby INFO    :   recalib_H1_phase_8 = -0.037098045831878486\n",
      "16:08 bilby INFO    :   recalib_H1_phase_9 = -0.018967830067115908\n",
      "16:08 bilby INFO    :   recalib_L1_amplitude_0 = -0.036293801292262916\n",
      "16:08 bilby INFO    :   recalib_L1_amplitude_1 = 0.014361561207618069\n",
      "16:08 bilby INFO    :   recalib_L1_amplitude_2 = -0.08693301208957734\n",
      "16:08 bilby INFO    :   recalib_L1_amplitude_3 = 0.10143853088596673\n",
      "16:08 bilby INFO    :   recalib_L1_amplitude_4 = -0.0077889246361674885\n",
      "16:08 bilby INFO    :   recalib_L1_amplitude_5 = -0.025543820665279264\n",
      "16:08 bilby INFO    :   recalib_L1_amplitude_6 = -0.021247887291087522\n",
      "16:08 bilby INFO    :   recalib_L1_amplitude_7 = 0.013667834994950237\n",
      "16:08 bilby INFO    :   recalib_L1_amplitude_8 = 0.012377526160578984\n",
      "16:08 bilby INFO    :   recalib_L1_amplitude_9 = 0.021583525090134788\n",
      "16:08 bilby INFO    :   recalib_L1_phase_0 = -0.02268955770914274\n",
      "16:08 bilby INFO    :   recalib_L1_phase_1 = -0.027473420705276475\n",
      "16:08 bilby INFO    :   recalib_L1_phase_2 = -0.0943607841222296\n",
      "16:08 bilby INFO    :   recalib_L1_phase_3 = 0.029977319706674166\n",
      "16:08 bilby INFO    :   recalib_L1_phase_4 = 0.08523838545670002\n",
      "16:08 bilby INFO    :   recalib_L1_phase_5 = -0.056840952818595976\n",
      "16:08 bilby INFO    :   recalib_L1_phase_6 = -0.004019423152701047\n",
      "16:08 bilby INFO    :   recalib_L1_phase_7 = 0.03270580357083033\n",
      "16:08 bilby INFO    :   recalib_L1_phase_8 = 0.02364064367507932\n",
      "16:08 bilby INFO    :   recalib_L1_phase_9 = -0.002027753595167955\n",
      "16:08 bilby INFO    :   time_jitter = 6.515517343713782e-06\n",
      "16:08 bilby INFO    :   luminosity_distance = 100\n",
      "16:08 bilby INFO    :   geocent_time = 1126259462.408404\n",
      "16:08 bilby INFO    :   recalib_H1_frequency_0 = 19.999999999999996\n",
      "16:08 bilby INFO    :   recalib_H1_frequency_1 = 30.514434824844255\n",
      "16:08 bilby INFO    :   recalib_H1_frequency_2 = 46.55653663398341\n",
      "16:08 bilby INFO    :   recalib_H1_frequency_3 = 71.03232013940804\n",
      "16:08 bilby INFO    :   recalib_H1_frequency_4 = 108.37555516757195\n",
      "16:08 bilby INFO    :   recalib_H1_frequency_5 = 165.35094073835938\n",
      "16:08 bilby INFO    :   recalib_H1_frequency_6 = 252.27952521936786\n",
      "16:08 bilby INFO    :   recalib_H1_frequency_7 = 384.9083564974527\n",
      "16:08 bilby INFO    :   recalib_H1_frequency_8 = 587.2630478939719\n",
      "16:08 bilby INFO    :   recalib_H1_frequency_9 = 895.9999999999999\n",
      "16:08 bilby INFO    :   recalib_L1_frequency_0 = 19.999999999999996\n",
      "16:08 bilby INFO    :   recalib_L1_frequency_1 = 30.514434824844255\n",
      "16:08 bilby INFO    :   recalib_L1_frequency_2 = 46.55653663398341\n",
      "16:08 bilby INFO    :   recalib_L1_frequency_3 = 71.03232013940804\n",
      "16:08 bilby INFO    :   recalib_L1_frequency_4 = 108.37555516757195\n",
      "16:08 bilby INFO    :   recalib_L1_frequency_5 = 165.35094073835938\n",
      "16:08 bilby INFO    :   recalib_L1_frequency_6 = 252.27952521936786\n",
      "16:08 bilby INFO    :   recalib_L1_frequency_7 = 384.9083564974527\n",
      "16:08 bilby INFO    :   recalib_L1_frequency_8 = 587.2630478939719\n",
      "16:08 bilby INFO    :   recalib_L1_frequency_9 = 895.9999999999999\n",
      "16:08 bilby INFO    :   log_likelihood = 328.4324942070929\n",
      "16:08 bilby INFO    :   log_prior = 66.29957866305776\n",
      "16:08 bilby INFO    :   total_mass = 68.75498279849768\n",
      "16:08 bilby INFO    :   mass_1 = 36.79106674126104\n",
      "16:08 bilby INFO    :   mass_2 = 31.96391605723664\n",
      "16:08 bilby INFO    :   ra = 2.216116171456804\n",
      "16:08 bilby INFO    :   dec = -1.2259035208296045\n",
      "16:08 bilby INFO    :   symmetric_mass_ratio = 0.24876770874914655\n",
      "16:08 bilby INFO    :   spin_1x = 0.5904472619004925\n",
      "16:08 bilby INFO    :   spin_1y = -0.06957261443892127\n",
      "16:08 bilby INFO    :   spin_1z = -0.6225593536929314\n",
      "16:08 bilby INFO    :   spin_2x = 0.4751310354864326\n",
      "16:08 bilby INFO    :   spin_2y = -0.2735390509327497\n",
      "16:08 bilby INFO    :   spin_2z = 0.46596117794011116\n",
      "16:08 bilby INFO    :   phi_1 = 6.1658957660048594\n",
      "16:08 bilby INFO    :   phi_2 = 5.760815453468969\n",
      "16:08 bilby INFO    :   chi_eff = -0.11651051936092104\n",
      "16:08 bilby INFO    :   chi_1_in_plane = 0.5945320157616876\n",
      "16:08 bilby INFO    :   chi_2_in_plane = 0.5482454863175794\n",
      "16:08 bilby INFO    :   chi_p = 0.5945320157616876\n",
      "16:08 bilby INFO    :   cos_tilt_1 = -0.7231983991210473\n",
      "16:08 bilby INFO    :   cos_tilt_2 = 0.6476101046123928\n",
      "16:08 bilby INFO    :   comoving_distance = 460.07828764617136\n",
      "16:08 bilby INFO    :   H1_matched_filter_snr = 21.221089162046386\n",
      "16:08 bilby INFO    :   H1_optimal_snr = 19.957775833584304\n",
      "16:08 bilby INFO    :   L1_matched_filter_snr = 15.167442050430017\n",
      "16:08 bilby INFO    :   L1_optimal_snr = 13.072732183576488\n",
      "16:08 bilby INFO    :   H1_matched_filter_abs_snr = 21.320120947355953\n",
      "16:08 bilby INFO    :   H1_matched_filter_snr_angle = -0.09642190803027524\n",
      "16:08 bilby INFO    :   L1_matched_filter_abs_snr = 15.262798565714363\n",
      "16:08 bilby INFO    :   L1_matched_filter_snr_angle = -0.11184059441681089\n",
      "16:08 bilby INFO    :   redshift = 0.10685806108071728\n",
      "16:08 bilby INFO    :   inverted_mass_ratio = 1.1510187511248808\n",
      "16:08 bilby INFO    :   mass_1_source = 33.23919121602536\n",
      "16:08 bilby INFO    :   mass_2_source = 28.878062310923244\n",
      "16:08 bilby INFO    :   total_mass_source = 62.1172535269486\n",
      "16:08 bilby INFO    :   chirp_mass_source = 26.958060841344064\n",
      "16:08 bilby INFO    :   chi_p_2spin = 0.6991048646002762\n",
      "16:08 bilby INFO    :   beta = 0.2964834516665308\n",
      "16:08 bilby INFO    :   psi_J = 1.8454358595594362\n",
      "16:08 bilby INFO    :   final_spin = 0.6847123040726873\n",
      "16:08 bilby INFO    :   peak_luminosity = 3.4650910541734206\n",
      "16:08 bilby INFO    :   final_mass = 65.67190490679377\n",
      "16:08 bilby INFO    :   final_mass_source = 59.33182150082807\n",
      "16:08 bilby INFO    :   radiated_energy = 2.7854320261205316\n",
      "16:08 bilby INFO    :   H1_time = 1126259462.4241831\n",
      "16:08 bilby INFO    :   L1_time = 1126259462.417131\n",
      "16:08 bilby INFO    :   network_optimal_snr = 23.858104345633123\n",
      "16:08 bilby INFO    :   network_matched_filter_snr = 26.062659432941388\n",
      "16:08 bilby INFO    :   cos_theta_jn = -0.7957343530217185\n",
      "16:08 bilby INFO    :   viewing_angle = 0.6505771989131781\n",
      "16:08 bilby INFO    :   cos_iota = -0.7159420610982777\n",
      "16:08 bilby INFO    :   tilt_1_infinity_only_prec_avg = 1.9184456335196816\n",
      "16:08 bilby INFO    :   tilt_2_infinity_only_prec_avg = 1.4496492121062137\n",
      "16:08 bilby INFO    :   spin_1z_infinity_only_prec_avg = -0.29327903351648726\n",
      "16:08 bilby INFO    :   spin_2z_infinity_only_prec_avg = 0.08695335504061963\n",
      "16:08 bilby INFO    :   chi_eff_infinity_only_prec_avg = -0.11651051936092102\n",
      "16:08 bilby INFO    :   chi_p_infinity_only_prec_avg = 0.8093428662414038\n",
      "16:08 bilby INFO    :   cos_tilt_1_infinity_only_prec_avg = -0.3406886849852173\n",
      "16:08 bilby INFO    :   cos_tilt_2_infinity_only_prec_avg = 0.12085099364542307\n",
      "16:08 bilby INFO    : Injected signal in H1:\n",
      "16:08 bilby INFO    :   optimal SNR = 257.12\n",
      "16:08 bilby INFO    :   matched filter SNR = 258.13-0.41j\n",
      "16:08 bilby INFO    :   chirp_mass = 29.8387469533461\n",
      "16:08 bilby INFO    :   mass_ratio = 0.8687955769814424\n",
      "16:08 bilby INFO    :   a_1 = 0.8608417198511092\n",
      "16:08 bilby INFO    :   a_2 = 0.7195088134379835\n",
      "16:08 bilby INFO    :   tilt_1 = 2.3792185506368795\n",
      "16:08 bilby INFO    :   tilt_2 = 0.8663525482689185\n",
      "16:08 bilby INFO    :   phi_12 = 5.878104994643697\n",
      "16:08 bilby INFO    :   phi_jl = 0.25757481830607415\n",
      "16:08 bilby INFO    :   theta_jn = 1.5707963267948966\n",
      "16:08 bilby INFO    :   psi = 0.6912519348265866\n",
      "16:08 bilby INFO    :   phase = 4.000226339478637\n",
      "16:08 bilby INFO    :   azimuth = 2.590928400193608\n",
      "16:08 bilby INFO    :   zenith = 2.3522458754068447\n",
      "16:08 bilby INFO    :   recalib_H1_amplitude_0 = -0.005868249419321757\n",
      "16:08 bilby INFO    :   recalib_H1_amplitude_1 = -0.043783360917849956\n",
      "16:08 bilby INFO    :   recalib_H1_amplitude_2 = -0.04728295327822305\n",
      "16:08 bilby INFO    :   recalib_H1_amplitude_3 = 0.08222264173465693\n",
      "16:08 bilby INFO    :   recalib_H1_amplitude_4 = 0.011855669695012536\n",
      "16:08 bilby INFO    :   recalib_H1_amplitude_5 = -0.008990421387286167\n",
      "16:08 bilby INFO    :   recalib_H1_amplitude_6 = -0.020009159194152252\n",
      "16:08 bilby INFO    :   recalib_H1_amplitude_7 = 0.008484833525516596\n",
      "16:08 bilby INFO    :   recalib_H1_amplitude_8 = -0.018327160189299724\n",
      "16:08 bilby INFO    :   recalib_H1_amplitude_9 = -0.0023772652335948725\n",
      "16:08 bilby INFO    :   recalib_H1_phase_0 = -0.0006461526627345466\n",
      "16:08 bilby INFO    :   recalib_H1_phase_1 = 0.051177755324892465\n",
      "16:08 bilby INFO    :   recalib_H1_phase_2 = 0.01399307494477739\n",
      "16:08 bilby INFO    :   recalib_H1_phase_3 = 0.08416966330293393\n",
      "16:08 bilby INFO    :   recalib_H1_phase_4 = 0.047473946777130974\n",
      "16:08 bilby INFO    :   recalib_H1_phase_5 = 0.013916433512643673\n",
      "16:08 bilby INFO    :   recalib_H1_phase_6 = -0.02128658443550522\n",
      "16:08 bilby INFO    :   recalib_H1_phase_7 = 0.02296630800067761\n",
      "16:08 bilby INFO    :   recalib_H1_phase_8 = -0.037098045831878486\n",
      "16:08 bilby INFO    :   recalib_H1_phase_9 = -0.018967830067115908\n",
      "16:08 bilby INFO    :   recalib_L1_amplitude_0 = -0.036293801292262916\n",
      "16:08 bilby INFO    :   recalib_L1_amplitude_1 = 0.014361561207618069\n",
      "16:08 bilby INFO    :   recalib_L1_amplitude_2 = -0.08693301208957734\n",
      "16:08 bilby INFO    :   recalib_L1_amplitude_3 = 0.10143853088596673\n",
      "16:08 bilby INFO    :   recalib_L1_amplitude_4 = -0.0077889246361674885\n",
      "16:08 bilby INFO    :   recalib_L1_amplitude_5 = -0.025543820665279264\n",
      "16:08 bilby INFO    :   recalib_L1_amplitude_6 = -0.021247887291087522\n",
      "16:08 bilby INFO    :   recalib_L1_amplitude_7 = 0.013667834994950237\n",
      "16:08 bilby INFO    :   recalib_L1_amplitude_8 = 0.012377526160578984\n",
      "16:08 bilby INFO    :   recalib_L1_amplitude_9 = 0.021583525090134788\n",
      "16:08 bilby INFO    :   recalib_L1_phase_0 = -0.02268955770914274\n",
      "16:08 bilby INFO    :   recalib_L1_phase_1 = -0.027473420705276475\n",
      "16:08 bilby INFO    :   recalib_L1_phase_2 = -0.0943607841222296\n",
      "16:08 bilby INFO    :   recalib_L1_phase_3 = 0.029977319706674166\n",
      "16:08 bilby INFO    :   recalib_L1_phase_4 = 0.08523838545670002\n",
      "16:08 bilby INFO    :   recalib_L1_phase_5 = -0.056840952818595976\n",
      "16:08 bilby INFO    :   recalib_L1_phase_6 = -0.004019423152701047\n",
      "16:08 bilby INFO    :   recalib_L1_phase_7 = 0.03270580357083033\n",
      "16:08 bilby INFO    :   recalib_L1_phase_8 = 0.02364064367507932\n",
      "16:08 bilby INFO    :   recalib_L1_phase_9 = -0.002027753595167955\n",
      "16:08 bilby INFO    :   time_jitter = 6.515517343713782e-06\n",
      "16:08 bilby INFO    :   luminosity_distance = 100\n",
      "16:08 bilby INFO    :   geocent_time = 1126259462.408404\n",
      "16:08 bilby INFO    :   recalib_H1_frequency_0 = 19.999999999999996\n",
      "16:08 bilby INFO    :   recalib_H1_frequency_1 = 30.514434824844255\n",
      "16:08 bilby INFO    :   recalib_H1_frequency_2 = 46.55653663398341\n",
      "16:08 bilby INFO    :   recalib_H1_frequency_3 = 71.03232013940804\n",
      "16:08 bilby INFO    :   recalib_H1_frequency_4 = 108.37555516757195\n",
      "16:08 bilby INFO    :   recalib_H1_frequency_5 = 165.35094073835938\n",
      "16:08 bilby INFO    :   recalib_H1_frequency_6 = 252.27952521936786\n",
      "16:08 bilby INFO    :   recalib_H1_frequency_7 = 384.9083564974527\n",
      "16:08 bilby INFO    :   recalib_H1_frequency_8 = 587.2630478939719\n",
      "16:08 bilby INFO    :   recalib_H1_frequency_9 = 895.9999999999999\n",
      "16:08 bilby INFO    :   recalib_L1_frequency_0 = 19.999999999999996\n",
      "16:08 bilby INFO    :   recalib_L1_frequency_1 = 30.514434824844255\n",
      "16:08 bilby INFO    :   recalib_L1_frequency_2 = 46.55653663398341\n",
      "16:08 bilby INFO    :   recalib_L1_frequency_3 = 71.03232013940804\n",
      "16:08 bilby INFO    :   recalib_L1_frequency_4 = 108.37555516757195\n",
      "16:08 bilby INFO    :   recalib_L1_frequency_5 = 165.35094073835938\n",
      "16:08 bilby INFO    :   recalib_L1_frequency_6 = 252.27952521936786\n",
      "16:08 bilby INFO    :   recalib_L1_frequency_7 = 384.9083564974527\n",
      "16:08 bilby INFO    :   recalib_L1_frequency_8 = 587.2630478939719\n",
      "16:08 bilby INFO    :   recalib_L1_frequency_9 = 895.9999999999999\n",
      "16:08 bilby INFO    :   log_likelihood = 328.4324942070929\n",
      "16:08 bilby INFO    :   log_prior = 66.29957866305776\n",
      "16:08 bilby INFO    :   total_mass = 68.75498279849768\n",
      "16:08 bilby INFO    :   mass_1 = 36.79106674126104\n",
      "16:08 bilby INFO    :   mass_2 = 31.96391605723664\n",
      "16:08 bilby INFO    :   ra = 2.216116171456804\n",
      "16:08 bilby INFO    :   dec = -1.2259035208296045\n",
      "16:08 bilby INFO    :   symmetric_mass_ratio = 0.24876770874914655\n",
      "16:08 bilby INFO    :   spin_1x = 0.5904472619004925\n",
      "16:08 bilby INFO    :   spin_1y = -0.06957261443892127\n",
      "16:08 bilby INFO    :   spin_1z = -0.6225593536929314\n",
      "16:08 bilby INFO    :   spin_2x = 0.4751310354864326\n",
      "16:08 bilby INFO    :   spin_2y = -0.2735390509327497\n",
      "16:08 bilby INFO    :   spin_2z = 0.46596117794011116\n",
      "16:08 bilby INFO    :   phi_1 = 6.1658957660048594\n",
      "16:08 bilby INFO    :   phi_2 = 5.760815453468969\n",
      "16:08 bilby INFO    :   chi_eff = -0.11651051936092104\n",
      "16:08 bilby INFO    :   chi_1_in_plane = 0.5945320157616876\n",
      "16:08 bilby INFO    :   chi_2_in_plane = 0.5482454863175794\n",
      "16:08 bilby INFO    :   chi_p = 0.5945320157616876\n",
      "16:08 bilby INFO    :   cos_tilt_1 = -0.7231983991210473\n",
      "16:08 bilby INFO    :   cos_tilt_2 = 0.6476101046123928\n",
      "16:08 bilby INFO    :   comoving_distance = 460.07828764617136\n",
      "16:08 bilby INFO    :   H1_matched_filter_snr = 21.221089162046386\n",
      "16:08 bilby INFO    :   H1_optimal_snr = 19.957775833584304\n",
      "16:08 bilby INFO    :   L1_matched_filter_snr = 15.167442050430017\n",
      "16:08 bilby INFO    :   L1_optimal_snr = 13.072732183576488\n",
      "16:08 bilby INFO    :   H1_matched_filter_abs_snr = 21.320120947355953\n",
      "16:08 bilby INFO    :   H1_matched_filter_snr_angle = -0.09642190803027524\n",
      "16:08 bilby INFO    :   L1_matched_filter_abs_snr = 15.262798565714363\n",
      "16:08 bilby INFO    :   L1_matched_filter_snr_angle = -0.11184059441681089\n",
      "16:08 bilby INFO    :   redshift = 0.10685806108071728\n",
      "16:08 bilby INFO    :   inverted_mass_ratio = 1.1510187511248808\n",
      "16:08 bilby INFO    :   mass_1_source = 33.23919121602536\n",
      "16:08 bilby INFO    :   mass_2_source = 28.878062310923244\n",
      "16:08 bilby INFO    :   total_mass_source = 62.1172535269486\n",
      "16:08 bilby INFO    :   chirp_mass_source = 26.958060841344064\n",
      "16:08 bilby INFO    :   chi_p_2spin = 0.6991048646002762\n",
      "16:08 bilby INFO    :   beta = 0.2964834516665308\n",
      "16:08 bilby INFO    :   psi_J = 1.8454358595594362\n",
      "16:08 bilby INFO    :   final_spin = 0.6847123040726873\n",
      "16:08 bilby INFO    :   peak_luminosity = 3.4650910541734206\n",
      "16:08 bilby INFO    :   final_mass = 65.67190490679377\n",
      "16:08 bilby INFO    :   final_mass_source = 59.33182150082807\n",
      "16:08 bilby INFO    :   radiated_energy = 2.7854320261205316\n",
      "16:08 bilby INFO    :   H1_time = 1126259462.4241831\n",
      "16:08 bilby INFO    :   L1_time = 1126259462.417131\n",
      "16:08 bilby INFO    :   network_optimal_snr = 23.858104345633123\n",
      "16:08 bilby INFO    :   network_matched_filter_snr = 26.062659432941388\n",
      "16:08 bilby INFO    :   cos_theta_jn = -0.7957343530217185\n",
      "16:08 bilby INFO    :   viewing_angle = 0.6505771989131781\n",
      "16:08 bilby INFO    :   cos_iota = -0.7159420610982777\n",
      "16:08 bilby INFO    :   tilt_1_infinity_only_prec_avg = 1.9184456335196816\n",
      "16:08 bilby INFO    :   tilt_2_infinity_only_prec_avg = 1.4496492121062137\n",
      "16:08 bilby INFO    :   spin_1z_infinity_only_prec_avg = -0.29327903351648726\n",
      "16:08 bilby INFO    :   spin_2z_infinity_only_prec_avg = 0.08695335504061963\n",
      "16:08 bilby INFO    :   chi_eff_infinity_only_prec_avg = -0.11651051936092102\n",
      "16:08 bilby INFO    :   chi_p_infinity_only_prec_avg = 0.8093428662414038\n",
      "16:08 bilby INFO    :   cos_tilt_1_infinity_only_prec_avg = -0.3406886849852173\n",
      "16:08 bilby INFO    :   cos_tilt_2_infinity_only_prec_avg = 0.12085099364542307\n",
      "16:08 bilby INFO    : Injected signal in L1:\n",
      "16:08 bilby INFO    :   optimal SNR = 193.44\n",
      "16:08 bilby INFO    :   matched filter SNR = 194.93-0.08j\n",
      "16:08 bilby INFO    :   chirp_mass = 29.8387469533461\n",
      "16:08 bilby INFO    :   mass_ratio = 0.8687955769814424\n",
      "16:08 bilby INFO    :   a_1 = 0.8608417198511092\n",
      "16:08 bilby INFO    :   a_2 = 0.7195088134379835\n",
      "16:08 bilby INFO    :   tilt_1 = 2.3792185506368795\n",
      "16:08 bilby INFO    :   tilt_2 = 0.8663525482689185\n",
      "16:08 bilby INFO    :   phi_12 = 5.878104994643697\n",
      "16:08 bilby INFO    :   phi_jl = 0.25757481830607415\n",
      "16:08 bilby INFO    :   theta_jn = 1.5707963267948966\n",
      "16:08 bilby INFO    :   psi = 0.6912519348265866\n",
      "16:08 bilby INFO    :   phase = 4.000226339478637\n",
      "16:08 bilby INFO    :   azimuth = 2.590928400193608\n",
      "16:08 bilby INFO    :   zenith = 2.3522458754068447\n",
      "16:08 bilby INFO    :   recalib_H1_amplitude_0 = -0.005868249419321757\n",
      "16:08 bilby INFO    :   recalib_H1_amplitude_1 = -0.043783360917849956\n",
      "16:08 bilby INFO    :   recalib_H1_amplitude_2 = -0.04728295327822305\n",
      "16:08 bilby INFO    :   recalib_H1_amplitude_3 = 0.08222264173465693\n",
      "16:08 bilby INFO    :   recalib_H1_amplitude_4 = 0.011855669695012536\n",
      "16:08 bilby INFO    :   recalib_H1_amplitude_5 = -0.008990421387286167\n",
      "16:08 bilby INFO    :   recalib_H1_amplitude_6 = -0.020009159194152252\n",
      "16:08 bilby INFO    :   recalib_H1_amplitude_7 = 0.008484833525516596\n",
      "16:08 bilby INFO    :   recalib_H1_amplitude_8 = -0.018327160189299724\n",
      "16:08 bilby INFO    :   recalib_H1_amplitude_9 = -0.0023772652335948725\n",
      "16:08 bilby INFO    :   recalib_H1_phase_0 = -0.0006461526627345466\n",
      "16:08 bilby INFO    :   recalib_H1_phase_1 = 0.051177755324892465\n",
      "16:08 bilby INFO    :   recalib_H1_phase_2 = 0.01399307494477739\n",
      "16:08 bilby INFO    :   recalib_H1_phase_3 = 0.08416966330293393\n",
      "16:08 bilby INFO    :   recalib_H1_phase_4 = 0.047473946777130974\n",
      "16:08 bilby INFO    :   recalib_H1_phase_5 = 0.013916433512643673\n",
      "16:08 bilby INFO    :   recalib_H1_phase_6 = -0.02128658443550522\n",
      "16:08 bilby INFO    :   recalib_H1_phase_7 = 0.02296630800067761\n",
      "16:08 bilby INFO    :   recalib_H1_phase_8 = -0.037098045831878486\n",
      "16:08 bilby INFO    :   recalib_H1_phase_9 = -0.018967830067115908\n",
      "16:08 bilby INFO    :   recalib_L1_amplitude_0 = -0.036293801292262916\n",
      "16:08 bilby INFO    :   recalib_L1_amplitude_1 = 0.014361561207618069\n",
      "16:08 bilby INFO    :   recalib_L1_amplitude_2 = -0.08693301208957734\n",
      "16:08 bilby INFO    :   recalib_L1_amplitude_3 = 0.10143853088596673\n",
      "16:08 bilby INFO    :   recalib_L1_amplitude_4 = -0.0077889246361674885\n",
      "16:08 bilby INFO    :   recalib_L1_amplitude_5 = -0.025543820665279264\n",
      "16:08 bilby INFO    :   recalib_L1_amplitude_6 = -0.021247887291087522\n",
      "16:08 bilby INFO    :   recalib_L1_amplitude_7 = 0.013667834994950237\n",
      "16:08 bilby INFO    :   recalib_L1_amplitude_8 = 0.012377526160578984\n",
      "16:08 bilby INFO    :   recalib_L1_amplitude_9 = 0.021583525090134788\n",
      "16:08 bilby INFO    :   recalib_L1_phase_0 = -0.02268955770914274\n",
      "16:08 bilby INFO    :   recalib_L1_phase_1 = -0.027473420705276475\n",
      "16:08 bilby INFO    :   recalib_L1_phase_2 = -0.0943607841222296\n",
      "16:08 bilby INFO    :   recalib_L1_phase_3 = 0.029977319706674166\n",
      "16:08 bilby INFO    :   recalib_L1_phase_4 = 0.08523838545670002\n",
      "16:08 bilby INFO    :   recalib_L1_phase_5 = -0.056840952818595976\n",
      "16:08 bilby INFO    :   recalib_L1_phase_6 = -0.004019423152701047\n",
      "16:08 bilby INFO    :   recalib_L1_phase_7 = 0.03270580357083033\n",
      "16:08 bilby INFO    :   recalib_L1_phase_8 = 0.02364064367507932\n",
      "16:08 bilby INFO    :   recalib_L1_phase_9 = -0.002027753595167955\n",
      "16:08 bilby INFO    :   time_jitter = 6.515517343713782e-06\n",
      "16:08 bilby INFO    :   luminosity_distance = 100\n",
      "16:08 bilby INFO    :   geocent_time = 1126259462.408404\n",
      "16:08 bilby INFO    :   recalib_H1_frequency_0 = 19.999999999999996\n",
      "16:08 bilby INFO    :   recalib_H1_frequency_1 = 30.514434824844255\n",
      "16:08 bilby INFO    :   recalib_H1_frequency_2 = 46.55653663398341\n",
      "16:08 bilby INFO    :   recalib_H1_frequency_3 = 71.03232013940804\n",
      "16:08 bilby INFO    :   recalib_H1_frequency_4 = 108.37555516757195\n",
      "16:08 bilby INFO    :   recalib_H1_frequency_5 = 165.35094073835938\n",
      "16:08 bilby INFO    :   recalib_H1_frequency_6 = 252.27952521936786\n",
      "16:08 bilby INFO    :   recalib_H1_frequency_7 = 384.9083564974527\n",
      "16:08 bilby INFO    :   recalib_H1_frequency_8 = 587.2630478939719\n",
      "16:08 bilby INFO    :   recalib_H1_frequency_9 = 895.9999999999999\n",
      "16:08 bilby INFO    :   recalib_L1_frequency_0 = 19.999999999999996\n",
      "16:08 bilby INFO    :   recalib_L1_frequency_1 = 30.514434824844255\n",
      "16:08 bilby INFO    :   recalib_L1_frequency_2 = 46.55653663398341\n",
      "16:08 bilby INFO    :   recalib_L1_frequency_3 = 71.03232013940804\n",
      "16:08 bilby INFO    :   recalib_L1_frequency_4 = 108.37555516757195\n",
      "16:08 bilby INFO    :   recalib_L1_frequency_5 = 165.35094073835938\n",
      "16:08 bilby INFO    :   recalib_L1_frequency_6 = 252.27952521936786\n",
      "16:08 bilby INFO    :   recalib_L1_frequency_7 = 384.9083564974527\n",
      "16:08 bilby INFO    :   recalib_L1_frequency_8 = 587.2630478939719\n",
      "16:08 bilby INFO    :   recalib_L1_frequency_9 = 895.9999999999999\n",
      "16:08 bilby INFO    :   log_likelihood = 328.4324942070929\n",
      "16:08 bilby INFO    :   log_prior = 66.29957866305776\n",
      "16:08 bilby INFO    :   total_mass = 68.75498279849768\n",
      "16:08 bilby INFO    :   mass_1 = 36.79106674126104\n",
      "16:08 bilby INFO    :   mass_2 = 31.96391605723664\n",
      "16:08 bilby INFO    :   ra = 2.216116171456804\n",
      "16:08 bilby INFO    :   dec = -1.2259035208296045\n",
      "16:08 bilby INFO    :   symmetric_mass_ratio = 0.24876770874914655\n",
      "16:08 bilby INFO    :   spin_1x = 0.5904472619004925\n",
      "16:08 bilby INFO    :   spin_1y = -0.06957261443892127\n",
      "16:08 bilby INFO    :   spin_1z = -0.6225593536929314\n",
      "16:08 bilby INFO    :   spin_2x = 0.4751310354864326\n",
      "16:08 bilby INFO    :   spin_2y = -0.2735390509327497\n",
      "16:08 bilby INFO    :   spin_2z = 0.46596117794011116\n",
      "16:08 bilby INFO    :   phi_1 = 6.1658957660048594\n",
      "16:08 bilby INFO    :   phi_2 = 5.760815453468969\n",
      "16:08 bilby INFO    :   chi_eff = -0.11651051936092104\n",
      "16:08 bilby INFO    :   chi_1_in_plane = 0.5945320157616876\n",
      "16:08 bilby INFO    :   chi_2_in_plane = 0.5482454863175794\n",
      "16:08 bilby INFO    :   chi_p = 0.5945320157616876\n",
      "16:08 bilby INFO    :   cos_tilt_1 = -0.7231983991210473\n",
      "16:08 bilby INFO    :   cos_tilt_2 = 0.6476101046123928\n",
      "16:08 bilby INFO    :   comoving_distance = 460.07828764617136\n",
      "16:08 bilby INFO    :   H1_matched_filter_snr = 21.221089162046386\n",
      "16:08 bilby INFO    :   H1_optimal_snr = 19.957775833584304\n",
      "16:08 bilby INFO    :   L1_matched_filter_snr = 15.167442050430017\n",
      "16:08 bilby INFO    :   L1_optimal_snr = 13.072732183576488\n",
      "16:08 bilby INFO    :   H1_matched_filter_abs_snr = 21.320120947355953\n",
      "16:08 bilby INFO    :   H1_matched_filter_snr_angle = -0.09642190803027524\n",
      "16:08 bilby INFO    :   L1_matched_filter_abs_snr = 15.262798565714363\n",
      "16:08 bilby INFO    :   L1_matched_filter_snr_angle = -0.11184059441681089\n",
      "16:08 bilby INFO    :   redshift = 0.10685806108071728\n",
      "16:08 bilby INFO    :   inverted_mass_ratio = 1.1510187511248808\n",
      "16:08 bilby INFO    :   mass_1_source = 33.23919121602536\n",
      "16:08 bilby INFO    :   mass_2_source = 28.878062310923244\n",
      "16:08 bilby INFO    :   total_mass_source = 62.1172535269486\n",
      "16:08 bilby INFO    :   chirp_mass_source = 26.958060841344064\n",
      "16:08 bilby INFO    :   chi_p_2spin = 0.6991048646002762\n",
      "16:08 bilby INFO    :   beta = 0.2964834516665308\n",
      "16:08 bilby INFO    :   psi_J = 1.8454358595594362\n",
      "16:08 bilby INFO    :   final_spin = 0.6847123040726873\n",
      "16:08 bilby INFO    :   peak_luminosity = 3.4650910541734206\n",
      "16:08 bilby INFO    :   final_mass = 65.67190490679377\n",
      "16:08 bilby INFO    :   final_mass_source = 59.33182150082807\n",
      "16:08 bilby INFO    :   radiated_energy = 2.7854320261205316\n",
      "16:08 bilby INFO    :   H1_time = 1126259462.4241831\n",
      "16:08 bilby INFO    :   L1_time = 1126259462.417131\n",
      "16:08 bilby INFO    :   network_optimal_snr = 23.858104345633123\n",
      "16:08 bilby INFO    :   network_matched_filter_snr = 26.062659432941388\n",
      "16:08 bilby INFO    :   cos_theta_jn = -0.7957343530217185\n",
      "16:08 bilby INFO    :   viewing_angle = 0.6505771989131781\n",
      "16:08 bilby INFO    :   cos_iota = -0.7159420610982777\n",
      "16:08 bilby INFO    :   tilt_1_infinity_only_prec_avg = 1.9184456335196816\n",
      "16:08 bilby INFO    :   tilt_2_infinity_only_prec_avg = 1.4496492121062137\n",
      "16:08 bilby INFO    :   spin_1z_infinity_only_prec_avg = -0.29327903351648726\n",
      "16:08 bilby INFO    :   spin_2z_infinity_only_prec_avg = 0.08695335504061963\n",
      "16:08 bilby INFO    :   chi_eff_infinity_only_prec_avg = -0.11651051936092102\n",
      "16:08 bilby INFO    :   chi_p_infinity_only_prec_avg = 0.8093428662414038\n",
      "16:08 bilby INFO    :   cos_tilt_1_infinity_only_prec_avg = -0.3406886849852173\n",
      "16:08 bilby INFO    :   cos_tilt_2_infinity_only_prec_avg = 0.12085099364542307\n",
      "16:08 bilby INFO    : Waveform generator initiated with\n",
      "  frequency_domain_source_model: waveforms.mem_freq_XPHM\n",
      "  time_domain_source_model: None\n",
      "  parameter_conversion: bilby.gw.conversion.convert_to_lal_binary_black_hole_parameters\n",
      "16:08 bilby INFO    : Waveform generator initiated with\n",
      "  frequency_domain_source_model: waveforms.mem_freq_XPHM\n",
      "  time_domain_source_model: None\n",
      "  parameter_conversion: bilby.gw.conversion.convert_to_lal_binary_black_hole_parameters\n"
     ]
    },
    {
     "name": "stdout",
     "output_type": "stream",
     "text": [
      "52311.62999229242\n"
     ]
    },
    {
     "name": "stderr",
     "output_type": "stream",
     "text": [
      "16:08 bilby INFO    : Waveform generator initiated with\n",
      "  frequency_domain_source_model: waveforms.mem_freq_XPHM\n",
      "  time_domain_source_model: None\n",
      "  parameter_conversion: bilby.gw.conversion.convert_to_lal_binary_black_hole_parameters\n"
     ]
    },
    {
     "name": "stdout",
     "output_type": "stream",
     "text": [
      "52311.64613354698\n"
     ]
    },
    {
     "name": "stderr",
     "output_type": "stream",
     "text": [
      "16:08 bilby INFO    : Waveform generator initiated with\n",
      "  frequency_domain_source_model: waveforms.mem_freq_XPHM\n",
      "  time_domain_source_model: None\n",
      "  parameter_conversion: bilby.gw.conversion.convert_to_lal_binary_black_hole_parameters\n"
     ]
    },
    {
     "name": "stdout",
     "output_type": "stream",
     "text": [
      "52311.653164991876\n"
     ]
    },
    {
     "name": "stderr",
     "output_type": "stream",
     "text": [
      "16:08 bilby INFO    : Waveform generator initiated with\n",
      "  frequency_domain_source_model: waveforms.mem_freq_XPHM\n",
      "  time_domain_source_model: None\n",
      "  parameter_conversion: bilby.gw.conversion.convert_to_lal_binary_black_hole_parameters\n"
     ]
    },
    {
     "name": "stdout",
     "output_type": "stream",
     "text": [
      "52311.651086627106\n"
     ]
    },
    {
     "name": "stderr",
     "output_type": "stream",
     "text": [
      "16:08 bilby INFO    : Waveform generator initiated with\n",
      "  frequency_domain_source_model: waveforms.mem_freq_XPHM\n",
      "  time_domain_source_model: None\n",
      "  parameter_conversion: bilby.gw.conversion.convert_to_lal_binary_black_hole_parameters\n"
     ]
    },
    {
     "name": "stdout",
     "output_type": "stream",
     "text": [
      "52311.639898452624\n"
     ]
    },
    {
     "name": "stderr",
     "output_type": "stream",
     "text": [
      "16:08 bilby INFO    : Waveform generator initiated with\n",
      "  frequency_domain_source_model: waveforms.mem_freq_XPHM\n",
      "  time_domain_source_model: None\n",
      "  parameter_conversion: bilby.gw.conversion.convert_to_lal_binary_black_hole_parameters\n"
     ]
    },
    {
     "name": "stdout",
     "output_type": "stream",
     "text": [
      "52311.61960046847\n"
     ]
    },
    {
     "name": "stderr",
     "output_type": "stream",
     "text": [
      "16:08 bilby INFO    : Waveform generator initiated with\n",
      "  frequency_domain_source_model: waveforms.mem_freq_XPHM\n",
      "  time_domain_source_model: None\n",
      "  parameter_conversion: bilby.gw.conversion.convert_to_lal_binary_black_hole_parameters\n"
     ]
    },
    {
     "name": "stdout",
     "output_type": "stream",
     "text": [
      "52311.590192674616\n"
     ]
    },
    {
     "name": "stderr",
     "output_type": "stream",
     "text": [
      "16:08 bilby INFO    : Waveform generator initiated with\n",
      "  frequency_domain_source_model: waveforms.mem_freq_XPHM\n",
      "  time_domain_source_model: None\n",
      "  parameter_conversion: bilby.gw.conversion.convert_to_lal_binary_black_hole_parameters\n"
     ]
    },
    {
     "name": "stdout",
     "output_type": "stream",
     "text": [
      "52311.55167507111\n"
     ]
    },
    {
     "name": "stderr",
     "output_type": "stream",
     "text": [
      "16:08 bilby INFO    : Waveform generator initiated with\n",
      "  frequency_domain_source_model: waveforms.mem_freq_XPHM\n",
      "  time_domain_source_model: None\n",
      "  parameter_conversion: bilby.gw.conversion.convert_to_lal_binary_black_hole_parameters\n"
     ]
    },
    {
     "name": "stdout",
     "output_type": "stream",
     "text": [
      "52311.504047657916\n"
     ]
    },
    {
     "name": "stderr",
     "output_type": "stream",
     "text": [
      "16:08 bilby INFO    : Waveform generator initiated with\n",
      "  frequency_domain_source_model: waveforms.mem_freq_XPHM\n",
      "  time_domain_source_model: None\n",
      "  parameter_conversion: bilby.gw.conversion.convert_to_lal_binary_black_hole_parameters\n"
     ]
    },
    {
     "name": "stdout",
     "output_type": "stream",
     "text": [
      "52311.447310435025\n"
     ]
    },
    {
     "name": "stderr",
     "output_type": "stream",
     "text": [
      "16:08 bilby INFO    : Waveform generator initiated with\n",
      "  frequency_domain_source_model: waveforms.mem_freq_XPHM\n",
      "  time_domain_source_model: None\n",
      "  parameter_conversion: bilby.gw.conversion.convert_to_lal_binary_black_hole_parameters\n"
     ]
    },
    {
     "name": "stdout",
     "output_type": "stream",
     "text": [
      "52311.381463402475\n"
     ]
    },
    {
     "name": "stderr",
     "output_type": "stream",
     "text": [
      "16:08 bilby INFO    : Waveform generator initiated with\n",
      "  frequency_domain_source_model: waveforms.mem_freq_XPHM\n",
      "  time_domain_source_model: None\n",
      "  parameter_conversion: bilby.gw.conversion.convert_to_lal_binary_black_hole_parameters\n"
     ]
    },
    {
     "name": "stdout",
     "output_type": "stream",
     "text": [
      "52311.30650656026\n"
     ]
    },
    {
     "name": "stderr",
     "output_type": "stream",
     "text": [
      "16:08 bilby INFO    : Waveform generator initiated with\n",
      "  frequency_domain_source_model: waveforms.mem_freq_XPHM\n",
      "  time_domain_source_model: None\n",
      "  parameter_conversion: bilby.gw.conversion.convert_to_lal_binary_black_hole_parameters\n"
     ]
    },
    {
     "name": "stdout",
     "output_type": "stream",
     "text": [
      "52311.222439908306\n"
     ]
    },
    {
     "name": "stderr",
     "output_type": "stream",
     "text": [
      "16:08 bilby INFO    : Waveform generator initiated with\n",
      "  frequency_domain_source_model: waveforms.mem_freq_XPHM\n",
      "  time_domain_source_model: None\n",
      "  parameter_conversion: bilby.gw.conversion.convert_to_lal_binary_black_hole_parameters\n"
     ]
    },
    {
     "name": "stdout",
     "output_type": "stream",
     "text": [
      "52311.129263446725\n"
     ]
    },
    {
     "name": "stderr",
     "output_type": "stream",
     "text": [
      "16:08 bilby INFO    : Waveform generator initiated with\n",
      "  frequency_domain_source_model: waveforms.mem_freq_XPHM\n",
      "  time_domain_source_model: None\n",
      "  parameter_conversion: bilby.gw.conversion.convert_to_lal_binary_black_hole_parameters\n"
     ]
    },
    {
     "name": "stdout",
     "output_type": "stream",
     "text": [
      "52311.02697717541\n"
     ]
    },
    {
     "name": "stderr",
     "output_type": "stream",
     "text": [
      "16:08 bilby INFO    : Waveform generator initiated with\n",
      "  frequency_domain_source_model: waveforms.mem_freq_XPHM\n",
      "  time_domain_source_model: None\n",
      "  parameter_conversion: bilby.gw.conversion.convert_to_lal_binary_black_hole_parameters\n"
     ]
    },
    {
     "name": "stdout",
     "output_type": "stream",
     "text": [
      "52310.91558109445\n"
     ]
    },
    {
     "name": "stderr",
     "output_type": "stream",
     "text": [
      "16:08 bilby INFO    : Waveform generator initiated with\n",
      "  frequency_domain_source_model: waveforms.mem_freq_XPHM\n",
      "  time_domain_source_model: None\n",
      "  parameter_conversion: bilby.gw.conversion.convert_to_lal_binary_black_hole_parameters\n"
     ]
    },
    {
     "name": "stdout",
     "output_type": "stream",
     "text": [
      "52310.79507520379\n"
     ]
    },
    {
     "name": "stderr",
     "output_type": "stream",
     "text": [
      "16:08 bilby INFO    : Waveform generator initiated with\n",
      "  frequency_domain_source_model: waveforms.mem_freq_XPHM\n",
      "  time_domain_source_model: None\n",
      "  parameter_conversion: bilby.gw.conversion.convert_to_lal_binary_black_hole_parameters\n"
     ]
    },
    {
     "name": "stdout",
     "output_type": "stream",
     "text": [
      "52310.665459503485\n"
     ]
    },
    {
     "name": "stderr",
     "output_type": "stream",
     "text": [
      "16:08 bilby INFO    : Waveform generator initiated with\n",
      "  frequency_domain_source_model: waveforms.mem_freq_XPHM\n",
      "  time_domain_source_model: None\n",
      "  parameter_conversion: bilby.gw.conversion.convert_to_lal_binary_black_hole_parameters\n"
     ]
    },
    {
     "name": "stdout",
     "output_type": "stream",
     "text": [
      "52310.526733993465\n"
     ]
    },
    {
     "name": "stderr",
     "output_type": "stream",
     "text": [
      "16:08 bilby INFO    : Waveform generator initiated with\n",
      "  frequency_domain_source_model: waveforms.mem_freq_XPHM\n",
      "  time_domain_source_model: None\n",
      "  parameter_conversion: bilby.gw.conversion.convert_to_lal_binary_black_hole_parameters\n"
     ]
    },
    {
     "name": "stdout",
     "output_type": "stream",
     "text": [
      "52310.37889867378\n"
     ]
    },
    {
     "name": "stderr",
     "output_type": "stream",
     "text": [
      "16:08 bilby INFO    : Waveform generator initiated with\n",
      "  frequency_domain_source_model: waveforms.mem_freq_XPHM\n",
      "  time_domain_source_model: None\n",
      "  parameter_conversion: bilby.gw.conversion.convert_to_lal_binary_black_hole_parameters\n"
     ]
    },
    {
     "name": "stdout",
     "output_type": "stream",
     "text": [
      "52310.22195354443\n"
     ]
    },
    {
     "name": "stderr",
     "output_type": "stream",
     "text": [
      "16:08 bilby INFO    : Waveform generator initiated with\n",
      "  frequency_domain_source_model: waveforms.mem_freq_XPHM\n",
      "  time_domain_source_model: None\n",
      "  parameter_conversion: bilby.gw.conversion.convert_to_lal_binary_black_hole_parameters\n"
     ]
    },
    {
     "name": "stdout",
     "output_type": "stream",
     "text": [
      "52310.05589860536\n"
     ]
    },
    {
     "name": "stderr",
     "output_type": "stream",
     "text": [
      "16:09 bilby INFO    : Waveform generator initiated with\n",
      "  frequency_domain_source_model: waveforms.mem_freq_XPHM\n",
      "  time_domain_source_model: None\n",
      "  parameter_conversion: bilby.gw.conversion.convert_to_lal_binary_black_hole_parameters\n"
     ]
    },
    {
     "name": "stdout",
     "output_type": "stream",
     "text": [
      "52309.880733856626\n"
     ]
    },
    {
     "name": "stderr",
     "output_type": "stream",
     "text": [
      "16:09 bilby INFO    : Waveform generator initiated with\n",
      "  frequency_domain_source_model: waveforms.mem_freq_XPHM\n",
      "  time_domain_source_model: None\n",
      "  parameter_conversion: bilby.gw.conversion.convert_to_lal_binary_black_hole_parameters\n"
     ]
    },
    {
     "name": "stdout",
     "output_type": "stream",
     "text": [
      "52309.696459298204\n"
     ]
    },
    {
     "name": "stderr",
     "output_type": "stream",
     "text": [
      "16:09 bilby INFO    : Waveform generator initiated with\n",
      "  frequency_domain_source_model: waveforms.mem_freq_XPHM\n",
      "  time_domain_source_model: None\n",
      "  parameter_conversion: bilby.gw.conversion.convert_to_lal_binary_black_hole_parameters\n"
     ]
    },
    {
     "name": "stdout",
     "output_type": "stream",
     "text": [
      "52309.50307493011\n"
     ]
    },
    {
     "name": "stderr",
     "output_type": "stream",
     "text": [
      "16:09 bilby INFO    : Waveform generator initiated with\n",
      "  frequency_domain_source_model: waveforms.mem_freq_XPHM\n",
      "  time_domain_source_model: None\n",
      "  parameter_conversion: bilby.gw.conversion.convert_to_lal_binary_black_hole_parameters\n"
     ]
    },
    {
     "name": "stdout",
     "output_type": "stream",
     "text": [
      "52309.30058075236\n"
     ]
    },
    {
     "name": "stderr",
     "output_type": "stream",
     "text": [
      "16:09 bilby INFO    : Waveform generator initiated with\n",
      "  frequency_domain_source_model: waveforms.mem_freq_XPHM\n",
      "  time_domain_source_model: None\n",
      "  parameter_conversion: bilby.gw.conversion.convert_to_lal_binary_black_hole_parameters\n"
     ]
    },
    {
     "name": "stdout",
     "output_type": "stream",
     "text": [
      "52309.08897676489\n"
     ]
    },
    {
     "name": "stderr",
     "output_type": "stream",
     "text": [
      "16:09 bilby INFO    : Waveform generator initiated with\n",
      "  frequency_domain_source_model: waveforms.mem_freq_XPHM\n",
      "  time_domain_source_model: None\n",
      "  parameter_conversion: bilby.gw.conversion.convert_to_lal_binary_black_hole_parameters\n"
     ]
    },
    {
     "name": "stdout",
     "output_type": "stream",
     "text": [
      "52308.86826296775\n"
     ]
    },
    {
     "name": "stderr",
     "output_type": "stream",
     "text": [
      "16:09 bilby INFO    : Waveform generator initiated with\n",
      "  frequency_domain_source_model: waveforms.mem_freq_XPHM\n",
      "  time_domain_source_model: None\n",
      "  parameter_conversion: bilby.gw.conversion.convert_to_lal_binary_black_hole_parameters\n"
     ]
    },
    {
     "name": "stdout",
     "output_type": "stream",
     "text": [
      "52308.63843936093\n"
     ]
    },
    {
     "name": "stderr",
     "output_type": "stream",
     "text": [
      "16:09 bilby INFO    : Waveform generator initiated with\n",
      "  frequency_domain_source_model: waveforms.mem_freq_XPHM\n",
      "  time_domain_source_model: None\n",
      "  parameter_conversion: bilby.gw.conversion.convert_to_lal_binary_black_hole_parameters\n"
     ]
    },
    {
     "name": "stdout",
     "output_type": "stream",
     "text": [
      "52308.39950594443\n"
     ]
    },
    {
     "name": "stderr",
     "output_type": "stream",
     "text": [
      "16:09 bilby INFO    : Waveform generator initiated with\n",
      "  frequency_domain_source_model: waveforms.mem_freq_XPHM\n",
      "  time_domain_source_model: None\n",
      "  parameter_conversion: bilby.gw.conversion.convert_to_lal_binary_black_hole_parameters\n"
     ]
    },
    {
     "name": "stdout",
     "output_type": "stream",
     "text": [
      "52308.15146271822\n"
     ]
    },
    {
     "name": "stderr",
     "output_type": "stream",
     "text": [
      "16:09 bilby INFO    : Waveform generator initiated with\n",
      "  frequency_domain_source_model: waveforms.mem_freq_XPHM\n",
      "  time_domain_source_model: None\n",
      "  parameter_conversion: bilby.gw.conversion.convert_to_lal_binary_black_hole_parameters\n"
     ]
    },
    {
     "name": "stdout",
     "output_type": "stream",
     "text": [
      "52307.89430968235\n"
     ]
    },
    {
     "name": "stderr",
     "output_type": "stream",
     "text": [
      "16:09 bilby INFO    : Waveform generator initiated with\n",
      "  frequency_domain_source_model: waveforms.mem_freq_XPHM\n",
      "  time_domain_source_model: None\n",
      "  parameter_conversion: bilby.gw.conversion.convert_to_lal_binary_black_hole_parameters\n"
     ]
    },
    {
     "name": "stdout",
     "output_type": "stream",
     "text": [
      "52307.628046836806\n"
     ]
    },
    {
     "name": "stderr",
     "output_type": "stream",
     "text": [
      "16:09 bilby INFO    : Waveform generator initiated with\n",
      "  frequency_domain_source_model: waveforms.mem_freq_XPHM\n",
      "  time_domain_source_model: None\n",
      "  parameter_conversion: bilby.gw.conversion.convert_to_lal_binary_black_hole_parameters\n"
     ]
    },
    {
     "name": "stdout",
     "output_type": "stream",
     "text": [
      "52307.3526741816\n"
     ]
    },
    {
     "name": "stderr",
     "output_type": "stream",
     "text": [
      "16:09 bilby INFO    : Waveform generator initiated with\n",
      "  frequency_domain_source_model: waveforms.mem_freq_XPHM\n",
      "  time_domain_source_model: None\n",
      "  parameter_conversion: bilby.gw.conversion.convert_to_lal_binary_black_hole_parameters\n"
     ]
    },
    {
     "name": "stdout",
     "output_type": "stream",
     "text": [
      "52307.068191716695\n"
     ]
    },
    {
     "name": "stderr",
     "output_type": "stream",
     "text": [
      "16:09 bilby INFO    : Waveform generator initiated with\n",
      "  frequency_domain_source_model: waveforms.mem_freq_XPHM\n",
      "  time_domain_source_model: None\n",
      "  parameter_conversion: bilby.gw.conversion.convert_to_lal_binary_black_hole_parameters\n"
     ]
    },
    {
     "name": "stdout",
     "output_type": "stream",
     "text": [
      "52306.7745994421\n"
     ]
    },
    {
     "name": "stderr",
     "output_type": "stream",
     "text": [
      "16:09 bilby INFO    : Waveform generator initiated with\n",
      "  frequency_domain_source_model: waveforms.mem_freq_XPHM\n",
      "  time_domain_source_model: None\n",
      "  parameter_conversion: bilby.gw.conversion.convert_to_lal_binary_black_hole_parameters\n"
     ]
    },
    {
     "name": "stdout",
     "output_type": "stream",
     "text": [
      "52306.47189735782\n"
     ]
    },
    {
     "name": "stderr",
     "output_type": "stream",
     "text": [
      "16:09 bilby INFO    : Waveform generator initiated with\n",
      "  frequency_domain_source_model: waveforms.mem_freq_XPHM\n",
      "  time_domain_source_model: None\n",
      "  parameter_conversion: bilby.gw.conversion.convert_to_lal_binary_black_hole_parameters\n"
     ]
    },
    {
     "name": "stdout",
     "output_type": "stream",
     "text": [
      "52306.16008546388\n"
     ]
    },
    {
     "name": "stderr",
     "output_type": "stream",
     "text": [
      "16:09 bilby INFO    : Waveform generator initiated with\n",
      "  frequency_domain_source_model: waveforms.mem_freq_XPHM\n",
      "  time_domain_source_model: None\n",
      "  parameter_conversion: bilby.gw.conversion.convert_to_lal_binary_black_hole_parameters\n"
     ]
    },
    {
     "name": "stdout",
     "output_type": "stream",
     "text": [
      "52305.83916376025\n"
     ]
    },
    {
     "name": "stderr",
     "output_type": "stream",
     "text": [
      "16:09 bilby INFO    : Waveform generator initiated with\n",
      "  frequency_domain_source_model: waveforms.mem_freq_XPHM\n",
      "  time_domain_source_model: None\n",
      "  parameter_conversion: bilby.gw.conversion.convert_to_lal_binary_black_hole_parameters\n"
     ]
    },
    {
     "name": "stdout",
     "output_type": "stream",
     "text": [
      "52305.50913224694\n"
     ]
    },
    {
     "name": "stderr",
     "output_type": "stream",
     "text": [
      "16:09 bilby INFO    : Waveform generator initiated with\n",
      "  frequency_domain_source_model: waveforms.mem_freq_XPHM\n",
      "  time_domain_source_model: None\n",
      "  parameter_conversion: bilby.gw.conversion.convert_to_lal_binary_black_hole_parameters\n"
     ]
    },
    {
     "name": "stdout",
     "output_type": "stream",
     "text": [
      "52305.16999092394\n"
     ]
    },
    {
     "name": "stderr",
     "output_type": "stream",
     "text": [
      "16:09 bilby INFO    : Waveform generator initiated with\n",
      "  frequency_domain_source_model: waveforms.mem_freq_XPHM\n",
      "  time_domain_source_model: None\n",
      "  parameter_conversion: bilby.gw.conversion.convert_to_lal_binary_black_hole_parameters\n"
     ]
    },
    {
     "name": "stdout",
     "output_type": "stream",
     "text": [
      "52304.82173979125\n"
     ]
    },
    {
     "name": "stderr",
     "output_type": "stream",
     "text": [
      "16:09 bilby INFO    : Waveform generator initiated with\n",
      "  frequency_domain_source_model: waveforms.mem_freq_XPHM\n",
      "  time_domain_source_model: None\n",
      "  parameter_conversion: bilby.gw.conversion.convert_to_lal_binary_black_hole_parameters\n"
     ]
    },
    {
     "name": "stdout",
     "output_type": "stream",
     "text": [
      "52304.46437884892\n"
     ]
    },
    {
     "name": "stderr",
     "output_type": "stream",
     "text": [
      "16:09 bilby INFO    : Waveform generator initiated with\n",
      "  frequency_domain_source_model: waveforms.mem_freq_XPHM\n",
      "  time_domain_source_model: None\n",
      "  parameter_conversion: bilby.gw.conversion.convert_to_lal_binary_black_hole_parameters\n"
     ]
    },
    {
     "name": "stdout",
     "output_type": "stream",
     "text": [
      "52304.097908096875\n"
     ]
    },
    {
     "name": "stderr",
     "output_type": "stream",
     "text": [
      "16:09 bilby INFO    : Waveform generator initiated with\n",
      "  frequency_domain_source_model: waveforms.mem_freq_XPHM\n",
      "  time_domain_source_model: None\n",
      "  parameter_conversion: bilby.gw.conversion.convert_to_lal_binary_black_hole_parameters\n"
     ]
    },
    {
     "name": "stdout",
     "output_type": "stream",
     "text": [
      "52303.72232753514\n"
     ]
    },
    {
     "name": "stderr",
     "output_type": "stream",
     "text": [
      "16:09 bilby INFO    : Waveform generator initiated with\n",
      "  frequency_domain_source_model: waveforms.mem_freq_XPHM\n",
      "  time_domain_source_model: None\n",
      "  parameter_conversion: bilby.gw.conversion.convert_to_lal_binary_black_hole_parameters\n"
     ]
    },
    {
     "name": "stdout",
     "output_type": "stream",
     "text": [
      "52303.33763716374\n"
     ]
    },
    {
     "name": "stderr",
     "output_type": "stream",
     "text": [
      "16:09 bilby INFO    : Waveform generator initiated with\n",
      "  frequency_domain_source_model: waveforms.mem_freq_XPHM\n",
      "  time_domain_source_model: None\n",
      "  parameter_conversion: bilby.gw.conversion.convert_to_lal_binary_black_hole_parameters\n"
     ]
    },
    {
     "name": "stdout",
     "output_type": "stream",
     "text": [
      "52302.94383698266\n"
     ]
    },
    {
     "name": "stderr",
     "output_type": "stream",
     "text": [
      "16:09 bilby INFO    : Waveform generator initiated with\n",
      "  frequency_domain_source_model: waveforms.mem_freq_XPHM\n",
      "  time_domain_source_model: None\n",
      "  parameter_conversion: bilby.gw.conversion.convert_to_lal_binary_black_hole_parameters\n"
     ]
    },
    {
     "name": "stdout",
     "output_type": "stream",
     "text": [
      "52302.540926991875\n"
     ]
    },
    {
     "name": "stderr",
     "output_type": "stream",
     "text": [
      "16:09 bilby INFO    : Waveform generator initiated with\n",
      "  frequency_domain_source_model: waveforms.mem_freq_XPHM\n",
      "  time_domain_source_model: None\n",
      "  parameter_conversion: bilby.gw.conversion.convert_to_lal_binary_black_hole_parameters\n"
     ]
    },
    {
     "name": "stdout",
     "output_type": "stream",
     "text": [
      "52302.12890719143\n"
     ]
    },
    {
     "name": "stderr",
     "output_type": "stream",
     "text": [
      "16:09 bilby INFO    : Waveform generator initiated with\n",
      "  frequency_domain_source_model: waveforms.mem_freq_XPHM\n",
      "  time_domain_source_model: None\n",
      "  parameter_conversion: bilby.gw.conversion.convert_to_lal_binary_black_hole_parameters\n"
     ]
    },
    {
     "name": "stdout",
     "output_type": "stream",
     "text": [
      "52301.70777758134\n"
     ]
    },
    {
     "name": "stderr",
     "output_type": "stream",
     "text": [
      "16:09 bilby INFO    : Waveform generator initiated with\n",
      "  frequency_domain_source_model: waveforms.mem_freq_XPHM\n",
      "  time_domain_source_model: None\n",
      "  parameter_conversion: bilby.gw.conversion.convert_to_lal_binary_black_hole_parameters\n"
     ]
    },
    {
     "name": "stdout",
     "output_type": "stream",
     "text": [
      "52301.27753816152\n"
     ]
    },
    {
     "name": "stderr",
     "output_type": "stream",
     "text": [
      "16:09 bilby INFO    : Waveform generator initiated with\n",
      "  frequency_domain_source_model: waveforms.mem_freq_XPHM\n",
      "  time_domain_source_model: None\n",
      "  parameter_conversion: bilby.gw.conversion.convert_to_lal_binary_black_hole_parameters\n"
     ]
    },
    {
     "name": "stdout",
     "output_type": "stream",
     "text": [
      "52300.83818893202\n"
     ]
    },
    {
     "name": "stderr",
     "output_type": "stream",
     "text": [
      "16:09 bilby INFO    : Waveform generator initiated with\n",
      "  frequency_domain_source_model: waveforms.mem_freq_XPHM\n",
      "  time_domain_source_model: None\n",
      "  parameter_conversion: bilby.gw.conversion.convert_to_lal_binary_black_hole_parameters\n"
     ]
    },
    {
     "name": "stdout",
     "output_type": "stream",
     "text": [
      "52300.38972989285\n"
     ]
    },
    {
     "name": "stderr",
     "output_type": "stream",
     "text": [
      "16:09 bilby INFO    : Waveform generator initiated with\n",
      "  frequency_domain_source_model: waveforms.mem_freq_XPHM\n",
      "  time_domain_source_model: None\n",
      "  parameter_conversion: bilby.gw.conversion.convert_to_lal_binary_black_hole_parameters\n"
     ]
    },
    {
     "name": "stdout",
     "output_type": "stream",
     "text": [
      "52299.932161043995\n"
     ]
    },
    {
     "name": "stderr",
     "output_type": "stream",
     "text": [
      "16:09 bilby INFO    : Waveform generator initiated with\n",
      "  frequency_domain_source_model: waveforms.mem_freq_XPHM\n",
      "  time_domain_source_model: None\n",
      "  parameter_conversion: bilby.gw.conversion.convert_to_lal_binary_black_hole_parameters\n"
     ]
    },
    {
     "name": "stdout",
     "output_type": "stream",
     "text": [
      "52299.465482385465\n"
     ]
    },
    {
     "name": "stderr",
     "output_type": "stream",
     "text": [
      "16:09 bilby INFO    : Waveform generator initiated with\n",
      "  frequency_domain_source_model: waveforms.mem_freq_XPHM\n",
      "  time_domain_source_model: None\n",
      "  parameter_conversion: bilby.gw.conversion.convert_to_lal_binary_black_hole_parameters\n"
     ]
    },
    {
     "name": "stdout",
     "output_type": "stream",
     "text": [
      "52298.98969391726\n"
     ]
    },
    {
     "name": "stderr",
     "output_type": "stream",
     "text": [
      "16:09 bilby INFO    : Waveform generator initiated with\n",
      "  frequency_domain_source_model: waveforms.mem_freq_XPHM\n",
      "  time_domain_source_model: None\n",
      "  parameter_conversion: bilby.gw.conversion.convert_to_lal_binary_black_hole_parameters\n"
     ]
    },
    {
     "name": "stdout",
     "output_type": "stream",
     "text": [
      "52298.50479563937\n"
     ]
    },
    {
     "name": "stderr",
     "output_type": "stream",
     "text": [
      "16:09 bilby INFO    : Waveform generator initiated with\n",
      "  frequency_domain_source_model: waveforms.mem_freq_XPHM\n",
      "  time_domain_source_model: None\n",
      "  parameter_conversion: bilby.gw.conversion.convert_to_lal_binary_black_hole_parameters\n"
     ]
    },
    {
     "name": "stdout",
     "output_type": "stream",
     "text": [
      "52298.01078755182\n"
     ]
    },
    {
     "name": "stderr",
     "output_type": "stream",
     "text": [
      "16:09 bilby INFO    : Waveform generator initiated with\n",
      "  frequency_domain_source_model: waveforms.mem_freq_XPHM\n",
      "  time_domain_source_model: None\n",
      "  parameter_conversion: bilby.gw.conversion.convert_to_lal_binary_black_hole_parameters\n"
     ]
    },
    {
     "name": "stdout",
     "output_type": "stream",
     "text": [
      "52297.50766965452\n"
     ]
    },
    {
     "name": "stderr",
     "output_type": "stream",
     "text": [
      "16:09 bilby INFO    : Waveform generator initiated with\n",
      "  frequency_domain_source_model: waveforms.mem_freq_XPHM\n",
      "  time_domain_source_model: None\n",
      "  parameter_conversion: bilby.gw.conversion.convert_to_lal_binary_black_hole_parameters\n"
     ]
    },
    {
     "name": "stdout",
     "output_type": "stream",
     "text": [
      "52296.9954419476\n"
     ]
    },
    {
     "name": "stderr",
     "output_type": "stream",
     "text": [
      "16:09 bilby INFO    : Waveform generator initiated with\n",
      "  frequency_domain_source_model: waveforms.mem_freq_XPHM\n",
      "  time_domain_source_model: None\n",
      "  parameter_conversion: bilby.gw.conversion.convert_to_lal_binary_black_hole_parameters\n"
     ]
    },
    {
     "name": "stdout",
     "output_type": "stream",
     "text": [
      "52296.47410443099\n"
     ]
    },
    {
     "name": "stderr",
     "output_type": "stream",
     "text": [
      "16:09 bilby INFO    : Waveform generator initiated with\n",
      "  frequency_domain_source_model: waveforms.mem_freq_XPHM\n",
      "  time_domain_source_model: None\n",
      "  parameter_conversion: bilby.gw.conversion.convert_to_lal_binary_black_hole_parameters\n"
     ]
    },
    {
     "name": "stdout",
     "output_type": "stream",
     "text": [
      "52295.94365710469\n"
     ]
    },
    {
     "name": "stderr",
     "output_type": "stream",
     "text": [
      "16:09 bilby INFO    : Waveform generator initiated with\n",
      "  frequency_domain_source_model: waveforms.mem_freq_XPHM\n",
      "  time_domain_source_model: None\n",
      "  parameter_conversion: bilby.gw.conversion.convert_to_lal_binary_black_hole_parameters\n"
     ]
    },
    {
     "name": "stdout",
     "output_type": "stream",
     "text": [
      "52295.4040999687\n"
     ]
    },
    {
     "name": "stderr",
     "output_type": "stream",
     "text": [
      "16:09 bilby INFO    : Waveform generator initiated with\n",
      "  frequency_domain_source_model: waveforms.mem_freq_XPHM\n",
      "  time_domain_source_model: None\n",
      "  parameter_conversion: bilby.gw.conversion.convert_to_lal_binary_black_hole_parameters\n"
     ]
    },
    {
     "name": "stdout",
     "output_type": "stream",
     "text": [
      "52294.85543302304\n"
     ]
    },
    {
     "name": "stderr",
     "output_type": "stream",
     "text": [
      "16:09 bilby INFO    : Waveform generator initiated with\n",
      "  frequency_domain_source_model: waveforms.mem_freq_XPHM\n",
      "  time_domain_source_model: None\n",
      "  parameter_conversion: bilby.gw.conversion.convert_to_lal_binary_black_hole_parameters\n"
     ]
    },
    {
     "name": "stdout",
     "output_type": "stream",
     "text": [
      "52294.29765626768\n"
     ]
    },
    {
     "name": "stderr",
     "output_type": "stream",
     "text": [
      "16:09 bilby INFO    : Waveform generator initiated with\n",
      "  frequency_domain_source_model: waveforms.mem_freq_XPHM\n",
      "  time_domain_source_model: None\n",
      "  parameter_conversion: bilby.gw.conversion.convert_to_lal_binary_black_hole_parameters\n"
     ]
    },
    {
     "name": "stdout",
     "output_type": "stream",
     "text": [
      "52293.73076970267\n"
     ]
    },
    {
     "name": "stderr",
     "output_type": "stream",
     "text": [
      "16:09 bilby INFO    : Waveform generator initiated with\n",
      "  frequency_domain_source_model: waveforms.mem_freq_XPHM\n",
      "  time_domain_source_model: None\n",
      "  parameter_conversion: bilby.gw.conversion.convert_to_lal_binary_black_hole_parameters\n"
     ]
    },
    {
     "name": "stdout",
     "output_type": "stream",
     "text": [
      "52293.154773327966\n"
     ]
    },
    {
     "name": "stderr",
     "output_type": "stream",
     "text": [
      "16:09 bilby INFO    : Waveform generator initiated with\n",
      "  frequency_domain_source_model: waveforms.mem_freq_XPHM\n",
      "  time_domain_source_model: None\n",
      "  parameter_conversion: bilby.gw.conversion.convert_to_lal_binary_black_hole_parameters\n"
     ]
    },
    {
     "name": "stdout",
     "output_type": "stream",
     "text": [
      "52292.56966714355\n"
     ]
    },
    {
     "name": "stderr",
     "output_type": "stream",
     "text": [
      "16:09 bilby INFO    : Waveform generator initiated with\n",
      "  frequency_domain_source_model: waveforms.mem_freq_XPHM\n",
      "  time_domain_source_model: None\n",
      "  parameter_conversion: bilby.gw.conversion.convert_to_lal_binary_black_hole_parameters\n"
     ]
    },
    {
     "name": "stdout",
     "output_type": "stream",
     "text": [
      "52291.97545114949\n"
     ]
    },
    {
     "name": "stderr",
     "output_type": "stream",
     "text": [
      "16:09 bilby INFO    : Waveform generator initiated with\n",
      "  frequency_domain_source_model: waveforms.mem_freq_XPHM\n",
      "  time_domain_source_model: None\n",
      "  parameter_conversion: bilby.gw.conversion.convert_to_lal_binary_black_hole_parameters\n"
     ]
    },
    {
     "name": "stdout",
     "output_type": "stream",
     "text": [
      "52291.372125345755\n"
     ]
    },
    {
     "name": "stderr",
     "output_type": "stream",
     "text": [
      "16:09 bilby INFO    : Waveform generator initiated with\n",
      "  frequency_domain_source_model: waveforms.mem_freq_XPHM\n",
      "  time_domain_source_model: None\n",
      "  parameter_conversion: bilby.gw.conversion.convert_to_lal_binary_black_hole_parameters\n"
     ]
    },
    {
     "name": "stdout",
     "output_type": "stream",
     "text": [
      "52290.75968973233\n"
     ]
    },
    {
     "name": "stderr",
     "output_type": "stream",
     "text": [
      "16:09 bilby INFO    : Waveform generator initiated with\n",
      "  frequency_domain_source_model: waveforms.mem_freq_XPHM\n",
      "  time_domain_source_model: None\n",
      "  parameter_conversion: bilby.gw.conversion.convert_to_lal_binary_black_hole_parameters\n"
     ]
    },
    {
     "name": "stdout",
     "output_type": "stream",
     "text": [
      "52290.138144309196\n"
     ]
    },
    {
     "name": "stderr",
     "output_type": "stream",
     "text": [
      "16:09 bilby INFO    : Waveform generator initiated with\n",
      "  frequency_domain_source_model: waveforms.mem_freq_XPHM\n",
      "  time_domain_source_model: None\n",
      "  parameter_conversion: bilby.gw.conversion.convert_to_lal_binary_black_hole_parameters\n"
     ]
    },
    {
     "name": "stdout",
     "output_type": "stream",
     "text": [
      "52289.50748907641\n"
     ]
    },
    {
     "name": "stderr",
     "output_type": "stream",
     "text": [
      "16:09 bilby INFO    : Waveform generator initiated with\n",
      "  frequency_domain_source_model: waveforms.mem_freq_XPHM\n",
      "  time_domain_source_model: None\n",
      "  parameter_conversion: bilby.gw.conversion.convert_to_lal_binary_black_hole_parameters\n"
     ]
    },
    {
     "name": "stdout",
     "output_type": "stream",
     "text": [
      "52288.867724033946\n"
     ]
    },
    {
     "name": "stderr",
     "output_type": "stream",
     "text": [
      "16:09 bilby INFO    : Waveform generator initiated with\n",
      "  frequency_domain_source_model: waveforms.mem_freq_XPHM\n",
      "  time_domain_source_model: None\n",
      "  parameter_conversion: bilby.gw.conversion.convert_to_lal_binary_black_hole_parameters\n"
     ]
    },
    {
     "name": "stdout",
     "output_type": "stream",
     "text": [
      "52288.218849181794\n"
     ]
    },
    {
     "name": "stderr",
     "output_type": "stream",
     "text": [
      "16:09 bilby INFO    : Waveform generator initiated with\n",
      "  frequency_domain_source_model: waveforms.mem_freq_XPHM\n",
      "  time_domain_source_model: None\n",
      "  parameter_conversion: bilby.gw.conversion.convert_to_lal_binary_black_hole_parameters\n"
     ]
    },
    {
     "name": "stdout",
     "output_type": "stream",
     "text": [
      "52287.56086451995\n"
     ]
    },
    {
     "name": "stderr",
     "output_type": "stream",
     "text": [
      "16:09 bilby INFO    : Waveform generator initiated with\n",
      "  frequency_domain_source_model: waveforms.mem_freq_XPHM\n",
      "  time_domain_source_model: None\n",
      "  parameter_conversion: bilby.gw.conversion.convert_to_lal_binary_black_hole_parameters\n"
     ]
    },
    {
     "name": "stdout",
     "output_type": "stream",
     "text": [
      "52286.89377004844\n"
     ]
    },
    {
     "name": "stderr",
     "output_type": "stream",
     "text": [
      "16:09 bilby INFO    : Waveform generator initiated with\n",
      "  frequency_domain_source_model: waveforms.mem_freq_XPHM\n",
      "  time_domain_source_model: None\n",
      "  parameter_conversion: bilby.gw.conversion.convert_to_lal_binary_black_hole_parameters\n"
     ]
    },
    {
     "name": "stdout",
     "output_type": "stream",
     "text": [
      "52286.21756576723\n"
     ]
    },
    {
     "name": "stderr",
     "output_type": "stream",
     "text": [
      "16:09 bilby INFO    : Waveform generator initiated with\n",
      "  frequency_domain_source_model: waveforms.mem_freq_XPHM\n",
      "  time_domain_source_model: None\n",
      "  parameter_conversion: bilby.gw.conversion.convert_to_lal_binary_black_hole_parameters\n"
     ]
    },
    {
     "name": "stdout",
     "output_type": "stream",
     "text": [
      "52285.53225167634\n",
      "52284.83782777576\n"
     ]
    },
    {
     "name": "stderr",
     "output_type": "stream",
     "text": [
      "16:09 bilby INFO    : Injected signal in H1:\n",
      "16:09 bilby INFO    :   optimal SNR = 257.12\n",
      "16:09 bilby INFO    :   matched filter SNR = 258.18-0.00j\n",
      "16:09 bilby INFO    :   chirp_mass = 29.8387469533461\n",
      "16:09 bilby INFO    :   mass_ratio = 0.8687955769814424\n",
      "16:09 bilby INFO    :   a_1 = 0.8608417198511092\n",
      "16:09 bilby INFO    :   a_2 = 0.7195088134379835\n",
      "16:09 bilby INFO    :   tilt_1 = 2.3792185506368795\n",
      "16:09 bilby INFO    :   tilt_2 = 0.8663525482689185\n",
      "16:09 bilby INFO    :   phi_12 = 5.878104994643697\n",
      "16:09 bilby INFO    :   phi_jl = 0.25757481830607415\n",
      "16:09 bilby INFO    :   theta_jn = 1.5707963267948966\n",
      "16:09 bilby INFO    :   psi = 0.6912519348265866\n",
      "16:09 bilby INFO    :   phase = 4.000226339478637\n",
      "16:09 bilby INFO    :   azimuth = 2.590928400193608\n",
      "16:09 bilby INFO    :   zenith = 2.3522458754068447\n",
      "16:09 bilby INFO    :   recalib_H1_amplitude_0 = -0.005868249419321757\n",
      "16:09 bilby INFO    :   recalib_H1_amplitude_1 = -0.043783360917849956\n",
      "16:09 bilby INFO    :   recalib_H1_amplitude_2 = -0.04728295327822305\n",
      "16:09 bilby INFO    :   recalib_H1_amplitude_3 = 0.08222264173465693\n",
      "16:09 bilby INFO    :   recalib_H1_amplitude_4 = 0.011855669695012536\n",
      "16:09 bilby INFO    :   recalib_H1_amplitude_5 = -0.008990421387286167\n",
      "16:09 bilby INFO    :   recalib_H1_amplitude_6 = -0.020009159194152252\n",
      "16:09 bilby INFO    :   recalib_H1_amplitude_7 = 0.008484833525516596\n",
      "16:09 bilby INFO    :   recalib_H1_amplitude_8 = -0.018327160189299724\n",
      "16:09 bilby INFO    :   recalib_H1_amplitude_9 = -0.0023772652335948725\n",
      "16:09 bilby INFO    :   recalib_H1_phase_0 = -0.0006461526627345466\n",
      "16:09 bilby INFO    :   recalib_H1_phase_1 = 0.051177755324892465\n",
      "16:09 bilby INFO    :   recalib_H1_phase_2 = 0.01399307494477739\n",
      "16:09 bilby INFO    :   recalib_H1_phase_3 = 0.08416966330293393\n",
      "16:09 bilby INFO    :   recalib_H1_phase_4 = 0.047473946777130974\n",
      "16:09 bilby INFO    :   recalib_H1_phase_5 = 0.013916433512643673\n",
      "16:09 bilby INFO    :   recalib_H1_phase_6 = -0.02128658443550522\n",
      "16:09 bilby INFO    :   recalib_H1_phase_7 = 0.02296630800067761\n",
      "16:09 bilby INFO    :   recalib_H1_phase_8 = -0.037098045831878486\n",
      "16:09 bilby INFO    :   recalib_H1_phase_9 = -0.018967830067115908\n",
      "16:09 bilby INFO    :   recalib_L1_amplitude_0 = -0.036293801292262916\n",
      "16:09 bilby INFO    :   recalib_L1_amplitude_1 = 0.014361561207618069\n",
      "16:09 bilby INFO    :   recalib_L1_amplitude_2 = -0.08693301208957734\n",
      "16:09 bilby INFO    :   recalib_L1_amplitude_3 = 0.10143853088596673\n",
      "16:09 bilby INFO    :   recalib_L1_amplitude_4 = -0.0077889246361674885\n",
      "16:09 bilby INFO    :   recalib_L1_amplitude_5 = -0.025543820665279264\n",
      "16:09 bilby INFO    :   recalib_L1_amplitude_6 = -0.021247887291087522\n",
      "16:09 bilby INFO    :   recalib_L1_amplitude_7 = 0.013667834994950237\n",
      "16:09 bilby INFO    :   recalib_L1_amplitude_8 = 0.012377526160578984\n",
      "16:09 bilby INFO    :   recalib_L1_amplitude_9 = 0.021583525090134788\n",
      "16:09 bilby INFO    :   recalib_L1_phase_0 = -0.02268955770914274\n",
      "16:09 bilby INFO    :   recalib_L1_phase_1 = -0.027473420705276475\n",
      "16:09 bilby INFO    :   recalib_L1_phase_2 = -0.0943607841222296\n",
      "16:09 bilby INFO    :   recalib_L1_phase_3 = 0.029977319706674166\n",
      "16:09 bilby INFO    :   recalib_L1_phase_4 = 0.08523838545670002\n",
      "16:09 bilby INFO    :   recalib_L1_phase_5 = -0.056840952818595976\n",
      "16:09 bilby INFO    :   recalib_L1_phase_6 = -0.004019423152701047\n",
      "16:09 bilby INFO    :   recalib_L1_phase_7 = 0.03270580357083033\n",
      "16:09 bilby INFO    :   recalib_L1_phase_8 = 0.02364064367507932\n",
      "16:09 bilby INFO    :   recalib_L1_phase_9 = -0.002027753595167955\n",
      "16:09 bilby INFO    :   time_jitter = 6.515517343713782e-06\n",
      "16:09 bilby INFO    :   luminosity_distance = 100\n",
      "16:09 bilby INFO    :   geocent_time = 1126259462.408404\n",
      "16:09 bilby INFO    :   recalib_H1_frequency_0 = 19.999999999999996\n",
      "16:09 bilby INFO    :   recalib_H1_frequency_1 = 30.514434824844255\n",
      "16:09 bilby INFO    :   recalib_H1_frequency_2 = 46.55653663398341\n",
      "16:09 bilby INFO    :   recalib_H1_frequency_3 = 71.03232013940804\n",
      "16:09 bilby INFO    :   recalib_H1_frequency_4 = 108.37555516757195\n",
      "16:09 bilby INFO    :   recalib_H1_frequency_5 = 165.35094073835938\n",
      "16:09 bilby INFO    :   recalib_H1_frequency_6 = 252.27952521936786\n",
      "16:09 bilby INFO    :   recalib_H1_frequency_7 = 384.9083564974527\n",
      "16:09 bilby INFO    :   recalib_H1_frequency_8 = 587.2630478939719\n",
      "16:09 bilby INFO    :   recalib_H1_frequency_9 = 895.9999999999999\n",
      "16:09 bilby INFO    :   recalib_L1_frequency_0 = 19.999999999999996\n",
      "16:09 bilby INFO    :   recalib_L1_frequency_1 = 30.514434824844255\n",
      "16:09 bilby INFO    :   recalib_L1_frequency_2 = 46.55653663398341\n",
      "16:09 bilby INFO    :   recalib_L1_frequency_3 = 71.03232013940804\n",
      "16:09 bilby INFO    :   recalib_L1_frequency_4 = 108.37555516757195\n",
      "16:09 bilby INFO    :   recalib_L1_frequency_5 = 165.35094073835938\n",
      "16:09 bilby INFO    :   recalib_L1_frequency_6 = 252.27952521936786\n",
      "16:09 bilby INFO    :   recalib_L1_frequency_7 = 384.9083564974527\n",
      "16:09 bilby INFO    :   recalib_L1_frequency_8 = 587.2630478939719\n",
      "16:09 bilby INFO    :   recalib_L1_frequency_9 = 895.9999999999999\n",
      "16:09 bilby INFO    :   log_likelihood = 328.4324942070929\n",
      "16:09 bilby INFO    :   log_prior = 66.29957866305776\n",
      "16:09 bilby INFO    :   total_mass = 68.75498279849768\n",
      "16:09 bilby INFO    :   mass_1 = 36.79106674126104\n",
      "16:09 bilby INFO    :   mass_2 = 31.96391605723664\n",
      "16:09 bilby INFO    :   ra = 2.216116171456804\n",
      "16:09 bilby INFO    :   dec = -1.2259035208296045\n",
      "16:09 bilby INFO    :   symmetric_mass_ratio = 0.24876770874914655\n",
      "16:09 bilby INFO    :   spin_1x = 0.5904472619004925\n",
      "16:09 bilby INFO    :   spin_1y = -0.06957261443892127\n",
      "16:09 bilby INFO    :   spin_1z = -0.6225593536929314\n",
      "16:09 bilby INFO    :   spin_2x = 0.4751310354864326\n",
      "16:09 bilby INFO    :   spin_2y = -0.2735390509327497\n",
      "16:09 bilby INFO    :   spin_2z = 0.46596117794011116\n",
      "16:09 bilby INFO    :   phi_1 = 6.1658957660048594\n",
      "16:09 bilby INFO    :   phi_2 = 5.760815453468969\n",
      "16:09 bilby INFO    :   chi_eff = -0.11651051936092104\n",
      "16:09 bilby INFO    :   chi_1_in_plane = 0.5945320157616876\n",
      "16:09 bilby INFO    :   chi_2_in_plane = 0.5482454863175794\n",
      "16:09 bilby INFO    :   chi_p = 0.5945320157616876\n",
      "16:09 bilby INFO    :   cos_tilt_1 = -0.7231983991210473\n",
      "16:09 bilby INFO    :   cos_tilt_2 = 0.6476101046123928\n",
      "16:09 bilby INFO    :   comoving_distance = 460.07828764617136\n",
      "16:09 bilby INFO    :   H1_matched_filter_snr = 21.221089162046386\n",
      "16:09 bilby INFO    :   H1_optimal_snr = 19.957775833584304\n",
      "16:09 bilby INFO    :   L1_matched_filter_snr = 15.167442050430017\n",
      "16:09 bilby INFO    :   L1_optimal_snr = 13.072732183576488\n",
      "16:09 bilby INFO    :   H1_matched_filter_abs_snr = 21.320120947355953\n",
      "16:09 bilby INFO    :   H1_matched_filter_snr_angle = -0.09642190803027524\n",
      "16:09 bilby INFO    :   L1_matched_filter_abs_snr = 15.262798565714363\n",
      "16:09 bilby INFO    :   L1_matched_filter_snr_angle = -0.11184059441681089\n",
      "16:09 bilby INFO    :   redshift = 0.10685806108071728\n",
      "16:09 bilby INFO    :   inverted_mass_ratio = 1.1510187511248808\n",
      "16:09 bilby INFO    :   mass_1_source = 33.23919121602536\n",
      "16:09 bilby INFO    :   mass_2_source = 28.878062310923244\n",
      "16:09 bilby INFO    :   total_mass_source = 62.1172535269486\n",
      "16:09 bilby INFO    :   chirp_mass_source = 26.958060841344064\n",
      "16:09 bilby INFO    :   chi_p_2spin = 0.6991048646002762\n",
      "16:09 bilby INFO    :   beta = 0.2964834516665308\n",
      "16:09 bilby INFO    :   psi_J = 1.8454358595594362\n",
      "16:09 bilby INFO    :   final_spin = 0.6847123040726873\n",
      "16:09 bilby INFO    :   peak_luminosity = 3.4650910541734206\n",
      "16:09 bilby INFO    :   final_mass = 65.67190490679377\n",
      "16:09 bilby INFO    :   final_mass_source = 59.33182150082807\n",
      "16:09 bilby INFO    :   radiated_energy = 2.7854320261205316\n",
      "16:09 bilby INFO    :   H1_time = 1126259462.4241831\n",
      "16:09 bilby INFO    :   L1_time = 1126259462.417131\n",
      "16:09 bilby INFO    :   network_optimal_snr = 23.858104345633123\n",
      "16:09 bilby INFO    :   network_matched_filter_snr = 26.062659432941388\n",
      "16:09 bilby INFO    :   cos_theta_jn = -0.7957343530217185\n",
      "16:09 bilby INFO    :   viewing_angle = 0.6505771989131781\n",
      "16:09 bilby INFO    :   cos_iota = -0.7159420610982777\n",
      "16:09 bilby INFO    :   tilt_1_infinity_only_prec_avg = 1.9184456335196816\n",
      "16:09 bilby INFO    :   tilt_2_infinity_only_prec_avg = 1.4496492121062137\n",
      "16:09 bilby INFO    :   spin_1z_infinity_only_prec_avg = -0.29327903351648726\n",
      "16:09 bilby INFO    :   spin_2z_infinity_only_prec_avg = 0.08695335504061963\n",
      "16:09 bilby INFO    :   chi_eff_infinity_only_prec_avg = -0.11651051936092102\n",
      "16:09 bilby INFO    :   chi_p_infinity_only_prec_avg = 0.8093428662414038\n",
      "16:09 bilby INFO    :   cos_tilt_1_infinity_only_prec_avg = -0.3406886849852173\n",
      "16:09 bilby INFO    :   cos_tilt_2_infinity_only_prec_avg = 0.12085099364542307\n",
      "16:09 bilby INFO    : Injected signal in L1:\n",
      "16:09 bilby INFO    :   optimal SNR = 193.44\n",
      "16:09 bilby INFO    :   matched filter SNR = 194.42+0.05j\n",
      "16:09 bilby INFO    :   chirp_mass = 29.8387469533461\n",
      "16:09 bilby INFO    :   mass_ratio = 0.8687955769814424\n",
      "16:09 bilby INFO    :   a_1 = 0.8608417198511092\n",
      "16:09 bilby INFO    :   a_2 = 0.7195088134379835\n",
      "16:09 bilby INFO    :   tilt_1 = 2.3792185506368795\n",
      "16:09 bilby INFO    :   tilt_2 = 0.8663525482689185\n",
      "16:09 bilby INFO    :   phi_12 = 5.878104994643697\n",
      "16:09 bilby INFO    :   phi_jl = 0.25757481830607415\n",
      "16:09 bilby INFO    :   theta_jn = 1.5707963267948966\n",
      "16:09 bilby INFO    :   psi = 0.6912519348265866\n",
      "16:09 bilby INFO    :   phase = 4.000226339478637\n",
      "16:09 bilby INFO    :   azimuth = 2.590928400193608\n",
      "16:09 bilby INFO    :   zenith = 2.3522458754068447\n",
      "16:09 bilby INFO    :   recalib_H1_amplitude_0 = -0.005868249419321757\n",
      "16:09 bilby INFO    :   recalib_H1_amplitude_1 = -0.043783360917849956\n",
      "16:09 bilby INFO    :   recalib_H1_amplitude_2 = -0.04728295327822305\n",
      "16:09 bilby INFO    :   recalib_H1_amplitude_3 = 0.08222264173465693\n",
      "16:09 bilby INFO    :   recalib_H1_amplitude_4 = 0.011855669695012536\n",
      "16:09 bilby INFO    :   recalib_H1_amplitude_5 = -0.008990421387286167\n",
      "16:09 bilby INFO    :   recalib_H1_amplitude_6 = -0.020009159194152252\n",
      "16:09 bilby INFO    :   recalib_H1_amplitude_7 = 0.008484833525516596\n",
      "16:09 bilby INFO    :   recalib_H1_amplitude_8 = -0.018327160189299724\n",
      "16:09 bilby INFO    :   recalib_H1_amplitude_9 = -0.0023772652335948725\n",
      "16:09 bilby INFO    :   recalib_H1_phase_0 = -0.0006461526627345466\n",
      "16:09 bilby INFO    :   recalib_H1_phase_1 = 0.051177755324892465\n",
      "16:09 bilby INFO    :   recalib_H1_phase_2 = 0.01399307494477739\n",
      "16:09 bilby INFO    :   recalib_H1_phase_3 = 0.08416966330293393\n",
      "16:09 bilby INFO    :   recalib_H1_phase_4 = 0.047473946777130974\n",
      "16:09 bilby INFO    :   recalib_H1_phase_5 = 0.013916433512643673\n",
      "16:09 bilby INFO    :   recalib_H1_phase_6 = -0.02128658443550522\n",
      "16:09 bilby INFO    :   recalib_H1_phase_7 = 0.02296630800067761\n",
      "16:09 bilby INFO    :   recalib_H1_phase_8 = -0.037098045831878486\n",
      "16:09 bilby INFO    :   recalib_H1_phase_9 = -0.018967830067115908\n",
      "16:09 bilby INFO    :   recalib_L1_amplitude_0 = -0.036293801292262916\n",
      "16:09 bilby INFO    :   recalib_L1_amplitude_1 = 0.014361561207618069\n",
      "16:09 bilby INFO    :   recalib_L1_amplitude_2 = -0.08693301208957734\n",
      "16:09 bilby INFO    :   recalib_L1_amplitude_3 = 0.10143853088596673\n",
      "16:09 bilby INFO    :   recalib_L1_amplitude_4 = -0.0077889246361674885\n",
      "16:09 bilby INFO    :   recalib_L1_amplitude_5 = -0.025543820665279264\n",
      "16:09 bilby INFO    :   recalib_L1_amplitude_6 = -0.021247887291087522\n",
      "16:09 bilby INFO    :   recalib_L1_amplitude_7 = 0.013667834994950237\n",
      "16:09 bilby INFO    :   recalib_L1_amplitude_8 = 0.012377526160578984\n",
      "16:09 bilby INFO    :   recalib_L1_amplitude_9 = 0.021583525090134788\n",
      "16:09 bilby INFO    :   recalib_L1_phase_0 = -0.02268955770914274\n",
      "16:09 bilby INFO    :   recalib_L1_phase_1 = -0.027473420705276475\n",
      "16:09 bilby INFO    :   recalib_L1_phase_2 = -0.0943607841222296\n",
      "16:09 bilby INFO    :   recalib_L1_phase_3 = 0.029977319706674166\n",
      "16:09 bilby INFO    :   recalib_L1_phase_4 = 0.08523838545670002\n",
      "16:09 bilby INFO    :   recalib_L1_phase_5 = -0.056840952818595976\n",
      "16:09 bilby INFO    :   recalib_L1_phase_6 = -0.004019423152701047\n",
      "16:09 bilby INFO    :   recalib_L1_phase_7 = 0.03270580357083033\n",
      "16:09 bilby INFO    :   recalib_L1_phase_8 = 0.02364064367507932\n",
      "16:09 bilby INFO    :   recalib_L1_phase_9 = -0.002027753595167955\n",
      "16:09 bilby INFO    :   time_jitter = 6.515517343713782e-06\n",
      "16:09 bilby INFO    :   luminosity_distance = 100\n",
      "16:09 bilby INFO    :   geocent_time = 1126259462.408404\n",
      "16:09 bilby INFO    :   recalib_H1_frequency_0 = 19.999999999999996\n",
      "16:09 bilby INFO    :   recalib_H1_frequency_1 = 30.514434824844255\n",
      "16:09 bilby INFO    :   recalib_H1_frequency_2 = 46.55653663398341\n",
      "16:09 bilby INFO    :   recalib_H1_frequency_3 = 71.03232013940804\n",
      "16:09 bilby INFO    :   recalib_H1_frequency_4 = 108.37555516757195\n",
      "16:09 bilby INFO    :   recalib_H1_frequency_5 = 165.35094073835938\n",
      "16:09 bilby INFO    :   recalib_H1_frequency_6 = 252.27952521936786\n",
      "16:09 bilby INFO    :   recalib_H1_frequency_7 = 384.9083564974527\n",
      "16:09 bilby INFO    :   recalib_H1_frequency_8 = 587.2630478939719\n",
      "16:09 bilby INFO    :   recalib_H1_frequency_9 = 895.9999999999999\n",
      "16:09 bilby INFO    :   recalib_L1_frequency_0 = 19.999999999999996\n",
      "16:09 bilby INFO    :   recalib_L1_frequency_1 = 30.514434824844255\n",
      "16:09 bilby INFO    :   recalib_L1_frequency_2 = 46.55653663398341\n",
      "16:09 bilby INFO    :   recalib_L1_frequency_3 = 71.03232013940804\n",
      "16:09 bilby INFO    :   recalib_L1_frequency_4 = 108.37555516757195\n",
      "16:09 bilby INFO    :   recalib_L1_frequency_5 = 165.35094073835938\n",
      "16:09 bilby INFO    :   recalib_L1_frequency_6 = 252.27952521936786\n",
      "16:09 bilby INFO    :   recalib_L1_frequency_7 = 384.9083564974527\n",
      "16:09 bilby INFO    :   recalib_L1_frequency_8 = 587.2630478939719\n",
      "16:09 bilby INFO    :   recalib_L1_frequency_9 = 895.9999999999999\n",
      "16:09 bilby INFO    :   log_likelihood = 328.4324942070929\n",
      "16:09 bilby INFO    :   log_prior = 66.29957866305776\n",
      "16:09 bilby INFO    :   total_mass = 68.75498279849768\n",
      "16:09 bilby INFO    :   mass_1 = 36.79106674126104\n",
      "16:09 bilby INFO    :   mass_2 = 31.96391605723664\n",
      "16:09 bilby INFO    :   ra = 2.216116171456804\n",
      "16:09 bilby INFO    :   dec = -1.2259035208296045\n",
      "16:09 bilby INFO    :   symmetric_mass_ratio = 0.24876770874914655\n",
      "16:09 bilby INFO    :   spin_1x = 0.5904472619004925\n",
      "16:09 bilby INFO    :   spin_1y = -0.06957261443892127\n",
      "16:09 bilby INFO    :   spin_1z = -0.6225593536929314\n",
      "16:09 bilby INFO    :   spin_2x = 0.4751310354864326\n",
      "16:09 bilby INFO    :   spin_2y = -0.2735390509327497\n",
      "16:09 bilby INFO    :   spin_2z = 0.46596117794011116\n",
      "16:09 bilby INFO    :   phi_1 = 6.1658957660048594\n",
      "16:09 bilby INFO    :   phi_2 = 5.760815453468969\n",
      "16:09 bilby INFO    :   chi_eff = -0.11651051936092104\n",
      "16:09 bilby INFO    :   chi_1_in_plane = 0.5945320157616876\n",
      "16:09 bilby INFO    :   chi_2_in_plane = 0.5482454863175794\n",
      "16:09 bilby INFO    :   chi_p = 0.5945320157616876\n",
      "16:09 bilby INFO    :   cos_tilt_1 = -0.7231983991210473\n",
      "16:09 bilby INFO    :   cos_tilt_2 = 0.6476101046123928\n",
      "16:09 bilby INFO    :   comoving_distance = 460.07828764617136\n",
      "16:09 bilby INFO    :   H1_matched_filter_snr = 21.221089162046386\n",
      "16:09 bilby INFO    :   H1_optimal_snr = 19.957775833584304\n",
      "16:09 bilby INFO    :   L1_matched_filter_snr = 15.167442050430017\n",
      "16:09 bilby INFO    :   L1_optimal_snr = 13.072732183576488\n",
      "16:09 bilby INFO    :   H1_matched_filter_abs_snr = 21.320120947355953\n",
      "16:09 bilby INFO    :   H1_matched_filter_snr_angle = -0.09642190803027524\n",
      "16:09 bilby INFO    :   L1_matched_filter_abs_snr = 15.262798565714363\n",
      "16:09 bilby INFO    :   L1_matched_filter_snr_angle = -0.11184059441681089\n",
      "16:09 bilby INFO    :   redshift = 0.10685806108071728\n",
      "16:09 bilby INFO    :   inverted_mass_ratio = 1.1510187511248808\n",
      "16:09 bilby INFO    :   mass_1_source = 33.23919121602536\n",
      "16:09 bilby INFO    :   mass_2_source = 28.878062310923244\n",
      "16:09 bilby INFO    :   total_mass_source = 62.1172535269486\n",
      "16:09 bilby INFO    :   chirp_mass_source = 26.958060841344064\n",
      "16:09 bilby INFO    :   chi_p_2spin = 0.6991048646002762\n",
      "16:09 bilby INFO    :   beta = 0.2964834516665308\n",
      "16:09 bilby INFO    :   psi_J = 1.8454358595594362\n",
      "16:09 bilby INFO    :   final_spin = 0.6847123040726873\n",
      "16:09 bilby INFO    :   peak_luminosity = 3.4650910541734206\n",
      "16:09 bilby INFO    :   final_mass = 65.67190490679377\n",
      "16:09 bilby INFO    :   final_mass_source = 59.33182150082807\n",
      "16:09 bilby INFO    :   radiated_energy = 2.7854320261205316\n",
      "16:09 bilby INFO    :   H1_time = 1126259462.4241831\n",
      "16:09 bilby INFO    :   L1_time = 1126259462.417131\n",
      "16:09 bilby INFO    :   network_optimal_snr = 23.858104345633123\n",
      "16:09 bilby INFO    :   network_matched_filter_snr = 26.062659432941388\n",
      "16:09 bilby INFO    :   cos_theta_jn = -0.7957343530217185\n",
      "16:09 bilby INFO    :   viewing_angle = 0.6505771989131781\n",
      "16:09 bilby INFO    :   cos_iota = -0.7159420610982777\n",
      "16:09 bilby INFO    :   tilt_1_infinity_only_prec_avg = 1.9184456335196816\n",
      "16:09 bilby INFO    :   tilt_2_infinity_only_prec_avg = 1.4496492121062137\n",
      "16:09 bilby INFO    :   spin_1z_infinity_only_prec_avg = -0.29327903351648726\n",
      "16:09 bilby INFO    :   spin_2z_infinity_only_prec_avg = 0.08695335504061963\n",
      "16:09 bilby INFO    :   chi_eff_infinity_only_prec_avg = -0.11651051936092102\n",
      "16:09 bilby INFO    :   chi_p_infinity_only_prec_avg = 0.8093428662414038\n",
      "16:09 bilby INFO    :   cos_tilt_1_infinity_only_prec_avg = -0.3406886849852173\n",
      "16:09 bilby INFO    :   cos_tilt_2_infinity_only_prec_avg = 0.12085099364542307\n",
      "16:09 bilby INFO    : Injected signal in H1:\n",
      "16:09 bilby INFO    :   optimal SNR = 257.12\n",
      "16:09 bilby INFO    :   matched filter SNR = 257.85-0.88j\n",
      "16:09 bilby INFO    :   chirp_mass = 29.8387469533461\n",
      "16:09 bilby INFO    :   mass_ratio = 0.8687955769814424\n",
      "16:09 bilby INFO    :   a_1 = 0.8608417198511092\n",
      "16:09 bilby INFO    :   a_2 = 0.7195088134379835\n",
      "16:09 bilby INFO    :   tilt_1 = 2.3792185506368795\n",
      "16:09 bilby INFO    :   tilt_2 = 0.8663525482689185\n",
      "16:09 bilby INFO    :   phi_12 = 5.878104994643697\n",
      "16:09 bilby INFO    :   phi_jl = 0.25757481830607415\n",
      "16:09 bilby INFO    :   theta_jn = 1.5707963267948966\n",
      "16:09 bilby INFO    :   psi = 0.6912519348265866\n",
      "16:09 bilby INFO    :   phase = 4.000226339478637\n",
      "16:09 bilby INFO    :   azimuth = 2.590928400193608\n",
      "16:09 bilby INFO    :   zenith = 2.3522458754068447\n",
      "16:09 bilby INFO    :   recalib_H1_amplitude_0 = -0.005868249419321757\n",
      "16:09 bilby INFO    :   recalib_H1_amplitude_1 = -0.043783360917849956\n",
      "16:09 bilby INFO    :   recalib_H1_amplitude_2 = -0.04728295327822305\n",
      "16:09 bilby INFO    :   recalib_H1_amplitude_3 = 0.08222264173465693\n",
      "16:09 bilby INFO    :   recalib_H1_amplitude_4 = 0.011855669695012536\n",
      "16:09 bilby INFO    :   recalib_H1_amplitude_5 = -0.008990421387286167\n",
      "16:09 bilby INFO    :   recalib_H1_amplitude_6 = -0.020009159194152252\n",
      "16:09 bilby INFO    :   recalib_H1_amplitude_7 = 0.008484833525516596\n",
      "16:09 bilby INFO    :   recalib_H1_amplitude_8 = -0.018327160189299724\n",
      "16:09 bilby INFO    :   recalib_H1_amplitude_9 = -0.0023772652335948725\n",
      "16:09 bilby INFO    :   recalib_H1_phase_0 = -0.0006461526627345466\n",
      "16:09 bilby INFO    :   recalib_H1_phase_1 = 0.051177755324892465\n",
      "16:09 bilby INFO    :   recalib_H1_phase_2 = 0.01399307494477739\n",
      "16:09 bilby INFO    :   recalib_H1_phase_3 = 0.08416966330293393\n",
      "16:09 bilby INFO    :   recalib_H1_phase_4 = 0.047473946777130974\n",
      "16:09 bilby INFO    :   recalib_H1_phase_5 = 0.013916433512643673\n",
      "16:09 bilby INFO    :   recalib_H1_phase_6 = -0.02128658443550522\n",
      "16:09 bilby INFO    :   recalib_H1_phase_7 = 0.02296630800067761\n",
      "16:09 bilby INFO    :   recalib_H1_phase_8 = -0.037098045831878486\n",
      "16:09 bilby INFO    :   recalib_H1_phase_9 = -0.018967830067115908\n",
      "16:09 bilby INFO    :   recalib_L1_amplitude_0 = -0.036293801292262916\n",
      "16:09 bilby INFO    :   recalib_L1_amplitude_1 = 0.014361561207618069\n",
      "16:09 bilby INFO    :   recalib_L1_amplitude_2 = -0.08693301208957734\n",
      "16:09 bilby INFO    :   recalib_L1_amplitude_3 = 0.10143853088596673\n",
      "16:09 bilby INFO    :   recalib_L1_amplitude_4 = -0.0077889246361674885\n",
      "16:09 bilby INFO    :   recalib_L1_amplitude_5 = -0.025543820665279264\n",
      "16:09 bilby INFO    :   recalib_L1_amplitude_6 = -0.021247887291087522\n",
      "16:09 bilby INFO    :   recalib_L1_amplitude_7 = 0.013667834994950237\n",
      "16:09 bilby INFO    :   recalib_L1_amplitude_8 = 0.012377526160578984\n",
      "16:09 bilby INFO    :   recalib_L1_amplitude_9 = 0.021583525090134788\n",
      "16:09 bilby INFO    :   recalib_L1_phase_0 = -0.02268955770914274\n",
      "16:09 bilby INFO    :   recalib_L1_phase_1 = -0.027473420705276475\n",
      "16:09 bilby INFO    :   recalib_L1_phase_2 = -0.0943607841222296\n",
      "16:09 bilby INFO    :   recalib_L1_phase_3 = 0.029977319706674166\n",
      "16:09 bilby INFO    :   recalib_L1_phase_4 = 0.08523838545670002\n",
      "16:09 bilby INFO    :   recalib_L1_phase_5 = -0.056840952818595976\n",
      "16:09 bilby INFO    :   recalib_L1_phase_6 = -0.004019423152701047\n",
      "16:09 bilby INFO    :   recalib_L1_phase_7 = 0.03270580357083033\n",
      "16:09 bilby INFO    :   recalib_L1_phase_8 = 0.02364064367507932\n",
      "16:09 bilby INFO    :   recalib_L1_phase_9 = -0.002027753595167955\n",
      "16:09 bilby INFO    :   time_jitter = 6.515517343713782e-06\n",
      "16:09 bilby INFO    :   luminosity_distance = 100\n",
      "16:09 bilby INFO    :   geocent_time = 1126259462.408404\n",
      "16:09 bilby INFO    :   recalib_H1_frequency_0 = 19.999999999999996\n",
      "16:09 bilby INFO    :   recalib_H1_frequency_1 = 30.514434824844255\n",
      "16:09 bilby INFO    :   recalib_H1_frequency_2 = 46.55653663398341\n",
      "16:09 bilby INFO    :   recalib_H1_frequency_3 = 71.03232013940804\n",
      "16:09 bilby INFO    :   recalib_H1_frequency_4 = 108.37555516757195\n",
      "16:09 bilby INFO    :   recalib_H1_frequency_5 = 165.35094073835938\n",
      "16:09 bilby INFO    :   recalib_H1_frequency_6 = 252.27952521936786\n",
      "16:09 bilby INFO    :   recalib_H1_frequency_7 = 384.9083564974527\n",
      "16:09 bilby INFO    :   recalib_H1_frequency_8 = 587.2630478939719\n",
      "16:09 bilby INFO    :   recalib_H1_frequency_9 = 895.9999999999999\n",
      "16:09 bilby INFO    :   recalib_L1_frequency_0 = 19.999999999999996\n",
      "16:09 bilby INFO    :   recalib_L1_frequency_1 = 30.514434824844255\n",
      "16:09 bilby INFO    :   recalib_L1_frequency_2 = 46.55653663398341\n",
      "16:09 bilby INFO    :   recalib_L1_frequency_3 = 71.03232013940804\n",
      "16:09 bilby INFO    :   recalib_L1_frequency_4 = 108.37555516757195\n",
      "16:09 bilby INFO    :   recalib_L1_frequency_5 = 165.35094073835938\n",
      "16:09 bilby INFO    :   recalib_L1_frequency_6 = 252.27952521936786\n",
      "16:09 bilby INFO    :   recalib_L1_frequency_7 = 384.9083564974527\n",
      "16:09 bilby INFO    :   recalib_L1_frequency_8 = 587.2630478939719\n",
      "16:09 bilby INFO    :   recalib_L1_frequency_9 = 895.9999999999999\n",
      "16:09 bilby INFO    :   log_likelihood = 328.4324942070929\n",
      "16:09 bilby INFO    :   log_prior = 66.29957866305776\n",
      "16:09 bilby INFO    :   total_mass = 68.75498279849768\n",
      "16:09 bilby INFO    :   mass_1 = 36.79106674126104\n",
      "16:09 bilby INFO    :   mass_2 = 31.96391605723664\n",
      "16:09 bilby INFO    :   ra = 2.216116171456804\n",
      "16:09 bilby INFO    :   dec = -1.2259035208296045\n",
      "16:09 bilby INFO    :   symmetric_mass_ratio = 0.24876770874914655\n",
      "16:09 bilby INFO    :   spin_1x = 0.5904472619004925\n",
      "16:09 bilby INFO    :   spin_1y = -0.06957261443892127\n",
      "16:09 bilby INFO    :   spin_1z = -0.6225593536929314\n",
      "16:09 bilby INFO    :   spin_2x = 0.4751310354864326\n",
      "16:09 bilby INFO    :   spin_2y = -0.2735390509327497\n",
      "16:09 bilby INFO    :   spin_2z = 0.46596117794011116\n",
      "16:09 bilby INFO    :   phi_1 = 6.1658957660048594\n",
      "16:09 bilby INFO    :   phi_2 = 5.760815453468969\n",
      "16:09 bilby INFO    :   chi_eff = -0.11651051936092104\n",
      "16:09 bilby INFO    :   chi_1_in_plane = 0.5945320157616876\n",
      "16:09 bilby INFO    :   chi_2_in_plane = 0.5482454863175794\n",
      "16:09 bilby INFO    :   chi_p = 0.5945320157616876\n",
      "16:09 bilby INFO    :   cos_tilt_1 = -0.7231983991210473\n",
      "16:09 bilby INFO    :   cos_tilt_2 = 0.6476101046123928\n",
      "16:09 bilby INFO    :   comoving_distance = 460.07828764617136\n",
      "16:09 bilby INFO    :   H1_matched_filter_snr = 21.221089162046386\n",
      "16:09 bilby INFO    :   H1_optimal_snr = 19.957775833584304\n",
      "16:09 bilby INFO    :   L1_matched_filter_snr = 15.167442050430017\n",
      "16:09 bilby INFO    :   L1_optimal_snr = 13.072732183576488\n",
      "16:09 bilby INFO    :   H1_matched_filter_abs_snr = 21.320120947355953\n",
      "16:09 bilby INFO    :   H1_matched_filter_snr_angle = -0.09642190803027524\n",
      "16:09 bilby INFO    :   L1_matched_filter_abs_snr = 15.262798565714363\n",
      "16:09 bilby INFO    :   L1_matched_filter_snr_angle = -0.11184059441681089\n",
      "16:09 bilby INFO    :   redshift = 0.10685806108071728\n",
      "16:09 bilby INFO    :   inverted_mass_ratio = 1.1510187511248808\n",
      "16:09 bilby INFO    :   mass_1_source = 33.23919121602536\n",
      "16:09 bilby INFO    :   mass_2_source = 28.878062310923244\n",
      "16:09 bilby INFO    :   total_mass_source = 62.1172535269486\n",
      "16:09 bilby INFO    :   chirp_mass_source = 26.958060841344064\n",
      "16:09 bilby INFO    :   chi_p_2spin = 0.6991048646002762\n",
      "16:09 bilby INFO    :   beta = 0.2964834516665308\n",
      "16:09 bilby INFO    :   psi_J = 1.8454358595594362\n",
      "16:09 bilby INFO    :   final_spin = 0.6847123040726873\n",
      "16:09 bilby INFO    :   peak_luminosity = 3.4650910541734206\n",
      "16:09 bilby INFO    :   final_mass = 65.67190490679377\n",
      "16:09 bilby INFO    :   final_mass_source = 59.33182150082807\n",
      "16:09 bilby INFO    :   radiated_energy = 2.7854320261205316\n",
      "16:09 bilby INFO    :   H1_time = 1126259462.4241831\n",
      "16:09 bilby INFO    :   L1_time = 1126259462.417131\n",
      "16:09 bilby INFO    :   network_optimal_snr = 23.858104345633123\n",
      "16:09 bilby INFO    :   network_matched_filter_snr = 26.062659432941388\n",
      "16:09 bilby INFO    :   cos_theta_jn = -0.7957343530217185\n",
      "16:09 bilby INFO    :   viewing_angle = 0.6505771989131781\n",
      "16:09 bilby INFO    :   cos_iota = -0.7159420610982777\n",
      "16:09 bilby INFO    :   tilt_1_infinity_only_prec_avg = 1.9184456335196816\n",
      "16:09 bilby INFO    :   tilt_2_infinity_only_prec_avg = 1.4496492121062137\n",
      "16:09 bilby INFO    :   spin_1z_infinity_only_prec_avg = -0.29327903351648726\n",
      "16:09 bilby INFO    :   spin_2z_infinity_only_prec_avg = 0.08695335504061963\n",
      "16:09 bilby INFO    :   chi_eff_infinity_only_prec_avg = -0.11651051936092102\n",
      "16:09 bilby INFO    :   chi_p_infinity_only_prec_avg = 0.8093428662414038\n",
      "16:09 bilby INFO    :   cos_tilt_1_infinity_only_prec_avg = -0.3406886849852173\n",
      "16:09 bilby INFO    :   cos_tilt_2_infinity_only_prec_avg = 0.12085099364542307\n",
      "16:09 bilby INFO    : Injected signal in L1:\n",
      "16:09 bilby INFO    :   optimal SNR = 193.44\n",
      "16:09 bilby INFO    :   matched filter SNR = 192.45-0.21j\n",
      "16:09 bilby INFO    :   chirp_mass = 29.8387469533461\n",
      "16:09 bilby INFO    :   mass_ratio = 0.8687955769814424\n",
      "16:09 bilby INFO    :   a_1 = 0.8608417198511092\n",
      "16:09 bilby INFO    :   a_2 = 0.7195088134379835\n",
      "16:09 bilby INFO    :   tilt_1 = 2.3792185506368795\n",
      "16:09 bilby INFO    :   tilt_2 = 0.8663525482689185\n",
      "16:09 bilby INFO    :   phi_12 = 5.878104994643697\n",
      "16:09 bilby INFO    :   phi_jl = 0.25757481830607415\n",
      "16:09 bilby INFO    :   theta_jn = 1.5707963267948966\n",
      "16:09 bilby INFO    :   psi = 0.6912519348265866\n",
      "16:09 bilby INFO    :   phase = 4.000226339478637\n",
      "16:09 bilby INFO    :   azimuth = 2.590928400193608\n",
      "16:09 bilby INFO    :   zenith = 2.3522458754068447\n",
      "16:09 bilby INFO    :   recalib_H1_amplitude_0 = -0.005868249419321757\n",
      "16:09 bilby INFO    :   recalib_H1_amplitude_1 = -0.043783360917849956\n",
      "16:09 bilby INFO    :   recalib_H1_amplitude_2 = -0.04728295327822305\n",
      "16:09 bilby INFO    :   recalib_H1_amplitude_3 = 0.08222264173465693\n",
      "16:09 bilby INFO    :   recalib_H1_amplitude_4 = 0.011855669695012536\n",
      "16:09 bilby INFO    :   recalib_H1_amplitude_5 = -0.008990421387286167\n",
      "16:09 bilby INFO    :   recalib_H1_amplitude_6 = -0.020009159194152252\n",
      "16:09 bilby INFO    :   recalib_H1_amplitude_7 = 0.008484833525516596\n",
      "16:09 bilby INFO    :   recalib_H1_amplitude_8 = -0.018327160189299724\n",
      "16:09 bilby INFO    :   recalib_H1_amplitude_9 = -0.0023772652335948725\n",
      "16:09 bilby INFO    :   recalib_H1_phase_0 = -0.0006461526627345466\n",
      "16:09 bilby INFO    :   recalib_H1_phase_1 = 0.051177755324892465\n",
      "16:09 bilby INFO    :   recalib_H1_phase_2 = 0.01399307494477739\n",
      "16:09 bilby INFO    :   recalib_H1_phase_3 = 0.08416966330293393\n",
      "16:09 bilby INFO    :   recalib_H1_phase_4 = 0.047473946777130974\n",
      "16:09 bilby INFO    :   recalib_H1_phase_5 = 0.013916433512643673\n",
      "16:09 bilby INFO    :   recalib_H1_phase_6 = -0.02128658443550522\n",
      "16:09 bilby INFO    :   recalib_H1_phase_7 = 0.02296630800067761\n",
      "16:09 bilby INFO    :   recalib_H1_phase_8 = -0.037098045831878486\n",
      "16:09 bilby INFO    :   recalib_H1_phase_9 = -0.018967830067115908\n",
      "16:09 bilby INFO    :   recalib_L1_amplitude_0 = -0.036293801292262916\n",
      "16:09 bilby INFO    :   recalib_L1_amplitude_1 = 0.014361561207618069\n",
      "16:09 bilby INFO    :   recalib_L1_amplitude_2 = -0.08693301208957734\n",
      "16:09 bilby INFO    :   recalib_L1_amplitude_3 = 0.10143853088596673\n",
      "16:09 bilby INFO    :   recalib_L1_amplitude_4 = -0.0077889246361674885\n",
      "16:09 bilby INFO    :   recalib_L1_amplitude_5 = -0.025543820665279264\n",
      "16:09 bilby INFO    :   recalib_L1_amplitude_6 = -0.021247887291087522\n",
      "16:09 bilby INFO    :   recalib_L1_amplitude_7 = 0.013667834994950237\n",
      "16:09 bilby INFO    :   recalib_L1_amplitude_8 = 0.012377526160578984\n",
      "16:09 bilby INFO    :   recalib_L1_amplitude_9 = 0.021583525090134788\n",
      "16:09 bilby INFO    :   recalib_L1_phase_0 = -0.02268955770914274\n",
      "16:09 bilby INFO    :   recalib_L1_phase_1 = -0.027473420705276475\n",
      "16:09 bilby INFO    :   recalib_L1_phase_2 = -0.0943607841222296\n",
      "16:09 bilby INFO    :   recalib_L1_phase_3 = 0.029977319706674166\n",
      "16:09 bilby INFO    :   recalib_L1_phase_4 = 0.08523838545670002\n",
      "16:09 bilby INFO    :   recalib_L1_phase_5 = -0.056840952818595976\n",
      "16:09 bilby INFO    :   recalib_L1_phase_6 = -0.004019423152701047\n",
      "16:09 bilby INFO    :   recalib_L1_phase_7 = 0.03270580357083033\n",
      "16:09 bilby INFO    :   recalib_L1_phase_8 = 0.02364064367507932\n",
      "16:09 bilby INFO    :   recalib_L1_phase_9 = -0.002027753595167955\n",
      "16:09 bilby INFO    :   time_jitter = 6.515517343713782e-06\n",
      "16:09 bilby INFO    :   luminosity_distance = 100\n",
      "16:09 bilby INFO    :   geocent_time = 1126259462.408404\n",
      "16:09 bilby INFO    :   recalib_H1_frequency_0 = 19.999999999999996\n",
      "16:09 bilby INFO    :   recalib_H1_frequency_1 = 30.514434824844255\n",
      "16:09 bilby INFO    :   recalib_H1_frequency_2 = 46.55653663398341\n",
      "16:09 bilby INFO    :   recalib_H1_frequency_3 = 71.03232013940804\n",
      "16:09 bilby INFO    :   recalib_H1_frequency_4 = 108.37555516757195\n",
      "16:09 bilby INFO    :   recalib_H1_frequency_5 = 165.35094073835938\n",
      "16:09 bilby INFO    :   recalib_H1_frequency_6 = 252.27952521936786\n",
      "16:09 bilby INFO    :   recalib_H1_frequency_7 = 384.9083564974527\n",
      "16:09 bilby INFO    :   recalib_H1_frequency_8 = 587.2630478939719\n",
      "16:09 bilby INFO    :   recalib_H1_frequency_9 = 895.9999999999999\n",
      "16:09 bilby INFO    :   recalib_L1_frequency_0 = 19.999999999999996\n",
      "16:09 bilby INFO    :   recalib_L1_frequency_1 = 30.514434824844255\n",
      "16:09 bilby INFO    :   recalib_L1_frequency_2 = 46.55653663398341\n",
      "16:09 bilby INFO    :   recalib_L1_frequency_3 = 71.03232013940804\n",
      "16:09 bilby INFO    :   recalib_L1_frequency_4 = 108.37555516757195\n",
      "16:09 bilby INFO    :   recalib_L1_frequency_5 = 165.35094073835938\n",
      "16:09 bilby INFO    :   recalib_L1_frequency_6 = 252.27952521936786\n",
      "16:09 bilby INFO    :   recalib_L1_frequency_7 = 384.9083564974527\n",
      "16:09 bilby INFO    :   recalib_L1_frequency_8 = 587.2630478939719\n",
      "16:09 bilby INFO    :   recalib_L1_frequency_9 = 895.9999999999999\n",
      "16:09 bilby INFO    :   log_likelihood = 328.4324942070929\n",
      "16:09 bilby INFO    :   log_prior = 66.29957866305776\n",
      "16:09 bilby INFO    :   total_mass = 68.75498279849768\n",
      "16:09 bilby INFO    :   mass_1 = 36.79106674126104\n",
      "16:09 bilby INFO    :   mass_2 = 31.96391605723664\n",
      "16:09 bilby INFO    :   ra = 2.216116171456804\n",
      "16:09 bilby INFO    :   dec = -1.2259035208296045\n",
      "16:09 bilby INFO    :   symmetric_mass_ratio = 0.24876770874914655\n",
      "16:09 bilby INFO    :   spin_1x = 0.5904472619004925\n",
      "16:09 bilby INFO    :   spin_1y = -0.06957261443892127\n",
      "16:09 bilby INFO    :   spin_1z = -0.6225593536929314\n",
      "16:09 bilby INFO    :   spin_2x = 0.4751310354864326\n",
      "16:09 bilby INFO    :   spin_2y = -0.2735390509327497\n",
      "16:09 bilby INFO    :   spin_2z = 0.46596117794011116\n",
      "16:09 bilby INFO    :   phi_1 = 6.1658957660048594\n",
      "16:09 bilby INFO    :   phi_2 = 5.760815453468969\n",
      "16:09 bilby INFO    :   chi_eff = -0.11651051936092104\n",
      "16:09 bilby INFO    :   chi_1_in_plane = 0.5945320157616876\n",
      "16:09 bilby INFO    :   chi_2_in_plane = 0.5482454863175794\n",
      "16:09 bilby INFO    :   chi_p = 0.5945320157616876\n",
      "16:09 bilby INFO    :   cos_tilt_1 = -0.7231983991210473\n",
      "16:09 bilby INFO    :   cos_tilt_2 = 0.6476101046123928\n",
      "16:09 bilby INFO    :   comoving_distance = 460.07828764617136\n",
      "16:09 bilby INFO    :   H1_matched_filter_snr = 21.221089162046386\n",
      "16:09 bilby INFO    :   H1_optimal_snr = 19.957775833584304\n",
      "16:09 bilby INFO    :   L1_matched_filter_snr = 15.167442050430017\n",
      "16:09 bilby INFO    :   L1_optimal_snr = 13.072732183576488\n",
      "16:09 bilby INFO    :   H1_matched_filter_abs_snr = 21.320120947355953\n",
      "16:09 bilby INFO    :   H1_matched_filter_snr_angle = -0.09642190803027524\n",
      "16:09 bilby INFO    :   L1_matched_filter_abs_snr = 15.262798565714363\n",
      "16:09 bilby INFO    :   L1_matched_filter_snr_angle = -0.11184059441681089\n",
      "16:09 bilby INFO    :   redshift = 0.10685806108071728\n",
      "16:09 bilby INFO    :   inverted_mass_ratio = 1.1510187511248808\n",
      "16:09 bilby INFO    :   mass_1_source = 33.23919121602536\n",
      "16:09 bilby INFO    :   mass_2_source = 28.878062310923244\n",
      "16:09 bilby INFO    :   total_mass_source = 62.1172535269486\n",
      "16:09 bilby INFO    :   chirp_mass_source = 26.958060841344064\n",
      "16:09 bilby INFO    :   chi_p_2spin = 0.6991048646002762\n",
      "16:09 bilby INFO    :   beta = 0.2964834516665308\n",
      "16:09 bilby INFO    :   psi_J = 1.8454358595594362\n",
      "16:09 bilby INFO    :   final_spin = 0.6847123040726873\n",
      "16:09 bilby INFO    :   peak_luminosity = 3.4650910541734206\n",
      "16:09 bilby INFO    :   final_mass = 65.67190490679377\n",
      "16:09 bilby INFO    :   final_mass_source = 59.33182150082807\n",
      "16:09 bilby INFO    :   radiated_energy = 2.7854320261205316\n",
      "16:09 bilby INFO    :   H1_time = 1126259462.4241831\n",
      "16:09 bilby INFO    :   L1_time = 1126259462.417131\n",
      "16:09 bilby INFO    :   network_optimal_snr = 23.858104345633123\n",
      "16:09 bilby INFO    :   network_matched_filter_snr = 26.062659432941388\n",
      "16:09 bilby INFO    :   cos_theta_jn = -0.7957343530217185\n",
      "16:09 bilby INFO    :   viewing_angle = 0.6505771989131781\n",
      "16:09 bilby INFO    :   cos_iota = -0.7159420610982777\n",
      "16:09 bilby INFO    :   tilt_1_infinity_only_prec_avg = 1.9184456335196816\n",
      "16:09 bilby INFO    :   tilt_2_infinity_only_prec_avg = 1.4496492121062137\n",
      "16:09 bilby INFO    :   spin_1z_infinity_only_prec_avg = -0.29327903351648726\n",
      "16:09 bilby INFO    :   spin_2z_infinity_only_prec_avg = 0.08695335504061963\n",
      "16:09 bilby INFO    :   chi_eff_infinity_only_prec_avg = -0.11651051936092102\n",
      "16:09 bilby INFO    :   chi_p_infinity_only_prec_avg = 0.8093428662414038\n",
      "16:09 bilby INFO    :   cos_tilt_1_infinity_only_prec_avg = -0.3406886849852173\n",
      "16:09 bilby INFO    :   cos_tilt_2_infinity_only_prec_avg = 0.12085099364542307\n",
      "16:09 bilby INFO    : Waveform generator initiated with\n",
      "  frequency_domain_source_model: waveforms.mem_freq_XPHM\n",
      "  time_domain_source_model: None\n",
      "  parameter_conversion: bilby.gw.conversion.convert_to_lal_binary_black_hole_parameters\n",
      "16:09 bilby INFO    : Waveform generator initiated with\n",
      "  frequency_domain_source_model: waveforms.mem_freq_XPHM\n",
      "  time_domain_source_model: None\n",
      "  parameter_conversion: bilby.gw.conversion.convert_to_lal_binary_black_hole_parameters\n"
     ]
    },
    {
     "name": "stdout",
     "output_type": "stream",
     "text": [
      "51759.30613139419\n"
     ]
    },
    {
     "name": "stderr",
     "output_type": "stream",
     "text": [
      "16:09 bilby INFO    : Waveform generator initiated with\n",
      "  frequency_domain_source_model: waveforms.mem_freq_XPHM\n",
      "  time_domain_source_model: None\n",
      "  parameter_conversion: bilby.gw.conversion.convert_to_lal_binary_black_hole_parameters\n"
     ]
    },
    {
     "name": "stdout",
     "output_type": "stream",
     "text": [
      "51759.42961026137\n"
     ]
    },
    {
     "name": "stderr",
     "output_type": "stream",
     "text": [
      "16:09 bilby INFO    : Waveform generator initiated with\n",
      "  frequency_domain_source_model: waveforms.mem_freq_XPHM\n",
      "  time_domain_source_model: None\n",
      "  parameter_conversion: bilby.gw.conversion.convert_to_lal_binary_black_hole_parameters\n"
     ]
    },
    {
     "name": "stdout",
     "output_type": "stream",
     "text": [
      "51759.54397931893\n"
     ]
    },
    {
     "name": "stderr",
     "output_type": "stream",
     "text": [
      "16:09 bilby INFO    : Waveform generator initiated with\n",
      "  frequency_domain_source_model: waveforms.mem_freq_XPHM\n",
      "  time_domain_source_model: None\n",
      "  parameter_conversion: bilby.gw.conversion.convert_to_lal_binary_black_hole_parameters\n"
     ]
    },
    {
     "name": "stdout",
     "output_type": "stream",
     "text": [
      "51759.64923856676\n"
     ]
    },
    {
     "name": "stderr",
     "output_type": "stream",
     "text": [
      "16:09 bilby INFO    : Waveform generator initiated with\n",
      "  frequency_domain_source_model: waveforms.mem_freq_XPHM\n",
      "  time_domain_source_model: None\n",
      "  parameter_conversion: bilby.gw.conversion.convert_to_lal_binary_black_hole_parameters\n"
     ]
    },
    {
     "name": "stdout",
     "output_type": "stream",
     "text": [
      "51759.74538800492\n"
     ]
    },
    {
     "name": "stderr",
     "output_type": "stream",
     "text": [
      "16:09 bilby INFO    : Waveform generator initiated with\n",
      "  frequency_domain_source_model: waveforms.mem_freq_XPHM\n",
      "  time_domain_source_model: None\n",
      "  parameter_conversion: bilby.gw.conversion.convert_to_lal_binary_black_hole_parameters\n"
     ]
    },
    {
     "name": "stdout",
     "output_type": "stream",
     "text": [
      "51759.83242763341\n"
     ]
    },
    {
     "name": "stderr",
     "output_type": "stream",
     "text": [
      "16:09 bilby INFO    : Waveform generator initiated with\n",
      "  frequency_domain_source_model: waveforms.mem_freq_XPHM\n",
      "  time_domain_source_model: None\n",
      "  parameter_conversion: bilby.gw.conversion.convert_to_lal_binary_black_hole_parameters\n"
     ]
    },
    {
     "name": "stdout",
     "output_type": "stream",
     "text": [
      "51759.91035745219\n"
     ]
    },
    {
     "name": "stderr",
     "output_type": "stream",
     "text": [
      "16:09 bilby INFO    : Waveform generator initiated with\n",
      "  frequency_domain_source_model: waveforms.mem_freq_XPHM\n",
      "  time_domain_source_model: None\n",
      "  parameter_conversion: bilby.gw.conversion.convert_to_lal_binary_black_hole_parameters\n"
     ]
    },
    {
     "name": "stdout",
     "output_type": "stream",
     "text": [
      "51759.979177461326\n"
     ]
    },
    {
     "name": "stderr",
     "output_type": "stream",
     "text": [
      "16:09 bilby INFO    : Waveform generator initiated with\n",
      "  frequency_domain_source_model: waveforms.mem_freq_XPHM\n",
      "  time_domain_source_model: None\n",
      "  parameter_conversion: bilby.gw.conversion.convert_to_lal_binary_black_hole_parameters\n"
     ]
    },
    {
     "name": "stdout",
     "output_type": "stream",
     "text": [
      "51760.038887660776\n"
     ]
    },
    {
     "name": "stderr",
     "output_type": "stream",
     "text": [
      "16:09 bilby INFO    : Waveform generator initiated with\n",
      "  frequency_domain_source_model: waveforms.mem_freq_XPHM\n",
      "  time_domain_source_model: None\n",
      "  parameter_conversion: bilby.gw.conversion.convert_to_lal_binary_black_hole_parameters\n"
     ]
    },
    {
     "name": "stdout",
     "output_type": "stream",
     "text": [
      "51760.089488050515\n"
     ]
    },
    {
     "name": "stderr",
     "output_type": "stream",
     "text": [
      "16:09 bilby INFO    : Waveform generator initiated with\n",
      "  frequency_domain_source_model: waveforms.mem_freq_XPHM\n",
      "  time_domain_source_model: None\n",
      "  parameter_conversion: bilby.gw.conversion.convert_to_lal_binary_black_hole_parameters\n"
     ]
    },
    {
     "name": "stdout",
     "output_type": "stream",
     "text": [
      "51760.130978630594\n"
     ]
    },
    {
     "name": "stderr",
     "output_type": "stream",
     "text": [
      "16:10 bilby INFO    : Waveform generator initiated with\n",
      "  frequency_domain_source_model: waveforms.mem_freq_XPHM\n",
      "  time_domain_source_model: None\n",
      "  parameter_conversion: bilby.gw.conversion.convert_to_lal_binary_black_hole_parameters\n"
     ]
    },
    {
     "name": "stdout",
     "output_type": "stream",
     "text": [
      "51760.163359401005\n"
     ]
    },
    {
     "name": "stderr",
     "output_type": "stream",
     "text": [
      "16:10 bilby INFO    : Waveform generator initiated with\n",
      "  frequency_domain_source_model: waveforms.mem_freq_XPHM\n",
      "  time_domain_source_model: None\n",
      "  parameter_conversion: bilby.gw.conversion.convert_to_lal_binary_black_hole_parameters\n"
     ]
    },
    {
     "name": "stdout",
     "output_type": "stream",
     "text": [
      "51760.18663036171\n"
     ]
    },
    {
     "name": "stderr",
     "output_type": "stream",
     "text": [
      "16:10 bilby INFO    : Waveform generator initiated with\n",
      "  frequency_domain_source_model: waveforms.mem_freq_XPHM\n",
      "  time_domain_source_model: None\n",
      "  parameter_conversion: bilby.gw.conversion.convert_to_lal_binary_black_hole_parameters\n"
     ]
    },
    {
     "name": "stdout",
     "output_type": "stream",
     "text": [
      "51760.20079151276\n"
     ]
    },
    {
     "name": "stderr",
     "output_type": "stream",
     "text": [
      "16:10 bilby INFO    : Waveform generator initiated with\n",
      "  frequency_domain_source_model: waveforms.mem_freq_XPHM\n",
      "  time_domain_source_model: None\n",
      "  parameter_conversion: bilby.gw.conversion.convert_to_lal_binary_black_hole_parameters\n"
     ]
    },
    {
     "name": "stdout",
     "output_type": "stream",
     "text": [
      "51760.205842854106\n"
     ]
    },
    {
     "name": "stderr",
     "output_type": "stream",
     "text": [
      "16:10 bilby INFO    : Waveform generator initiated with\n",
      "  frequency_domain_source_model: waveforms.mem_freq_XPHM\n",
      "  time_domain_source_model: None\n",
      "  parameter_conversion: bilby.gw.conversion.convert_to_lal_binary_black_hole_parameters\n"
     ]
    },
    {
     "name": "stdout",
     "output_type": "stream",
     "text": [
      "51760.201784385805\n"
     ]
    },
    {
     "name": "stderr",
     "output_type": "stream",
     "text": [
      "16:10 bilby INFO    : Waveform generator initiated with\n",
      "  frequency_domain_source_model: waveforms.mem_freq_XPHM\n",
      "  time_domain_source_model: None\n",
      "  parameter_conversion: bilby.gw.conversion.convert_to_lal_binary_black_hole_parameters\n"
     ]
    },
    {
     "name": "stdout",
     "output_type": "stream",
     "text": [
      "51760.188616107785\n"
     ]
    },
    {
     "name": "stderr",
     "output_type": "stream",
     "text": [
      "16:10 bilby INFO    : Waveform generator initiated with\n",
      "  frequency_domain_source_model: waveforms.mem_freq_XPHM\n",
      "  time_domain_source_model: None\n",
      "  parameter_conversion: bilby.gw.conversion.convert_to_lal_binary_black_hole_parameters\n"
     ]
    },
    {
     "name": "stdout",
     "output_type": "stream",
     "text": [
      "51760.1663380201\n"
     ]
    },
    {
     "name": "stderr",
     "output_type": "stream",
     "text": [
      "16:10 bilby INFO    : Waveform generator initiated with\n",
      "  frequency_domain_source_model: waveforms.mem_freq_XPHM\n",
      "  time_domain_source_model: None\n",
      "  parameter_conversion: bilby.gw.conversion.convert_to_lal_binary_black_hole_parameters\n"
     ]
    },
    {
     "name": "stdout",
     "output_type": "stream",
     "text": [
      "51760.13495012274\n"
     ]
    },
    {
     "name": "stderr",
     "output_type": "stream",
     "text": [
      "16:10 bilby INFO    : Waveform generator initiated with\n",
      "  frequency_domain_source_model: waveforms.mem_freq_XPHM\n",
      "  time_domain_source_model: None\n",
      "  parameter_conversion: bilby.gw.conversion.convert_to_lal_binary_black_hole_parameters\n"
     ]
    },
    {
     "name": "stdout",
     "output_type": "stream",
     "text": [
      "51760.09445241565\n"
     ]
    },
    {
     "name": "stderr",
     "output_type": "stream",
     "text": [
      "16:10 bilby INFO    : Waveform generator initiated with\n",
      "  frequency_domain_source_model: waveforms.mem_freq_XPHM\n",
      "  time_domain_source_model: None\n",
      "  parameter_conversion: bilby.gw.conversion.convert_to_lal_binary_black_hole_parameters\n"
     ]
    },
    {
     "name": "stdout",
     "output_type": "stream",
     "text": [
      "51760.044844898934\n"
     ]
    },
    {
     "name": "stderr",
     "output_type": "stream",
     "text": [
      "16:10 bilby INFO    : Waveform generator initiated with\n",
      "  frequency_domain_source_model: waveforms.mem_freq_XPHM\n",
      "  time_domain_source_model: None\n",
      "  parameter_conversion: bilby.gw.conversion.convert_to_lal_binary_black_hole_parameters\n"
     ]
    },
    {
     "name": "stdout",
     "output_type": "stream",
     "text": [
      "51759.986127572534\n"
     ]
    },
    {
     "name": "stderr",
     "output_type": "stream",
     "text": [
      "16:10 bilby INFO    : Waveform generator initiated with\n",
      "  frequency_domain_source_model: waveforms.mem_freq_XPHM\n",
      "  time_domain_source_model: None\n",
      "  parameter_conversion: bilby.gw.conversion.convert_to_lal_binary_black_hole_parameters\n"
     ]
    },
    {
     "name": "stdout",
     "output_type": "stream",
     "text": [
      "51759.91830043642\n"
     ]
    },
    {
     "name": "stderr",
     "output_type": "stream",
     "text": [
      "16:10 bilby INFO    : Waveform generator initiated with\n",
      "  frequency_domain_source_model: waveforms.mem_freq_XPHM\n",
      "  time_domain_source_model: None\n",
      "  parameter_conversion: bilby.gw.conversion.convert_to_lal_binary_black_hole_parameters\n"
     ]
    },
    {
     "name": "stdout",
     "output_type": "stream",
     "text": [
      "51759.841363490625\n"
     ]
    },
    {
     "name": "stderr",
     "output_type": "stream",
     "text": [
      "16:10 bilby INFO    : Waveform generator initiated with\n",
      "  frequency_domain_source_model: waveforms.mem_freq_XPHM\n",
      "  time_domain_source_model: None\n",
      "  parameter_conversion: bilby.gw.conversion.convert_to_lal_binary_black_hole_parameters\n"
     ]
    },
    {
     "name": "stdout",
     "output_type": "stream",
     "text": [
      "51759.75531673519\n"
     ]
    },
    {
     "name": "stderr",
     "output_type": "stream",
     "text": [
      "16:10 bilby INFO    : Waveform generator initiated with\n",
      "  frequency_domain_source_model: waveforms.mem_freq_XPHM\n",
      "  time_domain_source_model: None\n",
      "  parameter_conversion: bilby.gw.conversion.convert_to_lal_binary_black_hole_parameters\n"
     ]
    },
    {
     "name": "stdout",
     "output_type": "stream",
     "text": [
      "51759.66016017007\n"
     ]
    },
    {
     "name": "stderr",
     "output_type": "stream",
     "text": [
      "16:10 bilby INFO    : Waveform generator initiated with\n",
      "  frequency_domain_source_model: waveforms.mem_freq_XPHM\n",
      "  time_domain_source_model: None\n",
      "  parameter_conversion: bilby.gw.conversion.convert_to_lal_binary_black_hole_parameters\n"
     ]
    },
    {
     "name": "stdout",
     "output_type": "stream",
     "text": [
      "51759.55589379523\n"
     ]
    },
    {
     "name": "stderr",
     "output_type": "stream",
     "text": [
      "16:10 bilby INFO    : Waveform generator initiated with\n",
      "  frequency_domain_source_model: waveforms.mem_freq_XPHM\n",
      "  time_domain_source_model: None\n",
      "  parameter_conversion: bilby.gw.conversion.convert_to_lal_binary_black_hole_parameters\n"
     ]
    },
    {
     "name": "stdout",
     "output_type": "stream",
     "text": [
      "51759.44251761072\n"
     ]
    },
    {
     "name": "stderr",
     "output_type": "stream",
     "text": [
      "16:10 bilby INFO    : Waveform generator initiated with\n",
      "  frequency_domain_source_model: waveforms.mem_freq_XPHM\n",
      "  time_domain_source_model: None\n",
      "  parameter_conversion: bilby.gw.conversion.convert_to_lal_binary_black_hole_parameters\n"
     ]
    },
    {
     "name": "stdout",
     "output_type": "stream",
     "text": [
      "51759.320031616546\n"
     ]
    },
    {
     "name": "stderr",
     "output_type": "stream",
     "text": [
      "16:10 bilby INFO    : Waveform generator initiated with\n",
      "  frequency_domain_source_model: waveforms.mem_freq_XPHM\n",
      "  time_domain_source_model: None\n",
      "  parameter_conversion: bilby.gw.conversion.convert_to_lal_binary_black_hole_parameters\n"
     ]
    },
    {
     "name": "stdout",
     "output_type": "stream",
     "text": [
      "51759.1884358127\n"
     ]
    },
    {
     "name": "stderr",
     "output_type": "stream",
     "text": [
      "16:10 bilby INFO    : Waveform generator initiated with\n",
      "  frequency_domain_source_model: waveforms.mem_freq_XPHM\n",
      "  time_domain_source_model: None\n",
      "  parameter_conversion: bilby.gw.conversion.convert_to_lal_binary_black_hole_parameters\n"
     ]
    },
    {
     "name": "stdout",
     "output_type": "stream",
     "text": [
      "51759.04773019915\n"
     ]
    },
    {
     "name": "stderr",
     "output_type": "stream",
     "text": [
      "16:10 bilby INFO    : Waveform generator initiated with\n",
      "  frequency_domain_source_model: waveforms.mem_freq_XPHM\n",
      "  time_domain_source_model: None\n",
      "  parameter_conversion: bilby.gw.conversion.convert_to_lal_binary_black_hole_parameters\n"
     ]
    },
    {
     "name": "stdout",
     "output_type": "stream",
     "text": [
      "51758.897914775924\n"
     ]
    },
    {
     "name": "stderr",
     "output_type": "stream",
     "text": [
      "16:10 bilby INFO    : Waveform generator initiated with\n",
      "  frequency_domain_source_model: waveforms.mem_freq_XPHM\n",
      "  time_domain_source_model: None\n",
      "  parameter_conversion: bilby.gw.conversion.convert_to_lal_binary_black_hole_parameters\n"
     ]
    },
    {
     "name": "stdout",
     "output_type": "stream",
     "text": [
      "51758.73898954301\n"
     ]
    },
    {
     "name": "stderr",
     "output_type": "stream",
     "text": [
      "16:10 bilby INFO    : Waveform generator initiated with\n",
      "  frequency_domain_source_model: waveforms.mem_freq_XPHM\n",
      "  time_domain_source_model: None\n",
      "  parameter_conversion: bilby.gw.conversion.convert_to_lal_binary_black_hole_parameters\n"
     ]
    },
    {
     "name": "stdout",
     "output_type": "stream",
     "text": [
      "51758.570954500436\n"
     ]
    },
    {
     "name": "stderr",
     "output_type": "stream",
     "text": [
      "16:10 bilby INFO    : Waveform generator initiated with\n",
      "  frequency_domain_source_model: waveforms.mem_freq_XPHM\n",
      "  time_domain_source_model: None\n",
      "  parameter_conversion: bilby.gw.conversion.convert_to_lal_binary_black_hole_parameters\n"
     ]
    },
    {
     "name": "stdout",
     "output_type": "stream",
     "text": [
      "51758.39380964814\n"
     ]
    },
    {
     "name": "stderr",
     "output_type": "stream",
     "text": [
      "16:10 bilby INFO    : Waveform generator initiated with\n",
      "  frequency_domain_source_model: waveforms.mem_freq_XPHM\n",
      "  time_domain_source_model: None\n",
      "  parameter_conversion: bilby.gw.conversion.convert_to_lal_binary_black_hole_parameters\n"
     ]
    },
    {
     "name": "stdout",
     "output_type": "stream",
     "text": [
      "51758.20755498622\n"
     ]
    },
    {
     "name": "stderr",
     "output_type": "stream",
     "text": [
      "16:10 bilby INFO    : Waveform generator initiated with\n",
      "  frequency_domain_source_model: waveforms.mem_freq_XPHM\n",
      "  time_domain_source_model: None\n",
      "  parameter_conversion: bilby.gw.conversion.convert_to_lal_binary_black_hole_parameters\n"
     ]
    },
    {
     "name": "stdout",
     "output_type": "stream",
     "text": [
      "51758.01219051457\n"
     ]
    },
    {
     "name": "stderr",
     "output_type": "stream",
     "text": [
      "16:10 bilby INFO    : Waveform generator initiated with\n",
      "  frequency_domain_source_model: waveforms.mem_freq_XPHM\n",
      "  time_domain_source_model: None\n",
      "  parameter_conversion: bilby.gw.conversion.convert_to_lal_binary_black_hole_parameters\n"
     ]
    },
    {
     "name": "stdout",
     "output_type": "stream",
     "text": [
      "51757.80771623326\n"
     ]
    },
    {
     "name": "stderr",
     "output_type": "stream",
     "text": [
      "16:10 bilby INFO    : Waveform generator initiated with\n",
      "  frequency_domain_source_model: waveforms.mem_freq_XPHM\n",
      "  time_domain_source_model: None\n",
      "  parameter_conversion: bilby.gw.conversion.convert_to_lal_binary_black_hole_parameters\n"
     ]
    },
    {
     "name": "stdout",
     "output_type": "stream",
     "text": [
      "51757.59413214226\n"
     ]
    },
    {
     "name": "stderr",
     "output_type": "stream",
     "text": [
      "16:10 bilby INFO    : Waveform generator initiated with\n",
      "  frequency_domain_source_model: waveforms.mem_freq_XPHM\n",
      "  time_domain_source_model: None\n",
      "  parameter_conversion: bilby.gw.conversion.convert_to_lal_binary_black_hole_parameters\n"
     ]
    },
    {
     "name": "stdout",
     "output_type": "stream",
     "text": [
      "51757.37143824161\n"
     ]
    },
    {
     "name": "stderr",
     "output_type": "stream",
     "text": [
      "16:10 bilby INFO    : Waveform generator initiated with\n",
      "  frequency_domain_source_model: waveforms.mem_freq_XPHM\n",
      "  time_domain_source_model: None\n",
      "  parameter_conversion: bilby.gw.conversion.convert_to_lal_binary_black_hole_parameters\n"
     ]
    },
    {
     "name": "stdout",
     "output_type": "stream",
     "text": [
      "51757.13963453125\n"
     ]
    },
    {
     "name": "stderr",
     "output_type": "stream",
     "text": [
      "16:10 bilby INFO    : Waveform generator initiated with\n",
      "  frequency_domain_source_model: waveforms.mem_freq_XPHM\n",
      "  time_domain_source_model: None\n",
      "  parameter_conversion: bilby.gw.conversion.convert_to_lal_binary_black_hole_parameters\n"
     ]
    },
    {
     "name": "stdout",
     "output_type": "stream",
     "text": [
      "51756.89872101121\n"
     ]
    },
    {
     "name": "stderr",
     "output_type": "stream",
     "text": [
      "16:10 bilby INFO    : Waveform generator initiated with\n",
      "  frequency_domain_source_model: waveforms.mem_freq_XPHM\n",
      "  time_domain_source_model: None\n",
      "  parameter_conversion: bilby.gw.conversion.convert_to_lal_binary_black_hole_parameters\n"
     ]
    },
    {
     "name": "stdout",
     "output_type": "stream",
     "text": [
      "51756.64869768148\n"
     ]
    },
    {
     "name": "stderr",
     "output_type": "stream",
     "text": [
      "16:10 bilby INFO    : Waveform generator initiated with\n",
      "  frequency_domain_source_model: waveforms.mem_freq_XPHM\n",
      "  time_domain_source_model: None\n",
      "  parameter_conversion: bilby.gw.conversion.convert_to_lal_binary_black_hole_parameters\n"
     ]
    },
    {
     "name": "stdout",
     "output_type": "stream",
     "text": [
      "51756.38956454209\n"
     ]
    },
    {
     "name": "stderr",
     "output_type": "stream",
     "text": [
      "16:10 bilby INFO    : Waveform generator initiated with\n",
      "  frequency_domain_source_model: waveforms.mem_freq_XPHM\n",
      "  time_domain_source_model: None\n",
      "  parameter_conversion: bilby.gw.conversion.convert_to_lal_binary_black_hole_parameters\n"
     ]
    },
    {
     "name": "stdout",
     "output_type": "stream",
     "text": [
      "51756.12132159299\n"
     ]
    },
    {
     "name": "stderr",
     "output_type": "stream",
     "text": [
      "16:10 bilby INFO    : Waveform generator initiated with\n",
      "  frequency_domain_source_model: waveforms.mem_freq_XPHM\n",
      "  time_domain_source_model: None\n",
      "  parameter_conversion: bilby.gw.conversion.convert_to_lal_binary_black_hole_parameters\n"
     ]
    },
    {
     "name": "stdout",
     "output_type": "stream",
     "text": [
      "51755.84396883425\n"
     ]
    },
    {
     "name": "stderr",
     "output_type": "stream",
     "text": [
      "16:10 bilby INFO    : Waveform generator initiated with\n",
      "  frequency_domain_source_model: waveforms.mem_freq_XPHM\n",
      "  time_domain_source_model: None\n",
      "  parameter_conversion: bilby.gw.conversion.convert_to_lal_binary_black_hole_parameters\n"
     ]
    },
    {
     "name": "stdout",
     "output_type": "stream",
     "text": [
      "51755.557506265795\n"
     ]
    },
    {
     "name": "stderr",
     "output_type": "stream",
     "text": [
      "16:10 bilby INFO    : Waveform generator initiated with\n",
      "  frequency_domain_source_model: waveforms.mem_freq_XPHM\n",
      "  time_domain_source_model: None\n",
      "  parameter_conversion: bilby.gw.conversion.convert_to_lal_binary_black_hole_parameters\n"
     ]
    },
    {
     "name": "stdout",
     "output_type": "stream",
     "text": [
      "51755.26193388768\n"
     ]
    },
    {
     "name": "stderr",
     "output_type": "stream",
     "text": [
      "16:10 bilby INFO    : Waveform generator initiated with\n",
      "  frequency_domain_source_model: waveforms.mem_freq_XPHM\n",
      "  time_domain_source_model: None\n",
      "  parameter_conversion: bilby.gw.conversion.convert_to_lal_binary_black_hole_parameters\n"
     ]
    },
    {
     "name": "stdout",
     "output_type": "stream",
     "text": [
      "51754.95725169985\n"
     ]
    },
    {
     "name": "stderr",
     "output_type": "stream",
     "text": [
      "16:10 bilby INFO    : Waveform generator initiated with\n",
      "  frequency_domain_source_model: waveforms.mem_freq_XPHM\n",
      "  time_domain_source_model: None\n",
      "  parameter_conversion: bilby.gw.conversion.convert_to_lal_binary_black_hole_parameters\n"
     ]
    },
    {
     "name": "stdout",
     "output_type": "stream",
     "text": [
      "51754.64345970236\n"
     ]
    },
    {
     "name": "stderr",
     "output_type": "stream",
     "text": [
      "16:10 bilby INFO    : Waveform generator initiated with\n",
      "  frequency_domain_source_model: waveforms.mem_freq_XPHM\n",
      "  time_domain_source_model: None\n",
      "  parameter_conversion: bilby.gw.conversion.convert_to_lal_binary_black_hole_parameters\n"
     ]
    },
    {
     "name": "stdout",
     "output_type": "stream",
     "text": [
      "51754.320557895204\n"
     ]
    },
    {
     "name": "stderr",
     "output_type": "stream",
     "text": [
      "16:10 bilby INFO    : Waveform generator initiated with\n",
      "  frequency_domain_source_model: waveforms.mem_freq_XPHM\n",
      "  time_domain_source_model: None\n",
      "  parameter_conversion: bilby.gw.conversion.convert_to_lal_binary_black_hole_parameters\n"
     ]
    },
    {
     "name": "stdout",
     "output_type": "stream",
     "text": [
      "51753.98854627835\n"
     ]
    },
    {
     "name": "stderr",
     "output_type": "stream",
     "text": [
      "16:10 bilby INFO    : Waveform generator initiated with\n",
      "  frequency_domain_source_model: waveforms.mem_freq_XPHM\n",
      "  time_domain_source_model: None\n",
      "  parameter_conversion: bilby.gw.conversion.convert_to_lal_binary_black_hole_parameters\n"
     ]
    },
    {
     "name": "stdout",
     "output_type": "stream",
     "text": [
      "51753.64742485182\n"
     ]
    },
    {
     "name": "stderr",
     "output_type": "stream",
     "text": [
      "16:10 bilby INFO    : Waveform generator initiated with\n",
      "  frequency_domain_source_model: waveforms.mem_freq_XPHM\n",
      "  time_domain_source_model: None\n",
      "  parameter_conversion: bilby.gw.conversion.convert_to_lal_binary_black_hole_parameters\n"
     ]
    },
    {
     "name": "stdout",
     "output_type": "stream",
     "text": [
      "51753.297193615595\n"
     ]
    },
    {
     "name": "stderr",
     "output_type": "stream",
     "text": [
      "16:10 bilby INFO    : Waveform generator initiated with\n",
      "  frequency_domain_source_model: waveforms.mem_freq_XPHM\n",
      "  time_domain_source_model: None\n",
      "  parameter_conversion: bilby.gw.conversion.convert_to_lal_binary_black_hole_parameters\n"
     ]
    },
    {
     "name": "stdout",
     "output_type": "stream",
     "text": [
      "51752.93785256971\n"
     ]
    },
    {
     "name": "stderr",
     "output_type": "stream",
     "text": [
      "16:10 bilby INFO    : Waveform generator initiated with\n",
      "  frequency_domain_source_model: waveforms.mem_freq_XPHM\n",
      "  time_domain_source_model: None\n",
      "  parameter_conversion: bilby.gw.conversion.convert_to_lal_binary_black_hole_parameters\n"
     ]
    },
    {
     "name": "stdout",
     "output_type": "stream",
     "text": [
      "51752.569401714165\n"
     ]
    },
    {
     "name": "stderr",
     "output_type": "stream",
     "text": [
      "16:10 bilby INFO    : Waveform generator initiated with\n",
      "  frequency_domain_source_model: waveforms.mem_freq_XPHM\n",
      "  time_domain_source_model: None\n",
      "  parameter_conversion: bilby.gw.conversion.convert_to_lal_binary_black_hole_parameters\n"
     ]
    },
    {
     "name": "stdout",
     "output_type": "stream",
     "text": [
      "51752.19184104889\n"
     ]
    },
    {
     "name": "stderr",
     "output_type": "stream",
     "text": [
      "16:10 bilby INFO    : Waveform generator initiated with\n",
      "  frequency_domain_source_model: waveforms.mem_freq_XPHM\n",
      "  time_domain_source_model: None\n",
      "  parameter_conversion: bilby.gw.conversion.convert_to_lal_binary_black_hole_parameters\n"
     ]
    },
    {
     "name": "stdout",
     "output_type": "stream",
     "text": [
      "51751.80517057397\n"
     ]
    },
    {
     "name": "stderr",
     "output_type": "stream",
     "text": [
      "16:10 bilby INFO    : Waveform generator initiated with\n",
      "  frequency_domain_source_model: waveforms.mem_freq_XPHM\n",
      "  time_domain_source_model: None\n",
      "  parameter_conversion: bilby.gw.conversion.convert_to_lal_binary_black_hole_parameters\n"
     ]
    },
    {
     "name": "stdout",
     "output_type": "stream",
     "text": [
      "51751.40939028933\n"
     ]
    },
    {
     "name": "stderr",
     "output_type": "stream",
     "text": [
      "16:10 bilby INFO    : Waveform generator initiated with\n",
      "  frequency_domain_source_model: waveforms.mem_freq_XPHM\n",
      "  time_domain_source_model: None\n",
      "  parameter_conversion: bilby.gw.conversion.convert_to_lal_binary_black_hole_parameters\n"
     ]
    },
    {
     "name": "stdout",
     "output_type": "stream",
     "text": [
      "51751.004500195035\n"
     ]
    },
    {
     "name": "stderr",
     "output_type": "stream",
     "text": [
      "16:10 bilby INFO    : Waveform generator initiated with\n",
      "  frequency_domain_source_model: waveforms.mem_freq_XPHM\n",
      "  time_domain_source_model: None\n",
      "  parameter_conversion: bilby.gw.conversion.convert_to_lal_binary_black_hole_parameters\n"
     ]
    },
    {
     "name": "stdout",
     "output_type": "stream",
     "text": [
      "51750.59050029106\n"
     ]
    },
    {
     "name": "stderr",
     "output_type": "stream",
     "text": [
      "16:10 bilby INFO    : Waveform generator initiated with\n",
      "  frequency_domain_source_model: waveforms.mem_freq_XPHM\n",
      "  time_domain_source_model: None\n",
      "  parameter_conversion: bilby.gw.conversion.convert_to_lal_binary_black_hole_parameters\n"
     ]
    },
    {
     "name": "stdout",
     "output_type": "stream",
     "text": [
      "51750.167390577386\n"
     ]
    },
    {
     "name": "stderr",
     "output_type": "stream",
     "text": [
      "16:10 bilby INFO    : Waveform generator initiated with\n",
      "  frequency_domain_source_model: waveforms.mem_freq_XPHM\n",
      "  time_domain_source_model: None\n",
      "  parameter_conversion: bilby.gw.conversion.convert_to_lal_binary_black_hole_parameters\n"
     ]
    },
    {
     "name": "stdout",
     "output_type": "stream",
     "text": [
      "51749.73517105405\n"
     ]
    },
    {
     "name": "stderr",
     "output_type": "stream",
     "text": [
      "16:10 bilby INFO    : Waveform generator initiated with\n",
      "  frequency_domain_source_model: waveforms.mem_freq_XPHM\n",
      "  time_domain_source_model: None\n",
      "  parameter_conversion: bilby.gw.conversion.convert_to_lal_binary_black_hole_parameters\n"
     ]
    },
    {
     "name": "stdout",
     "output_type": "stream",
     "text": [
      "51749.29384172104\n"
     ]
    },
    {
     "name": "stderr",
     "output_type": "stream",
     "text": [
      "16:10 bilby INFO    : Waveform generator initiated with\n",
      "  frequency_domain_source_model: waveforms.mem_freq_XPHM\n",
      "  time_domain_source_model: None\n",
      "  parameter_conversion: bilby.gw.conversion.convert_to_lal_binary_black_hole_parameters\n"
     ]
    },
    {
     "name": "stdout",
     "output_type": "stream",
     "text": [
      "51748.84340257832\n"
     ]
    },
    {
     "name": "stderr",
     "output_type": "stream",
     "text": [
      "16:10 bilby INFO    : Waveform generator initiated with\n",
      "  frequency_domain_source_model: waveforms.mem_freq_XPHM\n",
      "  time_domain_source_model: None\n",
      "  parameter_conversion: bilby.gw.conversion.convert_to_lal_binary_black_hole_parameters\n"
     ]
    },
    {
     "name": "stdout",
     "output_type": "stream",
     "text": [
      "51748.38385362593\n"
     ]
    },
    {
     "name": "stderr",
     "output_type": "stream",
     "text": [
      "16:10 bilby INFO    : Waveform generator initiated with\n",
      "  frequency_domain_source_model: waveforms.mem_freq_XPHM\n",
      "  time_domain_source_model: None\n",
      "  parameter_conversion: bilby.gw.conversion.convert_to_lal_binary_black_hole_parameters\n"
     ]
    },
    {
     "name": "stdout",
     "output_type": "stream",
     "text": [
      "51747.91519486387\n"
     ]
    },
    {
     "name": "stderr",
     "output_type": "stream",
     "text": [
      "16:10 bilby INFO    : Waveform generator initiated with\n",
      "  frequency_domain_source_model: waveforms.mem_freq_XPHM\n",
      "  time_domain_source_model: None\n",
      "  parameter_conversion: bilby.gw.conversion.convert_to_lal_binary_black_hole_parameters\n"
     ]
    },
    {
     "name": "stdout",
     "output_type": "stream",
     "text": [
      "51747.43742629211\n"
     ]
    },
    {
     "name": "stderr",
     "output_type": "stream",
     "text": [
      "16:10 bilby INFO    : Waveform generator initiated with\n",
      "  frequency_domain_source_model: waveforms.mem_freq_XPHM\n",
      "  time_domain_source_model: None\n",
      "  parameter_conversion: bilby.gw.conversion.convert_to_lal_binary_black_hole_parameters\n"
     ]
    },
    {
     "name": "stdout",
     "output_type": "stream",
     "text": [
      "51746.950547910696\n"
     ]
    },
    {
     "name": "stderr",
     "output_type": "stream",
     "text": [
      "16:10 bilby INFO    : Waveform generator initiated with\n",
      "  frequency_domain_source_model: waveforms.mem_freq_XPHM\n",
      "  time_domain_source_model: None\n",
      "  parameter_conversion: bilby.gw.conversion.convert_to_lal_binary_black_hole_parameters\n"
     ]
    },
    {
     "name": "stdout",
     "output_type": "stream",
     "text": [
      "51746.454559719605\n"
     ]
    },
    {
     "name": "stderr",
     "output_type": "stream",
     "text": [
      "16:10 bilby INFO    : Waveform generator initiated with\n",
      "  frequency_domain_source_model: waveforms.mem_freq_XPHM\n",
      "  time_domain_source_model: None\n",
      "  parameter_conversion: bilby.gw.conversion.convert_to_lal_binary_black_hole_parameters\n"
     ]
    },
    {
     "name": "stdout",
     "output_type": "stream",
     "text": [
      "51745.949461718825\n"
     ]
    },
    {
     "name": "stderr",
     "output_type": "stream",
     "text": [
      "16:10 bilby INFO    : Waveform generator initiated with\n",
      "  frequency_domain_source_model: waveforms.mem_freq_XPHM\n",
      "  time_domain_source_model: None\n",
      "  parameter_conversion: bilby.gw.conversion.convert_to_lal_binary_black_hole_parameters\n"
     ]
    },
    {
     "name": "stdout",
     "output_type": "stream",
     "text": [
      "51745.435253908305\n"
     ]
    },
    {
     "name": "stderr",
     "output_type": "stream",
     "text": [
      "16:10 bilby INFO    : Waveform generator initiated with\n",
      "  frequency_domain_source_model: waveforms.mem_freq_XPHM\n",
      "  time_domain_source_model: None\n",
      "  parameter_conversion: bilby.gw.conversion.convert_to_lal_binary_black_hole_parameters\n"
     ]
    },
    {
     "name": "stdout",
     "output_type": "stream",
     "text": [
      "51744.911936288176\n"
     ]
    },
    {
     "name": "stderr",
     "output_type": "stream",
     "text": [
      "16:10 bilby INFO    : Waveform generator initiated with\n",
      "  frequency_domain_source_model: waveforms.mem_freq_XPHM\n",
      "  time_domain_source_model: None\n",
      "  parameter_conversion: bilby.gw.conversion.convert_to_lal_binary_black_hole_parameters\n"
     ]
    },
    {
     "name": "stdout",
     "output_type": "stream",
     "text": [
      "51744.379508858314\n"
     ]
    },
    {
     "name": "stderr",
     "output_type": "stream",
     "text": [
      "16:10 bilby INFO    : Waveform generator initiated with\n",
      "  frequency_domain_source_model: waveforms.mem_freq_XPHM\n",
      "  time_domain_source_model: None\n",
      "  parameter_conversion: bilby.gw.conversion.convert_to_lal_binary_black_hole_parameters\n"
     ]
    },
    {
     "name": "stdout",
     "output_type": "stream",
     "text": [
      "51743.83797161882\n"
     ]
    },
    {
     "name": "stderr",
     "output_type": "stream",
     "text": [
      "16:10 bilby INFO    : Waveform generator initiated with\n",
      "  frequency_domain_source_model: waveforms.mem_freq_XPHM\n",
      "  time_domain_source_model: None\n",
      "  parameter_conversion: bilby.gw.conversion.convert_to_lal_binary_black_hole_parameters\n"
     ]
    },
    {
     "name": "stdout",
     "output_type": "stream",
     "text": [
      "51743.28732456961\n"
     ]
    },
    {
     "name": "stderr",
     "output_type": "stream",
     "text": [
      "16:10 bilby INFO    : Waveform generator initiated with\n",
      "  frequency_domain_source_model: waveforms.mem_freq_XPHM\n",
      "  time_domain_source_model: None\n",
      "  parameter_conversion: bilby.gw.conversion.convert_to_lal_binary_black_hole_parameters\n"
     ]
    },
    {
     "name": "stdout",
     "output_type": "stream",
     "text": [
      "51742.72756771074\n"
     ]
    },
    {
     "name": "stderr",
     "output_type": "stream",
     "text": [
      "16:10 bilby INFO    : Waveform generator initiated with\n",
      "  frequency_domain_source_model: waveforms.mem_freq_XPHM\n",
      "  time_domain_source_model: None\n",
      "  parameter_conversion: bilby.gw.conversion.convert_to_lal_binary_black_hole_parameters\n"
     ]
    },
    {
     "name": "stdout",
     "output_type": "stream",
     "text": [
      "51742.15870104217\n"
     ]
    },
    {
     "name": "stderr",
     "output_type": "stream",
     "text": [
      "16:11 bilby INFO    : Waveform generator initiated with\n",
      "  frequency_domain_source_model: waveforms.mem_freq_XPHM\n",
      "  time_domain_source_model: None\n",
      "  parameter_conversion: bilby.gw.conversion.convert_to_lal_binary_black_hole_parameters\n"
     ]
    },
    {
     "name": "stdout",
     "output_type": "stream",
     "text": [
      "51741.58072456393\n",
      "51740.99363827599\n"
     ]
    },
    {
     "name": "stderr",
     "output_type": "stream",
     "text": [
      "16:11 bilby INFO    : Injected signal in H1:\n",
      "16:11 bilby INFO    :   optimal SNR = 257.12\n",
      "16:11 bilby INFO    :   matched filter SNR = 257.60-0.35j\n",
      "16:11 bilby INFO    :   chirp_mass = 29.8387469533461\n",
      "16:11 bilby INFO    :   mass_ratio = 0.8687955769814424\n",
      "16:11 bilby INFO    :   a_1 = 0.8608417198511092\n",
      "16:11 bilby INFO    :   a_2 = 0.7195088134379835\n",
      "16:11 bilby INFO    :   tilt_1 = 2.3792185506368795\n",
      "16:11 bilby INFO    :   tilt_2 = 0.8663525482689185\n",
      "16:11 bilby INFO    :   phi_12 = 5.878104994643697\n",
      "16:11 bilby INFO    :   phi_jl = 0.25757481830607415\n",
      "16:11 bilby INFO    :   theta_jn = 1.5707963267948966\n",
      "16:11 bilby INFO    :   psi = 0.6912519348265866\n",
      "16:11 bilby INFO    :   phase = 4.000226339478637\n",
      "16:11 bilby INFO    :   azimuth = 2.590928400193608\n",
      "16:11 bilby INFO    :   zenith = 2.3522458754068447\n",
      "16:11 bilby INFO    :   recalib_H1_amplitude_0 = -0.005868249419321757\n",
      "16:11 bilby INFO    :   recalib_H1_amplitude_1 = -0.043783360917849956\n",
      "16:11 bilby INFO    :   recalib_H1_amplitude_2 = -0.04728295327822305\n",
      "16:11 bilby INFO    :   recalib_H1_amplitude_3 = 0.08222264173465693\n",
      "16:11 bilby INFO    :   recalib_H1_amplitude_4 = 0.011855669695012536\n",
      "16:11 bilby INFO    :   recalib_H1_amplitude_5 = -0.008990421387286167\n",
      "16:11 bilby INFO    :   recalib_H1_amplitude_6 = -0.020009159194152252\n",
      "16:11 bilby INFO    :   recalib_H1_amplitude_7 = 0.008484833525516596\n",
      "16:11 bilby INFO    :   recalib_H1_amplitude_8 = -0.018327160189299724\n",
      "16:11 bilby INFO    :   recalib_H1_amplitude_9 = -0.0023772652335948725\n",
      "16:11 bilby INFO    :   recalib_H1_phase_0 = -0.0006461526627345466\n",
      "16:11 bilby INFO    :   recalib_H1_phase_1 = 0.051177755324892465\n",
      "16:11 bilby INFO    :   recalib_H1_phase_2 = 0.01399307494477739\n",
      "16:11 bilby INFO    :   recalib_H1_phase_3 = 0.08416966330293393\n",
      "16:11 bilby INFO    :   recalib_H1_phase_4 = 0.047473946777130974\n",
      "16:11 bilby INFO    :   recalib_H1_phase_5 = 0.013916433512643673\n",
      "16:11 bilby INFO    :   recalib_H1_phase_6 = -0.02128658443550522\n",
      "16:11 bilby INFO    :   recalib_H1_phase_7 = 0.02296630800067761\n",
      "16:11 bilby INFO    :   recalib_H1_phase_8 = -0.037098045831878486\n",
      "16:11 bilby INFO    :   recalib_H1_phase_9 = -0.018967830067115908\n",
      "16:11 bilby INFO    :   recalib_L1_amplitude_0 = -0.036293801292262916\n",
      "16:11 bilby INFO    :   recalib_L1_amplitude_1 = 0.014361561207618069\n",
      "16:11 bilby INFO    :   recalib_L1_amplitude_2 = -0.08693301208957734\n",
      "16:11 bilby INFO    :   recalib_L1_amplitude_3 = 0.10143853088596673\n",
      "16:11 bilby INFO    :   recalib_L1_amplitude_4 = -0.0077889246361674885\n",
      "16:11 bilby INFO    :   recalib_L1_amplitude_5 = -0.025543820665279264\n",
      "16:11 bilby INFO    :   recalib_L1_amplitude_6 = -0.021247887291087522\n",
      "16:11 bilby INFO    :   recalib_L1_amplitude_7 = 0.013667834994950237\n",
      "16:11 bilby INFO    :   recalib_L1_amplitude_8 = 0.012377526160578984\n",
      "16:11 bilby INFO    :   recalib_L1_amplitude_9 = 0.021583525090134788\n",
      "16:11 bilby INFO    :   recalib_L1_phase_0 = -0.02268955770914274\n",
      "16:11 bilby INFO    :   recalib_L1_phase_1 = -0.027473420705276475\n",
      "16:11 bilby INFO    :   recalib_L1_phase_2 = -0.0943607841222296\n",
      "16:11 bilby INFO    :   recalib_L1_phase_3 = 0.029977319706674166\n",
      "16:11 bilby INFO    :   recalib_L1_phase_4 = 0.08523838545670002\n",
      "16:11 bilby INFO    :   recalib_L1_phase_5 = -0.056840952818595976\n",
      "16:11 bilby INFO    :   recalib_L1_phase_6 = -0.004019423152701047\n",
      "16:11 bilby INFO    :   recalib_L1_phase_7 = 0.03270580357083033\n",
      "16:11 bilby INFO    :   recalib_L1_phase_8 = 0.02364064367507932\n",
      "16:11 bilby INFO    :   recalib_L1_phase_9 = -0.002027753595167955\n",
      "16:11 bilby INFO    :   time_jitter = 6.515517343713782e-06\n",
      "16:11 bilby INFO    :   luminosity_distance = 100\n",
      "16:11 bilby INFO    :   geocent_time = 1126259462.408404\n",
      "16:11 bilby INFO    :   recalib_H1_frequency_0 = 19.999999999999996\n",
      "16:11 bilby INFO    :   recalib_H1_frequency_1 = 30.514434824844255\n",
      "16:11 bilby INFO    :   recalib_H1_frequency_2 = 46.55653663398341\n",
      "16:11 bilby INFO    :   recalib_H1_frequency_3 = 71.03232013940804\n",
      "16:11 bilby INFO    :   recalib_H1_frequency_4 = 108.37555516757195\n",
      "16:11 bilby INFO    :   recalib_H1_frequency_5 = 165.35094073835938\n",
      "16:11 bilby INFO    :   recalib_H1_frequency_6 = 252.27952521936786\n",
      "16:11 bilby INFO    :   recalib_H1_frequency_7 = 384.9083564974527\n",
      "16:11 bilby INFO    :   recalib_H1_frequency_8 = 587.2630478939719\n",
      "16:11 bilby INFO    :   recalib_H1_frequency_9 = 895.9999999999999\n",
      "16:11 bilby INFO    :   recalib_L1_frequency_0 = 19.999999999999996\n",
      "16:11 bilby INFO    :   recalib_L1_frequency_1 = 30.514434824844255\n",
      "16:11 bilby INFO    :   recalib_L1_frequency_2 = 46.55653663398341\n",
      "16:11 bilby INFO    :   recalib_L1_frequency_3 = 71.03232013940804\n",
      "16:11 bilby INFO    :   recalib_L1_frequency_4 = 108.37555516757195\n",
      "16:11 bilby INFO    :   recalib_L1_frequency_5 = 165.35094073835938\n",
      "16:11 bilby INFO    :   recalib_L1_frequency_6 = 252.27952521936786\n",
      "16:11 bilby INFO    :   recalib_L1_frequency_7 = 384.9083564974527\n",
      "16:11 bilby INFO    :   recalib_L1_frequency_8 = 587.2630478939719\n",
      "16:11 bilby INFO    :   recalib_L1_frequency_9 = 895.9999999999999\n",
      "16:11 bilby INFO    :   log_likelihood = 328.4324942070929\n",
      "16:11 bilby INFO    :   log_prior = 66.29957866305776\n",
      "16:11 bilby INFO    :   total_mass = 68.75498279849768\n",
      "16:11 bilby INFO    :   mass_1 = 36.79106674126104\n",
      "16:11 bilby INFO    :   mass_2 = 31.96391605723664\n",
      "16:11 bilby INFO    :   ra = 2.216116171456804\n",
      "16:11 bilby INFO    :   dec = -1.2259035208296045\n",
      "16:11 bilby INFO    :   symmetric_mass_ratio = 0.24876770874914655\n",
      "16:11 bilby INFO    :   spin_1x = 0.5904472619004925\n",
      "16:11 bilby INFO    :   spin_1y = -0.06957261443892127\n",
      "16:11 bilby INFO    :   spin_1z = -0.6225593536929314\n",
      "16:11 bilby INFO    :   spin_2x = 0.4751310354864326\n",
      "16:11 bilby INFO    :   spin_2y = -0.2735390509327497\n",
      "16:11 bilby INFO    :   spin_2z = 0.46596117794011116\n",
      "16:11 bilby INFO    :   phi_1 = 6.1658957660048594\n",
      "16:11 bilby INFO    :   phi_2 = 5.760815453468969\n",
      "16:11 bilby INFO    :   chi_eff = -0.11651051936092104\n",
      "16:11 bilby INFO    :   chi_1_in_plane = 0.5945320157616876\n",
      "16:11 bilby INFO    :   chi_2_in_plane = 0.5482454863175794\n",
      "16:11 bilby INFO    :   chi_p = 0.5945320157616876\n",
      "16:11 bilby INFO    :   cos_tilt_1 = -0.7231983991210473\n",
      "16:11 bilby INFO    :   cos_tilt_2 = 0.6476101046123928\n",
      "16:11 bilby INFO    :   comoving_distance = 460.07828764617136\n",
      "16:11 bilby INFO    :   H1_matched_filter_snr = 21.221089162046386\n",
      "16:11 bilby INFO    :   H1_optimal_snr = 19.957775833584304\n",
      "16:11 bilby INFO    :   L1_matched_filter_snr = 15.167442050430017\n",
      "16:11 bilby INFO    :   L1_optimal_snr = 13.072732183576488\n",
      "16:11 bilby INFO    :   H1_matched_filter_abs_snr = 21.320120947355953\n",
      "16:11 bilby INFO    :   H1_matched_filter_snr_angle = -0.09642190803027524\n",
      "16:11 bilby INFO    :   L1_matched_filter_abs_snr = 15.262798565714363\n",
      "16:11 bilby INFO    :   L1_matched_filter_snr_angle = -0.11184059441681089\n",
      "16:11 bilby INFO    :   redshift = 0.10685806108071728\n",
      "16:11 bilby INFO    :   inverted_mass_ratio = 1.1510187511248808\n",
      "16:11 bilby INFO    :   mass_1_source = 33.23919121602536\n",
      "16:11 bilby INFO    :   mass_2_source = 28.878062310923244\n",
      "16:11 bilby INFO    :   total_mass_source = 62.1172535269486\n",
      "16:11 bilby INFO    :   chirp_mass_source = 26.958060841344064\n",
      "16:11 bilby INFO    :   chi_p_2spin = 0.6991048646002762\n",
      "16:11 bilby INFO    :   beta = 0.2964834516665308\n",
      "16:11 bilby INFO    :   psi_J = 1.8454358595594362\n",
      "16:11 bilby INFO    :   final_spin = 0.6847123040726873\n",
      "16:11 bilby INFO    :   peak_luminosity = 3.4650910541734206\n",
      "16:11 bilby INFO    :   final_mass = 65.67190490679377\n",
      "16:11 bilby INFO    :   final_mass_source = 59.33182150082807\n",
      "16:11 bilby INFO    :   radiated_energy = 2.7854320261205316\n",
      "16:11 bilby INFO    :   H1_time = 1126259462.4241831\n",
      "16:11 bilby INFO    :   L1_time = 1126259462.417131\n",
      "16:11 bilby INFO    :   network_optimal_snr = 23.858104345633123\n",
      "16:11 bilby INFO    :   network_matched_filter_snr = 26.062659432941388\n",
      "16:11 bilby INFO    :   cos_theta_jn = -0.7957343530217185\n",
      "16:11 bilby INFO    :   viewing_angle = 0.6505771989131781\n",
      "16:11 bilby INFO    :   cos_iota = -0.7159420610982777\n",
      "16:11 bilby INFO    :   tilt_1_infinity_only_prec_avg = 1.9184456335196816\n",
      "16:11 bilby INFO    :   tilt_2_infinity_only_prec_avg = 1.4496492121062137\n",
      "16:11 bilby INFO    :   spin_1z_infinity_only_prec_avg = -0.29327903351648726\n",
      "16:11 bilby INFO    :   spin_2z_infinity_only_prec_avg = 0.08695335504061963\n",
      "16:11 bilby INFO    :   chi_eff_infinity_only_prec_avg = -0.11651051936092102\n",
      "16:11 bilby INFO    :   chi_p_infinity_only_prec_avg = 0.8093428662414038\n",
      "16:11 bilby INFO    :   cos_tilt_1_infinity_only_prec_avg = -0.3406886849852173\n",
      "16:11 bilby INFO    :   cos_tilt_2_infinity_only_prec_avg = 0.12085099364542307\n",
      "16:11 bilby INFO    : Injected signal in L1:\n",
      "16:11 bilby INFO    :   optimal SNR = 193.44\n",
      "16:11 bilby INFO    :   matched filter SNR = 195.10+0.12j\n",
      "16:11 bilby INFO    :   chirp_mass = 29.8387469533461\n",
      "16:11 bilby INFO    :   mass_ratio = 0.8687955769814424\n",
      "16:11 bilby INFO    :   a_1 = 0.8608417198511092\n",
      "16:11 bilby INFO    :   a_2 = 0.7195088134379835\n",
      "16:11 bilby INFO    :   tilt_1 = 2.3792185506368795\n",
      "16:11 bilby INFO    :   tilt_2 = 0.8663525482689185\n",
      "16:11 bilby INFO    :   phi_12 = 5.878104994643697\n",
      "16:11 bilby INFO    :   phi_jl = 0.25757481830607415\n",
      "16:11 bilby INFO    :   theta_jn = 1.5707963267948966\n",
      "16:11 bilby INFO    :   psi = 0.6912519348265866\n",
      "16:11 bilby INFO    :   phase = 4.000226339478637\n",
      "16:11 bilby INFO    :   azimuth = 2.590928400193608\n",
      "16:11 bilby INFO    :   zenith = 2.3522458754068447\n",
      "16:11 bilby INFO    :   recalib_H1_amplitude_0 = -0.005868249419321757\n",
      "16:11 bilby INFO    :   recalib_H1_amplitude_1 = -0.043783360917849956\n",
      "16:11 bilby INFO    :   recalib_H1_amplitude_2 = -0.04728295327822305\n",
      "16:11 bilby INFO    :   recalib_H1_amplitude_3 = 0.08222264173465693\n",
      "16:11 bilby INFO    :   recalib_H1_amplitude_4 = 0.011855669695012536\n",
      "16:11 bilby INFO    :   recalib_H1_amplitude_5 = -0.008990421387286167\n",
      "16:11 bilby INFO    :   recalib_H1_amplitude_6 = -0.020009159194152252\n",
      "16:11 bilby INFO    :   recalib_H1_amplitude_7 = 0.008484833525516596\n",
      "16:11 bilby INFO    :   recalib_H1_amplitude_8 = -0.018327160189299724\n",
      "16:11 bilby INFO    :   recalib_H1_amplitude_9 = -0.0023772652335948725\n",
      "16:11 bilby INFO    :   recalib_H1_phase_0 = -0.0006461526627345466\n",
      "16:11 bilby INFO    :   recalib_H1_phase_1 = 0.051177755324892465\n",
      "16:11 bilby INFO    :   recalib_H1_phase_2 = 0.01399307494477739\n",
      "16:11 bilby INFO    :   recalib_H1_phase_3 = 0.08416966330293393\n",
      "16:11 bilby INFO    :   recalib_H1_phase_4 = 0.047473946777130974\n",
      "16:11 bilby INFO    :   recalib_H1_phase_5 = 0.013916433512643673\n",
      "16:11 bilby INFO    :   recalib_H1_phase_6 = -0.02128658443550522\n",
      "16:11 bilby INFO    :   recalib_H1_phase_7 = 0.02296630800067761\n",
      "16:11 bilby INFO    :   recalib_H1_phase_8 = -0.037098045831878486\n",
      "16:11 bilby INFO    :   recalib_H1_phase_9 = -0.018967830067115908\n",
      "16:11 bilby INFO    :   recalib_L1_amplitude_0 = -0.036293801292262916\n",
      "16:11 bilby INFO    :   recalib_L1_amplitude_1 = 0.014361561207618069\n",
      "16:11 bilby INFO    :   recalib_L1_amplitude_2 = -0.08693301208957734\n",
      "16:11 bilby INFO    :   recalib_L1_amplitude_3 = 0.10143853088596673\n",
      "16:11 bilby INFO    :   recalib_L1_amplitude_4 = -0.0077889246361674885\n",
      "16:11 bilby INFO    :   recalib_L1_amplitude_5 = -0.025543820665279264\n",
      "16:11 bilby INFO    :   recalib_L1_amplitude_6 = -0.021247887291087522\n",
      "16:11 bilby INFO    :   recalib_L1_amplitude_7 = 0.013667834994950237\n",
      "16:11 bilby INFO    :   recalib_L1_amplitude_8 = 0.012377526160578984\n",
      "16:11 bilby INFO    :   recalib_L1_amplitude_9 = 0.021583525090134788\n",
      "16:11 bilby INFO    :   recalib_L1_phase_0 = -0.02268955770914274\n",
      "16:11 bilby INFO    :   recalib_L1_phase_1 = -0.027473420705276475\n",
      "16:11 bilby INFO    :   recalib_L1_phase_2 = -0.0943607841222296\n",
      "16:11 bilby INFO    :   recalib_L1_phase_3 = 0.029977319706674166\n",
      "16:11 bilby INFO    :   recalib_L1_phase_4 = 0.08523838545670002\n",
      "16:11 bilby INFO    :   recalib_L1_phase_5 = -0.056840952818595976\n",
      "16:11 bilby INFO    :   recalib_L1_phase_6 = -0.004019423152701047\n",
      "16:11 bilby INFO    :   recalib_L1_phase_7 = 0.03270580357083033\n",
      "16:11 bilby INFO    :   recalib_L1_phase_8 = 0.02364064367507932\n",
      "16:11 bilby INFO    :   recalib_L1_phase_9 = -0.002027753595167955\n",
      "16:11 bilby INFO    :   time_jitter = 6.515517343713782e-06\n",
      "16:11 bilby INFO    :   luminosity_distance = 100\n",
      "16:11 bilby INFO    :   geocent_time = 1126259462.408404\n",
      "16:11 bilby INFO    :   recalib_H1_frequency_0 = 19.999999999999996\n",
      "16:11 bilby INFO    :   recalib_H1_frequency_1 = 30.514434824844255\n",
      "16:11 bilby INFO    :   recalib_H1_frequency_2 = 46.55653663398341\n",
      "16:11 bilby INFO    :   recalib_H1_frequency_3 = 71.03232013940804\n",
      "16:11 bilby INFO    :   recalib_H1_frequency_4 = 108.37555516757195\n",
      "16:11 bilby INFO    :   recalib_H1_frequency_5 = 165.35094073835938\n",
      "16:11 bilby INFO    :   recalib_H1_frequency_6 = 252.27952521936786\n",
      "16:11 bilby INFO    :   recalib_H1_frequency_7 = 384.9083564974527\n",
      "16:11 bilby INFO    :   recalib_H1_frequency_8 = 587.2630478939719\n",
      "16:11 bilby INFO    :   recalib_H1_frequency_9 = 895.9999999999999\n",
      "16:11 bilby INFO    :   recalib_L1_frequency_0 = 19.999999999999996\n",
      "16:11 bilby INFO    :   recalib_L1_frequency_1 = 30.514434824844255\n",
      "16:11 bilby INFO    :   recalib_L1_frequency_2 = 46.55653663398341\n",
      "16:11 bilby INFO    :   recalib_L1_frequency_3 = 71.03232013940804\n",
      "16:11 bilby INFO    :   recalib_L1_frequency_4 = 108.37555516757195\n",
      "16:11 bilby INFO    :   recalib_L1_frequency_5 = 165.35094073835938\n",
      "16:11 bilby INFO    :   recalib_L1_frequency_6 = 252.27952521936786\n",
      "16:11 bilby INFO    :   recalib_L1_frequency_7 = 384.9083564974527\n",
      "16:11 bilby INFO    :   recalib_L1_frequency_8 = 587.2630478939719\n",
      "16:11 bilby INFO    :   recalib_L1_frequency_9 = 895.9999999999999\n",
      "16:11 bilby INFO    :   log_likelihood = 328.4324942070929\n",
      "16:11 bilby INFO    :   log_prior = 66.29957866305776\n",
      "16:11 bilby INFO    :   total_mass = 68.75498279849768\n",
      "16:11 bilby INFO    :   mass_1 = 36.79106674126104\n",
      "16:11 bilby INFO    :   mass_2 = 31.96391605723664\n",
      "16:11 bilby INFO    :   ra = 2.216116171456804\n",
      "16:11 bilby INFO    :   dec = -1.2259035208296045\n",
      "16:11 bilby INFO    :   symmetric_mass_ratio = 0.24876770874914655\n",
      "16:11 bilby INFO    :   spin_1x = 0.5904472619004925\n",
      "16:11 bilby INFO    :   spin_1y = -0.06957261443892127\n",
      "16:11 bilby INFO    :   spin_1z = -0.6225593536929314\n",
      "16:11 bilby INFO    :   spin_2x = 0.4751310354864326\n",
      "16:11 bilby INFO    :   spin_2y = -0.2735390509327497\n",
      "16:11 bilby INFO    :   spin_2z = 0.46596117794011116\n",
      "16:11 bilby INFO    :   phi_1 = 6.1658957660048594\n",
      "16:11 bilby INFO    :   phi_2 = 5.760815453468969\n",
      "16:11 bilby INFO    :   chi_eff = -0.11651051936092104\n",
      "16:11 bilby INFO    :   chi_1_in_plane = 0.5945320157616876\n",
      "16:11 bilby INFO    :   chi_2_in_plane = 0.5482454863175794\n",
      "16:11 bilby INFO    :   chi_p = 0.5945320157616876\n",
      "16:11 bilby INFO    :   cos_tilt_1 = -0.7231983991210473\n",
      "16:11 bilby INFO    :   cos_tilt_2 = 0.6476101046123928\n",
      "16:11 bilby INFO    :   comoving_distance = 460.07828764617136\n",
      "16:11 bilby INFO    :   H1_matched_filter_snr = 21.221089162046386\n",
      "16:11 bilby INFO    :   H1_optimal_snr = 19.957775833584304\n",
      "16:11 bilby INFO    :   L1_matched_filter_snr = 15.167442050430017\n",
      "16:11 bilby INFO    :   L1_optimal_snr = 13.072732183576488\n",
      "16:11 bilby INFO    :   H1_matched_filter_abs_snr = 21.320120947355953\n",
      "16:11 bilby INFO    :   H1_matched_filter_snr_angle = -0.09642190803027524\n",
      "16:11 bilby INFO    :   L1_matched_filter_abs_snr = 15.262798565714363\n",
      "16:11 bilby INFO    :   L1_matched_filter_snr_angle = -0.11184059441681089\n",
      "16:11 bilby INFO    :   redshift = 0.10685806108071728\n",
      "16:11 bilby INFO    :   inverted_mass_ratio = 1.1510187511248808\n",
      "16:11 bilby INFO    :   mass_1_source = 33.23919121602536\n",
      "16:11 bilby INFO    :   mass_2_source = 28.878062310923244\n",
      "16:11 bilby INFO    :   total_mass_source = 62.1172535269486\n",
      "16:11 bilby INFO    :   chirp_mass_source = 26.958060841344064\n",
      "16:11 bilby INFO    :   chi_p_2spin = 0.6991048646002762\n",
      "16:11 bilby INFO    :   beta = 0.2964834516665308\n",
      "16:11 bilby INFO    :   psi_J = 1.8454358595594362\n",
      "16:11 bilby INFO    :   final_spin = 0.6847123040726873\n",
      "16:11 bilby INFO    :   peak_luminosity = 3.4650910541734206\n",
      "16:11 bilby INFO    :   final_mass = 65.67190490679377\n",
      "16:11 bilby INFO    :   final_mass_source = 59.33182150082807\n",
      "16:11 bilby INFO    :   radiated_energy = 2.7854320261205316\n",
      "16:11 bilby INFO    :   H1_time = 1126259462.4241831\n",
      "16:11 bilby INFO    :   L1_time = 1126259462.417131\n",
      "16:11 bilby INFO    :   network_optimal_snr = 23.858104345633123\n",
      "16:11 bilby INFO    :   network_matched_filter_snr = 26.062659432941388\n",
      "16:11 bilby INFO    :   cos_theta_jn = -0.7957343530217185\n",
      "16:11 bilby INFO    :   viewing_angle = 0.6505771989131781\n",
      "16:11 bilby INFO    :   cos_iota = -0.7159420610982777\n",
      "16:11 bilby INFO    :   tilt_1_infinity_only_prec_avg = 1.9184456335196816\n",
      "16:11 bilby INFO    :   tilt_2_infinity_only_prec_avg = 1.4496492121062137\n",
      "16:11 bilby INFO    :   spin_1z_infinity_only_prec_avg = -0.29327903351648726\n",
      "16:11 bilby INFO    :   spin_2z_infinity_only_prec_avg = 0.08695335504061963\n",
      "16:11 bilby INFO    :   chi_eff_infinity_only_prec_avg = -0.11651051936092102\n",
      "16:11 bilby INFO    :   chi_p_infinity_only_prec_avg = 0.8093428662414038\n",
      "16:11 bilby INFO    :   cos_tilt_1_infinity_only_prec_avg = -0.3406886849852173\n",
      "16:11 bilby INFO    :   cos_tilt_2_infinity_only_prec_avg = 0.12085099364542307\n",
      "16:11 bilby INFO    : Injected signal in H1:\n",
      "16:11 bilby INFO    :   optimal SNR = 257.12\n",
      "16:11 bilby INFO    :   matched filter SNR = 258.24+1.13j\n",
      "16:11 bilby INFO    :   chirp_mass = 29.8387469533461\n",
      "16:11 bilby INFO    :   mass_ratio = 0.8687955769814424\n",
      "16:11 bilby INFO    :   a_1 = 0.8608417198511092\n",
      "16:11 bilby INFO    :   a_2 = 0.7195088134379835\n",
      "16:11 bilby INFO    :   tilt_1 = 2.3792185506368795\n",
      "16:11 bilby INFO    :   tilt_2 = 0.8663525482689185\n",
      "16:11 bilby INFO    :   phi_12 = 5.878104994643697\n",
      "16:11 bilby INFO    :   phi_jl = 0.25757481830607415\n",
      "16:11 bilby INFO    :   theta_jn = 1.5707963267948966\n",
      "16:11 bilby INFO    :   psi = 0.6912519348265866\n",
      "16:11 bilby INFO    :   phase = 4.000226339478637\n",
      "16:11 bilby INFO    :   azimuth = 2.590928400193608\n",
      "16:11 bilby INFO    :   zenith = 2.3522458754068447\n",
      "16:11 bilby INFO    :   recalib_H1_amplitude_0 = -0.005868249419321757\n",
      "16:11 bilby INFO    :   recalib_H1_amplitude_1 = -0.043783360917849956\n",
      "16:11 bilby INFO    :   recalib_H1_amplitude_2 = -0.04728295327822305\n",
      "16:11 bilby INFO    :   recalib_H1_amplitude_3 = 0.08222264173465693\n",
      "16:11 bilby INFO    :   recalib_H1_amplitude_4 = 0.011855669695012536\n",
      "16:11 bilby INFO    :   recalib_H1_amplitude_5 = -0.008990421387286167\n",
      "16:11 bilby INFO    :   recalib_H1_amplitude_6 = -0.020009159194152252\n",
      "16:11 bilby INFO    :   recalib_H1_amplitude_7 = 0.008484833525516596\n",
      "16:11 bilby INFO    :   recalib_H1_amplitude_8 = -0.018327160189299724\n",
      "16:11 bilby INFO    :   recalib_H1_amplitude_9 = -0.0023772652335948725\n",
      "16:11 bilby INFO    :   recalib_H1_phase_0 = -0.0006461526627345466\n",
      "16:11 bilby INFO    :   recalib_H1_phase_1 = 0.051177755324892465\n",
      "16:11 bilby INFO    :   recalib_H1_phase_2 = 0.01399307494477739\n",
      "16:11 bilby INFO    :   recalib_H1_phase_3 = 0.08416966330293393\n",
      "16:11 bilby INFO    :   recalib_H1_phase_4 = 0.047473946777130974\n",
      "16:11 bilby INFO    :   recalib_H1_phase_5 = 0.013916433512643673\n",
      "16:11 bilby INFO    :   recalib_H1_phase_6 = -0.02128658443550522\n",
      "16:11 bilby INFO    :   recalib_H1_phase_7 = 0.02296630800067761\n",
      "16:11 bilby INFO    :   recalib_H1_phase_8 = -0.037098045831878486\n",
      "16:11 bilby INFO    :   recalib_H1_phase_9 = -0.018967830067115908\n",
      "16:11 bilby INFO    :   recalib_L1_amplitude_0 = -0.036293801292262916\n",
      "16:11 bilby INFO    :   recalib_L1_amplitude_1 = 0.014361561207618069\n",
      "16:11 bilby INFO    :   recalib_L1_amplitude_2 = -0.08693301208957734\n",
      "16:11 bilby INFO    :   recalib_L1_amplitude_3 = 0.10143853088596673\n",
      "16:11 bilby INFO    :   recalib_L1_amplitude_4 = -0.0077889246361674885\n",
      "16:11 bilby INFO    :   recalib_L1_amplitude_5 = -0.025543820665279264\n",
      "16:11 bilby INFO    :   recalib_L1_amplitude_6 = -0.021247887291087522\n",
      "16:11 bilby INFO    :   recalib_L1_amplitude_7 = 0.013667834994950237\n",
      "16:11 bilby INFO    :   recalib_L1_amplitude_8 = 0.012377526160578984\n",
      "16:11 bilby INFO    :   recalib_L1_amplitude_9 = 0.021583525090134788\n",
      "16:11 bilby INFO    :   recalib_L1_phase_0 = -0.02268955770914274\n",
      "16:11 bilby INFO    :   recalib_L1_phase_1 = -0.027473420705276475\n",
      "16:11 bilby INFO    :   recalib_L1_phase_2 = -0.0943607841222296\n",
      "16:11 bilby INFO    :   recalib_L1_phase_3 = 0.029977319706674166\n",
      "16:11 bilby INFO    :   recalib_L1_phase_4 = 0.08523838545670002\n",
      "16:11 bilby INFO    :   recalib_L1_phase_5 = -0.056840952818595976\n",
      "16:11 bilby INFO    :   recalib_L1_phase_6 = -0.004019423152701047\n",
      "16:11 bilby INFO    :   recalib_L1_phase_7 = 0.03270580357083033\n",
      "16:11 bilby INFO    :   recalib_L1_phase_8 = 0.02364064367507932\n",
      "16:11 bilby INFO    :   recalib_L1_phase_9 = -0.002027753595167955\n",
      "16:11 bilby INFO    :   time_jitter = 6.515517343713782e-06\n",
      "16:11 bilby INFO    :   luminosity_distance = 100\n",
      "16:11 bilby INFO    :   geocent_time = 1126259462.408404\n",
      "16:11 bilby INFO    :   recalib_H1_frequency_0 = 19.999999999999996\n",
      "16:11 bilby INFO    :   recalib_H1_frequency_1 = 30.514434824844255\n",
      "16:11 bilby INFO    :   recalib_H1_frequency_2 = 46.55653663398341\n",
      "16:11 bilby INFO    :   recalib_H1_frequency_3 = 71.03232013940804\n",
      "16:11 bilby INFO    :   recalib_H1_frequency_4 = 108.37555516757195\n",
      "16:11 bilby INFO    :   recalib_H1_frequency_5 = 165.35094073835938\n",
      "16:11 bilby INFO    :   recalib_H1_frequency_6 = 252.27952521936786\n",
      "16:11 bilby INFO    :   recalib_H1_frequency_7 = 384.9083564974527\n",
      "16:11 bilby INFO    :   recalib_H1_frequency_8 = 587.2630478939719\n",
      "16:11 bilby INFO    :   recalib_H1_frequency_9 = 895.9999999999999\n",
      "16:11 bilby INFO    :   recalib_L1_frequency_0 = 19.999999999999996\n",
      "16:11 bilby INFO    :   recalib_L1_frequency_1 = 30.514434824844255\n",
      "16:11 bilby INFO    :   recalib_L1_frequency_2 = 46.55653663398341\n",
      "16:11 bilby INFO    :   recalib_L1_frequency_3 = 71.03232013940804\n",
      "16:11 bilby INFO    :   recalib_L1_frequency_4 = 108.37555516757195\n",
      "16:11 bilby INFO    :   recalib_L1_frequency_5 = 165.35094073835938\n",
      "16:11 bilby INFO    :   recalib_L1_frequency_6 = 252.27952521936786\n",
      "16:11 bilby INFO    :   recalib_L1_frequency_7 = 384.9083564974527\n",
      "16:11 bilby INFO    :   recalib_L1_frequency_8 = 587.2630478939719\n",
      "16:11 bilby INFO    :   recalib_L1_frequency_9 = 895.9999999999999\n",
      "16:11 bilby INFO    :   log_likelihood = 328.4324942070929\n",
      "16:11 bilby INFO    :   log_prior = 66.29957866305776\n",
      "16:11 bilby INFO    :   total_mass = 68.75498279849768\n",
      "16:11 bilby INFO    :   mass_1 = 36.79106674126104\n",
      "16:11 bilby INFO    :   mass_2 = 31.96391605723664\n",
      "16:11 bilby INFO    :   ra = 2.216116171456804\n",
      "16:11 bilby INFO    :   dec = -1.2259035208296045\n",
      "16:11 bilby INFO    :   symmetric_mass_ratio = 0.24876770874914655\n",
      "16:11 bilby INFO    :   spin_1x = 0.5904472619004925\n",
      "16:11 bilby INFO    :   spin_1y = -0.06957261443892127\n",
      "16:11 bilby INFO    :   spin_1z = -0.6225593536929314\n",
      "16:11 bilby INFO    :   spin_2x = 0.4751310354864326\n",
      "16:11 bilby INFO    :   spin_2y = -0.2735390509327497\n",
      "16:11 bilby INFO    :   spin_2z = 0.46596117794011116\n",
      "16:11 bilby INFO    :   phi_1 = 6.1658957660048594\n",
      "16:11 bilby INFO    :   phi_2 = 5.760815453468969\n",
      "16:11 bilby INFO    :   chi_eff = -0.11651051936092104\n",
      "16:11 bilby INFO    :   chi_1_in_plane = 0.5945320157616876\n",
      "16:11 bilby INFO    :   chi_2_in_plane = 0.5482454863175794\n",
      "16:11 bilby INFO    :   chi_p = 0.5945320157616876\n",
      "16:11 bilby INFO    :   cos_tilt_1 = -0.7231983991210473\n",
      "16:11 bilby INFO    :   cos_tilt_2 = 0.6476101046123928\n",
      "16:11 bilby INFO    :   comoving_distance = 460.07828764617136\n",
      "16:11 bilby INFO    :   H1_matched_filter_snr = 21.221089162046386\n",
      "16:11 bilby INFO    :   H1_optimal_snr = 19.957775833584304\n",
      "16:11 bilby INFO    :   L1_matched_filter_snr = 15.167442050430017\n",
      "16:11 bilby INFO    :   L1_optimal_snr = 13.072732183576488\n",
      "16:11 bilby INFO    :   H1_matched_filter_abs_snr = 21.320120947355953\n",
      "16:11 bilby INFO    :   H1_matched_filter_snr_angle = -0.09642190803027524\n",
      "16:11 bilby INFO    :   L1_matched_filter_abs_snr = 15.262798565714363\n",
      "16:11 bilby INFO    :   L1_matched_filter_snr_angle = -0.11184059441681089\n",
      "16:11 bilby INFO    :   redshift = 0.10685806108071728\n",
      "16:11 bilby INFO    :   inverted_mass_ratio = 1.1510187511248808\n",
      "16:11 bilby INFO    :   mass_1_source = 33.23919121602536\n",
      "16:11 bilby INFO    :   mass_2_source = 28.878062310923244\n",
      "16:11 bilby INFO    :   total_mass_source = 62.1172535269486\n",
      "16:11 bilby INFO    :   chirp_mass_source = 26.958060841344064\n",
      "16:11 bilby INFO    :   chi_p_2spin = 0.6991048646002762\n",
      "16:11 bilby INFO    :   beta = 0.2964834516665308\n",
      "16:11 bilby INFO    :   psi_J = 1.8454358595594362\n",
      "16:11 bilby INFO    :   final_spin = 0.6847123040726873\n",
      "16:11 bilby INFO    :   peak_luminosity = 3.4650910541734206\n",
      "16:11 bilby INFO    :   final_mass = 65.67190490679377\n",
      "16:11 bilby INFO    :   final_mass_source = 59.33182150082807\n",
      "16:11 bilby INFO    :   radiated_energy = 2.7854320261205316\n",
      "16:11 bilby INFO    :   H1_time = 1126259462.4241831\n",
      "16:11 bilby INFO    :   L1_time = 1126259462.417131\n",
      "16:11 bilby INFO    :   network_optimal_snr = 23.858104345633123\n",
      "16:11 bilby INFO    :   network_matched_filter_snr = 26.062659432941388\n",
      "16:11 bilby INFO    :   cos_theta_jn = -0.7957343530217185\n",
      "16:11 bilby INFO    :   viewing_angle = 0.6505771989131781\n",
      "16:11 bilby INFO    :   cos_iota = -0.7159420610982777\n",
      "16:11 bilby INFO    :   tilt_1_infinity_only_prec_avg = 1.9184456335196816\n",
      "16:11 bilby INFO    :   tilt_2_infinity_only_prec_avg = 1.4496492121062137\n",
      "16:11 bilby INFO    :   spin_1z_infinity_only_prec_avg = -0.29327903351648726\n",
      "16:11 bilby INFO    :   spin_2z_infinity_only_prec_avg = 0.08695335504061963\n",
      "16:11 bilby INFO    :   chi_eff_infinity_only_prec_avg = -0.11651051936092102\n",
      "16:11 bilby INFO    :   chi_p_infinity_only_prec_avg = 0.8093428662414038\n",
      "16:11 bilby INFO    :   cos_tilt_1_infinity_only_prec_avg = -0.3406886849852173\n",
      "16:11 bilby INFO    :   cos_tilt_2_infinity_only_prec_avg = 0.12085099364542307\n",
      "16:11 bilby INFO    : Injected signal in L1:\n",
      "16:11 bilby INFO    :   optimal SNR = 193.44\n",
      "16:11 bilby INFO    :   matched filter SNR = 192.84-0.09j\n",
      "16:11 bilby INFO    :   chirp_mass = 29.8387469533461\n",
      "16:11 bilby INFO    :   mass_ratio = 0.8687955769814424\n",
      "16:11 bilby INFO    :   a_1 = 0.8608417198511092\n",
      "16:11 bilby INFO    :   a_2 = 0.7195088134379835\n",
      "16:11 bilby INFO    :   tilt_1 = 2.3792185506368795\n",
      "16:11 bilby INFO    :   tilt_2 = 0.8663525482689185\n",
      "16:11 bilby INFO    :   phi_12 = 5.878104994643697\n",
      "16:11 bilby INFO    :   phi_jl = 0.25757481830607415\n",
      "16:11 bilby INFO    :   theta_jn = 1.5707963267948966\n",
      "16:11 bilby INFO    :   psi = 0.6912519348265866\n",
      "16:11 bilby INFO    :   phase = 4.000226339478637\n",
      "16:11 bilby INFO    :   azimuth = 2.590928400193608\n",
      "16:11 bilby INFO    :   zenith = 2.3522458754068447\n",
      "16:11 bilby INFO    :   recalib_H1_amplitude_0 = -0.005868249419321757\n",
      "16:11 bilby INFO    :   recalib_H1_amplitude_1 = -0.043783360917849956\n",
      "16:11 bilby INFO    :   recalib_H1_amplitude_2 = -0.04728295327822305\n",
      "16:11 bilby INFO    :   recalib_H1_amplitude_3 = 0.08222264173465693\n",
      "16:11 bilby INFO    :   recalib_H1_amplitude_4 = 0.011855669695012536\n",
      "16:11 bilby INFO    :   recalib_H1_amplitude_5 = -0.008990421387286167\n",
      "16:11 bilby INFO    :   recalib_H1_amplitude_6 = -0.020009159194152252\n",
      "16:11 bilby INFO    :   recalib_H1_amplitude_7 = 0.008484833525516596\n",
      "16:11 bilby INFO    :   recalib_H1_amplitude_8 = -0.018327160189299724\n",
      "16:11 bilby INFO    :   recalib_H1_amplitude_9 = -0.0023772652335948725\n",
      "16:11 bilby INFO    :   recalib_H1_phase_0 = -0.0006461526627345466\n",
      "16:11 bilby INFO    :   recalib_H1_phase_1 = 0.051177755324892465\n",
      "16:11 bilby INFO    :   recalib_H1_phase_2 = 0.01399307494477739\n",
      "16:11 bilby INFO    :   recalib_H1_phase_3 = 0.08416966330293393\n",
      "16:11 bilby INFO    :   recalib_H1_phase_4 = 0.047473946777130974\n",
      "16:11 bilby INFO    :   recalib_H1_phase_5 = 0.013916433512643673\n",
      "16:11 bilby INFO    :   recalib_H1_phase_6 = -0.02128658443550522\n",
      "16:11 bilby INFO    :   recalib_H1_phase_7 = 0.02296630800067761\n",
      "16:11 bilby INFO    :   recalib_H1_phase_8 = -0.037098045831878486\n",
      "16:11 bilby INFO    :   recalib_H1_phase_9 = -0.018967830067115908\n",
      "16:11 bilby INFO    :   recalib_L1_amplitude_0 = -0.036293801292262916\n",
      "16:11 bilby INFO    :   recalib_L1_amplitude_1 = 0.014361561207618069\n",
      "16:11 bilby INFO    :   recalib_L1_amplitude_2 = -0.08693301208957734\n",
      "16:11 bilby INFO    :   recalib_L1_amplitude_3 = 0.10143853088596673\n",
      "16:11 bilby INFO    :   recalib_L1_amplitude_4 = -0.0077889246361674885\n",
      "16:11 bilby INFO    :   recalib_L1_amplitude_5 = -0.025543820665279264\n",
      "16:11 bilby INFO    :   recalib_L1_amplitude_6 = -0.021247887291087522\n",
      "16:11 bilby INFO    :   recalib_L1_amplitude_7 = 0.013667834994950237\n",
      "16:11 bilby INFO    :   recalib_L1_amplitude_8 = 0.012377526160578984\n",
      "16:11 bilby INFO    :   recalib_L1_amplitude_9 = 0.021583525090134788\n",
      "16:11 bilby INFO    :   recalib_L1_phase_0 = -0.02268955770914274\n",
      "16:11 bilby INFO    :   recalib_L1_phase_1 = -0.027473420705276475\n",
      "16:11 bilby INFO    :   recalib_L1_phase_2 = -0.0943607841222296\n",
      "16:11 bilby INFO    :   recalib_L1_phase_3 = 0.029977319706674166\n",
      "16:11 bilby INFO    :   recalib_L1_phase_4 = 0.08523838545670002\n",
      "16:11 bilby INFO    :   recalib_L1_phase_5 = -0.056840952818595976\n",
      "16:11 bilby INFO    :   recalib_L1_phase_6 = -0.004019423152701047\n",
      "16:11 bilby INFO    :   recalib_L1_phase_7 = 0.03270580357083033\n",
      "16:11 bilby INFO    :   recalib_L1_phase_8 = 0.02364064367507932\n",
      "16:11 bilby INFO    :   recalib_L1_phase_9 = -0.002027753595167955\n",
      "16:11 bilby INFO    :   time_jitter = 6.515517343713782e-06\n",
      "16:11 bilby INFO    :   luminosity_distance = 100\n",
      "16:11 bilby INFO    :   geocent_time = 1126259462.408404\n",
      "16:11 bilby INFO    :   recalib_H1_frequency_0 = 19.999999999999996\n",
      "16:11 bilby INFO    :   recalib_H1_frequency_1 = 30.514434824844255\n",
      "16:11 bilby INFO    :   recalib_H1_frequency_2 = 46.55653663398341\n",
      "16:11 bilby INFO    :   recalib_H1_frequency_3 = 71.03232013940804\n",
      "16:11 bilby INFO    :   recalib_H1_frequency_4 = 108.37555516757195\n",
      "16:11 bilby INFO    :   recalib_H1_frequency_5 = 165.35094073835938\n",
      "16:11 bilby INFO    :   recalib_H1_frequency_6 = 252.27952521936786\n",
      "16:11 bilby INFO    :   recalib_H1_frequency_7 = 384.9083564974527\n",
      "16:11 bilby INFO    :   recalib_H1_frequency_8 = 587.2630478939719\n",
      "16:11 bilby INFO    :   recalib_H1_frequency_9 = 895.9999999999999\n",
      "16:11 bilby INFO    :   recalib_L1_frequency_0 = 19.999999999999996\n",
      "16:11 bilby INFO    :   recalib_L1_frequency_1 = 30.514434824844255\n",
      "16:11 bilby INFO    :   recalib_L1_frequency_2 = 46.55653663398341\n",
      "16:11 bilby INFO    :   recalib_L1_frequency_3 = 71.03232013940804\n",
      "16:11 bilby INFO    :   recalib_L1_frequency_4 = 108.37555516757195\n",
      "16:11 bilby INFO    :   recalib_L1_frequency_5 = 165.35094073835938\n",
      "16:11 bilby INFO    :   recalib_L1_frequency_6 = 252.27952521936786\n",
      "16:11 bilby INFO    :   recalib_L1_frequency_7 = 384.9083564974527\n",
      "16:11 bilby INFO    :   recalib_L1_frequency_8 = 587.2630478939719\n",
      "16:11 bilby INFO    :   recalib_L1_frequency_9 = 895.9999999999999\n",
      "16:11 bilby INFO    :   log_likelihood = 328.4324942070929\n",
      "16:11 bilby INFO    :   log_prior = 66.29957866305776\n",
      "16:11 bilby INFO    :   total_mass = 68.75498279849768\n",
      "16:11 bilby INFO    :   mass_1 = 36.79106674126104\n",
      "16:11 bilby INFO    :   mass_2 = 31.96391605723664\n",
      "16:11 bilby INFO    :   ra = 2.216116171456804\n",
      "16:11 bilby INFO    :   dec = -1.2259035208296045\n",
      "16:11 bilby INFO    :   symmetric_mass_ratio = 0.24876770874914655\n",
      "16:11 bilby INFO    :   spin_1x = 0.5904472619004925\n",
      "16:11 bilby INFO    :   spin_1y = -0.06957261443892127\n",
      "16:11 bilby INFO    :   spin_1z = -0.6225593536929314\n",
      "16:11 bilby INFO    :   spin_2x = 0.4751310354864326\n",
      "16:11 bilby INFO    :   spin_2y = -0.2735390509327497\n",
      "16:11 bilby INFO    :   spin_2z = 0.46596117794011116\n",
      "16:11 bilby INFO    :   phi_1 = 6.1658957660048594\n",
      "16:11 bilby INFO    :   phi_2 = 5.760815453468969\n",
      "16:11 bilby INFO    :   chi_eff = -0.11651051936092104\n",
      "16:11 bilby INFO    :   chi_1_in_plane = 0.5945320157616876\n",
      "16:11 bilby INFO    :   chi_2_in_plane = 0.5482454863175794\n",
      "16:11 bilby INFO    :   chi_p = 0.5945320157616876\n",
      "16:11 bilby INFO    :   cos_tilt_1 = -0.7231983991210473\n",
      "16:11 bilby INFO    :   cos_tilt_2 = 0.6476101046123928\n",
      "16:11 bilby INFO    :   comoving_distance = 460.07828764617136\n",
      "16:11 bilby INFO    :   H1_matched_filter_snr = 21.221089162046386\n",
      "16:11 bilby INFO    :   H1_optimal_snr = 19.957775833584304\n",
      "16:11 bilby INFO    :   L1_matched_filter_snr = 15.167442050430017\n",
      "16:11 bilby INFO    :   L1_optimal_snr = 13.072732183576488\n",
      "16:11 bilby INFO    :   H1_matched_filter_abs_snr = 21.320120947355953\n",
      "16:11 bilby INFO    :   H1_matched_filter_snr_angle = -0.09642190803027524\n",
      "16:11 bilby INFO    :   L1_matched_filter_abs_snr = 15.262798565714363\n",
      "16:11 bilby INFO    :   L1_matched_filter_snr_angle = -0.11184059441681089\n",
      "16:11 bilby INFO    :   redshift = 0.10685806108071728\n",
      "16:11 bilby INFO    :   inverted_mass_ratio = 1.1510187511248808\n",
      "16:11 bilby INFO    :   mass_1_source = 33.23919121602536\n",
      "16:11 bilby INFO    :   mass_2_source = 28.878062310923244\n",
      "16:11 bilby INFO    :   total_mass_source = 62.1172535269486\n",
      "16:11 bilby INFO    :   chirp_mass_source = 26.958060841344064\n",
      "16:11 bilby INFO    :   chi_p_2spin = 0.6991048646002762\n",
      "16:11 bilby INFO    :   beta = 0.2964834516665308\n",
      "16:11 bilby INFO    :   psi_J = 1.8454358595594362\n",
      "16:11 bilby INFO    :   final_spin = 0.6847123040726873\n",
      "16:11 bilby INFO    :   peak_luminosity = 3.4650910541734206\n",
      "16:11 bilby INFO    :   final_mass = 65.67190490679377\n",
      "16:11 bilby INFO    :   final_mass_source = 59.33182150082807\n",
      "16:11 bilby INFO    :   radiated_energy = 2.7854320261205316\n",
      "16:11 bilby INFO    :   H1_time = 1126259462.4241831\n",
      "16:11 bilby INFO    :   L1_time = 1126259462.417131\n",
      "16:11 bilby INFO    :   network_optimal_snr = 23.858104345633123\n",
      "16:11 bilby INFO    :   network_matched_filter_snr = 26.062659432941388\n",
      "16:11 bilby INFO    :   cos_theta_jn = -0.7957343530217185\n",
      "16:11 bilby INFO    :   viewing_angle = 0.6505771989131781\n",
      "16:11 bilby INFO    :   cos_iota = -0.7159420610982777\n",
      "16:11 bilby INFO    :   tilt_1_infinity_only_prec_avg = 1.9184456335196816\n",
      "16:11 bilby INFO    :   tilt_2_infinity_only_prec_avg = 1.4496492121062137\n",
      "16:11 bilby INFO    :   spin_1z_infinity_only_prec_avg = -0.29327903351648726\n",
      "16:11 bilby INFO    :   spin_2z_infinity_only_prec_avg = 0.08695335504061963\n",
      "16:11 bilby INFO    :   chi_eff_infinity_only_prec_avg = -0.11651051936092102\n",
      "16:11 bilby INFO    :   chi_p_infinity_only_prec_avg = 0.8093428662414038\n",
      "16:11 bilby INFO    :   cos_tilt_1_infinity_only_prec_avg = -0.3406886849852173\n",
      "16:11 bilby INFO    :   cos_tilt_2_infinity_only_prec_avg = 0.12085099364542307\n",
      "16:11 bilby INFO    : Waveform generator initiated with\n",
      "  frequency_domain_source_model: waveforms.mem_freq_XPHM\n",
      "  time_domain_source_model: None\n",
      "  parameter_conversion: bilby.gw.conversion.convert_to_lal_binary_black_hole_parameters\n",
      "16:11 bilby INFO    : Waveform generator initiated with\n",
      "  frequency_domain_source_model: waveforms.mem_freq_XPHM\n",
      "  time_domain_source_model: None\n",
      "  parameter_conversion: bilby.gw.conversion.convert_to_lal_binary_black_hole_parameters\n"
     ]
    },
    {
     "name": "stdout",
     "output_type": "stream",
     "text": [
      "51935.976181440274\n"
     ]
    },
    {
     "name": "stderr",
     "output_type": "stream",
     "text": [
      "16:11 bilby INFO    : Waveform generator initiated with\n",
      "  frequency_domain_source_model: waveforms.mem_freq_XPHM\n",
      "  time_domain_source_model: None\n",
      "  parameter_conversion: bilby.gw.conversion.convert_to_lal_binary_black_hole_parameters\n"
     ]
    },
    {
     "name": "stdout",
     "output_type": "stream",
     "text": [
      "51936.12880856256\n"
     ]
    },
    {
     "name": "stderr",
     "output_type": "stream",
     "text": [
      "16:11 bilby INFO    : Waveform generator initiated with\n",
      "  frequency_domain_source_model: waveforms.mem_freq_XPHM\n",
      "  time_domain_source_model: None\n",
      "  parameter_conversion: bilby.gw.conversion.convert_to_lal_binary_black_hole_parameters\n"
     ]
    },
    {
     "name": "stdout",
     "output_type": "stream",
     "text": [
      "51936.27232587512\n"
     ]
    },
    {
     "name": "stderr",
     "output_type": "stream",
     "text": [
      "16:11 bilby INFO    : Waveform generator initiated with\n",
      "  frequency_domain_source_model: waveforms.mem_freq_XPHM\n",
      "  time_domain_source_model: None\n",
      "  parameter_conversion: bilby.gw.conversion.convert_to_lal_binary_black_hole_parameters\n"
     ]
    },
    {
     "name": "stdout",
     "output_type": "stream",
     "text": [
      "51936.40673337803\n"
     ]
    },
    {
     "name": "stderr",
     "output_type": "stream",
     "text": [
      "16:11 bilby INFO    : Waveform generator initiated with\n",
      "  frequency_domain_source_model: waveforms.mem_freq_XPHM\n",
      "  time_domain_source_model: None\n",
      "  parameter_conversion: bilby.gw.conversion.convert_to_lal_binary_black_hole_parameters\n"
     ]
    },
    {
     "name": "stdout",
     "output_type": "stream",
     "text": [
      "51936.53203107125\n"
     ]
    },
    {
     "name": "stderr",
     "output_type": "stream",
     "text": [
      "16:11 bilby INFO    : Waveform generator initiated with\n",
      "  frequency_domain_source_model: waveforms.mem_freq_XPHM\n",
      "  time_domain_source_model: None\n",
      "  parameter_conversion: bilby.gw.conversion.convert_to_lal_binary_black_hole_parameters\n"
     ]
    },
    {
     "name": "stdout",
     "output_type": "stream",
     "text": [
      "51936.648218954804\n"
     ]
    },
    {
     "name": "stderr",
     "output_type": "stream",
     "text": [
      "16:11 bilby INFO    : Waveform generator initiated with\n",
      "  frequency_domain_source_model: waveforms.mem_freq_XPHM\n",
      "  time_domain_source_model: None\n",
      "  parameter_conversion: bilby.gw.conversion.convert_to_lal_binary_black_hole_parameters\n"
     ]
    },
    {
     "name": "stdout",
     "output_type": "stream",
     "text": [
      "51936.75529702865\n"
     ]
    },
    {
     "name": "stderr",
     "output_type": "stream",
     "text": [
      "16:11 bilby INFO    : Waveform generator initiated with\n",
      "  frequency_domain_source_model: waveforms.mem_freq_XPHM\n",
      "  time_domain_source_model: None\n",
      "  parameter_conversion: bilby.gw.conversion.convert_to_lal_binary_black_hole_parameters\n"
     ]
    },
    {
     "name": "stdout",
     "output_type": "stream",
     "text": [
      "51936.85326529281\n"
     ]
    },
    {
     "name": "stderr",
     "output_type": "stream",
     "text": [
      "16:11 bilby INFO    : Waveform generator initiated with\n",
      "  frequency_domain_source_model: waveforms.mem_freq_XPHM\n",
      "  time_domain_source_model: None\n",
      "  parameter_conversion: bilby.gw.conversion.convert_to_lal_binary_black_hole_parameters\n"
     ]
    },
    {
     "name": "stdout",
     "output_type": "stream",
     "text": [
      "51936.9421237473\n"
     ]
    },
    {
     "name": "stderr",
     "output_type": "stream",
     "text": [
      "16:11 bilby INFO    : Waveform generator initiated with\n",
      "  frequency_domain_source_model: waveforms.mem_freq_XPHM\n",
      "  time_domain_source_model: None\n",
      "  parameter_conversion: bilby.gw.conversion.convert_to_lal_binary_black_hole_parameters\n"
     ]
    },
    {
     "name": "stdout",
     "output_type": "stream",
     "text": [
      "51937.02187239212\n"
     ]
    },
    {
     "name": "stderr",
     "output_type": "stream",
     "text": [
      "16:11 bilby INFO    : Waveform generator initiated with\n",
      "  frequency_domain_source_model: waveforms.mem_freq_XPHM\n",
      "  time_domain_source_model: None\n",
      "  parameter_conversion: bilby.gw.conversion.convert_to_lal_binary_black_hole_parameters\n"
     ]
    },
    {
     "name": "stdout",
     "output_type": "stream",
     "text": [
      "51937.09251122727\n"
     ]
    },
    {
     "name": "stderr",
     "output_type": "stream",
     "text": [
      "16:11 bilby INFO    : Waveform generator initiated with\n",
      "  frequency_domain_source_model: waveforms.mem_freq_XPHM\n",
      "  time_domain_source_model: None\n",
      "  parameter_conversion: bilby.gw.conversion.convert_to_lal_binary_black_hole_parameters\n"
     ]
    },
    {
     "name": "stdout",
     "output_type": "stream",
     "text": [
      "51937.1540402527\n"
     ]
    },
    {
     "name": "stderr",
     "output_type": "stream",
     "text": [
      "16:11 bilby INFO    : Waveform generator initiated with\n",
      "  frequency_domain_source_model: waveforms.mem_freq_XPHM\n",
      "  time_domain_source_model: None\n",
      "  parameter_conversion: bilby.gw.conversion.convert_to_lal_binary_black_hole_parameters\n"
     ]
    },
    {
     "name": "stdout",
     "output_type": "stream",
     "text": [
      "51937.206459468434\n"
     ]
    },
    {
     "name": "stderr",
     "output_type": "stream",
     "text": [
      "16:11 bilby INFO    : Waveform generator initiated with\n",
      "  frequency_domain_source_model: waveforms.mem_freq_XPHM\n",
      "  time_domain_source_model: None\n",
      "  parameter_conversion: bilby.gw.conversion.convert_to_lal_binary_black_hole_parameters\n"
     ]
    },
    {
     "name": "stdout",
     "output_type": "stream",
     "text": [
      "51937.24976887458\n"
     ]
    },
    {
     "name": "stderr",
     "output_type": "stream",
     "text": [
      "16:11 bilby INFO    : Waveform generator initiated with\n",
      "  frequency_domain_source_model: waveforms.mem_freq_XPHM\n",
      "  time_domain_source_model: None\n",
      "  parameter_conversion: bilby.gw.conversion.convert_to_lal_binary_black_hole_parameters\n"
     ]
    },
    {
     "name": "stdout",
     "output_type": "stream",
     "text": [
      "51937.28396847096\n"
     ]
    },
    {
     "name": "stderr",
     "output_type": "stream",
     "text": [
      "16:11 bilby INFO    : Waveform generator initiated with\n",
      "  frequency_domain_source_model: waveforms.mem_freq_XPHM\n",
      "  time_domain_source_model: None\n",
      "  parameter_conversion: bilby.gw.conversion.convert_to_lal_binary_black_hole_parameters\n"
     ]
    },
    {
     "name": "stdout",
     "output_type": "stream",
     "text": [
      "51937.3090582577\n"
     ]
    },
    {
     "name": "stderr",
     "output_type": "stream",
     "text": [
      "16:11 bilby INFO    : Waveform generator initiated with\n",
      "  frequency_domain_source_model: waveforms.mem_freq_XPHM\n",
      "  time_domain_source_model: None\n",
      "  parameter_conversion: bilby.gw.conversion.convert_to_lal_binary_black_hole_parameters\n"
     ]
    },
    {
     "name": "stdout",
     "output_type": "stream",
     "text": [
      "51937.32503823473\n"
     ]
    },
    {
     "name": "stderr",
     "output_type": "stream",
     "text": [
      "16:11 bilby INFO    : Waveform generator initiated with\n",
      "  frequency_domain_source_model: waveforms.mem_freq_XPHM\n",
      "  time_domain_source_model: None\n",
      "  parameter_conversion: bilby.gw.conversion.convert_to_lal_binary_black_hole_parameters\n"
     ]
    },
    {
     "name": "stdout",
     "output_type": "stream",
     "text": [
      "51937.33190840211\n"
     ]
    },
    {
     "name": "stderr",
     "output_type": "stream",
     "text": [
      "16:11 bilby INFO    : Waveform generator initiated with\n",
      "  frequency_domain_source_model: waveforms.mem_freq_XPHM\n",
      "  time_domain_source_model: None\n",
      "  parameter_conversion: bilby.gw.conversion.convert_to_lal_binary_black_hole_parameters\n"
     ]
    },
    {
     "name": "stdout",
     "output_type": "stream",
     "text": [
      "51937.329668759776\n"
     ]
    },
    {
     "name": "stderr",
     "output_type": "stream",
     "text": [
      "16:11 bilby INFO    : Waveform generator initiated with\n",
      "  frequency_domain_source_model: waveforms.mem_freq_XPHM\n",
      "  time_domain_source_model: None\n",
      "  parameter_conversion: bilby.gw.conversion.convert_to_lal_binary_black_hole_parameters\n"
     ]
    },
    {
     "name": "stdout",
     "output_type": "stream",
     "text": [
      "51937.318319307786\n"
     ]
    },
    {
     "name": "stderr",
     "output_type": "stream",
     "text": [
      "16:11 bilby INFO    : Waveform generator initiated with\n",
      "  frequency_domain_source_model: waveforms.mem_freq_XPHM\n",
      "  time_domain_source_model: None\n",
      "  parameter_conversion: bilby.gw.conversion.convert_to_lal_binary_black_hole_parameters\n"
     ]
    },
    {
     "name": "stdout",
     "output_type": "stream",
     "text": [
      "51937.29786004611\n"
     ]
    },
    {
     "name": "stderr",
     "output_type": "stream",
     "text": [
      "16:11 bilby INFO    : Waveform generator initiated with\n",
      "  frequency_domain_source_model: waveforms.mem_freq_XPHM\n",
      "  time_domain_source_model: None\n",
      "  parameter_conversion: bilby.gw.conversion.convert_to_lal_binary_black_hole_parameters\n"
     ]
    },
    {
     "name": "stdout",
     "output_type": "stream",
     "text": [
      "51937.26829097472\n"
     ]
    },
    {
     "name": "stderr",
     "output_type": "stream",
     "text": [
      "16:11 bilby INFO    : Waveform generator initiated with\n",
      "  frequency_domain_source_model: waveforms.mem_freq_XPHM\n",
      "  time_domain_source_model: None\n",
      "  parameter_conversion: bilby.gw.conversion.convert_to_lal_binary_black_hole_parameters\n"
     ]
    },
    {
     "name": "stdout",
     "output_type": "stream",
     "text": [
      "51937.22961209371\n"
     ]
    },
    {
     "name": "stderr",
     "output_type": "stream",
     "text": [
      "16:11 bilby INFO    : Waveform generator initiated with\n",
      "  frequency_domain_source_model: waveforms.mem_freq_XPHM\n",
      "  time_domain_source_model: None\n",
      "  parameter_conversion: bilby.gw.conversion.convert_to_lal_binary_black_hole_parameters\n"
     ]
    },
    {
     "name": "stdout",
     "output_type": "stream",
     "text": [
      "51937.181823402956\n"
     ]
    },
    {
     "name": "stderr",
     "output_type": "stream",
     "text": [
      "16:11 bilby INFO    : Waveform generator initiated with\n",
      "  frequency_domain_source_model: waveforms.mem_freq_XPHM\n",
      "  time_domain_source_model: None\n",
      "  parameter_conversion: bilby.gw.conversion.convert_to_lal_binary_black_hole_parameters\n"
     ]
    },
    {
     "name": "stdout",
     "output_type": "stream",
     "text": [
      "51937.12492490257\n"
     ]
    },
    {
     "name": "stderr",
     "output_type": "stream",
     "text": [
      "16:11 bilby INFO    : Waveform generator initiated with\n",
      "  frequency_domain_source_model: waveforms.mem_freq_XPHM\n",
      "  time_domain_source_model: None\n",
      "  parameter_conversion: bilby.gw.conversion.convert_to_lal_binary_black_hole_parameters\n"
     ]
    },
    {
     "name": "stdout",
     "output_type": "stream",
     "text": [
      "51937.05891659249\n"
     ]
    },
    {
     "name": "stderr",
     "output_type": "stream",
     "text": [
      "16:11 bilby INFO    : Waveform generator initiated with\n",
      "  frequency_domain_source_model: waveforms.mem_freq_XPHM\n",
      "  time_domain_source_model: None\n",
      "  parameter_conversion: bilby.gw.conversion.convert_to_lal_binary_black_hole_parameters\n"
     ]
    },
    {
     "name": "stdout",
     "output_type": "stream",
     "text": [
      "51936.98379847272\n"
     ]
    },
    {
     "name": "stderr",
     "output_type": "stream",
     "text": [
      "16:11 bilby INFO    : Waveform generator initiated with\n",
      "  frequency_domain_source_model: waveforms.mem_freq_XPHM\n",
      "  time_domain_source_model: None\n",
      "  parameter_conversion: bilby.gw.conversion.convert_to_lal_binary_black_hole_parameters\n"
     ]
    },
    {
     "name": "stdout",
     "output_type": "stream",
     "text": [
      "51936.899570543275\n"
     ]
    },
    {
     "name": "stderr",
     "output_type": "stream",
     "text": [
      "16:11 bilby INFO    : Waveform generator initiated with\n",
      "  frequency_domain_source_model: waveforms.mem_freq_XPHM\n",
      "  time_domain_source_model: None\n",
      "  parameter_conversion: bilby.gw.conversion.convert_to_lal_binary_black_hole_parameters\n"
     ]
    },
    {
     "name": "stdout",
     "output_type": "stream",
     "text": [
      "51936.80623280413\n"
     ]
    },
    {
     "name": "stderr",
     "output_type": "stream",
     "text": [
      "16:11 bilby INFO    : Waveform generator initiated with\n",
      "  frequency_domain_source_model: waveforms.mem_freq_XPHM\n",
      "  time_domain_source_model: None\n",
      "  parameter_conversion: bilby.gw.conversion.convert_to_lal_binary_black_hole_parameters\n"
     ]
    },
    {
     "name": "stdout",
     "output_type": "stream",
     "text": [
      "51936.70378525533\n"
     ]
    },
    {
     "name": "stderr",
     "output_type": "stream",
     "text": [
      "16:11 bilby INFO    : Waveform generator initiated with\n",
      "  frequency_domain_source_model: waveforms.mem_freq_XPHM\n",
      "  time_domain_source_model: None\n",
      "  parameter_conversion: bilby.gw.conversion.convert_to_lal_binary_black_hole_parameters\n"
     ]
    },
    {
     "name": "stdout",
     "output_type": "stream",
     "text": [
      "51936.592227896836\n"
     ]
    },
    {
     "name": "stderr",
     "output_type": "stream",
     "text": [
      "16:11 bilby INFO    : Waveform generator initiated with\n",
      "  frequency_domain_source_model: waveforms.mem_freq_XPHM\n",
      "  time_domain_source_model: None\n",
      "  parameter_conversion: bilby.gw.conversion.convert_to_lal_binary_black_hole_parameters\n"
     ]
    },
    {
     "name": "stdout",
     "output_type": "stream",
     "text": [
      "51936.47156072866\n"
     ]
    },
    {
     "name": "stderr",
     "output_type": "stream",
     "text": [
      "16:11 bilby INFO    : Waveform generator initiated with\n",
      "  frequency_domain_source_model: waveforms.mem_freq_XPHM\n",
      "  time_domain_source_model: None\n",
      "  parameter_conversion: bilby.gw.conversion.convert_to_lal_binary_black_hole_parameters\n"
     ]
    },
    {
     "name": "stdout",
     "output_type": "stream",
     "text": [
      "51936.34178375082\n"
     ]
    },
    {
     "name": "stderr",
     "output_type": "stream",
     "text": [
      "16:11 bilby INFO    : Waveform generator initiated with\n",
      "  frequency_domain_source_model: waveforms.mem_freq_XPHM\n",
      "  time_domain_source_model: None\n",
      "  parameter_conversion: bilby.gw.conversion.convert_to_lal_binary_black_hole_parameters\n"
     ]
    },
    {
     "name": "stdout",
     "output_type": "stream",
     "text": [
      "51936.20289696328\n"
     ]
    },
    {
     "name": "stderr",
     "output_type": "stream",
     "text": [
      "16:11 bilby INFO    : Waveform generator initiated with\n",
      "  frequency_domain_source_model: waveforms.mem_freq_XPHM\n",
      "  time_domain_source_model: None\n",
      "  parameter_conversion: bilby.gw.conversion.convert_to_lal_binary_black_hole_parameters\n"
     ]
    },
    {
     "name": "stdout",
     "output_type": "stream",
     "text": [
      "51936.05490036607\n"
     ]
    },
    {
     "name": "stderr",
     "output_type": "stream",
     "text": [
      "16:11 bilby INFO    : Waveform generator initiated with\n",
      "  frequency_domain_source_model: waveforms.mem_freq_XPHM\n",
      "  time_domain_source_model: None\n",
      "  parameter_conversion: bilby.gw.conversion.convert_to_lal_binary_black_hole_parameters\n"
     ]
    },
    {
     "name": "stdout",
     "output_type": "stream",
     "text": [
      "51935.89779395916\n"
     ]
    },
    {
     "name": "stderr",
     "output_type": "stream",
     "text": [
      "16:11 bilby INFO    : Waveform generator initiated with\n",
      "  frequency_domain_source_model: waveforms.mem_freq_XPHM\n",
      "  time_domain_source_model: None\n",
      "  parameter_conversion: bilby.gw.conversion.convert_to_lal_binary_black_hole_parameters\n"
     ]
    },
    {
     "name": "stdout",
     "output_type": "stream",
     "text": [
      "51935.73157774259\n"
     ]
    },
    {
     "name": "stderr",
     "output_type": "stream",
     "text": [
      "16:11 bilby INFO    : Waveform generator initiated with\n",
      "  frequency_domain_source_model: waveforms.mem_freq_XPHM\n",
      "  time_domain_source_model: None\n",
      "  parameter_conversion: bilby.gw.conversion.convert_to_lal_binary_black_hole_parameters\n"
     ]
    },
    {
     "name": "stdout",
     "output_type": "stream",
     "text": [
      "51935.55625171632\n"
     ]
    },
    {
     "name": "stderr",
     "output_type": "stream",
     "text": [
      "16:11 bilby INFO    : Waveform generator initiated with\n",
      "  frequency_domain_source_model: waveforms.mem_freq_XPHM\n",
      "  time_domain_source_model: None\n",
      "  parameter_conversion: bilby.gw.conversion.convert_to_lal_binary_black_hole_parameters\n"
     ]
    },
    {
     "name": "stdout",
     "output_type": "stream",
     "text": [
      "51935.37181588038\n"
     ]
    },
    {
     "name": "stderr",
     "output_type": "stream",
     "text": [
      "16:11 bilby INFO    : Waveform generator initiated with\n",
      "  frequency_domain_source_model: waveforms.mem_freq_XPHM\n",
      "  time_domain_source_model: None\n",
      "  parameter_conversion: bilby.gw.conversion.convert_to_lal_binary_black_hole_parameters\n"
     ]
    },
    {
     "name": "stdout",
     "output_type": "stream",
     "text": [
      "51935.178270234755\n"
     ]
    },
    {
     "name": "stderr",
     "output_type": "stream",
     "text": [
      "16:11 bilby INFO    : Waveform generator initiated with\n",
      "  frequency_domain_source_model: waveforms.mem_freq_XPHM\n",
      "  time_domain_source_model: None\n",
      "  parameter_conversion: bilby.gw.conversion.convert_to_lal_binary_black_hole_parameters\n"
     ]
    },
    {
     "name": "stdout",
     "output_type": "stream",
     "text": [
      "51934.97561477947\n"
     ]
    },
    {
     "name": "stderr",
     "output_type": "stream",
     "text": [
      "16:11 bilby INFO    : Waveform generator initiated with\n",
      "  frequency_domain_source_model: waveforms.mem_freq_XPHM\n",
      "  time_domain_source_model: None\n",
      "  parameter_conversion: bilby.gw.conversion.convert_to_lal_binary_black_hole_parameters\n"
     ]
    },
    {
     "name": "stdout",
     "output_type": "stream",
     "text": [
      "51934.76384951445\n"
     ]
    },
    {
     "name": "stderr",
     "output_type": "stream",
     "text": [
      "16:11 bilby INFO    : Waveform generator initiated with\n",
      "  frequency_domain_source_model: waveforms.mem_freq_XPHM\n",
      "  time_domain_source_model: None\n",
      "  parameter_conversion: bilby.gw.conversion.convert_to_lal_binary_black_hole_parameters\n"
     ]
    },
    {
     "name": "stdout",
     "output_type": "stream",
     "text": [
      "51934.5429744398\n"
     ]
    },
    {
     "name": "stderr",
     "output_type": "stream",
     "text": [
      "16:11 bilby INFO    : Waveform generator initiated with\n",
      "  frequency_domain_source_model: waveforms.mem_freq_XPHM\n",
      "  time_domain_source_model: None\n",
      "  parameter_conversion: bilby.gw.conversion.convert_to_lal_binary_black_hole_parameters\n"
     ]
    },
    {
     "name": "stdout",
     "output_type": "stream",
     "text": [
      "51934.31298955545\n"
     ]
    },
    {
     "name": "stderr",
     "output_type": "stream",
     "text": [
      "16:11 bilby INFO    : Waveform generator initiated with\n",
      "  frequency_domain_source_model: waveforms.mem_freq_XPHM\n",
      "  time_domain_source_model: None\n",
      "  parameter_conversion: bilby.gw.conversion.convert_to_lal_binary_black_hole_parameters\n"
     ]
    },
    {
     "name": "stdout",
     "output_type": "stream",
     "text": [
      "51934.073894861416\n"
     ]
    },
    {
     "name": "stderr",
     "output_type": "stream",
     "text": [
      "16:11 bilby INFO    : Waveform generator initiated with\n",
      "  frequency_domain_source_model: waveforms.mem_freq_XPHM\n",
      "  time_domain_source_model: None\n",
      "  parameter_conversion: bilby.gw.conversion.convert_to_lal_binary_black_hole_parameters\n"
     ]
    },
    {
     "name": "stdout",
     "output_type": "stream",
     "text": [
      "51933.82569035771\n"
     ]
    },
    {
     "name": "stderr",
     "output_type": "stream",
     "text": [
      "16:11 bilby INFO    : Waveform generator initiated with\n",
      "  frequency_domain_source_model: waveforms.mem_freq_XPHM\n",
      "  time_domain_source_model: None\n",
      "  parameter_conversion: bilby.gw.conversion.convert_to_lal_binary_black_hole_parameters\n"
     ]
    },
    {
     "name": "stdout",
     "output_type": "stream",
     "text": [
      "51933.56837604433\n"
     ]
    },
    {
     "name": "stderr",
     "output_type": "stream",
     "text": [
      "16:11 bilby INFO    : Waveform generator initiated with\n",
      "  frequency_domain_source_model: waveforms.mem_freq_XPHM\n",
      "  time_domain_source_model: None\n",
      "  parameter_conversion: bilby.gw.conversion.convert_to_lal_binary_black_hole_parameters\n"
     ]
    },
    {
     "name": "stdout",
     "output_type": "stream",
     "text": [
      "51933.30195192127\n"
     ]
    },
    {
     "name": "stderr",
     "output_type": "stream",
     "text": [
      "16:11 bilby INFO    : Waveform generator initiated with\n",
      "  frequency_domain_source_model: waveforms.mem_freq_XPHM\n",
      "  time_domain_source_model: None\n",
      "  parameter_conversion: bilby.gw.conversion.convert_to_lal_binary_black_hole_parameters\n"
     ]
    },
    {
     "name": "stdout",
     "output_type": "stream",
     "text": [
      "51933.026417988476\n"
     ]
    },
    {
     "name": "stderr",
     "output_type": "stream",
     "text": [
      "16:11 bilby INFO    : Waveform generator initiated with\n",
      "  frequency_domain_source_model: waveforms.mem_freq_XPHM\n",
      "  time_domain_source_model: None\n",
      "  parameter_conversion: bilby.gw.conversion.convert_to_lal_binary_black_hole_parameters\n"
     ]
    },
    {
     "name": "stdout",
     "output_type": "stream",
     "text": [
      "51932.74177424607\n"
     ]
    },
    {
     "name": "stderr",
     "output_type": "stream",
     "text": [
      "16:11 bilby INFO    : Waveform generator initiated with\n",
      "  frequency_domain_source_model: waveforms.mem_freq_XPHM\n",
      "  time_domain_source_model: None\n",
      "  parameter_conversion: bilby.gw.conversion.convert_to_lal_binary_black_hole_parameters\n"
     ]
    },
    {
     "name": "stdout",
     "output_type": "stream",
     "text": [
      "51932.44802069395\n"
     ]
    },
    {
     "name": "stderr",
     "output_type": "stream",
     "text": [
      "16:11 bilby INFO    : Waveform generator initiated with\n",
      "  frequency_domain_source_model: waveforms.mem_freq_XPHM\n",
      "  time_domain_source_model: None\n",
      "  parameter_conversion: bilby.gw.conversion.convert_to_lal_binary_black_hole_parameters\n"
     ]
    },
    {
     "name": "stdout",
     "output_type": "stream",
     "text": [
      "51932.14515733215\n"
     ]
    },
    {
     "name": "stderr",
     "output_type": "stream",
     "text": [
      "16:11 bilby INFO    : Waveform generator initiated with\n",
      "  frequency_domain_source_model: waveforms.mem_freq_XPHM\n",
      "  time_domain_source_model: None\n",
      "  parameter_conversion: bilby.gw.conversion.convert_to_lal_binary_black_hole_parameters\n"
     ]
    },
    {
     "name": "stdout",
     "output_type": "stream",
     "text": [
      "51931.833184160685\n"
     ]
    },
    {
     "name": "stderr",
     "output_type": "stream",
     "text": [
      "16:11 bilby INFO    : Waveform generator initiated with\n",
      "  frequency_domain_source_model: waveforms.mem_freq_XPHM\n",
      "  time_domain_source_model: None\n",
      "  parameter_conversion: bilby.gw.conversion.convert_to_lal_binary_black_hole_parameters\n"
     ]
    },
    {
     "name": "stdout",
     "output_type": "stream",
     "text": [
      "51931.5121011795\n"
     ]
    },
    {
     "name": "stderr",
     "output_type": "stream",
     "text": [
      "16:11 bilby INFO    : Waveform generator initiated with\n",
      "  frequency_domain_source_model: waveforms.mem_freq_XPHM\n",
      "  time_domain_source_model: None\n",
      "  parameter_conversion: bilby.gw.conversion.convert_to_lal_binary_black_hole_parameters\n"
     ]
    },
    {
     "name": "stdout",
     "output_type": "stream",
     "text": [
      "51931.181908388666\n"
     ]
    },
    {
     "name": "stderr",
     "output_type": "stream",
     "text": [
      "16:11 bilby INFO    : Waveform generator initiated with\n",
      "  frequency_domain_source_model: waveforms.mem_freq_XPHM\n",
      "  time_domain_source_model: None\n",
      "  parameter_conversion: bilby.gw.conversion.convert_to_lal_binary_black_hole_parameters\n"
     ]
    },
    {
     "name": "stdout",
     "output_type": "stream",
     "text": [
      "51930.842605788144\n"
     ]
    },
    {
     "name": "stderr",
     "output_type": "stream",
     "text": [
      "16:11 bilby INFO    : Waveform generator initiated with\n",
      "  frequency_domain_source_model: waveforms.mem_freq_XPHM\n",
      "  time_domain_source_model: None\n",
      "  parameter_conversion: bilby.gw.conversion.convert_to_lal_binary_black_hole_parameters\n"
     ]
    },
    {
     "name": "stdout",
     "output_type": "stream",
     "text": [
      "51930.494193377934\n"
     ]
    },
    {
     "name": "stderr",
     "output_type": "stream",
     "text": [
      "16:11 bilby INFO    : Waveform generator initiated with\n",
      "  frequency_domain_source_model: waveforms.mem_freq_XPHM\n",
      "  time_domain_source_model: None\n",
      "  parameter_conversion: bilby.gw.conversion.convert_to_lal_binary_black_hole_parameters\n"
     ]
    },
    {
     "name": "stdout",
     "output_type": "stream",
     "text": [
      "51930.136671158056\n"
     ]
    },
    {
     "name": "stderr",
     "output_type": "stream",
     "text": [
      "16:11 bilby INFO    : Waveform generator initiated with\n",
      "  frequency_domain_source_model: waveforms.mem_freq_XPHM\n",
      "  time_domain_source_model: None\n",
      "  parameter_conversion: bilby.gw.conversion.convert_to_lal_binary_black_hole_parameters\n"
     ]
    },
    {
     "name": "stdout",
     "output_type": "stream",
     "text": [
      "51929.77003912848\n"
     ]
    },
    {
     "name": "stderr",
     "output_type": "stream",
     "text": [
      "16:11 bilby INFO    : Waveform generator initiated with\n",
      "  frequency_domain_source_model: waveforms.mem_freq_XPHM\n",
      "  time_domain_source_model: None\n",
      "  parameter_conversion: bilby.gw.conversion.convert_to_lal_binary_black_hole_parameters\n"
     ]
    },
    {
     "name": "stdout",
     "output_type": "stream",
     "text": [
      "51929.394297289255\n"
     ]
    },
    {
     "name": "stderr",
     "output_type": "stream",
     "text": [
      "16:11 bilby INFO    : Waveform generator initiated with\n",
      "  frequency_domain_source_model: waveforms.mem_freq_XPHM\n",
      "  time_domain_source_model: None\n",
      "  parameter_conversion: bilby.gw.conversion.convert_to_lal_binary_black_hole_parameters\n"
     ]
    },
    {
     "name": "stdout",
     "output_type": "stream",
     "text": [
      "51929.00944564032\n"
     ]
    },
    {
     "name": "stderr",
     "output_type": "stream",
     "text": [
      "16:11 bilby INFO    : Waveform generator initiated with\n",
      "  frequency_domain_source_model: waveforms.mem_freq_XPHM\n",
      "  time_domain_source_model: None\n",
      "  parameter_conversion: bilby.gw.conversion.convert_to_lal_binary_black_hole_parameters\n"
     ]
    },
    {
     "name": "stdout",
     "output_type": "stream",
     "text": [
      "51928.615484181726\n"
     ]
    },
    {
     "name": "stderr",
     "output_type": "stream",
     "text": [
      "16:11 bilby INFO    : Waveform generator initiated with\n",
      "  frequency_domain_source_model: waveforms.mem_freq_XPHM\n",
      "  time_domain_source_model: None\n",
      "  parameter_conversion: bilby.gw.conversion.convert_to_lal_binary_black_hole_parameters\n"
     ]
    },
    {
     "name": "stdout",
     "output_type": "stream",
     "text": [
      "51928.21241291342\n"
     ]
    },
    {
     "name": "stderr",
     "output_type": "stream",
     "text": [
      "16:11 bilby INFO    : Waveform generator initiated with\n",
      "  frequency_domain_source_model: waveforms.mem_freq_XPHM\n",
      "  time_domain_source_model: None\n",
      "  parameter_conversion: bilby.gw.conversion.convert_to_lal_binary_black_hole_parameters\n"
     ]
    },
    {
     "name": "stdout",
     "output_type": "stream",
     "text": [
      "51927.800231835485\n"
     ]
    },
    {
     "name": "stderr",
     "output_type": "stream",
     "text": [
      "16:11 bilby INFO    : Waveform generator initiated with\n",
      "  frequency_domain_source_model: waveforms.mem_freq_XPHM\n",
      "  time_domain_source_model: None\n",
      "  parameter_conversion: bilby.gw.conversion.convert_to_lal_binary_black_hole_parameters\n"
     ]
    },
    {
     "name": "stdout",
     "output_type": "stream",
     "text": [
      "51927.37894094779\n"
     ]
    },
    {
     "name": "stderr",
     "output_type": "stream",
     "text": [
      "16:12 bilby INFO    : Waveform generator initiated with\n",
      "  frequency_domain_source_model: waveforms.mem_freq_XPHM\n",
      "  time_domain_source_model: None\n",
      "  parameter_conversion: bilby.gw.conversion.convert_to_lal_binary_black_hole_parameters\n"
     ]
    },
    {
     "name": "stdout",
     "output_type": "stream",
     "text": [
      "51926.948540250436\n"
     ]
    },
    {
     "name": "stderr",
     "output_type": "stream",
     "text": [
      "16:12 bilby INFO    : Waveform generator initiated with\n",
      "  frequency_domain_source_model: waveforms.mem_freq_XPHM\n",
      "  time_domain_source_model: None\n",
      "  parameter_conversion: bilby.gw.conversion.convert_to_lal_binary_black_hole_parameters\n"
     ]
    },
    {
     "name": "stdout",
     "output_type": "stream",
     "text": [
      "51926.50902974344\n"
     ]
    },
    {
     "name": "stderr",
     "output_type": "stream",
     "text": [
      "16:12 bilby INFO    : Waveform generator initiated with\n",
      "  frequency_domain_source_model: waveforms.mem_freq_XPHM\n",
      "  time_domain_source_model: None\n",
      "  parameter_conversion: bilby.gw.conversion.convert_to_lal_binary_black_hole_parameters\n"
     ]
    },
    {
     "name": "stdout",
     "output_type": "stream",
     "text": [
      "51926.060409426755\n"
     ]
    },
    {
     "name": "stderr",
     "output_type": "stream",
     "text": [
      "16:12 bilby INFO    : Waveform generator initiated with\n",
      "  frequency_domain_source_model: waveforms.mem_freq_XPHM\n",
      "  time_domain_source_model: None\n",
      "  parameter_conversion: bilby.gw.conversion.convert_to_lal_binary_black_hole_parameters\n"
     ]
    },
    {
     "name": "stdout",
     "output_type": "stream",
     "text": [
      "51925.60267930038\n"
     ]
    },
    {
     "name": "stderr",
     "output_type": "stream",
     "text": [
      "16:12 bilby INFO    : Waveform generator initiated with\n",
      "  frequency_domain_source_model: waveforms.mem_freq_XPHM\n",
      "  time_domain_source_model: None\n",
      "  parameter_conversion: bilby.gw.conversion.convert_to_lal_binary_black_hole_parameters\n"
     ]
    },
    {
     "name": "stdout",
     "output_type": "stream",
     "text": [
      "51925.135839364324\n"
     ]
    },
    {
     "name": "stderr",
     "output_type": "stream",
     "text": [
      "16:12 bilby INFO    : Waveform generator initiated with\n",
      "  frequency_domain_source_model: waveforms.mem_freq_XPHM\n",
      "  time_domain_source_model: None\n",
      "  parameter_conversion: bilby.gw.conversion.convert_to_lal_binary_black_hole_parameters\n"
     ]
    },
    {
     "name": "stdout",
     "output_type": "stream",
     "text": [
      "51924.65988961858\n"
     ]
    },
    {
     "name": "stderr",
     "output_type": "stream",
     "text": [
      "16:12 bilby INFO    : Waveform generator initiated with\n",
      "  frequency_domain_source_model: waveforms.mem_freq_XPHM\n",
      "  time_domain_source_model: None\n",
      "  parameter_conversion: bilby.gw.conversion.convert_to_lal_binary_black_hole_parameters\n"
     ]
    },
    {
     "name": "stdout",
     "output_type": "stream",
     "text": [
      "51924.174830063144\n"
     ]
    },
    {
     "name": "stderr",
     "output_type": "stream",
     "text": [
      "16:12 bilby INFO    : Waveform generator initiated with\n",
      "  frequency_domain_source_model: waveforms.mem_freq_XPHM\n",
      "  time_domain_source_model: None\n",
      "  parameter_conversion: bilby.gw.conversion.convert_to_lal_binary_black_hole_parameters\n"
     ]
    },
    {
     "name": "stdout",
     "output_type": "stream",
     "text": [
      "51923.680660698024\n"
     ]
    },
    {
     "name": "stderr",
     "output_type": "stream",
     "text": [
      "16:12 bilby INFO    : Waveform generator initiated with\n",
      "  frequency_domain_source_model: waveforms.mem_freq_XPHM\n",
      "  time_domain_source_model: None\n",
      "  parameter_conversion: bilby.gw.conversion.convert_to_lal_binary_black_hole_parameters\n"
     ]
    },
    {
     "name": "stdout",
     "output_type": "stream",
     "text": [
      "51923.17738152329\n"
     ]
    },
    {
     "name": "stderr",
     "output_type": "stream",
     "text": [
      "16:12 bilby INFO    : Waveform generator initiated with\n",
      "  frequency_domain_source_model: waveforms.mem_freq_XPHM\n",
      "  time_domain_source_model: None\n",
      "  parameter_conversion: bilby.gw.conversion.convert_to_lal_binary_black_hole_parameters\n"
     ]
    },
    {
     "name": "stdout",
     "output_type": "stream",
     "text": [
      "51922.664992538805\n"
     ]
    },
    {
     "name": "stderr",
     "output_type": "stream",
     "text": [
      "16:12 bilby INFO    : Waveform generator initiated with\n",
      "  frequency_domain_source_model: waveforms.mem_freq_XPHM\n",
      "  time_domain_source_model: None\n",
      "  parameter_conversion: bilby.gw.conversion.convert_to_lal_binary_black_hole_parameters\n"
     ]
    },
    {
     "name": "stdout",
     "output_type": "stream",
     "text": [
      "51922.143493744676\n"
     ]
    },
    {
     "name": "stderr",
     "output_type": "stream",
     "text": [
      "16:12 bilby INFO    : Waveform generator initiated with\n",
      "  frequency_domain_source_model: waveforms.mem_freq_XPHM\n",
      "  time_domain_source_model: None\n",
      "  parameter_conversion: bilby.gw.conversion.convert_to_lal_binary_black_hole_parameters\n"
     ]
    },
    {
     "name": "stdout",
     "output_type": "stream",
     "text": [
      "51921.61288514083\n"
     ]
    },
    {
     "name": "stderr",
     "output_type": "stream",
     "text": [
      "16:12 bilby INFO    : Waveform generator initiated with\n",
      "  frequency_domain_source_model: waveforms.mem_freq_XPHM\n",
      "  time_domain_source_model: None\n",
      "  parameter_conversion: bilby.gw.conversion.convert_to_lal_binary_black_hole_parameters\n"
     ]
    },
    {
     "name": "stdout",
     "output_type": "stream",
     "text": [
      "51921.073166727314\n"
     ]
    },
    {
     "name": "stderr",
     "output_type": "stream",
     "text": [
      "16:12 bilby INFO    : Waveform generator initiated with\n",
      "  frequency_domain_source_model: waveforms.mem_freq_XPHM\n",
      "  time_domain_source_model: None\n",
      "  parameter_conversion: bilby.gw.conversion.convert_to_lal_binary_black_hole_parameters\n"
     ]
    },
    {
     "name": "stdout",
     "output_type": "stream",
     "text": [
      "51920.52433850414\n",
      "51919.96640047124\n"
     ]
    },
    {
     "name": "stderr",
     "output_type": "stream",
     "text": [
      "16:12 bilby INFO    : Injected signal in H1:\n",
      "16:12 bilby INFO    :   optimal SNR = 257.12\n",
      "16:12 bilby INFO    :   matched filter SNR = 256.64-0.02j\n",
      "16:12 bilby INFO    :   chirp_mass = 29.8387469533461\n",
      "16:12 bilby INFO    :   mass_ratio = 0.8687955769814424\n",
      "16:12 bilby INFO    :   a_1 = 0.8608417198511092\n",
      "16:12 bilby INFO    :   a_2 = 0.7195088134379835\n",
      "16:12 bilby INFO    :   tilt_1 = 2.3792185506368795\n",
      "16:12 bilby INFO    :   tilt_2 = 0.8663525482689185\n",
      "16:12 bilby INFO    :   phi_12 = 5.878104994643697\n",
      "16:12 bilby INFO    :   phi_jl = 0.25757481830607415\n",
      "16:12 bilby INFO    :   theta_jn = 1.5707963267948966\n",
      "16:12 bilby INFO    :   psi = 0.6912519348265866\n",
      "16:12 bilby INFO    :   phase = 4.000226339478637\n",
      "16:12 bilby INFO    :   azimuth = 2.590928400193608\n",
      "16:12 bilby INFO    :   zenith = 2.3522458754068447\n",
      "16:12 bilby INFO    :   recalib_H1_amplitude_0 = -0.005868249419321757\n",
      "16:12 bilby INFO    :   recalib_H1_amplitude_1 = -0.043783360917849956\n",
      "16:12 bilby INFO    :   recalib_H1_amplitude_2 = -0.04728295327822305\n",
      "16:12 bilby INFO    :   recalib_H1_amplitude_3 = 0.08222264173465693\n",
      "16:12 bilby INFO    :   recalib_H1_amplitude_4 = 0.011855669695012536\n",
      "16:12 bilby INFO    :   recalib_H1_amplitude_5 = -0.008990421387286167\n",
      "16:12 bilby INFO    :   recalib_H1_amplitude_6 = -0.020009159194152252\n",
      "16:12 bilby INFO    :   recalib_H1_amplitude_7 = 0.008484833525516596\n",
      "16:12 bilby INFO    :   recalib_H1_amplitude_8 = -0.018327160189299724\n",
      "16:12 bilby INFO    :   recalib_H1_amplitude_9 = -0.0023772652335948725\n",
      "16:12 bilby INFO    :   recalib_H1_phase_0 = -0.0006461526627345466\n",
      "16:12 bilby INFO    :   recalib_H1_phase_1 = 0.051177755324892465\n",
      "16:12 bilby INFO    :   recalib_H1_phase_2 = 0.01399307494477739\n",
      "16:12 bilby INFO    :   recalib_H1_phase_3 = 0.08416966330293393\n",
      "16:12 bilby INFO    :   recalib_H1_phase_4 = 0.047473946777130974\n",
      "16:12 bilby INFO    :   recalib_H1_phase_5 = 0.013916433512643673\n",
      "16:12 bilby INFO    :   recalib_H1_phase_6 = -0.02128658443550522\n",
      "16:12 bilby INFO    :   recalib_H1_phase_7 = 0.02296630800067761\n",
      "16:12 bilby INFO    :   recalib_H1_phase_8 = -0.037098045831878486\n",
      "16:12 bilby INFO    :   recalib_H1_phase_9 = -0.018967830067115908\n",
      "16:12 bilby INFO    :   recalib_L1_amplitude_0 = -0.036293801292262916\n",
      "16:12 bilby INFO    :   recalib_L1_amplitude_1 = 0.014361561207618069\n",
      "16:12 bilby INFO    :   recalib_L1_amplitude_2 = -0.08693301208957734\n",
      "16:12 bilby INFO    :   recalib_L1_amplitude_3 = 0.10143853088596673\n",
      "16:12 bilby INFO    :   recalib_L1_amplitude_4 = -0.0077889246361674885\n",
      "16:12 bilby INFO    :   recalib_L1_amplitude_5 = -0.025543820665279264\n",
      "16:12 bilby INFO    :   recalib_L1_amplitude_6 = -0.021247887291087522\n",
      "16:12 bilby INFO    :   recalib_L1_amplitude_7 = 0.013667834994950237\n",
      "16:12 bilby INFO    :   recalib_L1_amplitude_8 = 0.012377526160578984\n",
      "16:12 bilby INFO    :   recalib_L1_amplitude_9 = 0.021583525090134788\n",
      "16:12 bilby INFO    :   recalib_L1_phase_0 = -0.02268955770914274\n",
      "16:12 bilby INFO    :   recalib_L1_phase_1 = -0.027473420705276475\n",
      "16:12 bilby INFO    :   recalib_L1_phase_2 = -0.0943607841222296\n",
      "16:12 bilby INFO    :   recalib_L1_phase_3 = 0.029977319706674166\n",
      "16:12 bilby INFO    :   recalib_L1_phase_4 = 0.08523838545670002\n",
      "16:12 bilby INFO    :   recalib_L1_phase_5 = -0.056840952818595976\n",
      "16:12 bilby INFO    :   recalib_L1_phase_6 = -0.004019423152701047\n",
      "16:12 bilby INFO    :   recalib_L1_phase_7 = 0.03270580357083033\n",
      "16:12 bilby INFO    :   recalib_L1_phase_8 = 0.02364064367507932\n",
      "16:12 bilby INFO    :   recalib_L1_phase_9 = -0.002027753595167955\n",
      "16:12 bilby INFO    :   time_jitter = 6.515517343713782e-06\n",
      "16:12 bilby INFO    :   luminosity_distance = 100\n",
      "16:12 bilby INFO    :   geocent_time = 1126259462.408404\n",
      "16:12 bilby INFO    :   recalib_H1_frequency_0 = 19.999999999999996\n",
      "16:12 bilby INFO    :   recalib_H1_frequency_1 = 30.514434824844255\n",
      "16:12 bilby INFO    :   recalib_H1_frequency_2 = 46.55653663398341\n",
      "16:12 bilby INFO    :   recalib_H1_frequency_3 = 71.03232013940804\n",
      "16:12 bilby INFO    :   recalib_H1_frequency_4 = 108.37555516757195\n",
      "16:12 bilby INFO    :   recalib_H1_frequency_5 = 165.35094073835938\n",
      "16:12 bilby INFO    :   recalib_H1_frequency_6 = 252.27952521936786\n",
      "16:12 bilby INFO    :   recalib_H1_frequency_7 = 384.9083564974527\n",
      "16:12 bilby INFO    :   recalib_H1_frequency_8 = 587.2630478939719\n",
      "16:12 bilby INFO    :   recalib_H1_frequency_9 = 895.9999999999999\n",
      "16:12 bilby INFO    :   recalib_L1_frequency_0 = 19.999999999999996\n",
      "16:12 bilby INFO    :   recalib_L1_frequency_1 = 30.514434824844255\n",
      "16:12 bilby INFO    :   recalib_L1_frequency_2 = 46.55653663398341\n",
      "16:12 bilby INFO    :   recalib_L1_frequency_3 = 71.03232013940804\n",
      "16:12 bilby INFO    :   recalib_L1_frequency_4 = 108.37555516757195\n",
      "16:12 bilby INFO    :   recalib_L1_frequency_5 = 165.35094073835938\n",
      "16:12 bilby INFO    :   recalib_L1_frequency_6 = 252.27952521936786\n",
      "16:12 bilby INFO    :   recalib_L1_frequency_7 = 384.9083564974527\n",
      "16:12 bilby INFO    :   recalib_L1_frequency_8 = 587.2630478939719\n",
      "16:12 bilby INFO    :   recalib_L1_frequency_9 = 895.9999999999999\n",
      "16:12 bilby INFO    :   log_likelihood = 328.4324942070929\n",
      "16:12 bilby INFO    :   log_prior = 66.29957866305776\n",
      "16:12 bilby INFO    :   total_mass = 68.75498279849768\n",
      "16:12 bilby INFO    :   mass_1 = 36.79106674126104\n",
      "16:12 bilby INFO    :   mass_2 = 31.96391605723664\n",
      "16:12 bilby INFO    :   ra = 2.216116171456804\n",
      "16:12 bilby INFO    :   dec = -1.2259035208296045\n",
      "16:12 bilby INFO    :   symmetric_mass_ratio = 0.24876770874914655\n",
      "16:12 bilby INFO    :   spin_1x = 0.5904472619004925\n",
      "16:12 bilby INFO    :   spin_1y = -0.06957261443892127\n",
      "16:12 bilby INFO    :   spin_1z = -0.6225593536929314\n",
      "16:12 bilby INFO    :   spin_2x = 0.4751310354864326\n",
      "16:12 bilby INFO    :   spin_2y = -0.2735390509327497\n",
      "16:12 bilby INFO    :   spin_2z = 0.46596117794011116\n",
      "16:12 bilby INFO    :   phi_1 = 6.1658957660048594\n",
      "16:12 bilby INFO    :   phi_2 = 5.760815453468969\n",
      "16:12 bilby INFO    :   chi_eff = -0.11651051936092104\n",
      "16:12 bilby INFO    :   chi_1_in_plane = 0.5945320157616876\n",
      "16:12 bilby INFO    :   chi_2_in_plane = 0.5482454863175794\n",
      "16:12 bilby INFO    :   chi_p = 0.5945320157616876\n",
      "16:12 bilby INFO    :   cos_tilt_1 = -0.7231983991210473\n",
      "16:12 bilby INFO    :   cos_tilt_2 = 0.6476101046123928\n",
      "16:12 bilby INFO    :   comoving_distance = 460.07828764617136\n",
      "16:12 bilby INFO    :   H1_matched_filter_snr = 21.221089162046386\n",
      "16:12 bilby INFO    :   H1_optimal_snr = 19.957775833584304\n",
      "16:12 bilby INFO    :   L1_matched_filter_snr = 15.167442050430017\n",
      "16:12 bilby INFO    :   L1_optimal_snr = 13.072732183576488\n",
      "16:12 bilby INFO    :   H1_matched_filter_abs_snr = 21.320120947355953\n",
      "16:12 bilby INFO    :   H1_matched_filter_snr_angle = -0.09642190803027524\n",
      "16:12 bilby INFO    :   L1_matched_filter_abs_snr = 15.262798565714363\n",
      "16:12 bilby INFO    :   L1_matched_filter_snr_angle = -0.11184059441681089\n",
      "16:12 bilby INFO    :   redshift = 0.10685806108071728\n",
      "16:12 bilby INFO    :   inverted_mass_ratio = 1.1510187511248808\n",
      "16:12 bilby INFO    :   mass_1_source = 33.23919121602536\n",
      "16:12 bilby INFO    :   mass_2_source = 28.878062310923244\n",
      "16:12 bilby INFO    :   total_mass_source = 62.1172535269486\n",
      "16:12 bilby INFO    :   chirp_mass_source = 26.958060841344064\n",
      "16:12 bilby INFO    :   chi_p_2spin = 0.6991048646002762\n",
      "16:12 bilby INFO    :   beta = 0.2964834516665308\n",
      "16:12 bilby INFO    :   psi_J = 1.8454358595594362\n",
      "16:12 bilby INFO    :   final_spin = 0.6847123040726873\n",
      "16:12 bilby INFO    :   peak_luminosity = 3.4650910541734206\n",
      "16:12 bilby INFO    :   final_mass = 65.67190490679377\n",
      "16:12 bilby INFO    :   final_mass_source = 59.33182150082807\n",
      "16:12 bilby INFO    :   radiated_energy = 2.7854320261205316\n",
      "16:12 bilby INFO    :   H1_time = 1126259462.4241831\n",
      "16:12 bilby INFO    :   L1_time = 1126259462.417131\n",
      "16:12 bilby INFO    :   network_optimal_snr = 23.858104345633123\n",
      "16:12 bilby INFO    :   network_matched_filter_snr = 26.062659432941388\n",
      "16:12 bilby INFO    :   cos_theta_jn = -0.7957343530217185\n",
      "16:12 bilby INFO    :   viewing_angle = 0.6505771989131781\n",
      "16:12 bilby INFO    :   cos_iota = -0.7159420610982777\n",
      "16:12 bilby INFO    :   tilt_1_infinity_only_prec_avg = 1.9184456335196816\n",
      "16:12 bilby INFO    :   tilt_2_infinity_only_prec_avg = 1.4496492121062137\n",
      "16:12 bilby INFO    :   spin_1z_infinity_only_prec_avg = -0.29327903351648726\n",
      "16:12 bilby INFO    :   spin_2z_infinity_only_prec_avg = 0.08695335504061963\n",
      "16:12 bilby INFO    :   chi_eff_infinity_only_prec_avg = -0.11651051936092102\n",
      "16:12 bilby INFO    :   chi_p_infinity_only_prec_avg = 0.8093428662414038\n",
      "16:12 bilby INFO    :   cos_tilt_1_infinity_only_prec_avg = -0.3406886849852173\n",
      "16:12 bilby INFO    :   cos_tilt_2_infinity_only_prec_avg = 0.12085099364542307\n",
      "16:12 bilby INFO    : Injected signal in L1:\n",
      "16:12 bilby INFO    :   optimal SNR = 193.44\n",
      "16:12 bilby INFO    :   matched filter SNR = 191.96+0.87j\n",
      "16:12 bilby INFO    :   chirp_mass = 29.8387469533461\n",
      "16:12 bilby INFO    :   mass_ratio = 0.8687955769814424\n",
      "16:12 bilby INFO    :   a_1 = 0.8608417198511092\n",
      "16:12 bilby INFO    :   a_2 = 0.7195088134379835\n",
      "16:12 bilby INFO    :   tilt_1 = 2.3792185506368795\n",
      "16:12 bilby INFO    :   tilt_2 = 0.8663525482689185\n",
      "16:12 bilby INFO    :   phi_12 = 5.878104994643697\n",
      "16:12 bilby INFO    :   phi_jl = 0.25757481830607415\n",
      "16:12 bilby INFO    :   theta_jn = 1.5707963267948966\n",
      "16:12 bilby INFO    :   psi = 0.6912519348265866\n",
      "16:12 bilby INFO    :   phase = 4.000226339478637\n",
      "16:12 bilby INFO    :   azimuth = 2.590928400193608\n",
      "16:12 bilby INFO    :   zenith = 2.3522458754068447\n",
      "16:12 bilby INFO    :   recalib_H1_amplitude_0 = -0.005868249419321757\n",
      "16:12 bilby INFO    :   recalib_H1_amplitude_1 = -0.043783360917849956\n",
      "16:12 bilby INFO    :   recalib_H1_amplitude_2 = -0.04728295327822305\n",
      "16:12 bilby INFO    :   recalib_H1_amplitude_3 = 0.08222264173465693\n",
      "16:12 bilby INFO    :   recalib_H1_amplitude_4 = 0.011855669695012536\n",
      "16:12 bilby INFO    :   recalib_H1_amplitude_5 = -0.008990421387286167\n",
      "16:12 bilby INFO    :   recalib_H1_amplitude_6 = -0.020009159194152252\n",
      "16:12 bilby INFO    :   recalib_H1_amplitude_7 = 0.008484833525516596\n",
      "16:12 bilby INFO    :   recalib_H1_amplitude_8 = -0.018327160189299724\n",
      "16:12 bilby INFO    :   recalib_H1_amplitude_9 = -0.0023772652335948725\n",
      "16:12 bilby INFO    :   recalib_H1_phase_0 = -0.0006461526627345466\n",
      "16:12 bilby INFO    :   recalib_H1_phase_1 = 0.051177755324892465\n",
      "16:12 bilby INFO    :   recalib_H1_phase_2 = 0.01399307494477739\n",
      "16:12 bilby INFO    :   recalib_H1_phase_3 = 0.08416966330293393\n",
      "16:12 bilby INFO    :   recalib_H1_phase_4 = 0.047473946777130974\n",
      "16:12 bilby INFO    :   recalib_H1_phase_5 = 0.013916433512643673\n",
      "16:12 bilby INFO    :   recalib_H1_phase_6 = -0.02128658443550522\n",
      "16:12 bilby INFO    :   recalib_H1_phase_7 = 0.02296630800067761\n",
      "16:12 bilby INFO    :   recalib_H1_phase_8 = -0.037098045831878486\n",
      "16:12 bilby INFO    :   recalib_H1_phase_9 = -0.018967830067115908\n",
      "16:12 bilby INFO    :   recalib_L1_amplitude_0 = -0.036293801292262916\n",
      "16:12 bilby INFO    :   recalib_L1_amplitude_1 = 0.014361561207618069\n",
      "16:12 bilby INFO    :   recalib_L1_amplitude_2 = -0.08693301208957734\n",
      "16:12 bilby INFO    :   recalib_L1_amplitude_3 = 0.10143853088596673\n",
      "16:12 bilby INFO    :   recalib_L1_amplitude_4 = -0.0077889246361674885\n",
      "16:12 bilby INFO    :   recalib_L1_amplitude_5 = -0.025543820665279264\n",
      "16:12 bilby INFO    :   recalib_L1_amplitude_6 = -0.021247887291087522\n",
      "16:12 bilby INFO    :   recalib_L1_amplitude_7 = 0.013667834994950237\n",
      "16:12 bilby INFO    :   recalib_L1_amplitude_8 = 0.012377526160578984\n",
      "16:12 bilby INFO    :   recalib_L1_amplitude_9 = 0.021583525090134788\n",
      "16:12 bilby INFO    :   recalib_L1_phase_0 = -0.02268955770914274\n",
      "16:12 bilby INFO    :   recalib_L1_phase_1 = -0.027473420705276475\n",
      "16:12 bilby INFO    :   recalib_L1_phase_2 = -0.0943607841222296\n",
      "16:12 bilby INFO    :   recalib_L1_phase_3 = 0.029977319706674166\n",
      "16:12 bilby INFO    :   recalib_L1_phase_4 = 0.08523838545670002\n",
      "16:12 bilby INFO    :   recalib_L1_phase_5 = -0.056840952818595976\n",
      "16:12 bilby INFO    :   recalib_L1_phase_6 = -0.004019423152701047\n",
      "16:12 bilby INFO    :   recalib_L1_phase_7 = 0.03270580357083033\n",
      "16:12 bilby INFO    :   recalib_L1_phase_8 = 0.02364064367507932\n",
      "16:12 bilby INFO    :   recalib_L1_phase_9 = -0.002027753595167955\n",
      "16:12 bilby INFO    :   time_jitter = 6.515517343713782e-06\n",
      "16:12 bilby INFO    :   luminosity_distance = 100\n",
      "16:12 bilby INFO    :   geocent_time = 1126259462.408404\n",
      "16:12 bilby INFO    :   recalib_H1_frequency_0 = 19.999999999999996\n",
      "16:12 bilby INFO    :   recalib_H1_frequency_1 = 30.514434824844255\n",
      "16:12 bilby INFO    :   recalib_H1_frequency_2 = 46.55653663398341\n",
      "16:12 bilby INFO    :   recalib_H1_frequency_3 = 71.03232013940804\n",
      "16:12 bilby INFO    :   recalib_H1_frequency_4 = 108.37555516757195\n",
      "16:12 bilby INFO    :   recalib_H1_frequency_5 = 165.35094073835938\n",
      "16:12 bilby INFO    :   recalib_H1_frequency_6 = 252.27952521936786\n",
      "16:12 bilby INFO    :   recalib_H1_frequency_7 = 384.9083564974527\n",
      "16:12 bilby INFO    :   recalib_H1_frequency_8 = 587.2630478939719\n",
      "16:12 bilby INFO    :   recalib_H1_frequency_9 = 895.9999999999999\n",
      "16:12 bilby INFO    :   recalib_L1_frequency_0 = 19.999999999999996\n",
      "16:12 bilby INFO    :   recalib_L1_frequency_1 = 30.514434824844255\n",
      "16:12 bilby INFO    :   recalib_L1_frequency_2 = 46.55653663398341\n",
      "16:12 bilby INFO    :   recalib_L1_frequency_3 = 71.03232013940804\n",
      "16:12 bilby INFO    :   recalib_L1_frequency_4 = 108.37555516757195\n",
      "16:12 bilby INFO    :   recalib_L1_frequency_5 = 165.35094073835938\n",
      "16:12 bilby INFO    :   recalib_L1_frequency_6 = 252.27952521936786\n",
      "16:12 bilby INFO    :   recalib_L1_frequency_7 = 384.9083564974527\n",
      "16:12 bilby INFO    :   recalib_L1_frequency_8 = 587.2630478939719\n",
      "16:12 bilby INFO    :   recalib_L1_frequency_9 = 895.9999999999999\n",
      "16:12 bilby INFO    :   log_likelihood = 328.4324942070929\n",
      "16:12 bilby INFO    :   log_prior = 66.29957866305776\n",
      "16:12 bilby INFO    :   total_mass = 68.75498279849768\n",
      "16:12 bilby INFO    :   mass_1 = 36.79106674126104\n",
      "16:12 bilby INFO    :   mass_2 = 31.96391605723664\n",
      "16:12 bilby INFO    :   ra = 2.216116171456804\n",
      "16:12 bilby INFO    :   dec = -1.2259035208296045\n",
      "16:12 bilby INFO    :   symmetric_mass_ratio = 0.24876770874914655\n",
      "16:12 bilby INFO    :   spin_1x = 0.5904472619004925\n",
      "16:12 bilby INFO    :   spin_1y = -0.06957261443892127\n",
      "16:12 bilby INFO    :   spin_1z = -0.6225593536929314\n",
      "16:12 bilby INFO    :   spin_2x = 0.4751310354864326\n",
      "16:12 bilby INFO    :   spin_2y = -0.2735390509327497\n",
      "16:12 bilby INFO    :   spin_2z = 0.46596117794011116\n",
      "16:12 bilby INFO    :   phi_1 = 6.1658957660048594\n",
      "16:12 bilby INFO    :   phi_2 = 5.760815453468969\n",
      "16:12 bilby INFO    :   chi_eff = -0.11651051936092104\n",
      "16:12 bilby INFO    :   chi_1_in_plane = 0.5945320157616876\n",
      "16:12 bilby INFO    :   chi_2_in_plane = 0.5482454863175794\n",
      "16:12 bilby INFO    :   chi_p = 0.5945320157616876\n",
      "16:12 bilby INFO    :   cos_tilt_1 = -0.7231983991210473\n",
      "16:12 bilby INFO    :   cos_tilt_2 = 0.6476101046123928\n",
      "16:12 bilby INFO    :   comoving_distance = 460.07828764617136\n",
      "16:12 bilby INFO    :   H1_matched_filter_snr = 21.221089162046386\n",
      "16:12 bilby INFO    :   H1_optimal_snr = 19.957775833584304\n",
      "16:12 bilby INFO    :   L1_matched_filter_snr = 15.167442050430017\n",
      "16:12 bilby INFO    :   L1_optimal_snr = 13.072732183576488\n",
      "16:12 bilby INFO    :   H1_matched_filter_abs_snr = 21.320120947355953\n",
      "16:12 bilby INFO    :   H1_matched_filter_snr_angle = -0.09642190803027524\n",
      "16:12 bilby INFO    :   L1_matched_filter_abs_snr = 15.262798565714363\n",
      "16:12 bilby INFO    :   L1_matched_filter_snr_angle = -0.11184059441681089\n",
      "16:12 bilby INFO    :   redshift = 0.10685806108071728\n",
      "16:12 bilby INFO    :   inverted_mass_ratio = 1.1510187511248808\n",
      "16:12 bilby INFO    :   mass_1_source = 33.23919121602536\n",
      "16:12 bilby INFO    :   mass_2_source = 28.878062310923244\n",
      "16:12 bilby INFO    :   total_mass_source = 62.1172535269486\n",
      "16:12 bilby INFO    :   chirp_mass_source = 26.958060841344064\n",
      "16:12 bilby INFO    :   chi_p_2spin = 0.6991048646002762\n",
      "16:12 bilby INFO    :   beta = 0.2964834516665308\n",
      "16:12 bilby INFO    :   psi_J = 1.8454358595594362\n",
      "16:12 bilby INFO    :   final_spin = 0.6847123040726873\n",
      "16:12 bilby INFO    :   peak_luminosity = 3.4650910541734206\n",
      "16:12 bilby INFO    :   final_mass = 65.67190490679377\n",
      "16:12 bilby INFO    :   final_mass_source = 59.33182150082807\n",
      "16:12 bilby INFO    :   radiated_energy = 2.7854320261205316\n",
      "16:12 bilby INFO    :   H1_time = 1126259462.4241831\n",
      "16:12 bilby INFO    :   L1_time = 1126259462.417131\n",
      "16:12 bilby INFO    :   network_optimal_snr = 23.858104345633123\n",
      "16:12 bilby INFO    :   network_matched_filter_snr = 26.062659432941388\n",
      "16:12 bilby INFO    :   cos_theta_jn = -0.7957343530217185\n",
      "16:12 bilby INFO    :   viewing_angle = 0.6505771989131781\n",
      "16:12 bilby INFO    :   cos_iota = -0.7159420610982777\n",
      "16:12 bilby INFO    :   tilt_1_infinity_only_prec_avg = 1.9184456335196816\n",
      "16:12 bilby INFO    :   tilt_2_infinity_only_prec_avg = 1.4496492121062137\n",
      "16:12 bilby INFO    :   spin_1z_infinity_only_prec_avg = -0.29327903351648726\n",
      "16:12 bilby INFO    :   spin_2z_infinity_only_prec_avg = 0.08695335504061963\n",
      "16:12 bilby INFO    :   chi_eff_infinity_only_prec_avg = -0.11651051936092102\n",
      "16:12 bilby INFO    :   chi_p_infinity_only_prec_avg = 0.8093428662414038\n",
      "16:12 bilby INFO    :   cos_tilt_1_infinity_only_prec_avg = -0.3406886849852173\n",
      "16:12 bilby INFO    :   cos_tilt_2_infinity_only_prec_avg = 0.12085099364542307\n",
      "16:12 bilby INFO    : Injected signal in H1:\n",
      "16:12 bilby INFO    :   optimal SNR = 257.12\n",
      "16:12 bilby INFO    :   matched filter SNR = 259.83-0.19j\n",
      "16:12 bilby INFO    :   chirp_mass = 29.8387469533461\n",
      "16:12 bilby INFO    :   mass_ratio = 0.8687955769814424\n",
      "16:12 bilby INFO    :   a_1 = 0.8608417198511092\n",
      "16:12 bilby INFO    :   a_2 = 0.7195088134379835\n",
      "16:12 bilby INFO    :   tilt_1 = 2.3792185506368795\n",
      "16:12 bilby INFO    :   tilt_2 = 0.8663525482689185\n",
      "16:12 bilby INFO    :   phi_12 = 5.878104994643697\n",
      "16:12 bilby INFO    :   phi_jl = 0.25757481830607415\n",
      "16:12 bilby INFO    :   theta_jn = 1.5707963267948966\n",
      "16:12 bilby INFO    :   psi = 0.6912519348265866\n",
      "16:12 bilby INFO    :   phase = 4.000226339478637\n",
      "16:12 bilby INFO    :   azimuth = 2.590928400193608\n",
      "16:12 bilby INFO    :   zenith = 2.3522458754068447\n",
      "16:12 bilby INFO    :   recalib_H1_amplitude_0 = -0.005868249419321757\n",
      "16:12 bilby INFO    :   recalib_H1_amplitude_1 = -0.043783360917849956\n",
      "16:12 bilby INFO    :   recalib_H1_amplitude_2 = -0.04728295327822305\n",
      "16:12 bilby INFO    :   recalib_H1_amplitude_3 = 0.08222264173465693\n",
      "16:12 bilby INFO    :   recalib_H1_amplitude_4 = 0.011855669695012536\n",
      "16:12 bilby INFO    :   recalib_H1_amplitude_5 = -0.008990421387286167\n",
      "16:12 bilby INFO    :   recalib_H1_amplitude_6 = -0.020009159194152252\n",
      "16:12 bilby INFO    :   recalib_H1_amplitude_7 = 0.008484833525516596\n",
      "16:12 bilby INFO    :   recalib_H1_amplitude_8 = -0.018327160189299724\n",
      "16:12 bilby INFO    :   recalib_H1_amplitude_9 = -0.0023772652335948725\n",
      "16:12 bilby INFO    :   recalib_H1_phase_0 = -0.0006461526627345466\n",
      "16:12 bilby INFO    :   recalib_H1_phase_1 = 0.051177755324892465\n",
      "16:12 bilby INFO    :   recalib_H1_phase_2 = 0.01399307494477739\n",
      "16:12 bilby INFO    :   recalib_H1_phase_3 = 0.08416966330293393\n",
      "16:12 bilby INFO    :   recalib_H1_phase_4 = 0.047473946777130974\n",
      "16:12 bilby INFO    :   recalib_H1_phase_5 = 0.013916433512643673\n",
      "16:12 bilby INFO    :   recalib_H1_phase_6 = -0.02128658443550522\n",
      "16:12 bilby INFO    :   recalib_H1_phase_7 = 0.02296630800067761\n",
      "16:12 bilby INFO    :   recalib_H1_phase_8 = -0.037098045831878486\n",
      "16:12 bilby INFO    :   recalib_H1_phase_9 = -0.018967830067115908\n",
      "16:12 bilby INFO    :   recalib_L1_amplitude_0 = -0.036293801292262916\n",
      "16:12 bilby INFO    :   recalib_L1_amplitude_1 = 0.014361561207618069\n",
      "16:12 bilby INFO    :   recalib_L1_amplitude_2 = -0.08693301208957734\n",
      "16:12 bilby INFO    :   recalib_L1_amplitude_3 = 0.10143853088596673\n",
      "16:12 bilby INFO    :   recalib_L1_amplitude_4 = -0.0077889246361674885\n",
      "16:12 bilby INFO    :   recalib_L1_amplitude_5 = -0.025543820665279264\n",
      "16:12 bilby INFO    :   recalib_L1_amplitude_6 = -0.021247887291087522\n",
      "16:12 bilby INFO    :   recalib_L1_amplitude_7 = 0.013667834994950237\n",
      "16:12 bilby INFO    :   recalib_L1_amplitude_8 = 0.012377526160578984\n",
      "16:12 bilby INFO    :   recalib_L1_amplitude_9 = 0.021583525090134788\n",
      "16:12 bilby INFO    :   recalib_L1_phase_0 = -0.02268955770914274\n",
      "16:12 bilby INFO    :   recalib_L1_phase_1 = -0.027473420705276475\n",
      "16:12 bilby INFO    :   recalib_L1_phase_2 = -0.0943607841222296\n",
      "16:12 bilby INFO    :   recalib_L1_phase_3 = 0.029977319706674166\n",
      "16:12 bilby INFO    :   recalib_L1_phase_4 = 0.08523838545670002\n",
      "16:12 bilby INFO    :   recalib_L1_phase_5 = -0.056840952818595976\n",
      "16:12 bilby INFO    :   recalib_L1_phase_6 = -0.004019423152701047\n",
      "16:12 bilby INFO    :   recalib_L1_phase_7 = 0.03270580357083033\n",
      "16:12 bilby INFO    :   recalib_L1_phase_8 = 0.02364064367507932\n",
      "16:12 bilby INFO    :   recalib_L1_phase_9 = -0.002027753595167955\n",
      "16:12 bilby INFO    :   time_jitter = 6.515517343713782e-06\n",
      "16:12 bilby INFO    :   luminosity_distance = 100\n",
      "16:12 bilby INFO    :   geocent_time = 1126259462.408404\n",
      "16:12 bilby INFO    :   recalib_H1_frequency_0 = 19.999999999999996\n",
      "16:12 bilby INFO    :   recalib_H1_frequency_1 = 30.514434824844255\n",
      "16:12 bilby INFO    :   recalib_H1_frequency_2 = 46.55653663398341\n",
      "16:12 bilby INFO    :   recalib_H1_frequency_3 = 71.03232013940804\n",
      "16:12 bilby INFO    :   recalib_H1_frequency_4 = 108.37555516757195\n",
      "16:12 bilby INFO    :   recalib_H1_frequency_5 = 165.35094073835938\n",
      "16:12 bilby INFO    :   recalib_H1_frequency_6 = 252.27952521936786\n",
      "16:12 bilby INFO    :   recalib_H1_frequency_7 = 384.9083564974527\n",
      "16:12 bilby INFO    :   recalib_H1_frequency_8 = 587.2630478939719\n",
      "16:12 bilby INFO    :   recalib_H1_frequency_9 = 895.9999999999999\n",
      "16:12 bilby INFO    :   recalib_L1_frequency_0 = 19.999999999999996\n",
      "16:12 bilby INFO    :   recalib_L1_frequency_1 = 30.514434824844255\n",
      "16:12 bilby INFO    :   recalib_L1_frequency_2 = 46.55653663398341\n",
      "16:12 bilby INFO    :   recalib_L1_frequency_3 = 71.03232013940804\n",
      "16:12 bilby INFO    :   recalib_L1_frequency_4 = 108.37555516757195\n",
      "16:12 bilby INFO    :   recalib_L1_frequency_5 = 165.35094073835938\n",
      "16:12 bilby INFO    :   recalib_L1_frequency_6 = 252.27952521936786\n",
      "16:12 bilby INFO    :   recalib_L1_frequency_7 = 384.9083564974527\n",
      "16:12 bilby INFO    :   recalib_L1_frequency_8 = 587.2630478939719\n",
      "16:12 bilby INFO    :   recalib_L1_frequency_9 = 895.9999999999999\n",
      "16:12 bilby INFO    :   log_likelihood = 328.4324942070929\n",
      "16:12 bilby INFO    :   log_prior = 66.29957866305776\n",
      "16:12 bilby INFO    :   total_mass = 68.75498279849768\n",
      "16:12 bilby INFO    :   mass_1 = 36.79106674126104\n",
      "16:12 bilby INFO    :   mass_2 = 31.96391605723664\n",
      "16:12 bilby INFO    :   ra = 2.216116171456804\n",
      "16:12 bilby INFO    :   dec = -1.2259035208296045\n",
      "16:12 bilby INFO    :   symmetric_mass_ratio = 0.24876770874914655\n",
      "16:12 bilby INFO    :   spin_1x = 0.5904472619004925\n",
      "16:12 bilby INFO    :   spin_1y = -0.06957261443892127\n",
      "16:12 bilby INFO    :   spin_1z = -0.6225593536929314\n",
      "16:12 bilby INFO    :   spin_2x = 0.4751310354864326\n",
      "16:12 bilby INFO    :   spin_2y = -0.2735390509327497\n",
      "16:12 bilby INFO    :   spin_2z = 0.46596117794011116\n",
      "16:12 bilby INFO    :   phi_1 = 6.1658957660048594\n",
      "16:12 bilby INFO    :   phi_2 = 5.760815453468969\n",
      "16:12 bilby INFO    :   chi_eff = -0.11651051936092104\n",
      "16:12 bilby INFO    :   chi_1_in_plane = 0.5945320157616876\n",
      "16:12 bilby INFO    :   chi_2_in_plane = 0.5482454863175794\n",
      "16:12 bilby INFO    :   chi_p = 0.5945320157616876\n",
      "16:12 bilby INFO    :   cos_tilt_1 = -0.7231983991210473\n",
      "16:12 bilby INFO    :   cos_tilt_2 = 0.6476101046123928\n",
      "16:12 bilby INFO    :   comoving_distance = 460.07828764617136\n",
      "16:12 bilby INFO    :   H1_matched_filter_snr = 21.221089162046386\n",
      "16:12 bilby INFO    :   H1_optimal_snr = 19.957775833584304\n",
      "16:12 bilby INFO    :   L1_matched_filter_snr = 15.167442050430017\n",
      "16:12 bilby INFO    :   L1_optimal_snr = 13.072732183576488\n",
      "16:12 bilby INFO    :   H1_matched_filter_abs_snr = 21.320120947355953\n",
      "16:12 bilby INFO    :   H1_matched_filter_snr_angle = -0.09642190803027524\n",
      "16:12 bilby INFO    :   L1_matched_filter_abs_snr = 15.262798565714363\n",
      "16:12 bilby INFO    :   L1_matched_filter_snr_angle = -0.11184059441681089\n",
      "16:12 bilby INFO    :   redshift = 0.10685806108071728\n",
      "16:12 bilby INFO    :   inverted_mass_ratio = 1.1510187511248808\n",
      "16:12 bilby INFO    :   mass_1_source = 33.23919121602536\n",
      "16:12 bilby INFO    :   mass_2_source = 28.878062310923244\n",
      "16:12 bilby INFO    :   total_mass_source = 62.1172535269486\n",
      "16:12 bilby INFO    :   chirp_mass_source = 26.958060841344064\n",
      "16:12 bilby INFO    :   chi_p_2spin = 0.6991048646002762\n",
      "16:12 bilby INFO    :   beta = 0.2964834516665308\n",
      "16:12 bilby INFO    :   psi_J = 1.8454358595594362\n",
      "16:12 bilby INFO    :   final_spin = 0.6847123040726873\n",
      "16:12 bilby INFO    :   peak_luminosity = 3.4650910541734206\n",
      "16:12 bilby INFO    :   final_mass = 65.67190490679377\n",
      "16:12 bilby INFO    :   final_mass_source = 59.33182150082807\n",
      "16:12 bilby INFO    :   radiated_energy = 2.7854320261205316\n",
      "16:12 bilby INFO    :   H1_time = 1126259462.4241831\n",
      "16:12 bilby INFO    :   L1_time = 1126259462.417131\n",
      "16:12 bilby INFO    :   network_optimal_snr = 23.858104345633123\n",
      "16:12 bilby INFO    :   network_matched_filter_snr = 26.062659432941388\n",
      "16:12 bilby INFO    :   cos_theta_jn = -0.7957343530217185\n",
      "16:12 bilby INFO    :   viewing_angle = 0.6505771989131781\n",
      "16:12 bilby INFO    :   cos_iota = -0.7159420610982777\n",
      "16:12 bilby INFO    :   tilt_1_infinity_only_prec_avg = 1.9184456335196816\n",
      "16:12 bilby INFO    :   tilt_2_infinity_only_prec_avg = 1.4496492121062137\n",
      "16:12 bilby INFO    :   spin_1z_infinity_only_prec_avg = -0.29327903351648726\n",
      "16:12 bilby INFO    :   spin_2z_infinity_only_prec_avg = 0.08695335504061963\n",
      "16:12 bilby INFO    :   chi_eff_infinity_only_prec_avg = -0.11651051936092102\n",
      "16:12 bilby INFO    :   chi_p_infinity_only_prec_avg = 0.8093428662414038\n",
      "16:12 bilby INFO    :   cos_tilt_1_infinity_only_prec_avg = -0.3406886849852173\n",
      "16:12 bilby INFO    :   cos_tilt_2_infinity_only_prec_avg = 0.12085099364542307\n",
      "16:12 bilby INFO    : Injected signal in L1:\n",
      "16:12 bilby INFO    :   optimal SNR = 193.44\n",
      "16:12 bilby INFO    :   matched filter SNR = 194.94+0.02j\n",
      "16:12 bilby INFO    :   chirp_mass = 29.8387469533461\n",
      "16:12 bilby INFO    :   mass_ratio = 0.8687955769814424\n",
      "16:12 bilby INFO    :   a_1 = 0.8608417198511092\n",
      "16:12 bilby INFO    :   a_2 = 0.7195088134379835\n",
      "16:12 bilby INFO    :   tilt_1 = 2.3792185506368795\n",
      "16:12 bilby INFO    :   tilt_2 = 0.8663525482689185\n",
      "16:12 bilby INFO    :   phi_12 = 5.878104994643697\n",
      "16:12 bilby INFO    :   phi_jl = 0.25757481830607415\n",
      "16:12 bilby INFO    :   theta_jn = 1.5707963267948966\n",
      "16:12 bilby INFO    :   psi = 0.6912519348265866\n",
      "16:12 bilby INFO    :   phase = 4.000226339478637\n",
      "16:12 bilby INFO    :   azimuth = 2.590928400193608\n",
      "16:12 bilby INFO    :   zenith = 2.3522458754068447\n",
      "16:12 bilby INFO    :   recalib_H1_amplitude_0 = -0.005868249419321757\n",
      "16:12 bilby INFO    :   recalib_H1_amplitude_1 = -0.043783360917849956\n",
      "16:12 bilby INFO    :   recalib_H1_amplitude_2 = -0.04728295327822305\n",
      "16:12 bilby INFO    :   recalib_H1_amplitude_3 = 0.08222264173465693\n",
      "16:12 bilby INFO    :   recalib_H1_amplitude_4 = 0.011855669695012536\n",
      "16:12 bilby INFO    :   recalib_H1_amplitude_5 = -0.008990421387286167\n",
      "16:12 bilby INFO    :   recalib_H1_amplitude_6 = -0.020009159194152252\n",
      "16:12 bilby INFO    :   recalib_H1_amplitude_7 = 0.008484833525516596\n",
      "16:12 bilby INFO    :   recalib_H1_amplitude_8 = -0.018327160189299724\n",
      "16:12 bilby INFO    :   recalib_H1_amplitude_9 = -0.0023772652335948725\n",
      "16:12 bilby INFO    :   recalib_H1_phase_0 = -0.0006461526627345466\n",
      "16:12 bilby INFO    :   recalib_H1_phase_1 = 0.051177755324892465\n",
      "16:12 bilby INFO    :   recalib_H1_phase_2 = 0.01399307494477739\n",
      "16:12 bilby INFO    :   recalib_H1_phase_3 = 0.08416966330293393\n",
      "16:12 bilby INFO    :   recalib_H1_phase_4 = 0.047473946777130974\n",
      "16:12 bilby INFO    :   recalib_H1_phase_5 = 0.013916433512643673\n",
      "16:12 bilby INFO    :   recalib_H1_phase_6 = -0.02128658443550522\n",
      "16:12 bilby INFO    :   recalib_H1_phase_7 = 0.02296630800067761\n",
      "16:12 bilby INFO    :   recalib_H1_phase_8 = -0.037098045831878486\n",
      "16:12 bilby INFO    :   recalib_H1_phase_9 = -0.018967830067115908\n",
      "16:12 bilby INFO    :   recalib_L1_amplitude_0 = -0.036293801292262916\n",
      "16:12 bilby INFO    :   recalib_L1_amplitude_1 = 0.014361561207618069\n",
      "16:12 bilby INFO    :   recalib_L1_amplitude_2 = -0.08693301208957734\n",
      "16:12 bilby INFO    :   recalib_L1_amplitude_3 = 0.10143853088596673\n",
      "16:12 bilby INFO    :   recalib_L1_amplitude_4 = -0.0077889246361674885\n",
      "16:12 bilby INFO    :   recalib_L1_amplitude_5 = -0.025543820665279264\n",
      "16:12 bilby INFO    :   recalib_L1_amplitude_6 = -0.021247887291087522\n",
      "16:12 bilby INFO    :   recalib_L1_amplitude_7 = 0.013667834994950237\n",
      "16:12 bilby INFO    :   recalib_L1_amplitude_8 = 0.012377526160578984\n",
      "16:12 bilby INFO    :   recalib_L1_amplitude_9 = 0.021583525090134788\n",
      "16:12 bilby INFO    :   recalib_L1_phase_0 = -0.02268955770914274\n",
      "16:12 bilby INFO    :   recalib_L1_phase_1 = -0.027473420705276475\n",
      "16:12 bilby INFO    :   recalib_L1_phase_2 = -0.0943607841222296\n",
      "16:12 bilby INFO    :   recalib_L1_phase_3 = 0.029977319706674166\n",
      "16:12 bilby INFO    :   recalib_L1_phase_4 = 0.08523838545670002\n",
      "16:12 bilby INFO    :   recalib_L1_phase_5 = -0.056840952818595976\n",
      "16:12 bilby INFO    :   recalib_L1_phase_6 = -0.004019423152701047\n",
      "16:12 bilby INFO    :   recalib_L1_phase_7 = 0.03270580357083033\n",
      "16:12 bilby INFO    :   recalib_L1_phase_8 = 0.02364064367507932\n",
      "16:12 bilby INFO    :   recalib_L1_phase_9 = -0.002027753595167955\n",
      "16:12 bilby INFO    :   time_jitter = 6.515517343713782e-06\n",
      "16:12 bilby INFO    :   luminosity_distance = 100\n",
      "16:12 bilby INFO    :   geocent_time = 1126259462.408404\n",
      "16:12 bilby INFO    :   recalib_H1_frequency_0 = 19.999999999999996\n",
      "16:12 bilby INFO    :   recalib_H1_frequency_1 = 30.514434824844255\n",
      "16:12 bilby INFO    :   recalib_H1_frequency_2 = 46.55653663398341\n",
      "16:12 bilby INFO    :   recalib_H1_frequency_3 = 71.03232013940804\n",
      "16:12 bilby INFO    :   recalib_H1_frequency_4 = 108.37555516757195\n",
      "16:12 bilby INFO    :   recalib_H1_frequency_5 = 165.35094073835938\n",
      "16:12 bilby INFO    :   recalib_H1_frequency_6 = 252.27952521936786\n",
      "16:12 bilby INFO    :   recalib_H1_frequency_7 = 384.9083564974527\n",
      "16:12 bilby INFO    :   recalib_H1_frequency_8 = 587.2630478939719\n",
      "16:12 bilby INFO    :   recalib_H1_frequency_9 = 895.9999999999999\n",
      "16:12 bilby INFO    :   recalib_L1_frequency_0 = 19.999999999999996\n",
      "16:12 bilby INFO    :   recalib_L1_frequency_1 = 30.514434824844255\n",
      "16:12 bilby INFO    :   recalib_L1_frequency_2 = 46.55653663398341\n",
      "16:12 bilby INFO    :   recalib_L1_frequency_3 = 71.03232013940804\n",
      "16:12 bilby INFO    :   recalib_L1_frequency_4 = 108.37555516757195\n",
      "16:12 bilby INFO    :   recalib_L1_frequency_5 = 165.35094073835938\n",
      "16:12 bilby INFO    :   recalib_L1_frequency_6 = 252.27952521936786\n",
      "16:12 bilby INFO    :   recalib_L1_frequency_7 = 384.9083564974527\n",
      "16:12 bilby INFO    :   recalib_L1_frequency_8 = 587.2630478939719\n",
      "16:12 bilby INFO    :   recalib_L1_frequency_9 = 895.9999999999999\n",
      "16:12 bilby INFO    :   log_likelihood = 328.4324942070929\n",
      "16:12 bilby INFO    :   log_prior = 66.29957866305776\n",
      "16:12 bilby INFO    :   total_mass = 68.75498279849768\n",
      "16:12 bilby INFO    :   mass_1 = 36.79106674126104\n",
      "16:12 bilby INFO    :   mass_2 = 31.96391605723664\n",
      "16:12 bilby INFO    :   ra = 2.216116171456804\n",
      "16:12 bilby INFO    :   dec = -1.2259035208296045\n",
      "16:12 bilby INFO    :   symmetric_mass_ratio = 0.24876770874914655\n",
      "16:12 bilby INFO    :   spin_1x = 0.5904472619004925\n",
      "16:12 bilby INFO    :   spin_1y = -0.06957261443892127\n",
      "16:12 bilby INFO    :   spin_1z = -0.6225593536929314\n",
      "16:12 bilby INFO    :   spin_2x = 0.4751310354864326\n",
      "16:12 bilby INFO    :   spin_2y = -0.2735390509327497\n",
      "16:12 bilby INFO    :   spin_2z = 0.46596117794011116\n",
      "16:12 bilby INFO    :   phi_1 = 6.1658957660048594\n",
      "16:12 bilby INFO    :   phi_2 = 5.760815453468969\n",
      "16:12 bilby INFO    :   chi_eff = -0.11651051936092104\n",
      "16:12 bilby INFO    :   chi_1_in_plane = 0.5945320157616876\n",
      "16:12 bilby INFO    :   chi_2_in_plane = 0.5482454863175794\n",
      "16:12 bilby INFO    :   chi_p = 0.5945320157616876\n",
      "16:12 bilby INFO    :   cos_tilt_1 = -0.7231983991210473\n",
      "16:12 bilby INFO    :   cos_tilt_2 = 0.6476101046123928\n",
      "16:12 bilby INFO    :   comoving_distance = 460.07828764617136\n",
      "16:12 bilby INFO    :   H1_matched_filter_snr = 21.221089162046386\n",
      "16:12 bilby INFO    :   H1_optimal_snr = 19.957775833584304\n",
      "16:12 bilby INFO    :   L1_matched_filter_snr = 15.167442050430017\n",
      "16:12 bilby INFO    :   L1_optimal_snr = 13.072732183576488\n",
      "16:12 bilby INFO    :   H1_matched_filter_abs_snr = 21.320120947355953\n",
      "16:12 bilby INFO    :   H1_matched_filter_snr_angle = -0.09642190803027524\n",
      "16:12 bilby INFO    :   L1_matched_filter_abs_snr = 15.262798565714363\n",
      "16:12 bilby INFO    :   L1_matched_filter_snr_angle = -0.11184059441681089\n",
      "16:12 bilby INFO    :   redshift = 0.10685806108071728\n",
      "16:12 bilby INFO    :   inverted_mass_ratio = 1.1510187511248808\n",
      "16:12 bilby INFO    :   mass_1_source = 33.23919121602536\n",
      "16:12 bilby INFO    :   mass_2_source = 28.878062310923244\n",
      "16:12 bilby INFO    :   total_mass_source = 62.1172535269486\n",
      "16:12 bilby INFO    :   chirp_mass_source = 26.958060841344064\n",
      "16:12 bilby INFO    :   chi_p_2spin = 0.6991048646002762\n",
      "16:12 bilby INFO    :   beta = 0.2964834516665308\n",
      "16:12 bilby INFO    :   psi_J = 1.8454358595594362\n",
      "16:12 bilby INFO    :   final_spin = 0.6847123040726873\n",
      "16:12 bilby INFO    :   peak_luminosity = 3.4650910541734206\n",
      "16:12 bilby INFO    :   final_mass = 65.67190490679377\n",
      "16:12 bilby INFO    :   final_mass_source = 59.33182150082807\n",
      "16:12 bilby INFO    :   radiated_energy = 2.7854320261205316\n",
      "16:12 bilby INFO    :   H1_time = 1126259462.4241831\n",
      "16:12 bilby INFO    :   L1_time = 1126259462.417131\n",
      "16:12 bilby INFO    :   network_optimal_snr = 23.858104345633123\n",
      "16:12 bilby INFO    :   network_matched_filter_snr = 26.062659432941388\n",
      "16:12 bilby INFO    :   cos_theta_jn = -0.7957343530217185\n",
      "16:12 bilby INFO    :   viewing_angle = 0.6505771989131781\n",
      "16:12 bilby INFO    :   cos_iota = -0.7159420610982777\n",
      "16:12 bilby INFO    :   tilt_1_infinity_only_prec_avg = 1.9184456335196816\n",
      "16:12 bilby INFO    :   tilt_2_infinity_only_prec_avg = 1.4496492121062137\n",
      "16:12 bilby INFO    :   spin_1z_infinity_only_prec_avg = -0.29327903351648726\n",
      "16:12 bilby INFO    :   spin_2z_infinity_only_prec_avg = 0.08695335504061963\n",
      "16:12 bilby INFO    :   chi_eff_infinity_only_prec_avg = -0.11651051936092102\n",
      "16:12 bilby INFO    :   chi_p_infinity_only_prec_avg = 0.8093428662414038\n",
      "16:12 bilby INFO    :   cos_tilt_1_infinity_only_prec_avg = -0.3406886849852173\n",
      "16:12 bilby INFO    :   cos_tilt_2_infinity_only_prec_avg = 0.12085099364542307\n",
      "16:12 bilby INFO    : Waveform generator initiated with\n",
      "  frequency_domain_source_model: waveforms.mem_freq_XPHM\n",
      "  time_domain_source_model: None\n",
      "  parameter_conversion: bilby.gw.conversion.convert_to_lal_binary_black_hole_parameters\n",
      "16:12 bilby INFO    : Waveform generator initiated with\n",
      "  frequency_domain_source_model: waveforms.mem_freq_XPHM\n",
      "  time_domain_source_model: None\n",
      "  parameter_conversion: bilby.gw.conversion.convert_to_lal_binary_black_hole_parameters\n"
     ]
    },
    {
     "name": "stdout",
     "output_type": "stream",
     "text": [
      "52751.622256243645\n"
     ]
    },
    {
     "name": "stderr",
     "output_type": "stream",
     "text": [
      "16:12 bilby INFO    : Waveform generator initiated with\n",
      "  frequency_domain_source_model: waveforms.mem_freq_XPHM\n",
      "  time_domain_source_model: None\n",
      "  parameter_conversion: bilby.gw.conversion.convert_to_lal_binary_black_hole_parameters\n"
     ]
    },
    {
     "name": "stdout",
     "output_type": "stream",
     "text": [
      "52751.682555987994\n"
     ]
    },
    {
     "name": "stderr",
     "output_type": "stream",
     "text": [
      "16:12 bilby INFO    : Waveform generator initiated with\n",
      "  frequency_domain_source_model: waveforms.mem_freq_XPHM\n",
      "  time_domain_source_model: None\n",
      "  parameter_conversion: bilby.gw.conversion.convert_to_lal_binary_black_hole_parameters\n"
     ]
    },
    {
     "name": "stdout",
     "output_type": "stream",
     "text": [
      "52751.73374592271\n"
     ]
    },
    {
     "name": "stderr",
     "output_type": "stream",
     "text": [
      "16:12 bilby INFO    : Waveform generator initiated with\n",
      "  frequency_domain_source_model: waveforms.mem_freq_XPHM\n",
      "  time_domain_source_model: None\n",
      "  parameter_conversion: bilby.gw.conversion.convert_to_lal_binary_black_hole_parameters\n"
     ]
    },
    {
     "name": "stdout",
     "output_type": "stream",
     "text": [
      "52751.775826047706\n"
     ]
    },
    {
     "name": "stderr",
     "output_type": "stream",
     "text": [
      "16:12 bilby INFO    : Waveform generator initiated with\n",
      "  frequency_domain_source_model: waveforms.mem_freq_XPHM\n",
      "  time_domain_source_model: None\n",
      "  parameter_conversion: bilby.gw.conversion.convert_to_lal_binary_black_hole_parameters\n"
     ]
    },
    {
     "name": "stdout",
     "output_type": "stream",
     "text": [
      "52751.80879636303\n"
     ]
    },
    {
     "name": "stderr",
     "output_type": "stream",
     "text": [
      "16:12 bilby INFO    : Waveform generator initiated with\n",
      "  frequency_domain_source_model: waveforms.mem_freq_XPHM\n",
      "  time_domain_source_model: None\n",
      "  parameter_conversion: bilby.gw.conversion.convert_to_lal_binary_black_hole_parameters\n"
     ]
    },
    {
     "name": "stdout",
     "output_type": "stream",
     "text": [
      "52751.8326568687\n"
     ]
    },
    {
     "name": "stderr",
     "output_type": "stream",
     "text": [
      "16:12 bilby INFO    : Waveform generator initiated with\n",
      "  frequency_domain_source_model: waveforms.mem_freq_XPHM\n",
      "  time_domain_source_model: None\n",
      "  parameter_conversion: bilby.gw.conversion.convert_to_lal_binary_black_hole_parameters\n"
     ]
    },
    {
     "name": "stdout",
     "output_type": "stream",
     "text": [
      "52751.84740756465\n"
     ]
    },
    {
     "name": "stderr",
     "output_type": "stream",
     "text": [
      "16:12 bilby INFO    : Waveform generator initiated with\n",
      "  frequency_domain_source_model: waveforms.mem_freq_XPHM\n",
      "  time_domain_source_model: None\n",
      "  parameter_conversion: bilby.gw.conversion.convert_to_lal_binary_black_hole_parameters\n"
     ]
    },
    {
     "name": "stdout",
     "output_type": "stream",
     "text": [
      "52751.85304845097\n"
     ]
    },
    {
     "name": "stderr",
     "output_type": "stream",
     "text": [
      "16:12 bilby INFO    : Waveform generator initiated with\n",
      "  frequency_domain_source_model: waveforms.mem_freq_XPHM\n",
      "  time_domain_source_model: None\n",
      "  parameter_conversion: bilby.gw.conversion.convert_to_lal_binary_black_hole_parameters\n"
     ]
    },
    {
     "name": "stdout",
     "output_type": "stream",
     "text": [
      "52751.84957952755\n"
     ]
    },
    {
     "name": "stderr",
     "output_type": "stream",
     "text": [
      "16:12 bilby INFO    : Waveform generator initiated with\n",
      "  frequency_domain_source_model: waveforms.mem_freq_XPHM\n",
      "  time_domain_source_model: None\n",
      "  parameter_conversion: bilby.gw.conversion.convert_to_lal_binary_black_hole_parameters\n"
     ]
    },
    {
     "name": "stdout",
     "output_type": "stream",
     "text": [
      "52751.83700079447\n"
     ]
    },
    {
     "name": "stderr",
     "output_type": "stream",
     "text": [
      "16:12 bilby INFO    : Waveform generator initiated with\n",
      "  frequency_domain_source_model: waveforms.mem_freq_XPHM\n",
      "  time_domain_source_model: None\n",
      "  parameter_conversion: bilby.gw.conversion.convert_to_lal_binary_black_hole_parameters\n"
     ]
    },
    {
     "name": "stdout",
     "output_type": "stream",
     "text": [
      "52751.81531225171\n"
     ]
    },
    {
     "name": "stderr",
     "output_type": "stream",
     "text": [
      "16:12 bilby INFO    : Waveform generator initiated with\n",
      "  frequency_domain_source_model: waveforms.mem_freq_XPHM\n",
      "  time_domain_source_model: None\n",
      "  parameter_conversion: bilby.gw.conversion.convert_to_lal_binary_black_hole_parameters\n"
     ]
    },
    {
     "name": "stdout",
     "output_type": "stream",
     "text": [
      "52751.7845138993\n"
     ]
    },
    {
     "name": "stderr",
     "output_type": "stream",
     "text": [
      "16:12 bilby INFO    : Waveform generator initiated with\n",
      "  frequency_domain_source_model: waveforms.mem_freq_XPHM\n",
      "  time_domain_source_model: None\n",
      "  parameter_conversion: bilby.gw.conversion.convert_to_lal_binary_black_hole_parameters\n"
     ]
    },
    {
     "name": "stdout",
     "output_type": "stream",
     "text": [
      "52751.74460573717\n"
     ]
    },
    {
     "name": "stderr",
     "output_type": "stream",
     "text": [
      "16:12 bilby INFO    : Waveform generator initiated with\n",
      "  frequency_domain_source_model: waveforms.mem_freq_XPHM\n",
      "  time_domain_source_model: None\n",
      "  parameter_conversion: bilby.gw.conversion.convert_to_lal_binary_black_hole_parameters\n"
     ]
    },
    {
     "name": "stdout",
     "output_type": "stream",
     "text": [
      "52751.69558776535\n"
     ]
    },
    {
     "name": "stderr",
     "output_type": "stream",
     "text": [
      "16:12 bilby INFO    : Waveform generator initiated with\n",
      "  frequency_domain_source_model: waveforms.mem_freq_XPHM\n",
      "  time_domain_source_model: None\n",
      "  parameter_conversion: bilby.gw.conversion.convert_to_lal_binary_black_hole_parameters\n"
     ]
    },
    {
     "name": "stdout",
     "output_type": "stream",
     "text": [
      "52751.637459983875\n"
     ]
    },
    {
     "name": "stderr",
     "output_type": "stream",
     "text": [
      "16:12 bilby INFO    : Waveform generator initiated with\n",
      "  frequency_domain_source_model: waveforms.mem_freq_XPHM\n",
      "  time_domain_source_model: None\n",
      "  parameter_conversion: bilby.gw.conversion.convert_to_lal_binary_black_hole_parameters\n"
     ]
    },
    {
     "name": "stdout",
     "output_type": "stream",
     "text": [
      "52751.57022239274\n"
     ]
    },
    {
     "name": "stderr",
     "output_type": "stream",
     "text": [
      "16:12 bilby INFO    : Waveform generator initiated with\n",
      "  frequency_domain_source_model: waveforms.mem_freq_XPHM\n",
      "  time_domain_source_model: None\n",
      "  parameter_conversion: bilby.gw.conversion.convert_to_lal_binary_black_hole_parameters\n"
     ]
    },
    {
     "name": "stdout",
     "output_type": "stream",
     "text": [
      "52751.493874991866\n"
     ]
    },
    {
     "name": "stderr",
     "output_type": "stream",
     "text": [
      "16:12 bilby INFO    : Waveform generator initiated with\n",
      "  frequency_domain_source_model: waveforms.mem_freq_XPHM\n",
      "  time_domain_source_model: None\n",
      "  parameter_conversion: bilby.gw.conversion.convert_to_lal_binary_black_hole_parameters\n"
     ]
    },
    {
     "name": "stdout",
     "output_type": "stream",
     "text": [
      "52751.40841778134\n"
     ]
    },
    {
     "name": "stderr",
     "output_type": "stream",
     "text": [
      "16:12 bilby INFO    : Waveform generator initiated with\n",
      "  frequency_domain_source_model: waveforms.mem_freq_XPHM\n",
      "  time_domain_source_model: None\n",
      "  parameter_conversion: bilby.gw.conversion.convert_to_lal_binary_black_hole_parameters\n"
     ]
    },
    {
     "name": "stdout",
     "output_type": "stream",
     "text": [
      "52751.31385076113\n"
     ]
    },
    {
     "name": "stderr",
     "output_type": "stream",
     "text": [
      "16:12 bilby INFO    : Waveform generator initiated with\n",
      "  frequency_domain_source_model: waveforms.mem_freq_XPHM\n",
      "  time_domain_source_model: None\n",
      "  parameter_conversion: bilby.gw.conversion.convert_to_lal_binary_black_hole_parameters\n"
     ]
    },
    {
     "name": "stdout",
     "output_type": "stream",
     "text": [
      "52751.210173931264\n"
     ]
    },
    {
     "name": "stderr",
     "output_type": "stream",
     "text": [
      "16:12 bilby INFO    : Waveform generator initiated with\n",
      "  frequency_domain_source_model: waveforms.mem_freq_XPHM\n",
      "  time_domain_source_model: None\n",
      "  parameter_conversion: bilby.gw.conversion.convert_to_lal_binary_black_hole_parameters\n"
     ]
    },
    {
     "name": "stdout",
     "output_type": "stream",
     "text": [
      "52751.097387291695\n"
     ]
    },
    {
     "name": "stderr",
     "output_type": "stream",
     "text": [
      "16:12 bilby INFO    : Waveform generator initiated with\n",
      "  frequency_domain_source_model: waveforms.mem_freq_XPHM\n",
      "  time_domain_source_model: None\n",
      "  parameter_conversion: bilby.gw.conversion.convert_to_lal_binary_black_hole_parameters\n"
     ]
    },
    {
     "name": "stdout",
     "output_type": "stream",
     "text": [
      "52750.975490842415\n"
     ]
    },
    {
     "name": "stderr",
     "output_type": "stream",
     "text": [
      "16:12 bilby INFO    : Waveform generator initiated with\n",
      "  frequency_domain_source_model: waveforms.mem_freq_XPHM\n",
      "  time_domain_source_model: None\n",
      "  parameter_conversion: bilby.gw.conversion.convert_to_lal_binary_black_hole_parameters\n"
     ]
    },
    {
     "name": "stdout",
     "output_type": "stream",
     "text": [
      "52750.844484583504\n"
     ]
    },
    {
     "name": "stderr",
     "output_type": "stream",
     "text": [
      "16:12 bilby INFO    : Waveform generator initiated with\n",
      "  frequency_domain_source_model: waveforms.mem_freq_XPHM\n",
      "  time_domain_source_model: None\n",
      "  parameter_conversion: bilby.gw.conversion.convert_to_lal_binary_black_hole_parameters\n"
     ]
    },
    {
     "name": "stdout",
     "output_type": "stream",
     "text": [
      "52750.704368514875\n"
     ]
    },
    {
     "name": "stderr",
     "output_type": "stream",
     "text": [
      "16:12 bilby INFO    : Waveform generator initiated with\n",
      "  frequency_domain_source_model: waveforms.mem_freq_XPHM\n",
      "  time_domain_source_model: None\n",
      "  parameter_conversion: bilby.gw.conversion.convert_to_lal_binary_black_hole_parameters\n"
     ]
    },
    {
     "name": "stdout",
     "output_type": "stream",
     "text": [
      "52750.555142636586\n"
     ]
    },
    {
     "name": "stderr",
     "output_type": "stream",
     "text": [
      "16:12 bilby INFO    : Waveform generator initiated with\n",
      "  frequency_domain_source_model: waveforms.mem_freq_XPHM\n",
      "  time_domain_source_model: None\n",
      "  parameter_conversion: bilby.gw.conversion.convert_to_lal_binary_black_hole_parameters\n"
     ]
    },
    {
     "name": "stdout",
     "output_type": "stream",
     "text": [
      "52750.3968069486\n"
     ]
    },
    {
     "name": "stderr",
     "output_type": "stream",
     "text": [
      "16:12 bilby INFO    : Waveform generator initiated with\n",
      "  frequency_domain_source_model: waveforms.mem_freq_XPHM\n",
      "  time_domain_source_model: None\n",
      "  parameter_conversion: bilby.gw.conversion.convert_to_lal_binary_black_hole_parameters\n"
     ]
    },
    {
     "name": "stdout",
     "output_type": "stream",
     "text": [
      "52750.22936145098\n"
     ]
    },
    {
     "name": "stderr",
     "output_type": "stream",
     "text": [
      "16:12 bilby INFO    : Waveform generator initiated with\n",
      "  frequency_domain_source_model: waveforms.mem_freq_XPHM\n",
      "  time_domain_source_model: None\n",
      "  parameter_conversion: bilby.gw.conversion.convert_to_lal_binary_black_hole_parameters\n"
     ]
    },
    {
     "name": "stdout",
     "output_type": "stream",
     "text": [
      "52750.052806143634\n"
     ]
    },
    {
     "name": "stderr",
     "output_type": "stream",
     "text": [
      "16:12 bilby INFO    : Waveform generator initiated with\n",
      "  frequency_domain_source_model: waveforms.mem_freq_XPHM\n",
      "  time_domain_source_model: None\n",
      "  parameter_conversion: bilby.gw.conversion.convert_to_lal_binary_black_hole_parameters\n"
     ]
    },
    {
     "name": "stdout",
     "output_type": "stream",
     "text": [
      "52749.867141026625\n"
     ]
    },
    {
     "name": "stderr",
     "output_type": "stream",
     "text": [
      "16:12 bilby INFO    : Waveform generator initiated with\n",
      "  frequency_domain_source_model: waveforms.mem_freq_XPHM\n",
      "  time_domain_source_model: None\n",
      "  parameter_conversion: bilby.gw.conversion.convert_to_lal_binary_black_hole_parameters\n"
     ]
    },
    {
     "name": "stdout",
     "output_type": "stream",
     "text": [
      "52749.67236609991\n"
     ]
    },
    {
     "name": "stderr",
     "output_type": "stream",
     "text": [
      "16:12 bilby INFO    : Waveform generator initiated with\n",
      "  frequency_domain_source_model: waveforms.mem_freq_XPHM\n",
      "  time_domain_source_model: None\n",
      "  parameter_conversion: bilby.gw.conversion.convert_to_lal_binary_black_hole_parameters\n"
     ]
    },
    {
     "name": "stdout",
     "output_type": "stream",
     "text": [
      "52749.46848136354\n"
     ]
    },
    {
     "name": "stderr",
     "output_type": "stream",
     "text": [
      "16:12 bilby INFO    : Waveform generator initiated with\n",
      "  frequency_domain_source_model: waveforms.mem_freq_XPHM\n",
      "  time_domain_source_model: None\n",
      "  parameter_conversion: bilby.gw.conversion.convert_to_lal_binary_black_hole_parameters\n"
     ]
    },
    {
     "name": "stdout",
     "output_type": "stream",
     "text": [
      "52749.25548681746\n"
     ]
    },
    {
     "name": "stderr",
     "output_type": "stream",
     "text": [
      "16:12 bilby INFO    : Waveform generator initiated with\n",
      "  frequency_domain_source_model: waveforms.mem_freq_XPHM\n",
      "  time_domain_source_model: None\n",
      "  parameter_conversion: bilby.gw.conversion.convert_to_lal_binary_black_hole_parameters\n"
     ]
    },
    {
     "name": "stdout",
     "output_type": "stream",
     "text": [
      "52749.03338246171\n"
     ]
    },
    {
     "name": "stderr",
     "output_type": "stream",
     "text": [
      "16:12 bilby INFO    : Waveform generator initiated with\n",
      "  frequency_domain_source_model: waveforms.mem_freq_XPHM\n",
      "  time_domain_source_model: None\n",
      "  parameter_conversion: bilby.gw.conversion.convert_to_lal_binary_black_hole_parameters\n"
     ]
    },
    {
     "name": "stdout",
     "output_type": "stream",
     "text": [
      "52748.8021682963\n"
     ]
    },
    {
     "name": "stderr",
     "output_type": "stream",
     "text": [
      "16:12 bilby INFO    : Waveform generator initiated with\n",
      "  frequency_domain_source_model: waveforms.mem_freq_XPHM\n",
      "  time_domain_source_model: None\n",
      "  parameter_conversion: bilby.gw.conversion.convert_to_lal_binary_black_hole_parameters\n"
     ]
    },
    {
     "name": "stdout",
     "output_type": "stream",
     "text": [
      "52748.561844321215\n"
     ]
    },
    {
     "name": "stderr",
     "output_type": "stream",
     "text": [
      "16:12 bilby INFO    : Waveform generator initiated with\n",
      "  frequency_domain_source_model: waveforms.mem_freq_XPHM\n",
      "  time_domain_source_model: None\n",
      "  parameter_conversion: bilby.gw.conversion.convert_to_lal_binary_black_hole_parameters\n"
     ]
    },
    {
     "name": "stdout",
     "output_type": "stream",
     "text": [
      "52748.31241053644\n"
     ]
    },
    {
     "name": "stderr",
     "output_type": "stream",
     "text": [
      "16:12 bilby INFO    : Waveform generator initiated with\n",
      "  frequency_domain_source_model: waveforms.mem_freq_XPHM\n",
      "  time_domain_source_model: None\n",
      "  parameter_conversion: bilby.gw.conversion.convert_to_lal_binary_black_hole_parameters\n"
     ]
    },
    {
     "name": "stdout",
     "output_type": "stream",
     "text": [
      "52748.053866941926\n"
     ]
    },
    {
     "name": "stderr",
     "output_type": "stream",
     "text": [
      "16:12 bilby INFO    : Waveform generator initiated with\n",
      "  frequency_domain_source_model: waveforms.mem_freq_XPHM\n",
      "  time_domain_source_model: None\n",
      "  parameter_conversion: bilby.gw.conversion.convert_to_lal_binary_black_hole_parameters\n"
     ]
    },
    {
     "name": "stdout",
     "output_type": "stream",
     "text": [
      "52747.78621353778\n"
     ]
    },
    {
     "name": "stderr",
     "output_type": "stream",
     "text": [
      "16:12 bilby INFO    : Waveform generator initiated with\n",
      "  frequency_domain_source_model: waveforms.mem_freq_XPHM\n",
      "  time_domain_source_model: None\n",
      "  parameter_conversion: bilby.gw.conversion.convert_to_lal_binary_black_hole_parameters\n"
     ]
    },
    {
     "name": "stdout",
     "output_type": "stream",
     "text": [
      "52747.50945032397\n"
     ]
    },
    {
     "name": "stderr",
     "output_type": "stream",
     "text": [
      "16:12 bilby INFO    : Waveform generator initiated with\n",
      "  frequency_domain_source_model: waveforms.mem_freq_XPHM\n",
      "  time_domain_source_model: None\n",
      "  parameter_conversion: bilby.gw.conversion.convert_to_lal_binary_black_hole_parameters\n"
     ]
    },
    {
     "name": "stdout",
     "output_type": "stream",
     "text": [
      "52747.223577300465\n"
     ]
    },
    {
     "name": "stderr",
     "output_type": "stream",
     "text": [
      "16:12 bilby INFO    : Waveform generator initiated with\n",
      "  frequency_domain_source_model: waveforms.mem_freq_XPHM\n",
      "  time_domain_source_model: None\n",
      "  parameter_conversion: bilby.gw.conversion.convert_to_lal_binary_black_hole_parameters\n"
     ]
    },
    {
     "name": "stdout",
     "output_type": "stream",
     "text": [
      "52746.92859446726\n"
     ]
    },
    {
     "name": "stderr",
     "output_type": "stream",
     "text": [
      "16:12 bilby INFO    : Waveform generator initiated with\n",
      "  frequency_domain_source_model: waveforms.mem_freq_XPHM\n",
      "  time_domain_source_model: None\n",
      "  parameter_conversion: bilby.gw.conversion.convert_to_lal_binary_black_hole_parameters\n"
     ]
    },
    {
     "name": "stdout",
     "output_type": "stream",
     "text": [
      "52746.62450182441\n"
     ]
    },
    {
     "name": "stderr",
     "output_type": "stream",
     "text": [
      "16:12 bilby INFO    : Waveform generator initiated with\n",
      "  frequency_domain_source_model: waveforms.mem_freq_XPHM\n",
      "  time_domain_source_model: None\n",
      "  parameter_conversion: bilby.gw.conversion.convert_to_lal_binary_black_hole_parameters\n"
     ]
    },
    {
     "name": "stdout",
     "output_type": "stream",
     "text": [
      "52746.31129937184\n"
     ]
    },
    {
     "name": "stderr",
     "output_type": "stream",
     "text": [
      "16:12 bilby INFO    : Waveform generator initiated with\n",
      "  frequency_domain_source_model: waveforms.mem_freq_XPHM\n",
      "  time_domain_source_model: None\n",
      "  parameter_conversion: bilby.gw.conversion.convert_to_lal_binary_black_hole_parameters\n"
     ]
    },
    {
     "name": "stdout",
     "output_type": "stream",
     "text": [
      "52745.98898710962\n"
     ]
    },
    {
     "name": "stderr",
     "output_type": "stream",
     "text": [
      "16:12 bilby INFO    : Waveform generator initiated with\n",
      "  frequency_domain_source_model: waveforms.mem_freq_XPHM\n",
      "  time_domain_source_model: None\n",
      "  parameter_conversion: bilby.gw.conversion.convert_to_lal_binary_black_hole_parameters\n"
     ]
    },
    {
     "name": "stdout",
     "output_type": "stream",
     "text": [
      "52745.657565037676\n"
     ]
    },
    {
     "name": "stderr",
     "output_type": "stream",
     "text": [
      "16:12 bilby INFO    : Waveform generator initiated with\n",
      "  frequency_domain_source_model: waveforms.mem_freq_XPHM\n",
      "  time_domain_source_model: None\n",
      "  parameter_conversion: bilby.gw.conversion.convert_to_lal_binary_black_hole_parameters\n"
     ]
    },
    {
     "name": "stdout",
     "output_type": "stream",
     "text": [
      "52745.31703315608\n"
     ]
    },
    {
     "name": "stderr",
     "output_type": "stream",
     "text": [
      "16:12 bilby INFO    : Waveform generator initiated with\n",
      "  frequency_domain_source_model: waveforms.mem_freq_XPHM\n",
      "  time_domain_source_model: None\n",
      "  parameter_conversion: bilby.gw.conversion.convert_to_lal_binary_black_hole_parameters\n"
     ]
    },
    {
     "name": "stdout",
     "output_type": "stream",
     "text": [
      "52744.96739146481\n"
     ]
    },
    {
     "name": "stderr",
     "output_type": "stream",
     "text": [
      "16:12 bilby INFO    : Waveform generator initiated with\n",
      "  frequency_domain_source_model: waveforms.mem_freq_XPHM\n",
      "  time_domain_source_model: None\n",
      "  parameter_conversion: bilby.gw.conversion.convert_to_lal_binary_black_hole_parameters\n"
     ]
    },
    {
     "name": "stdout",
     "output_type": "stream",
     "text": [
      "52744.60863996386\n"
     ]
    },
    {
     "name": "stderr",
     "output_type": "stream",
     "text": [
      "16:12 bilby INFO    : Waveform generator initiated with\n",
      "  frequency_domain_source_model: waveforms.mem_freq_XPHM\n",
      "  time_domain_source_model: None\n",
      "  parameter_conversion: bilby.gw.conversion.convert_to_lal_binary_black_hole_parameters\n"
     ]
    },
    {
     "name": "stdout",
     "output_type": "stream",
     "text": [
      "52744.24077865318\n"
     ]
    },
    {
     "name": "stderr",
     "output_type": "stream",
     "text": [
      "16:12 bilby INFO    : Waveform generator initiated with\n",
      "  frequency_domain_source_model: waveforms.mem_freq_XPHM\n",
      "  time_domain_source_model: None\n",
      "  parameter_conversion: bilby.gw.conversion.convert_to_lal_binary_black_hole_parameters\n"
     ]
    },
    {
     "name": "stdout",
     "output_type": "stream",
     "text": [
      "52743.86380753289\n"
     ]
    },
    {
     "name": "stderr",
     "output_type": "stream",
     "text": [
      "16:12 bilby INFO    : Waveform generator initiated with\n",
      "  frequency_domain_source_model: waveforms.mem_freq_XPHM\n",
      "  time_domain_source_model: None\n",
      "  parameter_conversion: bilby.gw.conversion.convert_to_lal_binary_black_hole_parameters\n"
     ]
    },
    {
     "name": "stdout",
     "output_type": "stream",
     "text": [
      "52743.47772660288\n"
     ]
    },
    {
     "name": "stderr",
     "output_type": "stream",
     "text": [
      "16:12 bilby INFO    : Waveform generator initiated with\n",
      "  frequency_domain_source_model: waveforms.mem_freq_XPHM\n",
      "  time_domain_source_model: None\n",
      "  parameter_conversion: bilby.gw.conversion.convert_to_lal_binary_black_hole_parameters\n"
     ]
    },
    {
     "name": "stdout",
     "output_type": "stream",
     "text": [
      "52743.08253586319\n"
     ]
    },
    {
     "name": "stderr",
     "output_type": "stream",
     "text": [
      "16:12 bilby INFO    : Waveform generator initiated with\n",
      "  frequency_domain_source_model: waveforms.mem_freq_XPHM\n",
      "  time_domain_source_model: None\n",
      "  parameter_conversion: bilby.gw.conversion.convert_to_lal_binary_black_hole_parameters\n"
     ]
    },
    {
     "name": "stdout",
     "output_type": "stream",
     "text": [
      "52742.67823531384\n"
     ]
    },
    {
     "name": "stderr",
     "output_type": "stream",
     "text": [
      "16:12 bilby INFO    : Waveform generator initiated with\n",
      "  frequency_domain_source_model: waveforms.mem_freq_XPHM\n",
      "  time_domain_source_model: None\n",
      "  parameter_conversion: bilby.gw.conversion.convert_to_lal_binary_black_hole_parameters\n"
     ]
    },
    {
     "name": "stdout",
     "output_type": "stream",
     "text": [
      "52742.26482495479\n"
     ]
    },
    {
     "name": "stderr",
     "output_type": "stream",
     "text": [
      "16:12 bilby INFO    : Waveform generator initiated with\n",
      "  frequency_domain_source_model: waveforms.mem_freq_XPHM\n",
      "  time_domain_source_model: None\n",
      "  parameter_conversion: bilby.gw.conversion.convert_to_lal_binary_black_hole_parameters\n"
     ]
    },
    {
     "name": "stdout",
     "output_type": "stream",
     "text": [
      "52741.842304786056\n"
     ]
    },
    {
     "name": "stderr",
     "output_type": "stream",
     "text": [
      "16:12 bilby INFO    : Waveform generator initiated with\n",
      "  frequency_domain_source_model: waveforms.mem_freq_XPHM\n",
      "  time_domain_source_model: None\n",
      "  parameter_conversion: bilby.gw.conversion.convert_to_lal_binary_black_hole_parameters\n"
     ]
    },
    {
     "name": "stdout",
     "output_type": "stream",
     "text": [
      "52741.41067480763\n"
     ]
    },
    {
     "name": "stderr",
     "output_type": "stream",
     "text": [
      "16:12 bilby INFO    : Waveform generator initiated with\n",
      "  frequency_domain_source_model: waveforms.mem_freq_XPHM\n",
      "  time_domain_source_model: None\n",
      "  parameter_conversion: bilby.gw.conversion.convert_to_lal_binary_black_hole_parameters\n"
     ]
    },
    {
     "name": "stdout",
     "output_type": "stream",
     "text": [
      "52740.96993501953\n"
     ]
    },
    {
     "name": "stderr",
     "output_type": "stream",
     "text": [
      "16:12 bilby INFO    : Waveform generator initiated with\n",
      "  frequency_domain_source_model: waveforms.mem_freq_XPHM\n",
      "  time_domain_source_model: None\n",
      "  parameter_conversion: bilby.gw.conversion.convert_to_lal_binary_black_hole_parameters\n"
     ]
    },
    {
     "name": "stdout",
     "output_type": "stream",
     "text": [
      "52740.52008542178\n"
     ]
    },
    {
     "name": "stderr",
     "output_type": "stream",
     "text": [
      "16:12 bilby INFO    : Waveform generator initiated with\n",
      "  frequency_domain_source_model: waveforms.mem_freq_XPHM\n",
      "  time_domain_source_model: None\n",
      "  parameter_conversion: bilby.gw.conversion.convert_to_lal_binary_black_hole_parameters\n"
     ]
    },
    {
     "name": "stdout",
     "output_type": "stream",
     "text": [
      "52740.06112601433\n"
     ]
    },
    {
     "name": "stderr",
     "output_type": "stream",
     "text": [
      "16:13 bilby INFO    : Waveform generator initiated with\n",
      "  frequency_domain_source_model: waveforms.mem_freq_XPHM\n",
      "  time_domain_source_model: None\n",
      "  parameter_conversion: bilby.gw.conversion.convert_to_lal_binary_black_hole_parameters\n"
     ]
    },
    {
     "name": "stdout",
     "output_type": "stream",
     "text": [
      "52739.59305679715\n"
     ]
    },
    {
     "name": "stderr",
     "output_type": "stream",
     "text": [
      "16:13 bilby INFO    : Waveform generator initiated with\n",
      "  frequency_domain_source_model: waveforms.mem_freq_XPHM\n",
      "  time_domain_source_model: None\n",
      "  parameter_conversion: bilby.gw.conversion.convert_to_lal_binary_black_hole_parameters\n"
     ]
    },
    {
     "name": "stdout",
     "output_type": "stream",
     "text": [
      "52739.11587777038\n"
     ]
    },
    {
     "name": "stderr",
     "output_type": "stream",
     "text": [
      "16:13 bilby INFO    : Waveform generator initiated with\n",
      "  frequency_domain_source_model: waveforms.mem_freq_XPHM\n",
      "  time_domain_source_model: None\n",
      "  parameter_conversion: bilby.gw.conversion.convert_to_lal_binary_black_hole_parameters\n"
     ]
    },
    {
     "name": "stdout",
     "output_type": "stream",
     "text": [
      "52738.62958893387\n"
     ]
    },
    {
     "name": "stderr",
     "output_type": "stream",
     "text": [
      "16:13 bilby INFO    : Waveform generator initiated with\n",
      "  frequency_domain_source_model: waveforms.mem_freq_XPHM\n",
      "  time_domain_source_model: None\n",
      "  parameter_conversion: bilby.gw.conversion.convert_to_lal_binary_black_hole_parameters\n"
     ]
    },
    {
     "name": "stdout",
     "output_type": "stream",
     "text": [
      "52738.13419028769\n"
     ]
    },
    {
     "name": "stderr",
     "output_type": "stream",
     "text": [
      "16:13 bilby INFO    : Waveform generator initiated with\n",
      "  frequency_domain_source_model: waveforms.mem_freq_XPHM\n",
      "  time_domain_source_model: None\n",
      "  parameter_conversion: bilby.gw.conversion.convert_to_lal_binary_black_hole_parameters\n"
     ]
    },
    {
     "name": "stdout",
     "output_type": "stream",
     "text": [
      "52737.62968183184\n"
     ]
    },
    {
     "name": "stderr",
     "output_type": "stream",
     "text": [
      "16:13 bilby INFO    : Waveform generator initiated with\n",
      "  frequency_domain_source_model: waveforms.mem_freq_XPHM\n",
      "  time_domain_source_model: None\n",
      "  parameter_conversion: bilby.gw.conversion.convert_to_lal_binary_black_hole_parameters\n"
     ]
    },
    {
     "name": "stdout",
     "output_type": "stream",
     "text": [
      "52737.116063566296\n"
     ]
    },
    {
     "name": "stderr",
     "output_type": "stream",
     "text": [
      "16:13 bilby INFO    : Waveform generator initiated with\n",
      "  frequency_domain_source_model: waveforms.mem_freq_XPHM\n",
      "  time_domain_source_model: None\n",
      "  parameter_conversion: bilby.gw.conversion.convert_to_lal_binary_black_hole_parameters\n"
     ]
    },
    {
     "name": "stdout",
     "output_type": "stream",
     "text": [
      "52736.59333549108\n"
     ]
    },
    {
     "name": "stderr",
     "output_type": "stream",
     "text": [
      "16:13 bilby INFO    : Waveform generator initiated with\n",
      "  frequency_domain_source_model: waveforms.mem_freq_XPHM\n",
      "  time_domain_source_model: None\n",
      "  parameter_conversion: bilby.gw.conversion.convert_to_lal_binary_black_hole_parameters\n"
     ]
    },
    {
     "name": "stdout",
     "output_type": "stream",
     "text": [
      "52736.06149760617\n"
     ]
    },
    {
     "name": "stderr",
     "output_type": "stream",
     "text": [
      "16:13 bilby INFO    : Waveform generator initiated with\n",
      "  frequency_domain_source_model: waveforms.mem_freq_XPHM\n",
      "  time_domain_source_model: None\n",
      "  parameter_conversion: bilby.gw.conversion.convert_to_lal_binary_black_hole_parameters\n"
     ]
    },
    {
     "name": "stdout",
     "output_type": "stream",
     "text": [
      "52735.520549911605\n"
     ]
    },
    {
     "name": "stderr",
     "output_type": "stream",
     "text": [
      "16:13 bilby INFO    : Waveform generator initiated with\n",
      "  frequency_domain_source_model: waveforms.mem_freq_XPHM\n",
      "  time_domain_source_model: None\n",
      "  parameter_conversion: bilby.gw.conversion.convert_to_lal_binary_black_hole_parameters\n"
     ]
    },
    {
     "name": "stdout",
     "output_type": "stream",
     "text": [
      "52734.97049240732\n"
     ]
    },
    {
     "name": "stderr",
     "output_type": "stream",
     "text": [
      "16:13 bilby INFO    : Waveform generator initiated with\n",
      "  frequency_domain_source_model: waveforms.mem_freq_XPHM\n",
      "  time_domain_source_model: None\n",
      "  parameter_conversion: bilby.gw.conversion.convert_to_lal_binary_black_hole_parameters\n"
     ]
    },
    {
     "name": "stdout",
     "output_type": "stream",
     "text": [
      "52734.411325093366\n"
     ]
    },
    {
     "name": "stderr",
     "output_type": "stream",
     "text": [
      "16:13 bilby INFO    : Waveform generator initiated with\n",
      "  frequency_domain_source_model: waveforms.mem_freq_XPHM\n",
      "  time_domain_source_model: None\n",
      "  parameter_conversion: bilby.gw.conversion.convert_to_lal_binary_black_hole_parameters\n"
     ]
    },
    {
     "name": "stdout",
     "output_type": "stream",
     "text": [
      "52733.843047969734\n"
     ]
    },
    {
     "name": "stderr",
     "output_type": "stream",
     "text": [
      "16:13 bilby INFO    : Waveform generator initiated with\n",
      "  frequency_domain_source_model: waveforms.mem_freq_XPHM\n",
      "  time_domain_source_model: None\n",
      "  parameter_conversion: bilby.gw.conversion.convert_to_lal_binary_black_hole_parameters\n"
     ]
    },
    {
     "name": "stdout",
     "output_type": "stream",
     "text": [
      "52733.265661036436\n"
     ]
    },
    {
     "name": "stderr",
     "output_type": "stream",
     "text": [
      "16:13 bilby INFO    : Waveform generator initiated with\n",
      "  frequency_domain_source_model: waveforms.mem_freq_XPHM\n",
      "  time_domain_source_model: None\n",
      "  parameter_conversion: bilby.gw.conversion.convert_to_lal_binary_black_hole_parameters\n"
     ]
    },
    {
     "name": "stdout",
     "output_type": "stream",
     "text": [
      "52732.67916429344\n"
     ]
    },
    {
     "name": "stderr",
     "output_type": "stream",
     "text": [
      "16:13 bilby INFO    : Waveform generator initiated with\n",
      "  frequency_domain_source_model: waveforms.mem_freq_XPHM\n",
      "  time_domain_source_model: None\n",
      "  parameter_conversion: bilby.gw.conversion.convert_to_lal_binary_black_hole_parameters\n"
     ]
    },
    {
     "name": "stdout",
     "output_type": "stream",
     "text": [
      "52732.08355774077\n"
     ]
    },
    {
     "name": "stderr",
     "output_type": "stream",
     "text": [
      "16:13 bilby INFO    : Waveform generator initiated with\n",
      "  frequency_domain_source_model: waveforms.mem_freq_XPHM\n",
      "  time_domain_source_model: None\n",
      "  parameter_conversion: bilby.gw.conversion.convert_to_lal_binary_black_hole_parameters\n"
     ]
    },
    {
     "name": "stdout",
     "output_type": "stream",
     "text": [
      "52731.478841378426\n"
     ]
    },
    {
     "name": "stderr",
     "output_type": "stream",
     "text": [
      "16:13 bilby INFO    : Waveform generator initiated with\n",
      "  frequency_domain_source_model: waveforms.mem_freq_XPHM\n",
      "  time_domain_source_model: None\n",
      "  parameter_conversion: bilby.gw.conversion.convert_to_lal_binary_black_hole_parameters\n"
     ]
    },
    {
     "name": "stdout",
     "output_type": "stream",
     "text": [
      "52730.86501520641\n"
     ]
    },
    {
     "name": "stderr",
     "output_type": "stream",
     "text": [
      "16:13 bilby INFO    : Waveform generator initiated with\n",
      "  frequency_domain_source_model: waveforms.mem_freq_XPHM\n",
      "  time_domain_source_model: None\n",
      "  parameter_conversion: bilby.gw.conversion.convert_to_lal_binary_black_hole_parameters\n"
     ]
    },
    {
     "name": "stdout",
     "output_type": "stream",
     "text": [
      "52730.2420792247\n"
     ]
    },
    {
     "name": "stderr",
     "output_type": "stream",
     "text": [
      "16:13 bilby INFO    : Waveform generator initiated with\n",
      "  frequency_domain_source_model: waveforms.mem_freq_XPHM\n",
      "  time_domain_source_model: None\n",
      "  parameter_conversion: bilby.gw.conversion.convert_to_lal_binary_black_hole_parameters\n"
     ]
    },
    {
     "name": "stdout",
     "output_type": "stream",
     "text": [
      "52729.610033433266\n"
     ]
    },
    {
     "name": "stderr",
     "output_type": "stream",
     "text": [
      "16:13 bilby INFO    : Waveform generator initiated with\n",
      "  frequency_domain_source_model: waveforms.mem_freq_XPHM\n",
      "  time_domain_source_model: None\n",
      "  parameter_conversion: bilby.gw.conversion.convert_to_lal_binary_black_hole_parameters\n"
     ]
    },
    {
     "name": "stdout",
     "output_type": "stream",
     "text": [
      "52728.96887783219\n",
      "52728.318612421426\n"
     ]
    }
   ],
   "source": [
    "sampling_frequency = 2048\n",
    "reference_frequency = 20\n",
    "minimum_frequency = 20\n",
    "maximum_frequency = 1024\n",
    "roll_off=0.4\n",
    "\n",
    "true_amplitude=1\n",
    "\n",
    "max_like = np.argmax(samples['log_likelihood'])\n",
    "max_like_parameters = samples.iloc[max_like].to_dict()\n",
    "del max_like_parameters['iota']\n",
    "max_like_parameters.update({'theta_jn': np.pi/2, 'luminosity_distance':100})       # maximise the memory signal\n",
    "\n",
    "# event properties\n",
    "duration = 4\n",
    "detectors = ['H1', 'L1']\n",
    "\n",
    "end_time = 1126259462.4 +2\n",
    "start_time = end_time - duration\n",
    "\n",
    "waveform_name = 'IMRPhenomXPHM'\n",
    "\n",
    "waveform_generator_inject = bilby.gw.waveform_generator.WaveformGenerator(\n",
    "        duration=duration,\n",
    "        sampling_frequency=sampling_frequency,\n",
    "        frequency_domain_source_model= mem_freq_XPHM,\n",
    "        parameter_conversion = bilby.gw.conversion.convert_to_lal_binary_black_hole_parameters,\n",
    "        waveform_arguments=dict(duration=duration,\n",
    "                                roll_off=roll_off,\n",
    "                                minimum_frequency=minimum_frequency,\n",
    "                                maximum_frequency=maximum_frequency,\n",
    "                                sampling_frequency=sampling_frequency,\n",
    "                                reference_frequency=reference_frequency,\n",
    "                                waveform_approximant = waveform_name,\n",
    "                                amplitude=true_amplitude))\n",
    "for i in range(5, 10):\n",
    "        # Set up interferometers.\n",
    "        interferometers = bilby.gw.detector.InterferometerList([\"H1\", \"L1\"])\n",
    "        for interferometer in interferometers:\n",
    "                interferometer.minimum_frequency = 20\n",
    "                interferometers.set_strain_data_from_power_spectral_densities(\n",
    "                sampling_frequency=sampling_frequency, duration=duration, start_time=start_time\n",
    "                )\n",
    "\n",
    "                interferometers.inject_signal(\n",
    "                parameters=max_like_parameters, waveform_generator=waveform_generator_inject,\n",
    "                )\n",
    "\n",
    "        amplitudes = np.arange(0.1, 8.1, 0.1)\n",
    "        like = []\n",
    "\n",
    "        for amplitude in amplitudes:\n",
    "                waveform_generator_full = bilby.gw.waveform_generator.WaveformGenerator(\n",
    "                duration=duration,\n",
    "                sampling_frequency=sampling_frequency,\n",
    "                frequency_domain_source_model= mem_freq_XPHM,\n",
    "                parameter_conversion = bilby.gw.conversion.convert_to_lal_binary_black_hole_parameters,\n",
    "                waveform_arguments=dict(duration=duration,\n",
    "                                        roll_off=roll_off,\n",
    "                                        minimum_frequency=minimum_frequency,\n",
    "                                        maximum_frequency=maximum_frequency,\n",
    "                                        sampling_frequency=sampling_frequency,\n",
    "                                        reference_frequency=reference_frequency,\n",
    "                                        waveform_approximant = waveform_name,\n",
    "                                        amplitude=amplitude))\n",
    "                likelihood = bilby.gw.likelihood.GravitationalWaveTransient(\n",
    "                        interferometers,\n",
    "                        waveform_generator_full,\n",
    "                        priors = priors,\n",
    "                        reference_frame = 'sky',\n",
    "                        time_reference = 'geocent',\n",
    "                )\n",
    "                likelihood.parameters.update(max_like_parameters)\n",
    "                ln_likelihood_ratio = likelihood.log_likelihood_ratio()\n",
    "                print(ln_likelihood_ratio)\n",
    "                like.append(ln_likelihood_ratio)\n",
    "        plt.figure()\n",
    "        plt.plot(amplitudes, like)\n",
    "        plt.axvline(true_amplitude, linestyle='dashed', color='black')\n",
    "        plt.xlabel('A')\n",
    "        plt.ylabel('log likelihood ratio')\n",
    "        plt.tight_layout()\n",
    "        plt.savefig(f'test_results/likelihood_A_in_gaussian_noise_100Mpc_run{i}')\n"
   ]
  },
  {
   "cell_type": "code",
   "execution_count": 44,
   "metadata": {},
   "outputs": [
    {
     "name": "stderr",
     "output_type": "stream",
     "text": [
      "20:42 bilby INFO    : Waveform generator initiated with\n",
      "  frequency_domain_source_model: waveforms.mem_freq_XPHM\n",
      "  time_domain_source_model: None\n",
      "  parameter_conversion: bilby.gw.conversion.convert_to_lal_binary_black_hole_parameters\n",
      "20:42 bilby INFO    : Injected signal in H1:\n",
      "20:42 bilby INFO    :   optimal SNR = 50.50\n",
      "20:42 bilby INFO    :   matched filter SNR = 50.50-0.00j\n",
      "20:42 bilby INFO    :   chirp_mass = 29.8387469533461\n",
      "20:42 bilby INFO    :   mass_ratio = 0.8687955769814424\n",
      "20:42 bilby INFO    :   a_1 = 0.8608417198511092\n",
      "20:42 bilby INFO    :   a_2 = 0.7195088134379835\n",
      "20:42 bilby INFO    :   tilt_1 = 2.3792185506368795\n",
      "20:42 bilby INFO    :   tilt_2 = 0.8663525482689185\n",
      "20:42 bilby INFO    :   phi_12 = 5.878104994643697\n",
      "20:42 bilby INFO    :   phi_jl = 0.25757481830607415\n",
      "20:42 bilby INFO    :   theta_jn = 1.5707963267948966\n",
      "20:42 bilby INFO    :   psi = 0.6912519348265866\n",
      "20:42 bilby INFO    :   phase = 4.000226339478637\n",
      "20:42 bilby INFO    :   azimuth = 2.590928400193608\n",
      "20:42 bilby INFO    :   zenith = 2.3522458754068447\n",
      "20:42 bilby INFO    :   recalib_H1_amplitude_0 = -0.005868249419321757\n",
      "20:42 bilby INFO    :   recalib_H1_amplitude_1 = -0.043783360917849956\n",
      "20:42 bilby INFO    :   recalib_H1_amplitude_2 = -0.04728295327822305\n",
      "20:42 bilby INFO    :   recalib_H1_amplitude_3 = 0.08222264173465693\n",
      "20:42 bilby INFO    :   recalib_H1_amplitude_4 = 0.011855669695012536\n",
      "20:42 bilby INFO    :   recalib_H1_amplitude_5 = -0.008990421387286167\n",
      "20:42 bilby INFO    :   recalib_H1_amplitude_6 = -0.020009159194152252\n",
      "20:42 bilby INFO    :   recalib_H1_amplitude_7 = 0.008484833525516596\n",
      "20:42 bilby INFO    :   recalib_H1_amplitude_8 = -0.018327160189299724\n",
      "20:42 bilby INFO    :   recalib_H1_amplitude_9 = -0.0023772652335948725\n",
      "20:42 bilby INFO    :   recalib_H1_phase_0 = -0.0006461526627345466\n",
      "20:42 bilby INFO    :   recalib_H1_phase_1 = 0.051177755324892465\n",
      "20:42 bilby INFO    :   recalib_H1_phase_2 = 0.01399307494477739\n",
      "20:42 bilby INFO    :   recalib_H1_phase_3 = 0.08416966330293393\n",
      "20:42 bilby INFO    :   recalib_H1_phase_4 = 0.047473946777130974\n",
      "20:42 bilby INFO    :   recalib_H1_phase_5 = 0.013916433512643673\n",
      "20:42 bilby INFO    :   recalib_H1_phase_6 = -0.02128658443550522\n",
      "20:42 bilby INFO    :   recalib_H1_phase_7 = 0.02296630800067761\n",
      "20:42 bilby INFO    :   recalib_H1_phase_8 = -0.037098045831878486\n",
      "20:42 bilby INFO    :   recalib_H1_phase_9 = -0.018967830067115908\n",
      "20:42 bilby INFO    :   recalib_L1_amplitude_0 = -0.036293801292262916\n",
      "20:42 bilby INFO    :   recalib_L1_amplitude_1 = 0.014361561207618069\n",
      "20:42 bilby INFO    :   recalib_L1_amplitude_2 = -0.08693301208957734\n",
      "20:42 bilby INFO    :   recalib_L1_amplitude_3 = 0.10143853088596673\n",
      "20:42 bilby INFO    :   recalib_L1_amplitude_4 = -0.0077889246361674885\n",
      "20:42 bilby INFO    :   recalib_L1_amplitude_5 = -0.025543820665279264\n",
      "20:42 bilby INFO    :   recalib_L1_amplitude_6 = -0.021247887291087522\n",
      "20:42 bilby INFO    :   recalib_L1_amplitude_7 = 0.013667834994950237\n",
      "20:42 bilby INFO    :   recalib_L1_amplitude_8 = 0.012377526160578984\n",
      "20:42 bilby INFO    :   recalib_L1_amplitude_9 = 0.021583525090134788\n",
      "20:42 bilby INFO    :   recalib_L1_phase_0 = -0.02268955770914274\n",
      "20:42 bilby INFO    :   recalib_L1_phase_1 = -0.027473420705276475\n",
      "20:42 bilby INFO    :   recalib_L1_phase_2 = -0.0943607841222296\n",
      "20:42 bilby INFO    :   recalib_L1_phase_3 = 0.029977319706674166\n",
      "20:42 bilby INFO    :   recalib_L1_phase_4 = 0.08523838545670002\n",
      "20:42 bilby INFO    :   recalib_L1_phase_5 = -0.056840952818595976\n",
      "20:42 bilby INFO    :   recalib_L1_phase_6 = -0.004019423152701047\n",
      "20:42 bilby INFO    :   recalib_L1_phase_7 = 0.03270580357083033\n",
      "20:42 bilby INFO    :   recalib_L1_phase_8 = 0.02364064367507932\n",
      "20:42 bilby INFO    :   recalib_L1_phase_9 = -0.002027753595167955\n",
      "20:42 bilby INFO    :   time_jitter = 6.515517343713782e-06\n",
      "20:42 bilby INFO    :   luminosity_distance = 509.14230092272595\n",
      "20:42 bilby INFO    :   geocent_time = 1126259462.408404\n",
      "20:42 bilby INFO    :   recalib_H1_frequency_0 = 19.999999999999996\n",
      "20:42 bilby INFO    :   recalib_H1_frequency_1 = 30.514434824844255\n",
      "20:42 bilby INFO    :   recalib_H1_frequency_2 = 46.55653663398341\n",
      "20:42 bilby INFO    :   recalib_H1_frequency_3 = 71.03232013940804\n",
      "20:42 bilby INFO    :   recalib_H1_frequency_4 = 108.37555516757195\n",
      "20:42 bilby INFO    :   recalib_H1_frequency_5 = 165.35094073835938\n",
      "20:42 bilby INFO    :   recalib_H1_frequency_6 = 252.27952521936786\n",
      "20:42 bilby INFO    :   recalib_H1_frequency_7 = 384.9083564974527\n",
      "20:42 bilby INFO    :   recalib_H1_frequency_8 = 587.2630478939719\n",
      "20:42 bilby INFO    :   recalib_H1_frequency_9 = 895.9999999999999\n",
      "20:42 bilby INFO    :   recalib_L1_frequency_0 = 19.999999999999996\n",
      "20:42 bilby INFO    :   recalib_L1_frequency_1 = 30.514434824844255\n",
      "20:42 bilby INFO    :   recalib_L1_frequency_2 = 46.55653663398341\n",
      "20:42 bilby INFO    :   recalib_L1_frequency_3 = 71.03232013940804\n",
      "20:42 bilby INFO    :   recalib_L1_frequency_4 = 108.37555516757195\n",
      "20:42 bilby INFO    :   recalib_L1_frequency_5 = 165.35094073835938\n",
      "20:42 bilby INFO    :   recalib_L1_frequency_6 = 252.27952521936786\n",
      "20:42 bilby INFO    :   recalib_L1_frequency_7 = 384.9083564974527\n",
      "20:42 bilby INFO    :   recalib_L1_frequency_8 = 587.2630478939719\n",
      "20:42 bilby INFO    :   recalib_L1_frequency_9 = 895.9999999999999\n",
      "20:42 bilby INFO    :   log_likelihood = 328.4324942070929\n",
      "20:42 bilby INFO    :   log_prior = 66.29957866305776\n",
      "20:42 bilby INFO    :   total_mass = 68.75498279849768\n",
      "20:42 bilby INFO    :   mass_1 = 36.79106674126104\n",
      "20:42 bilby INFO    :   mass_2 = 31.96391605723664\n",
      "20:42 bilby INFO    :   ra = 2.216116171456804\n",
      "20:42 bilby INFO    :   dec = -1.2259035208296045\n",
      "20:42 bilby INFO    :   symmetric_mass_ratio = 0.24876770874914655\n",
      "20:42 bilby INFO    :   spin_1x = 0.5904472619004925\n",
      "20:42 bilby INFO    :   spin_1y = -0.06957261443892127\n",
      "20:42 bilby INFO    :   spin_1z = -0.6225593536929314\n",
      "20:42 bilby INFO    :   spin_2x = 0.4751310354864326\n",
      "20:42 bilby INFO    :   spin_2y = -0.2735390509327497\n",
      "20:42 bilby INFO    :   spin_2z = 0.46596117794011116\n",
      "20:42 bilby INFO    :   phi_1 = 6.1658957660048594\n",
      "20:42 bilby INFO    :   phi_2 = 5.760815453468969\n",
      "20:42 bilby INFO    :   chi_eff = -0.11651051936092104\n",
      "20:42 bilby INFO    :   chi_1_in_plane = 0.5945320157616876\n",
      "20:42 bilby INFO    :   chi_2_in_plane = 0.5482454863175794\n",
      "20:42 bilby INFO    :   chi_p = 0.5945320157616876\n",
      "20:42 bilby INFO    :   cos_tilt_1 = -0.7231983991210473\n",
      "20:42 bilby INFO    :   cos_tilt_2 = 0.6476101046123928\n",
      "20:42 bilby INFO    :   comoving_distance = 460.07828764617136\n",
      "20:42 bilby INFO    :   H1_matched_filter_snr = 21.221089162046386\n",
      "20:42 bilby INFO    :   H1_optimal_snr = 19.957775833584304\n",
      "20:42 bilby INFO    :   L1_matched_filter_snr = 15.167442050430017\n",
      "20:42 bilby INFO    :   L1_optimal_snr = 13.072732183576488\n",
      "20:42 bilby INFO    :   H1_matched_filter_abs_snr = 21.320120947355953\n",
      "20:42 bilby INFO    :   H1_matched_filter_snr_angle = -0.09642190803027524\n",
      "20:42 bilby INFO    :   L1_matched_filter_abs_snr = 15.262798565714363\n",
      "20:42 bilby INFO    :   L1_matched_filter_snr_angle = -0.11184059441681089\n",
      "20:42 bilby INFO    :   redshift = 0.10685806108071728\n",
      "20:42 bilby INFO    :   inverted_mass_ratio = 1.1510187511248808\n",
      "20:42 bilby INFO    :   mass_1_source = 33.23919121602536\n",
      "20:42 bilby INFO    :   mass_2_source = 28.878062310923244\n",
      "20:42 bilby INFO    :   total_mass_source = 62.1172535269486\n",
      "20:42 bilby INFO    :   chirp_mass_source = 26.958060841344064\n",
      "20:42 bilby INFO    :   chi_p_2spin = 0.6991048646002762\n",
      "20:42 bilby INFO    :   beta = 0.2964834516665308\n",
      "20:42 bilby INFO    :   psi_J = 1.8454358595594362\n",
      "20:42 bilby INFO    :   final_spin = 0.6847123040726873\n",
      "20:42 bilby INFO    :   peak_luminosity = 3.4650910541734206\n",
      "20:42 bilby INFO    :   final_mass = 65.67190490679377\n",
      "20:42 bilby INFO    :   final_mass_source = 59.33182150082807\n",
      "20:42 bilby INFO    :   radiated_energy = 2.7854320261205316\n",
      "20:42 bilby INFO    :   H1_time = 1126259462.4241831\n",
      "20:42 bilby INFO    :   L1_time = 1126259462.417131\n",
      "20:42 bilby INFO    :   network_optimal_snr = 23.858104345633123\n",
      "20:42 bilby INFO    :   network_matched_filter_snr = 26.062659432941388\n",
      "20:42 bilby INFO    :   cos_theta_jn = -0.7957343530217185\n",
      "20:42 bilby INFO    :   viewing_angle = 0.6505771989131781\n",
      "20:42 bilby INFO    :   cos_iota = -0.7159420610982777\n",
      "20:42 bilby INFO    :   tilt_1_infinity_only_prec_avg = 1.9184456335196816\n",
      "20:42 bilby INFO    :   tilt_2_infinity_only_prec_avg = 1.4496492121062137\n",
      "20:42 bilby INFO    :   spin_1z_infinity_only_prec_avg = -0.29327903351648726\n",
      "20:42 bilby INFO    :   spin_2z_infinity_only_prec_avg = 0.08695335504061963\n",
      "20:42 bilby INFO    :   chi_eff_infinity_only_prec_avg = -0.11651051936092102\n",
      "20:42 bilby INFO    :   chi_p_infinity_only_prec_avg = 0.8093428662414038\n",
      "20:42 bilby INFO    :   cos_tilt_1_infinity_only_prec_avg = -0.3406886849852173\n",
      "20:42 bilby INFO    :   cos_tilt_2_infinity_only_prec_avg = 0.12085099364542307\n",
      "20:42 bilby INFO    : Injected signal in L1:\n",
      "20:42 bilby INFO    :   optimal SNR = 37.99\n",
      "20:42 bilby INFO    :   matched filter SNR = 37.99-0.00j\n",
      "20:42 bilby INFO    :   chirp_mass = 29.8387469533461\n",
      "20:42 bilby INFO    :   mass_ratio = 0.8687955769814424\n",
      "20:42 bilby INFO    :   a_1 = 0.8608417198511092\n",
      "20:42 bilby INFO    :   a_2 = 0.7195088134379835\n",
      "20:42 bilby INFO    :   tilt_1 = 2.3792185506368795\n",
      "20:42 bilby INFO    :   tilt_2 = 0.8663525482689185\n",
      "20:42 bilby INFO    :   phi_12 = 5.878104994643697\n",
      "20:42 bilby INFO    :   phi_jl = 0.25757481830607415\n",
      "20:42 bilby INFO    :   theta_jn = 1.5707963267948966\n",
      "20:42 bilby INFO    :   psi = 0.6912519348265866\n",
      "20:42 bilby INFO    :   phase = 4.000226339478637\n",
      "20:42 bilby INFO    :   azimuth = 2.590928400193608\n",
      "20:42 bilby INFO    :   zenith = 2.3522458754068447\n",
      "20:42 bilby INFO    :   recalib_H1_amplitude_0 = -0.005868249419321757\n",
      "20:42 bilby INFO    :   recalib_H1_amplitude_1 = -0.043783360917849956\n",
      "20:42 bilby INFO    :   recalib_H1_amplitude_2 = -0.04728295327822305\n",
      "20:42 bilby INFO    :   recalib_H1_amplitude_3 = 0.08222264173465693\n",
      "20:42 bilby INFO    :   recalib_H1_amplitude_4 = 0.011855669695012536\n",
      "20:42 bilby INFO    :   recalib_H1_amplitude_5 = -0.008990421387286167\n",
      "20:42 bilby INFO    :   recalib_H1_amplitude_6 = -0.020009159194152252\n",
      "20:42 bilby INFO    :   recalib_H1_amplitude_7 = 0.008484833525516596\n",
      "20:42 bilby INFO    :   recalib_H1_amplitude_8 = -0.018327160189299724\n",
      "20:42 bilby INFO    :   recalib_H1_amplitude_9 = -0.0023772652335948725\n",
      "20:42 bilby INFO    :   recalib_H1_phase_0 = -0.0006461526627345466\n",
      "20:42 bilby INFO    :   recalib_H1_phase_1 = 0.051177755324892465\n",
      "20:42 bilby INFO    :   recalib_H1_phase_2 = 0.01399307494477739\n",
      "20:42 bilby INFO    :   recalib_H1_phase_3 = 0.08416966330293393\n",
      "20:42 bilby INFO    :   recalib_H1_phase_4 = 0.047473946777130974\n",
      "20:42 bilby INFO    :   recalib_H1_phase_5 = 0.013916433512643673\n",
      "20:42 bilby INFO    :   recalib_H1_phase_6 = -0.02128658443550522\n",
      "20:42 bilby INFO    :   recalib_H1_phase_7 = 0.02296630800067761\n",
      "20:42 bilby INFO    :   recalib_H1_phase_8 = -0.037098045831878486\n",
      "20:42 bilby INFO    :   recalib_H1_phase_9 = -0.018967830067115908\n",
      "20:42 bilby INFO    :   recalib_L1_amplitude_0 = -0.036293801292262916\n",
      "20:42 bilby INFO    :   recalib_L1_amplitude_1 = 0.014361561207618069\n",
      "20:42 bilby INFO    :   recalib_L1_amplitude_2 = -0.08693301208957734\n",
      "20:42 bilby INFO    :   recalib_L1_amplitude_3 = 0.10143853088596673\n",
      "20:42 bilby INFO    :   recalib_L1_amplitude_4 = -0.0077889246361674885\n",
      "20:42 bilby INFO    :   recalib_L1_amplitude_5 = -0.025543820665279264\n",
      "20:42 bilby INFO    :   recalib_L1_amplitude_6 = -0.021247887291087522\n",
      "20:42 bilby INFO    :   recalib_L1_amplitude_7 = 0.013667834994950237\n",
      "20:42 bilby INFO    :   recalib_L1_amplitude_8 = 0.012377526160578984\n",
      "20:42 bilby INFO    :   recalib_L1_amplitude_9 = 0.021583525090134788\n",
      "20:42 bilby INFO    :   recalib_L1_phase_0 = -0.02268955770914274\n",
      "20:42 bilby INFO    :   recalib_L1_phase_1 = -0.027473420705276475\n",
      "20:42 bilby INFO    :   recalib_L1_phase_2 = -0.0943607841222296\n",
      "20:42 bilby INFO    :   recalib_L1_phase_3 = 0.029977319706674166\n",
      "20:42 bilby INFO    :   recalib_L1_phase_4 = 0.08523838545670002\n",
      "20:42 bilby INFO    :   recalib_L1_phase_5 = -0.056840952818595976\n",
      "20:42 bilby INFO    :   recalib_L1_phase_6 = -0.004019423152701047\n",
      "20:42 bilby INFO    :   recalib_L1_phase_7 = 0.03270580357083033\n",
      "20:42 bilby INFO    :   recalib_L1_phase_8 = 0.02364064367507932\n",
      "20:42 bilby INFO    :   recalib_L1_phase_9 = -0.002027753595167955\n",
      "20:42 bilby INFO    :   time_jitter = 6.515517343713782e-06\n",
      "20:42 bilby INFO    :   luminosity_distance = 509.14230092272595\n",
      "20:42 bilby INFO    :   geocent_time = 1126259462.408404\n",
      "20:42 bilby INFO    :   recalib_H1_frequency_0 = 19.999999999999996\n",
      "20:42 bilby INFO    :   recalib_H1_frequency_1 = 30.514434824844255\n",
      "20:42 bilby INFO    :   recalib_H1_frequency_2 = 46.55653663398341\n",
      "20:42 bilby INFO    :   recalib_H1_frequency_3 = 71.03232013940804\n",
      "20:42 bilby INFO    :   recalib_H1_frequency_4 = 108.37555516757195\n",
      "20:42 bilby INFO    :   recalib_H1_frequency_5 = 165.35094073835938\n",
      "20:42 bilby INFO    :   recalib_H1_frequency_6 = 252.27952521936786\n",
      "20:42 bilby INFO    :   recalib_H1_frequency_7 = 384.9083564974527\n",
      "20:42 bilby INFO    :   recalib_H1_frequency_8 = 587.2630478939719\n",
      "20:42 bilby INFO    :   recalib_H1_frequency_9 = 895.9999999999999\n",
      "20:42 bilby INFO    :   recalib_L1_frequency_0 = 19.999999999999996\n",
      "20:42 bilby INFO    :   recalib_L1_frequency_1 = 30.514434824844255\n",
      "20:42 bilby INFO    :   recalib_L1_frequency_2 = 46.55653663398341\n",
      "20:42 bilby INFO    :   recalib_L1_frequency_3 = 71.03232013940804\n",
      "20:42 bilby INFO    :   recalib_L1_frequency_4 = 108.37555516757195\n",
      "20:42 bilby INFO    :   recalib_L1_frequency_5 = 165.35094073835938\n",
      "20:42 bilby INFO    :   recalib_L1_frequency_6 = 252.27952521936786\n",
      "20:42 bilby INFO    :   recalib_L1_frequency_7 = 384.9083564974527\n",
      "20:42 bilby INFO    :   recalib_L1_frequency_8 = 587.2630478939719\n",
      "20:42 bilby INFO    :   recalib_L1_frequency_9 = 895.9999999999999\n",
      "20:42 bilby INFO    :   log_likelihood = 328.4324942070929\n",
      "20:42 bilby INFO    :   log_prior = 66.29957866305776\n",
      "20:42 bilby INFO    :   total_mass = 68.75498279849768\n",
      "20:42 bilby INFO    :   mass_1 = 36.79106674126104\n",
      "20:42 bilby INFO    :   mass_2 = 31.96391605723664\n",
      "20:42 bilby INFO    :   ra = 2.216116171456804\n",
      "20:42 bilby INFO    :   dec = -1.2259035208296045\n",
      "20:42 bilby INFO    :   symmetric_mass_ratio = 0.24876770874914655\n",
      "20:42 bilby INFO    :   spin_1x = 0.5904472619004925\n",
      "20:42 bilby INFO    :   spin_1y = -0.06957261443892127\n",
      "20:42 bilby INFO    :   spin_1z = -0.6225593536929314\n",
      "20:42 bilby INFO    :   spin_2x = 0.4751310354864326\n",
      "20:42 bilby INFO    :   spin_2y = -0.2735390509327497\n",
      "20:42 bilby INFO    :   spin_2z = 0.46596117794011116\n",
      "20:42 bilby INFO    :   phi_1 = 6.1658957660048594\n",
      "20:42 bilby INFO    :   phi_2 = 5.760815453468969\n",
      "20:42 bilby INFO    :   chi_eff = -0.11651051936092104\n",
      "20:42 bilby INFO    :   chi_1_in_plane = 0.5945320157616876\n",
      "20:42 bilby INFO    :   chi_2_in_plane = 0.5482454863175794\n",
      "20:42 bilby INFO    :   chi_p = 0.5945320157616876\n",
      "20:42 bilby INFO    :   cos_tilt_1 = -0.7231983991210473\n",
      "20:42 bilby INFO    :   cos_tilt_2 = 0.6476101046123928\n",
      "20:42 bilby INFO    :   comoving_distance = 460.07828764617136\n",
      "20:42 bilby INFO    :   H1_matched_filter_snr = 21.221089162046386\n",
      "20:42 bilby INFO    :   H1_optimal_snr = 19.957775833584304\n",
      "20:42 bilby INFO    :   L1_matched_filter_snr = 15.167442050430017\n",
      "20:42 bilby INFO    :   L1_optimal_snr = 13.072732183576488\n",
      "20:42 bilby INFO    :   H1_matched_filter_abs_snr = 21.320120947355953\n",
      "20:42 bilby INFO    :   H1_matched_filter_snr_angle = -0.09642190803027524\n",
      "20:42 bilby INFO    :   L1_matched_filter_abs_snr = 15.262798565714363\n",
      "20:42 bilby INFO    :   L1_matched_filter_snr_angle = -0.11184059441681089\n",
      "20:42 bilby INFO    :   redshift = 0.10685806108071728\n",
      "20:42 bilby INFO    :   inverted_mass_ratio = 1.1510187511248808\n",
      "20:42 bilby INFO    :   mass_1_source = 33.23919121602536\n",
      "20:42 bilby INFO    :   mass_2_source = 28.878062310923244\n",
      "20:42 bilby INFO    :   total_mass_source = 62.1172535269486\n",
      "20:42 bilby INFO    :   chirp_mass_source = 26.958060841344064\n",
      "20:42 bilby INFO    :   chi_p_2spin = 0.6991048646002762\n",
      "20:42 bilby INFO    :   beta = 0.2964834516665308\n",
      "20:42 bilby INFO    :   psi_J = 1.8454358595594362\n",
      "20:42 bilby INFO    :   final_spin = 0.6847123040726873\n",
      "20:42 bilby INFO    :   peak_luminosity = 3.4650910541734206\n",
      "20:42 bilby INFO    :   final_mass = 65.67190490679377\n",
      "20:42 bilby INFO    :   final_mass_source = 59.33182150082807\n",
      "20:42 bilby INFO    :   radiated_energy = 2.7854320261205316\n",
      "20:42 bilby INFO    :   H1_time = 1126259462.4241831\n",
      "20:42 bilby INFO    :   L1_time = 1126259462.417131\n",
      "20:42 bilby INFO    :   network_optimal_snr = 23.858104345633123\n",
      "20:42 bilby INFO    :   network_matched_filter_snr = 26.062659432941388\n",
      "20:42 bilby INFO    :   cos_theta_jn = -0.7957343530217185\n",
      "20:42 bilby INFO    :   viewing_angle = 0.6505771989131781\n",
      "20:42 bilby INFO    :   cos_iota = -0.7159420610982777\n",
      "20:42 bilby INFO    :   tilt_1_infinity_only_prec_avg = 1.9184456335196816\n",
      "20:42 bilby INFO    :   tilt_2_infinity_only_prec_avg = 1.4496492121062137\n",
      "20:42 bilby INFO    :   spin_1z_infinity_only_prec_avg = -0.29327903351648726\n",
      "20:42 bilby INFO    :   spin_2z_infinity_only_prec_avg = 0.08695335504061963\n",
      "20:42 bilby INFO    :   chi_eff_infinity_only_prec_avg = -0.11651051936092102\n",
      "20:42 bilby INFO    :   chi_p_infinity_only_prec_avg = 0.8093428662414038\n",
      "20:42 bilby INFO    :   cos_tilt_1_infinity_only_prec_avg = -0.3406886849852173\n",
      "20:42 bilby INFO    :   cos_tilt_2_infinity_only_prec_avg = 0.12085099364542307\n",
      "20:42 bilby INFO    : Injected signal in H1:\n",
      "20:42 bilby INFO    :   optimal SNR = 50.50\n",
      "20:42 bilby INFO    :   matched filter SNR = 50.50-0.00j\n",
      "20:42 bilby INFO    :   chirp_mass = 29.8387469533461\n",
      "20:42 bilby INFO    :   mass_ratio = 0.8687955769814424\n",
      "20:42 bilby INFO    :   a_1 = 0.8608417198511092\n",
      "20:42 bilby INFO    :   a_2 = 0.7195088134379835\n",
      "20:42 bilby INFO    :   tilt_1 = 2.3792185506368795\n",
      "20:42 bilby INFO    :   tilt_2 = 0.8663525482689185\n",
      "20:42 bilby INFO    :   phi_12 = 5.878104994643697\n",
      "20:42 bilby INFO    :   phi_jl = 0.25757481830607415\n",
      "20:42 bilby INFO    :   theta_jn = 1.5707963267948966\n",
      "20:42 bilby INFO    :   psi = 0.6912519348265866\n",
      "20:42 bilby INFO    :   phase = 4.000226339478637\n",
      "20:42 bilby INFO    :   azimuth = 2.590928400193608\n",
      "20:42 bilby INFO    :   zenith = 2.3522458754068447\n",
      "20:42 bilby INFO    :   recalib_H1_amplitude_0 = -0.005868249419321757\n",
      "20:42 bilby INFO    :   recalib_H1_amplitude_1 = -0.043783360917849956\n",
      "20:42 bilby INFO    :   recalib_H1_amplitude_2 = -0.04728295327822305\n",
      "20:42 bilby INFO    :   recalib_H1_amplitude_3 = 0.08222264173465693\n",
      "20:42 bilby INFO    :   recalib_H1_amplitude_4 = 0.011855669695012536\n",
      "20:42 bilby INFO    :   recalib_H1_amplitude_5 = -0.008990421387286167\n",
      "20:42 bilby INFO    :   recalib_H1_amplitude_6 = -0.020009159194152252\n",
      "20:42 bilby INFO    :   recalib_H1_amplitude_7 = 0.008484833525516596\n",
      "20:42 bilby INFO    :   recalib_H1_amplitude_8 = -0.018327160189299724\n",
      "20:42 bilby INFO    :   recalib_H1_amplitude_9 = -0.0023772652335948725\n",
      "20:42 bilby INFO    :   recalib_H1_phase_0 = -0.0006461526627345466\n",
      "20:42 bilby INFO    :   recalib_H1_phase_1 = 0.051177755324892465\n",
      "20:42 bilby INFO    :   recalib_H1_phase_2 = 0.01399307494477739\n",
      "20:42 bilby INFO    :   recalib_H1_phase_3 = 0.08416966330293393\n",
      "20:42 bilby INFO    :   recalib_H1_phase_4 = 0.047473946777130974\n",
      "20:42 bilby INFO    :   recalib_H1_phase_5 = 0.013916433512643673\n",
      "20:42 bilby INFO    :   recalib_H1_phase_6 = -0.02128658443550522\n",
      "20:42 bilby INFO    :   recalib_H1_phase_7 = 0.02296630800067761\n",
      "20:42 bilby INFO    :   recalib_H1_phase_8 = -0.037098045831878486\n",
      "20:42 bilby INFO    :   recalib_H1_phase_9 = -0.018967830067115908\n",
      "20:42 bilby INFO    :   recalib_L1_amplitude_0 = -0.036293801292262916\n",
      "20:42 bilby INFO    :   recalib_L1_amplitude_1 = 0.014361561207618069\n",
      "20:42 bilby INFO    :   recalib_L1_amplitude_2 = -0.08693301208957734\n",
      "20:42 bilby INFO    :   recalib_L1_amplitude_3 = 0.10143853088596673\n",
      "20:42 bilby INFO    :   recalib_L1_amplitude_4 = -0.0077889246361674885\n",
      "20:42 bilby INFO    :   recalib_L1_amplitude_5 = -0.025543820665279264\n",
      "20:42 bilby INFO    :   recalib_L1_amplitude_6 = -0.021247887291087522\n",
      "20:42 bilby INFO    :   recalib_L1_amplitude_7 = 0.013667834994950237\n",
      "20:42 bilby INFO    :   recalib_L1_amplitude_8 = 0.012377526160578984\n",
      "20:42 bilby INFO    :   recalib_L1_amplitude_9 = 0.021583525090134788\n",
      "20:42 bilby INFO    :   recalib_L1_phase_0 = -0.02268955770914274\n",
      "20:42 bilby INFO    :   recalib_L1_phase_1 = -0.027473420705276475\n",
      "20:42 bilby INFO    :   recalib_L1_phase_2 = -0.0943607841222296\n",
      "20:42 bilby INFO    :   recalib_L1_phase_3 = 0.029977319706674166\n",
      "20:42 bilby INFO    :   recalib_L1_phase_4 = 0.08523838545670002\n",
      "20:42 bilby INFO    :   recalib_L1_phase_5 = -0.056840952818595976\n",
      "20:42 bilby INFO    :   recalib_L1_phase_6 = -0.004019423152701047\n",
      "20:42 bilby INFO    :   recalib_L1_phase_7 = 0.03270580357083033\n",
      "20:42 bilby INFO    :   recalib_L1_phase_8 = 0.02364064367507932\n",
      "20:42 bilby INFO    :   recalib_L1_phase_9 = -0.002027753595167955\n",
      "20:42 bilby INFO    :   time_jitter = 6.515517343713782e-06\n",
      "20:42 bilby INFO    :   luminosity_distance = 509.14230092272595\n",
      "20:42 bilby INFO    :   geocent_time = 1126259462.408404\n",
      "20:42 bilby INFO    :   recalib_H1_frequency_0 = 19.999999999999996\n",
      "20:42 bilby INFO    :   recalib_H1_frequency_1 = 30.514434824844255\n",
      "20:42 bilby INFO    :   recalib_H1_frequency_2 = 46.55653663398341\n",
      "20:42 bilby INFO    :   recalib_H1_frequency_3 = 71.03232013940804\n",
      "20:42 bilby INFO    :   recalib_H1_frequency_4 = 108.37555516757195\n",
      "20:42 bilby INFO    :   recalib_H1_frequency_5 = 165.35094073835938\n",
      "20:42 bilby INFO    :   recalib_H1_frequency_6 = 252.27952521936786\n",
      "20:42 bilby INFO    :   recalib_H1_frequency_7 = 384.9083564974527\n",
      "20:42 bilby INFO    :   recalib_H1_frequency_8 = 587.2630478939719\n",
      "20:42 bilby INFO    :   recalib_H1_frequency_9 = 895.9999999999999\n",
      "20:42 bilby INFO    :   recalib_L1_frequency_0 = 19.999999999999996\n",
      "20:42 bilby INFO    :   recalib_L1_frequency_1 = 30.514434824844255\n",
      "20:42 bilby INFO    :   recalib_L1_frequency_2 = 46.55653663398341\n",
      "20:42 bilby INFO    :   recalib_L1_frequency_3 = 71.03232013940804\n",
      "20:42 bilby INFO    :   recalib_L1_frequency_4 = 108.37555516757195\n",
      "20:42 bilby INFO    :   recalib_L1_frequency_5 = 165.35094073835938\n",
      "20:42 bilby INFO    :   recalib_L1_frequency_6 = 252.27952521936786\n",
      "20:42 bilby INFO    :   recalib_L1_frequency_7 = 384.9083564974527\n",
      "20:42 bilby INFO    :   recalib_L1_frequency_8 = 587.2630478939719\n",
      "20:42 bilby INFO    :   recalib_L1_frequency_9 = 895.9999999999999\n",
      "20:42 bilby INFO    :   log_likelihood = 328.4324942070929\n",
      "20:42 bilby INFO    :   log_prior = 66.29957866305776\n",
      "20:42 bilby INFO    :   total_mass = 68.75498279849768\n",
      "20:42 bilby INFO    :   mass_1 = 36.79106674126104\n",
      "20:42 bilby INFO    :   mass_2 = 31.96391605723664\n",
      "20:42 bilby INFO    :   ra = 2.216116171456804\n",
      "20:42 bilby INFO    :   dec = -1.2259035208296045\n",
      "20:42 bilby INFO    :   symmetric_mass_ratio = 0.24876770874914655\n",
      "20:42 bilby INFO    :   spin_1x = 0.5904472619004925\n",
      "20:42 bilby INFO    :   spin_1y = -0.06957261443892127\n",
      "20:42 bilby INFO    :   spin_1z = -0.6225593536929314\n",
      "20:42 bilby INFO    :   spin_2x = 0.4751310354864326\n",
      "20:42 bilby INFO    :   spin_2y = -0.2735390509327497\n",
      "20:42 bilby INFO    :   spin_2z = 0.46596117794011116\n",
      "20:42 bilby INFO    :   phi_1 = 6.1658957660048594\n",
      "20:42 bilby INFO    :   phi_2 = 5.760815453468969\n",
      "20:42 bilby INFO    :   chi_eff = -0.11651051936092104\n",
      "20:42 bilby INFO    :   chi_1_in_plane = 0.5945320157616876\n",
      "20:42 bilby INFO    :   chi_2_in_plane = 0.5482454863175794\n",
      "20:42 bilby INFO    :   chi_p = 0.5945320157616876\n",
      "20:42 bilby INFO    :   cos_tilt_1 = -0.7231983991210473\n",
      "20:42 bilby INFO    :   cos_tilt_2 = 0.6476101046123928\n",
      "20:42 bilby INFO    :   comoving_distance = 460.07828764617136\n",
      "20:42 bilby INFO    :   H1_matched_filter_snr = 21.221089162046386\n",
      "20:42 bilby INFO    :   H1_optimal_snr = 19.957775833584304\n",
      "20:42 bilby INFO    :   L1_matched_filter_snr = 15.167442050430017\n",
      "20:42 bilby INFO    :   L1_optimal_snr = 13.072732183576488\n",
      "20:42 bilby INFO    :   H1_matched_filter_abs_snr = 21.320120947355953\n",
      "20:42 bilby INFO    :   H1_matched_filter_snr_angle = -0.09642190803027524\n",
      "20:42 bilby INFO    :   L1_matched_filter_abs_snr = 15.262798565714363\n",
      "20:42 bilby INFO    :   L1_matched_filter_snr_angle = -0.11184059441681089\n",
      "20:42 bilby INFO    :   redshift = 0.10685806108071728\n",
      "20:42 bilby INFO    :   inverted_mass_ratio = 1.1510187511248808\n",
      "20:42 bilby INFO    :   mass_1_source = 33.23919121602536\n",
      "20:42 bilby INFO    :   mass_2_source = 28.878062310923244\n",
      "20:42 bilby INFO    :   total_mass_source = 62.1172535269486\n",
      "20:42 bilby INFO    :   chirp_mass_source = 26.958060841344064\n",
      "20:42 bilby INFO    :   chi_p_2spin = 0.6991048646002762\n",
      "20:42 bilby INFO    :   beta = 0.2964834516665308\n",
      "20:42 bilby INFO    :   psi_J = 1.8454358595594362\n",
      "20:42 bilby INFO    :   final_spin = 0.6847123040726873\n",
      "20:42 bilby INFO    :   peak_luminosity = 3.4650910541734206\n",
      "20:42 bilby INFO    :   final_mass = 65.67190490679377\n",
      "20:42 bilby INFO    :   final_mass_source = 59.33182150082807\n",
      "20:42 bilby INFO    :   radiated_energy = 2.7854320261205316\n",
      "20:42 bilby INFO    :   H1_time = 1126259462.4241831\n",
      "20:42 bilby INFO    :   L1_time = 1126259462.417131\n",
      "20:42 bilby INFO    :   network_optimal_snr = 23.858104345633123\n",
      "20:42 bilby INFO    :   network_matched_filter_snr = 26.062659432941388\n",
      "20:42 bilby INFO    :   cos_theta_jn = -0.7957343530217185\n",
      "20:42 bilby INFO    :   viewing_angle = 0.6505771989131781\n",
      "20:42 bilby INFO    :   cos_iota = -0.7159420610982777\n",
      "20:42 bilby INFO    :   tilt_1_infinity_only_prec_avg = 1.9184456335196816\n",
      "20:42 bilby INFO    :   tilt_2_infinity_only_prec_avg = 1.4496492121062137\n",
      "20:42 bilby INFO    :   spin_1z_infinity_only_prec_avg = -0.29327903351648726\n",
      "20:42 bilby INFO    :   spin_2z_infinity_only_prec_avg = 0.08695335504061963\n",
      "20:42 bilby INFO    :   chi_eff_infinity_only_prec_avg = -0.11651051936092102\n",
      "20:42 bilby INFO    :   chi_p_infinity_only_prec_avg = 0.8093428662414038\n",
      "20:42 bilby INFO    :   cos_tilt_1_infinity_only_prec_avg = -0.3406886849852173\n",
      "20:42 bilby INFO    :   cos_tilt_2_infinity_only_prec_avg = 0.12085099364542307\n",
      "20:42 bilby INFO    : Injected signal in L1:\n",
      "20:42 bilby INFO    :   optimal SNR = 37.99\n",
      "20:42 bilby INFO    :   matched filter SNR = 37.99-0.00j\n",
      "20:42 bilby INFO    :   chirp_mass = 29.8387469533461\n",
      "20:42 bilby INFO    :   mass_ratio = 0.8687955769814424\n",
      "20:42 bilby INFO    :   a_1 = 0.8608417198511092\n",
      "20:42 bilby INFO    :   a_2 = 0.7195088134379835\n",
      "20:42 bilby INFO    :   tilt_1 = 2.3792185506368795\n",
      "20:42 bilby INFO    :   tilt_2 = 0.8663525482689185\n",
      "20:42 bilby INFO    :   phi_12 = 5.878104994643697\n",
      "20:42 bilby INFO    :   phi_jl = 0.25757481830607415\n",
      "20:42 bilby INFO    :   theta_jn = 1.5707963267948966\n",
      "20:42 bilby INFO    :   psi = 0.6912519348265866\n",
      "20:42 bilby INFO    :   phase = 4.000226339478637\n",
      "20:42 bilby INFO    :   azimuth = 2.590928400193608\n",
      "20:42 bilby INFO    :   zenith = 2.3522458754068447\n",
      "20:42 bilby INFO    :   recalib_H1_amplitude_0 = -0.005868249419321757\n",
      "20:42 bilby INFO    :   recalib_H1_amplitude_1 = -0.043783360917849956\n",
      "20:42 bilby INFO    :   recalib_H1_amplitude_2 = -0.04728295327822305\n",
      "20:42 bilby INFO    :   recalib_H1_amplitude_3 = 0.08222264173465693\n",
      "20:42 bilby INFO    :   recalib_H1_amplitude_4 = 0.011855669695012536\n",
      "20:42 bilby INFO    :   recalib_H1_amplitude_5 = -0.008990421387286167\n",
      "20:42 bilby INFO    :   recalib_H1_amplitude_6 = -0.020009159194152252\n",
      "20:42 bilby INFO    :   recalib_H1_amplitude_7 = 0.008484833525516596\n",
      "20:42 bilby INFO    :   recalib_H1_amplitude_8 = -0.018327160189299724\n",
      "20:42 bilby INFO    :   recalib_H1_amplitude_9 = -0.0023772652335948725\n",
      "20:42 bilby INFO    :   recalib_H1_phase_0 = -0.0006461526627345466\n",
      "20:42 bilby INFO    :   recalib_H1_phase_1 = 0.051177755324892465\n",
      "20:42 bilby INFO    :   recalib_H1_phase_2 = 0.01399307494477739\n",
      "20:42 bilby INFO    :   recalib_H1_phase_3 = 0.08416966330293393\n",
      "20:42 bilby INFO    :   recalib_H1_phase_4 = 0.047473946777130974\n",
      "20:42 bilby INFO    :   recalib_H1_phase_5 = 0.013916433512643673\n",
      "20:42 bilby INFO    :   recalib_H1_phase_6 = -0.02128658443550522\n",
      "20:42 bilby INFO    :   recalib_H1_phase_7 = 0.02296630800067761\n",
      "20:42 bilby INFO    :   recalib_H1_phase_8 = -0.037098045831878486\n",
      "20:42 bilby INFO    :   recalib_H1_phase_9 = -0.018967830067115908\n",
      "20:42 bilby INFO    :   recalib_L1_amplitude_0 = -0.036293801292262916\n",
      "20:42 bilby INFO    :   recalib_L1_amplitude_1 = 0.014361561207618069\n",
      "20:42 bilby INFO    :   recalib_L1_amplitude_2 = -0.08693301208957734\n",
      "20:42 bilby INFO    :   recalib_L1_amplitude_3 = 0.10143853088596673\n",
      "20:42 bilby INFO    :   recalib_L1_amplitude_4 = -0.0077889246361674885\n",
      "20:42 bilby INFO    :   recalib_L1_amplitude_5 = -0.025543820665279264\n",
      "20:42 bilby INFO    :   recalib_L1_amplitude_6 = -0.021247887291087522\n",
      "20:42 bilby INFO    :   recalib_L1_amplitude_7 = 0.013667834994950237\n",
      "20:42 bilby INFO    :   recalib_L1_amplitude_8 = 0.012377526160578984\n",
      "20:42 bilby INFO    :   recalib_L1_amplitude_9 = 0.021583525090134788\n",
      "20:42 bilby INFO    :   recalib_L1_phase_0 = -0.02268955770914274\n",
      "20:42 bilby INFO    :   recalib_L1_phase_1 = -0.027473420705276475\n",
      "20:42 bilby INFO    :   recalib_L1_phase_2 = -0.0943607841222296\n",
      "20:42 bilby INFO    :   recalib_L1_phase_3 = 0.029977319706674166\n",
      "20:42 bilby INFO    :   recalib_L1_phase_4 = 0.08523838545670002\n",
      "20:42 bilby INFO    :   recalib_L1_phase_5 = -0.056840952818595976\n",
      "20:42 bilby INFO    :   recalib_L1_phase_6 = -0.004019423152701047\n",
      "20:42 bilby INFO    :   recalib_L1_phase_7 = 0.03270580357083033\n",
      "20:42 bilby INFO    :   recalib_L1_phase_8 = 0.02364064367507932\n",
      "20:42 bilby INFO    :   recalib_L1_phase_9 = -0.002027753595167955\n",
      "20:42 bilby INFO    :   time_jitter = 6.515517343713782e-06\n",
      "20:42 bilby INFO    :   luminosity_distance = 509.14230092272595\n",
      "20:42 bilby INFO    :   geocent_time = 1126259462.408404\n",
      "20:42 bilby INFO    :   recalib_H1_frequency_0 = 19.999999999999996\n",
      "20:42 bilby INFO    :   recalib_H1_frequency_1 = 30.514434824844255\n",
      "20:42 bilby INFO    :   recalib_H1_frequency_2 = 46.55653663398341\n",
      "20:42 bilby INFO    :   recalib_H1_frequency_3 = 71.03232013940804\n",
      "20:42 bilby INFO    :   recalib_H1_frequency_4 = 108.37555516757195\n",
      "20:42 bilby INFO    :   recalib_H1_frequency_5 = 165.35094073835938\n",
      "20:42 bilby INFO    :   recalib_H1_frequency_6 = 252.27952521936786\n",
      "20:42 bilby INFO    :   recalib_H1_frequency_7 = 384.9083564974527\n",
      "20:42 bilby INFO    :   recalib_H1_frequency_8 = 587.2630478939719\n",
      "20:42 bilby INFO    :   recalib_H1_frequency_9 = 895.9999999999999\n",
      "20:42 bilby INFO    :   recalib_L1_frequency_0 = 19.999999999999996\n",
      "20:42 bilby INFO    :   recalib_L1_frequency_1 = 30.514434824844255\n",
      "20:42 bilby INFO    :   recalib_L1_frequency_2 = 46.55653663398341\n",
      "20:42 bilby INFO    :   recalib_L1_frequency_3 = 71.03232013940804\n",
      "20:42 bilby INFO    :   recalib_L1_frequency_4 = 108.37555516757195\n",
      "20:42 bilby INFO    :   recalib_L1_frequency_5 = 165.35094073835938\n",
      "20:42 bilby INFO    :   recalib_L1_frequency_6 = 252.27952521936786\n",
      "20:42 bilby INFO    :   recalib_L1_frequency_7 = 384.9083564974527\n",
      "20:42 bilby INFO    :   recalib_L1_frequency_8 = 587.2630478939719\n",
      "20:42 bilby INFO    :   recalib_L1_frequency_9 = 895.9999999999999\n",
      "20:42 bilby INFO    :   log_likelihood = 328.4324942070929\n",
      "20:42 bilby INFO    :   log_prior = 66.29957866305776\n",
      "20:42 bilby INFO    :   total_mass = 68.75498279849768\n",
      "20:42 bilby INFO    :   mass_1 = 36.79106674126104\n",
      "20:42 bilby INFO    :   mass_2 = 31.96391605723664\n",
      "20:42 bilby INFO    :   ra = 2.216116171456804\n",
      "20:42 bilby INFO    :   dec = -1.2259035208296045\n",
      "20:42 bilby INFO    :   symmetric_mass_ratio = 0.24876770874914655\n",
      "20:42 bilby INFO    :   spin_1x = 0.5904472619004925\n",
      "20:42 bilby INFO    :   spin_1y = -0.06957261443892127\n",
      "20:42 bilby INFO    :   spin_1z = -0.6225593536929314\n",
      "20:42 bilby INFO    :   spin_2x = 0.4751310354864326\n",
      "20:42 bilby INFO    :   spin_2y = -0.2735390509327497\n",
      "20:42 bilby INFO    :   spin_2z = 0.46596117794011116\n",
      "20:42 bilby INFO    :   phi_1 = 6.1658957660048594\n",
      "20:42 bilby INFO    :   phi_2 = 5.760815453468969\n",
      "20:42 bilby INFO    :   chi_eff = -0.11651051936092104\n",
      "20:42 bilby INFO    :   chi_1_in_plane = 0.5945320157616876\n",
      "20:42 bilby INFO    :   chi_2_in_plane = 0.5482454863175794\n",
      "20:42 bilby INFO    :   chi_p = 0.5945320157616876\n",
      "20:42 bilby INFO    :   cos_tilt_1 = -0.7231983991210473\n",
      "20:42 bilby INFO    :   cos_tilt_2 = 0.6476101046123928\n",
      "20:42 bilby INFO    :   comoving_distance = 460.07828764617136\n",
      "20:42 bilby INFO    :   H1_matched_filter_snr = 21.221089162046386\n",
      "20:42 bilby INFO    :   H1_optimal_snr = 19.957775833584304\n",
      "20:42 bilby INFO    :   L1_matched_filter_snr = 15.167442050430017\n",
      "20:42 bilby INFO    :   L1_optimal_snr = 13.072732183576488\n",
      "20:42 bilby INFO    :   H1_matched_filter_abs_snr = 21.320120947355953\n",
      "20:42 bilby INFO    :   H1_matched_filter_snr_angle = -0.09642190803027524\n",
      "20:42 bilby INFO    :   L1_matched_filter_abs_snr = 15.262798565714363\n",
      "20:42 bilby INFO    :   L1_matched_filter_snr_angle = -0.11184059441681089\n",
      "20:42 bilby INFO    :   redshift = 0.10685806108071728\n",
      "20:42 bilby INFO    :   inverted_mass_ratio = 1.1510187511248808\n",
      "20:42 bilby INFO    :   mass_1_source = 33.23919121602536\n",
      "20:42 bilby INFO    :   mass_2_source = 28.878062310923244\n",
      "20:42 bilby INFO    :   total_mass_source = 62.1172535269486\n",
      "20:42 bilby INFO    :   chirp_mass_source = 26.958060841344064\n",
      "20:42 bilby INFO    :   chi_p_2spin = 0.6991048646002762\n",
      "20:42 bilby INFO    :   beta = 0.2964834516665308\n",
      "20:42 bilby INFO    :   psi_J = 1.8454358595594362\n",
      "20:42 bilby INFO    :   final_spin = 0.6847123040726873\n",
      "20:42 bilby INFO    :   peak_luminosity = 3.4650910541734206\n",
      "20:42 bilby INFO    :   final_mass = 65.67190490679377\n",
      "20:42 bilby INFO    :   final_mass_source = 59.33182150082807\n",
      "20:42 bilby INFO    :   radiated_energy = 2.7854320261205316\n",
      "20:42 bilby INFO    :   H1_time = 1126259462.4241831\n",
      "20:42 bilby INFO    :   L1_time = 1126259462.417131\n",
      "20:42 bilby INFO    :   network_optimal_snr = 23.858104345633123\n",
      "20:42 bilby INFO    :   network_matched_filter_snr = 26.062659432941388\n",
      "20:42 bilby INFO    :   cos_theta_jn = -0.7957343530217185\n",
      "20:42 bilby INFO    :   viewing_angle = 0.6505771989131781\n",
      "20:42 bilby INFO    :   cos_iota = -0.7159420610982777\n",
      "20:42 bilby INFO    :   tilt_1_infinity_only_prec_avg = 1.9184456335196816\n",
      "20:42 bilby INFO    :   tilt_2_infinity_only_prec_avg = 1.4496492121062137\n",
      "20:42 bilby INFO    :   spin_1z_infinity_only_prec_avg = -0.29327903351648726\n",
      "20:42 bilby INFO    :   spin_2z_infinity_only_prec_avg = 0.08695335504061963\n",
      "20:42 bilby INFO    :   chi_eff_infinity_only_prec_avg = -0.11651051936092102\n",
      "20:42 bilby INFO    :   chi_p_infinity_only_prec_avg = 0.8093428662414038\n",
      "20:42 bilby INFO    :   cos_tilt_1_infinity_only_prec_avg = -0.3406886849852173\n",
      "20:42 bilby INFO    :   cos_tilt_2_infinity_only_prec_avg = 0.12085099364542307\n",
      "20:42 bilby INFO    : Waveform generator initiated with\n",
      "  frequency_domain_source_model: waveforms.mem_freq_XPHM\n",
      "  time_domain_source_model: None\n",
      "  parameter_conversion: bilby.gw.conversion.convert_to_lal_binary_black_hole_parameters\n",
      "20:42 bilby INFO    : Waveform generator initiated with\n",
      "  frequency_domain_source_model: waveforms.mem_freq_XPHM\n",
      "  time_domain_source_model: None\n",
      "  parameter_conversion: bilby.gw.conversion.convert_to_lal_binary_black_hole_parameters\n"
     ]
    },
    {
     "name": "stdout",
     "output_type": "stream",
     "text": [
      "1996.9214941438672\n"
     ]
    },
    {
     "name": "stderr",
     "output_type": "stream",
     "text": [
      "20:42 bilby INFO    : Waveform generator initiated with\n",
      "  frequency_domain_source_model: waveforms.mem_freq_XPHM\n",
      "  time_domain_source_model: None\n",
      "  parameter_conversion: bilby.gw.conversion.convert_to_lal_binary_black_hole_parameters\n"
     ]
    },
    {
     "name": "stdout",
     "output_type": "stream",
     "text": [
      "1996.9244812445959\n"
     ]
    },
    {
     "name": "stderr",
     "output_type": "stream",
     "text": [
      "20:42 bilby INFO    : Waveform generator initiated with\n",
      "  frequency_domain_source_model: waveforms.mem_freq_XPHM\n",
      "  time_domain_source_model: None\n",
      "  parameter_conversion: bilby.gw.conversion.convert_to_lal_binary_black_hole_parameters\n"
     ]
    },
    {
     "name": "stdout",
     "output_type": "stream",
     "text": [
      "1996.9271169217104\n"
     ]
    },
    {
     "name": "stderr",
     "output_type": "stream",
     "text": [
      "20:42 bilby INFO    : Waveform generator initiated with\n",
      "  frequency_domain_source_model: waveforms.mem_freq_XPHM\n",
      "  time_domain_source_model: None\n",
      "  parameter_conversion: bilby.gw.conversion.convert_to_lal_binary_black_hole_parameters\n"
     ]
    },
    {
     "name": "stdout",
     "output_type": "stream",
     "text": [
      "1996.9294011752095\n"
     ]
    },
    {
     "name": "stderr",
     "output_type": "stream",
     "text": [
      "20:42 bilby INFO    : Waveform generator initiated with\n",
      "  frequency_domain_source_model: waveforms.mem_freq_XPHM\n",
      "  time_domain_source_model: None\n",
      "  parameter_conversion: bilby.gw.conversion.convert_to_lal_binary_black_hole_parameters\n"
     ]
    },
    {
     "name": "stdout",
     "output_type": "stream",
     "text": [
      "1996.9313340050935\n"
     ]
    },
    {
     "name": "stderr",
     "output_type": "stream",
     "text": [
      "20:42 bilby INFO    : Waveform generator initiated with\n",
      "  frequency_domain_source_model: waveforms.mem_freq_XPHM\n",
      "  time_domain_source_model: None\n",
      "  parameter_conversion: bilby.gw.conversion.convert_to_lal_binary_black_hole_parameters\n"
     ]
    },
    {
     "name": "stdout",
     "output_type": "stream",
     "text": [
      "1996.9329154113616\n"
     ]
    },
    {
     "name": "stderr",
     "output_type": "stream",
     "text": [
      "20:42 bilby INFO    : Waveform generator initiated with\n",
      "  frequency_domain_source_model: waveforms.mem_freq_XPHM\n",
      "  time_domain_source_model: None\n",
      "  parameter_conversion: bilby.gw.conversion.convert_to_lal_binary_black_hole_parameters\n"
     ]
    },
    {
     "name": "stdout",
     "output_type": "stream",
     "text": [
      "1996.934145394015\n"
     ]
    },
    {
     "name": "stderr",
     "output_type": "stream",
     "text": [
      "20:42 bilby INFO    : Waveform generator initiated with\n",
      "  frequency_domain_source_model: waveforms.mem_freq_XPHM\n",
      "  time_domain_source_model: None\n",
      "  parameter_conversion: bilby.gw.conversion.convert_to_lal_binary_black_hole_parameters\n"
     ]
    },
    {
     "name": "stdout",
     "output_type": "stream",
     "text": [
      "1996.9350239530525\n"
     ]
    },
    {
     "name": "stderr",
     "output_type": "stream",
     "text": [
      "20:42 bilby INFO    : Waveform generator initiated with\n",
      "  frequency_domain_source_model: waveforms.mem_freq_XPHM\n",
      "  time_domain_source_model: None\n",
      "  parameter_conversion: bilby.gw.conversion.convert_to_lal_binary_black_hole_parameters\n"
     ]
    },
    {
     "name": "stdout",
     "output_type": "stream",
     "text": [
      "1996.9355510884757\n"
     ]
    },
    {
     "name": "stderr",
     "output_type": "stream",
     "text": [
      "20:42 bilby INFO    : Waveform generator initiated with\n",
      "  frequency_domain_source_model: waveforms.mem_freq_XPHM\n",
      "  time_domain_source_model: None\n",
      "  parameter_conversion: bilby.gw.conversion.convert_to_lal_binary_black_hole_parameters\n"
     ]
    },
    {
     "name": "stdout",
     "output_type": "stream",
     "text": [
      "1996.9357268002832\n"
     ]
    },
    {
     "name": "stderr",
     "output_type": "stream",
     "text": [
      "20:42 bilby INFO    : Waveform generator initiated with\n",
      "  frequency_domain_source_model: waveforms.mem_freq_XPHM\n",
      "  time_domain_source_model: None\n",
      "  parameter_conversion: bilby.gw.conversion.convert_to_lal_binary_black_hole_parameters\n"
     ]
    },
    {
     "name": "stdout",
     "output_type": "stream",
     "text": [
      "1996.9355510884754\n"
     ]
    },
    {
     "name": "stderr",
     "output_type": "stream",
     "text": [
      "20:42 bilby INFO    : Waveform generator initiated with\n",
      "  frequency_domain_source_model: waveforms.mem_freq_XPHM\n",
      "  time_domain_source_model: None\n",
      "  parameter_conversion: bilby.gw.conversion.convert_to_lal_binary_black_hole_parameters\n"
     ]
    },
    {
     "name": "stdout",
     "output_type": "stream",
     "text": [
      "1996.9350239530522\n"
     ]
    },
    {
     "name": "stderr",
     "output_type": "stream",
     "text": [
      "20:42 bilby INFO    : Waveform generator initiated with\n",
      "  frequency_domain_source_model: waveforms.mem_freq_XPHM\n",
      "  time_domain_source_model: None\n",
      "  parameter_conversion: bilby.gw.conversion.convert_to_lal_binary_black_hole_parameters\n"
     ]
    },
    {
     "name": "stdout",
     "output_type": "stream",
     "text": [
      "1996.9341453940146\n"
     ]
    },
    {
     "name": "stderr",
     "output_type": "stream",
     "text": [
      "20:42 bilby INFO    : Waveform generator initiated with\n",
      "  frequency_domain_source_model: waveforms.mem_freq_XPHM\n",
      "  time_domain_source_model: None\n",
      "  parameter_conversion: bilby.gw.conversion.convert_to_lal_binary_black_hole_parameters\n"
     ]
    },
    {
     "name": "stdout",
     "output_type": "stream",
     "text": [
      "1996.9329154113614\n"
     ]
    },
    {
     "name": "stderr",
     "output_type": "stream",
     "text": [
      "20:42 bilby INFO    : Waveform generator initiated with\n",
      "  frequency_domain_source_model: waveforms.mem_freq_XPHM\n",
      "  time_domain_source_model: None\n",
      "  parameter_conversion: bilby.gw.conversion.convert_to_lal_binary_black_hole_parameters\n"
     ]
    },
    {
     "name": "stdout",
     "output_type": "stream",
     "text": [
      "1996.9313340050933\n"
     ]
    },
    {
     "name": "stderr",
     "output_type": "stream",
     "text": [
      "20:42 bilby INFO    : Waveform generator initiated with\n",
      "  frequency_domain_source_model: waveforms.mem_freq_XPHM\n",
      "  time_domain_source_model: None\n",
      "  parameter_conversion: bilby.gw.conversion.convert_to_lal_binary_black_hole_parameters\n"
     ]
    },
    {
     "name": "stdout",
     "output_type": "stream",
     "text": [
      "1996.9294011752093\n"
     ]
    },
    {
     "name": "stderr",
     "output_type": "stream",
     "text": [
      "20:42 bilby INFO    : Waveform generator initiated with\n",
      "  frequency_domain_source_model: waveforms.mem_freq_XPHM\n",
      "  time_domain_source_model: None\n",
      "  parameter_conversion: bilby.gw.conversion.convert_to_lal_binary_black_hole_parameters\n"
     ]
    },
    {
     "name": "stdout",
     "output_type": "stream",
     "text": [
      "1996.9271169217113\n"
     ]
    },
    {
     "name": "stderr",
     "output_type": "stream",
     "text": [
      "20:42 bilby INFO    : Waveform generator initiated with\n",
      "  frequency_domain_source_model: waveforms.mem_freq_XPHM\n",
      "  time_domain_source_model: None\n",
      "  parameter_conversion: bilby.gw.conversion.convert_to_lal_binary_black_hole_parameters\n"
     ]
    },
    {
     "name": "stdout",
     "output_type": "stream",
     "text": [
      "1996.9244812445968\n"
     ]
    },
    {
     "name": "stderr",
     "output_type": "stream",
     "text": [
      "20:42 bilby INFO    : Waveform generator initiated with\n",
      "  frequency_domain_source_model: waveforms.mem_freq_XPHM\n",
      "  time_domain_source_model: None\n",
      "  parameter_conversion: bilby.gw.conversion.convert_to_lal_binary_black_hole_parameters\n"
     ]
    },
    {
     "name": "stdout",
     "output_type": "stream",
     "text": [
      "1996.921494143868\n"
     ]
    },
    {
     "name": "stderr",
     "output_type": "stream",
     "text": [
      "20:42 bilby INFO    : Waveform generator initiated with\n",
      "  frequency_domain_source_model: waveforms.mem_freq_XPHM\n",
      "  time_domain_source_model: None\n",
      "  parameter_conversion: bilby.gw.conversion.convert_to_lal_binary_black_hole_parameters\n"
     ]
    },
    {
     "name": "stdout",
     "output_type": "stream",
     "text": [
      "1996.9181556195226\n"
     ]
    },
    {
     "name": "stderr",
     "output_type": "stream",
     "text": [
      "20:42 bilby INFO    : Waveform generator initiated with\n",
      "  frequency_domain_source_model: waveforms.mem_freq_XPHM\n",
      "  time_domain_source_model: None\n",
      "  parameter_conversion: bilby.gw.conversion.convert_to_lal_binary_black_hole_parameters\n"
     ]
    },
    {
     "name": "stdout",
     "output_type": "stream",
     "text": [
      "1996.9144656715637\n"
     ]
    },
    {
     "name": "stderr",
     "output_type": "stream",
     "text": [
      "20:42 bilby INFO    : Waveform generator initiated with\n",
      "  frequency_domain_source_model: waveforms.mem_freq_XPHM\n",
      "  time_domain_source_model: None\n",
      "  parameter_conversion: bilby.gw.conversion.convert_to_lal_binary_black_hole_parameters\n"
     ]
    },
    {
     "name": "stdout",
     "output_type": "stream",
     "text": [
      "1996.9104242999888\n"
     ]
    },
    {
     "name": "stderr",
     "output_type": "stream",
     "text": [
      "20:42 bilby INFO    : Waveform generator initiated with\n",
      "  frequency_domain_source_model: waveforms.mem_freq_XPHM\n",
      "  time_domain_source_model: None\n",
      "  parameter_conversion: bilby.gw.conversion.convert_to_lal_binary_black_hole_parameters\n"
     ]
    },
    {
     "name": "stdout",
     "output_type": "stream",
     "text": [
      "1996.906031504799\n"
     ]
    },
    {
     "name": "stderr",
     "output_type": "stream",
     "text": [
      "20:42 bilby INFO    : Waveform generator initiated with\n",
      "  frequency_domain_source_model: waveforms.mem_freq_XPHM\n",
      "  time_domain_source_model: None\n",
      "  parameter_conversion: bilby.gw.conversion.convert_to_lal_binary_black_hole_parameters\n"
     ]
    },
    {
     "name": "stdout",
     "output_type": "stream",
     "text": [
      "1996.9012872859932\n",
      "1996.8961916435733\n"
     ]
    },
    {
     "data": {
      "image/png": "[encoded data removed]",
      "text/plain": [
       "<Figure size 640x480 with 1 Axes>"
      ]
     },
     "metadata": {},
     "output_type": "display_data"
    }
   ],
   "source": [
    "sampling_frequency = 2048\n",
    "reference_frequency = 20\n",
    "minimum_frequency = 20\n",
    "maximum_frequency = 1024\n",
    "roll_off=0.4\n",
    "\n",
    "true_amplitude=1\n",
    "\n",
    "max_like = np.argmax(samples['log_likelihood'])\n",
    "max_like_parameters = samples.iloc[max_like].to_dict()\n",
    "del max_like_parameters['iota']\n",
    "max_like_parameters.update({'theta_jn': np.pi/2})\n",
    "\n",
    "# event properties\n",
    "duration = 4\n",
    "detectors = ['H1', 'L1']\n",
    "\n",
    "end_time = 1126259462.4 +2\n",
    "start_time = end_time - duration\n",
    "\n",
    "waveform_name = 'IMRPhenomXPHM'\n",
    "\n",
    "waveform_generator_inject = bilby.gw.waveform_generator.WaveformGenerator(\n",
    "        duration=duration,\n",
    "        sampling_frequency=sampling_frequency,\n",
    "        frequency_domain_source_model= mem_freq_XPHM,\n",
    "        parameter_conversion = bilby.gw.conversion.convert_to_lal_binary_black_hole_parameters,\n",
    "        waveform_arguments=dict(duration=duration,\n",
    "                                roll_off=roll_off,\n",
    "                                minimum_frequency=minimum_frequency,\n",
    "                                maximum_frequency=maximum_frequency,\n",
    "                                sampling_frequency=sampling_frequency,\n",
    "                                reference_frequency=reference_frequency,\n",
    "                                waveform_approximant = waveform_name,\n",
    "                                amplitude=true_amplitude))\n",
    "\n",
    "# Set up interferometers.\n",
    "interferometers = bilby.gw.detector.InterferometerList([\"H1\", \"L1\"])\n",
    "for interferometer in interferometers:\n",
    "        interferometer.minimum_frequency = 20\n",
    "        interferometers.set_strain_data_from_zero_noise(\n",
    "        sampling_frequency=sampling_frequency, duration=duration, start_time=start_time\n",
    "        )\n",
    "\n",
    "        interferometers.inject_signal(\n",
    "        parameters=max_like_parameters, waveform_generator=waveform_generator_inject,\n",
    "        )\n",
    "\n",
    "amplitudes = np.arange(0.1, 2.6, 0.1)\n",
    "like = []\n",
    "\n",
    "for amplitude in amplitudes:\n",
    "        waveform_generator_full = bilby.gw.waveform_generator.WaveformGenerator(\n",
    "        duration=duration,\n",
    "        sampling_frequency=sampling_frequency,\n",
    "        frequency_domain_source_model= mem_freq_XPHM,\n",
    "        parameter_conversion = bilby.gw.conversion.convert_to_lal_binary_black_hole_parameters,\n",
    "        waveform_arguments=dict(duration=duration,\n",
    "                                roll_off=roll_off,\n",
    "                                minimum_frequency=minimum_frequency,\n",
    "                                maximum_frequency=maximum_frequency,\n",
    "                                sampling_frequency=sampling_frequency,\n",
    "                                reference_frequency=reference_frequency,\n",
    "                                waveform_approximant = waveform_name,\n",
    "                                amplitude=amplitude))\n",
    "        likelihood = bilby.gw.likelihood.GravitationalWaveTransient(\n",
    "                interferometers,\n",
    "                waveform_generator_full,\n",
    "                priors = priors,\n",
    "                reference_frame = 'sky',\n",
    "                time_reference = 'geocent',\n",
    "        )\n",
    "        likelihood.parameters.update(max_like_parameters)\n",
    "        ln_likelihood_ratio = likelihood.log_likelihood_ratio()\n",
    "        print(ln_likelihood_ratio)\n",
    "        like.append(ln_likelihood_ratio)\n",
    "\n",
    "plt.plot(amplitudes, like)\n",
    "plt.axvline(true_amplitude, linestyle='dashed', color='black')\n",
    "plt.xlabel('A')\n",
    "plt.ylabel('log likelihood ratio')\n",
    "plt.show()"
   ]
  }
 ],
 "metadata": {
  "kernelspec": {
   "display_name": "altenv",
   "language": "python",
   "name": "python3"
  },
  "language_info": {
   "codemirror_mode": {
    "name": "ipython",
    "version": 3
   },
   "file_extension": ".py",
   "mimetype": "text/x-python",
   "name": "python",
   "nbconvert_exporter": "python",
   "pygments_lexer": "ipython3",
   "version": "3.11.5"
  }
 },
 "nbformat": 4,
 "nbformat_minor": 2
}
