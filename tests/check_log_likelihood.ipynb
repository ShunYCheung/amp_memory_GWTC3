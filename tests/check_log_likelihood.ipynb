{
 "cells": [
  {
   "cell_type": "code",
   "execution_count": 2,
   "metadata": {},
   "outputs": [],
   "source": [
    "import pandas as pd\n",
    "import numpy as np\n",
    "import bilby\n",
    "import lal\n",
    "import gwpy\n",
    "from gwpy.timeseries import TimeSeries\n",
    "import matplotlib.pyplot as plt\n",
    "import copy\n",
    "\n",
    "import sys\n",
    "sys.path.append(\"..\")\n",
    "\n",
    "\n",
    "from event_table import call_event_table\n",
    "from waveforms import osc_freq_XPHM, mem_freq_XPHM, mem_freq_XPHM_only\n",
    "from create_post_dict import create_post_dict, extract_relevant_info, process_bilby_result\n",
    "from reweight_mem_parallel import call_data_GWOSC"
   ]
  },
  {
   "cell_type": "code",
   "execution_count": 7,
   "metadata": {},
   "outputs": [
    {
     "name": "stderr",
     "output_type": "stream",
     "text": [
      "18:53 bilby INFO    : Downloading analysis data for ifo L1\n"
     ]
    },
    {
     "name": "stdout",
     "output_type": "stream",
     "text": [
      "Jitter time setting cannot be found. Use default setting.\n",
      "channel_dict {'H1': 'DCH-CLEAN_STRAIN_C02', 'L1': 'DCH-CLEAN_STRAIN_C02', 'V1': 'Hrec_hoft_V1O2Repro2A_16384Hz'}\n",
      "['', 'home', 'daniel.williams', 'events', 'O3', 'o3a_final', 'run_directories', '', 'GW170818', 'ProdF7']\n",
      "information\n",
      "event name:  GW170818\n",
      "detectors:  ['L1', 'H1', 'V1']\n"
     ]
    },
    {
     "name": "stderr",
     "output_type": "stream",
     "text": [
      "18:53 bilby INFO    : Downloading analysis data for ifo H1\n"
     ]
    },
    {
     "name": "stdout",
     "output_type": "stream",
     "text": [
      "Using pre-computed psd from results file\n"
     ]
    },
    {
     "name": "stderr",
     "output_type": "stream",
     "text": [
      "18:54 bilby INFO    : Waveform generator initiated with\n",
      "  frequency_domain_source_model: bilby.gw.source.lal_binary_black_hole\n",
      "  time_domain_source_model: None\n",
      "  parameter_conversion: bilby.gw.conversion.convert_to_lal_binary_black_hole_parameters\n"
     ]
    },
    {
     "name": "stdout",
     "output_type": "stream",
     "text": [
      "Using pre-computed psd from results file\n"
     ]
    },
    {
     "name": "stderr",
     "output_type": "stream",
     "text": [
      "18:54 bilby INFO    : Loaded distance marginalisation lookup table from ../TD.npz.\n"
     ]
    },
    {
     "name": "stdout",
     "output_type": "stream",
     "text": [
      "stored log likelihood | calculated log likelihood\n",
      "61.49206647861965 51.66951311123018\n",
      "61.10075751046299 50.818156072200836\n",
      "59.12672625501739 51.75056994749835\n",
      "55.96990766273144 47.115619363131046\n",
      "59.577235624802576 50.29536930790279\n",
      "57.569143395324296 48.618799553349916\n",
      "60.33188150841454 50.724406029389485\n",
      "61.742284236457905 52.354260116113196\n",
      "57.75200697712786 48.36696375689809\n",
      "60.347512814011296 51.55224511701354\n"
     ]
    }
   ],
   "source": [
    "event_number = 8\n",
    "event_name, file_path, trigger_time, duration, waveform, data_file = call_event_table()[event_number]\n",
    "samples, meta_dict, config_dict, priors, psds, calibration = create_post_dict(file_path, waveform)\n",
    "args = extract_relevant_info(meta_dict, config_dict)\n",
    "\n",
    "logger = bilby.core.utils.logger\n",
    "\n",
    "sampling_frequency = args['sampling_frequency']\n",
    "maximum_frequency = args['maximum_frequency']\n",
    "minimum_frequency = args['minimum_frequency']\n",
    "reference_frequency = args['reference_frequency']\n",
    "roll_off = args['tukey_roll_off']\n",
    "duration = args['duration']\n",
    "post_trigger_duration = args['post_trigger_duration']\n",
    "trigger_time = args['trigger_time']\n",
    "detectors = args['detectors']\n",
    "\n",
    "print('information')\n",
    "print('event name: ', event_name)\n",
    "print('detectors: ', detectors)\n",
    "\n",
    "detectors = args['detectors']\n",
    "if 'V1' in detectors:\n",
    "    detectors.remove('V1')\n",
    "\n",
    "end_time = trigger_time + post_trigger_duration\n",
    "start_time = end_time - duration\n",
    "\n",
    "psd_duration = 32*duration # deprecated\n",
    "psd_start_time = start_time - psd_duration # deprecated\n",
    "psd_end_time = start_time # deprecated\n",
    "\n",
    "waveform_name = args['waveform_approximant']\n",
    "\n",
    "ifo_list= call_data_GWOSC(logger, args, \n",
    "                        calibration, samples, detectors,\n",
    "                        start_time, end_time, \n",
    "                        psd_start_time, psd_end_time, \n",
    "                        duration, sampling_frequency, \n",
    "                        roll_off, minimum_frequency, maximum_frequency,\n",
    "                        psds_array=psds)\n",
    "\n",
    "priors2 = copy.copy(priors)\n",
    "\n",
    "# test if bilby oscillatory waveform = gwmemory oscillatory waveform.\n",
    "waveform_generator_osc = bilby.gw.waveform_generator.WaveformGenerator(\n",
    "    duration=duration,\n",
    "    sampling_frequency=sampling_frequency,\n",
    "    frequency_domain_source_model= bilby.gw.source.lal_binary_black_hole,\n",
    "    parameter_conversion = bilby.gw.conversion.convert_to_lal_binary_black_hole_parameters,\n",
    "    waveform_arguments=dict(duration=duration,\n",
    "                            minimum_frequency=minimum_frequency,\n",
    "                            maximum_frequency=maximum_frequency,\n",
    "                            sampling_frequency=sampling_frequency,\n",
    "                            reference_frequency=reference_frequency,\n",
    "                            waveform_approximant=waveform_name,\n",
    "                            )\n",
    "\n",
    ")\n",
    "\n",
    "target_likelihood = bilby.gw.likelihood.GravitationalWaveTransient(\n",
    "    ifo_list,\n",
    "    waveform_generator_osc,\n",
    "    time_marginalization = True,\n",
    "    distance_marginalization = True,\n",
    "    distance_marginalization_lookup_table = '../TD.npz',\n",
    "    jitter_time=True,\n",
    "    priors = priors2,\n",
    "    reference_frame = args['reference_frame'],\n",
    "    time_reference = args['time_reference'],\n",
    ")\n",
    "print('stored log likelihood', '| calculated log likelihood')\n",
    "for i in range(10):\n",
    "    posterior = samples.iloc[i].to_dict()\n",
    "    target_likelihood.parameters.update(posterior)\n",
    "    reference_parameters = dict(luminosity_distance = priors2['luminosity_distance'],\n",
    "                                geocent_time = priors2['geocent_time'])\n",
    "    target_likelihood.parameters.update(reference_parameters)\n",
    "    likelihood = target_likelihood.log_likelihood_ratio()\n",
    "    print(samples['log_likelihood'].iloc[i],likelihood)"
   ]
  },
  {
   "cell_type": "code",
   "execution_count": 7,
   "metadata": {},
   "outputs": [
    {
     "name": "stderr",
     "output_type": "stream",
     "text": [
      "18:42 bilby INFO    : Downloading analysis data for ifo H1\n"
     ]
    },
    {
     "name": "stdout",
     "output_type": "stream",
     "text": [
      "Jitter time setting cannot be found. Use default setting.\n",
      "channel_dict {'H1': 'DCS-CALIB_STRAIN_C02', 'L1': 'DCS-CALIB_STRAIN_C02'}\n",
      "['', 'home', 'daniel.williams', 'events', 'O3', 'o3a', 'run_directories', 'GW150914', 'ProdF4']\n",
      "information\n",
      "event name:  GW150914\n",
      "detectors:  ['H1', 'L1']\n"
     ]
    },
    {
     "name": "stderr",
     "output_type": "stream",
     "text": [
      "18:42 bilby INFO    : Downloading analysis data for ifo L1\n"
     ]
    },
    {
     "name": "stdout",
     "output_type": "stream",
     "text": [
      "Using pre-computed psd from results file\n"
     ]
    },
    {
     "name": "stderr",
     "output_type": "stream",
     "text": [
      "18:42 bilby INFO    : Waveform generator initiated with\n",
      "  frequency_domain_source_model: bilby.gw.source.lal_binary_black_hole\n",
      "  time_domain_source_model: None\n",
      "  parameter_conversion: bilby.gw.conversion.convert_to_lal_binary_black_hole_parameters\n"
     ]
    },
    {
     "name": "stdout",
     "output_type": "stream",
     "text": [
      "Using pre-computed psd from results file\n"
     ]
    },
    {
     "name": "stderr",
     "output_type": "stream",
     "text": [
      "18:42 bilby INFO    : Loaded distance marginalisation lookup table does not match for distance_array.\n",
      "/home/shunyin.cheung/.conda/envs/altenv/lib/python3.11/site-packages/tqdm/auto.py:21: TqdmWarning: IProgress not found. Please update jupyter and ipywidgets. See https://ipywidgets.readthedocs.io/en/stable/user_install.html\n",
      "  from .autonotebook import tqdm as notebook_tqdm\n",
      "18:42 bilby INFO    : Building lookup table for distance marginalisation.\n",
      "100%|██████████| 400/400 [01:16<00:00,  5.19it/s]\n"
     ]
    },
    {
     "name": "stdout",
     "output_type": "stream",
     "text": [
      "322.30427095284983 321.3882985283915\n",
      "320.30148251901113 320.28737195178644\n",
      "320.65400935312505 320.8598700799437\n",
      "324.2656609494165 323.70300767492586\n",
      "322.7294264130223 323.6245941174861\n",
      "325.55371356766864 324.2305526286645\n",
      "321.13250028898017 319.8295930422306\n",
      "321.76573539575816 321.80137512208023\n",
      "320.6351240330521 320.4791509033959\n",
      "322.0405694919023 321.86030410178284\n"
     ]
    }
   ],
   "source": [
    "event_number = 0\n",
    "event_name, file_path, trigger_time, duration, waveform, data_file = call_event_table()[event_number]\n",
    "samples, meta_dict, config_dict, priors, psds, calibration = create_post_dict(file_path, waveform)\n",
    "args = extract_relevant_info(meta_dict, config_dict)\n",
    "\n",
    "logger = bilby.core.utils.logger\n",
    "\n",
    "sampling_frequency = args['sampling_frequency']\n",
    "maximum_frequency = args['maximum_frequency']\n",
    "minimum_frequency = args['minimum_frequency']\n",
    "reference_frequency = args['reference_frequency']\n",
    "roll_off = args['tukey_roll_off']\n",
    "duration = args['duration']\n",
    "post_trigger_duration = args['post_trigger_duration']\n",
    "trigger_time = args['trigger_time']\n",
    "detectors = args['detectors']\n",
    "\n",
    "print('information')\n",
    "print('event name: ', event_name)\n",
    "print('detectors: ', detectors)\n",
    "\n",
    "detectors = args['detectors']\n",
    "if 'V1' in detectors:\n",
    "    detectors.remove('V1')\n",
    "\n",
    "end_time = trigger_time + post_trigger_duration\n",
    "start_time = end_time - duration\n",
    "\n",
    "psd_duration = 32*duration # deprecated\n",
    "psd_start_time = start_time - psd_duration # deprecated\n",
    "psd_end_time = start_time # deprecated\n",
    "\n",
    "waveform_name = args['waveform_approximant']\n",
    "\n",
    "ifo_list= call_data_GWOSC(logger, args, \n",
    "                        calibration, samples, detectors,\n",
    "                        start_time, end_time, \n",
    "                        psd_start_time, psd_end_time, \n",
    "                        duration, sampling_frequency, \n",
    "                        roll_off, minimum_frequency, maximum_frequency,\n",
    "                        psds_array=psds)\n",
    "\n",
    "priors2 = copy.copy(priors)\n",
    "\n",
    "# test if bilby oscillatory waveform = gwmemory oscillatory waveform.\n",
    "waveform_generator_osc = bilby.gw.waveform_generator.WaveformGenerator(\n",
    "    duration=duration,\n",
    "    sampling_frequency=sampling_frequency,\n",
    "    frequency_domain_source_model= bilby.gw.source.lal_binary_black_hole,\n",
    "    parameter_conversion = bilby.gw.conversion.convert_to_lal_binary_black_hole_parameters,\n",
    "    waveform_arguments=dict(duration=duration,\n",
    "                            minimum_frequency=minimum_frequency,\n",
    "                            maximum_frequency=maximum_frequency,\n",
    "                            sampling_frequency=sampling_frequency,\n",
    "                            reference_frequency=reference_frequency,\n",
    "                            waveform_approximant=waveform_name,\n",
    "                            )\n",
    "\n",
    ")\n",
    "\n",
    "target_likelihood = bilby.gw.likelihood.GravitationalWaveTransient(\n",
    "    ifo_list,\n",
    "    waveform_generator_osc,\n",
    "    time_marginalization = True,\n",
    "    distance_marginalization = True,\n",
    "    distance_marginalization_lookup_table = '../TD.npz',\n",
    "    jitter_time=True,\n",
    "    priors = priors2,\n",
    "    reference_frame = args['reference_frame'],\n",
    "    time_reference = args['time_reference'],\n",
    ")\n",
    "\n",
    "for i in range(10):\n",
    "    posterior = samples.iloc[i].to_dict()\n",
    "    target_likelihood.parameters.update(posterior)\n",
    "    reference_parameters = dict(luminosity_distance = priors2['luminosity_distance'],\n",
    "                                geocent_time = priors2['geocent_time'])\n",
    "    target_likelihood.parameters.update(reference_parameters)\n",
    "    likelihood = target_likelihood.log_likelihood_ratio()\n",
    "    print(samples['log_likelihood'].iloc[i],likelihood)"
   ]
  },
  {
   "cell_type": "code",
   "execution_count": 8,
   "metadata": {},
   "outputs": [
    {
     "name": "stderr",
     "output_type": "stream",
     "text": [
      "18:44 bilby INFO    : Downloading analysis data for ifo H1\n"
     ]
    },
    {
     "name": "stdout",
     "output_type": "stream",
     "text": [
      "Jitter time setting cannot be found. Use default setting.\n",
      "channel_dict {'H1': 'DCS-CALIB_STRAIN_C02', 'L1': 'DCS-CALIB_STRAIN_C02'}\n",
      "['', 'home', 'daniel.williams', 'events', 'O3', 'o3a_final', 'run_directories', '', 'GW151012', 'ProdF4']\n",
      "information\n",
      "event name:  GW151012\n",
      "detectors:  ['H1', 'L1']\n"
     ]
    },
    {
     "name": "stderr",
     "output_type": "stream",
     "text": [
      "18:46 bilby INFO    : Downloading analysis data for ifo L1\n"
     ]
    },
    {
     "name": "stdout",
     "output_type": "stream",
     "text": [
      "Using pre-computed psd from results file\n"
     ]
    },
    {
     "name": "stderr",
     "output_type": "stream",
     "text": [
      "18:46 bilby INFO    : Waveform generator initiated with\n",
      "  frequency_domain_source_model: bilby.gw.source.lal_binary_black_hole\n",
      "  time_domain_source_model: None\n",
      "  parameter_conversion: bilby.gw.conversion.convert_to_lal_binary_black_hole_parameters\n"
     ]
    },
    {
     "name": "stdout",
     "output_type": "stream",
     "text": [
      "Using pre-computed psd from results file\n"
     ]
    },
    {
     "name": "stderr",
     "output_type": "stream",
     "text": [
      "18:46 bilby INFO    : Loaded distance marginalisation lookup table from ../TD.npz.\n"
     ]
    },
    {
     "name": "stdout",
     "output_type": "stream",
     "text": [
      "31.294287745639195 31.133934618522535\n",
      "33.26265470613678 32.825632860828804\n",
      "30.819025218309562 31.052557885005797\n",
      "24.716952764892625 24.345583198511477\n",
      "32.393754104883904 31.912141751210438\n",
      "30.944337874712037 31.368248974951726\n",
      "30.128299133647268 31.03316144591897\n",
      "27.183242748646073 27.0430921983005\n",
      "28.780401296466707 28.370569473367688\n",
      "31.05841032444647 31.014553494415132\n"
     ]
    }
   ],
   "source": [
    "event_number = 1\n",
    "event_name, file_path, trigger_time, duration, waveform, data_file = call_event_table()[event_number]\n",
    "samples, meta_dict, config_dict, priors, psds, calibration = create_post_dict(file_path, waveform)\n",
    "args = extract_relevant_info(meta_dict, config_dict)\n",
    "\n",
    "logger = bilby.core.utils.logger\n",
    "\n",
    "sampling_frequency = args['sampling_frequency']\n",
    "maximum_frequency = args['maximum_frequency']\n",
    "minimum_frequency = args['minimum_frequency']\n",
    "reference_frequency = args['reference_frequency']\n",
    "roll_off = args['tukey_roll_off']\n",
    "duration = args['duration']\n",
    "post_trigger_duration = args['post_trigger_duration']\n",
    "trigger_time = args['trigger_time']\n",
    "detectors = args['detectors']\n",
    "\n",
    "print('information')\n",
    "print('event name: ', event_name)\n",
    "print('detectors: ', detectors)\n",
    "\n",
    "detectors = args['detectors']\n",
    "if 'V1' in detectors:\n",
    "    detectors.remove('V1')\n",
    "\n",
    "end_time = trigger_time + post_trigger_duration\n",
    "start_time = end_time - duration\n",
    "\n",
    "psd_duration = 32*duration # deprecated\n",
    "psd_start_time = start_time - psd_duration # deprecated\n",
    "psd_end_time = start_time # deprecated\n",
    "\n",
    "waveform_name = args['waveform_approximant']\n",
    "\n",
    "ifo_list= call_data_GWOSC(logger, args, \n",
    "                        calibration, samples, detectors,\n",
    "                        start_time, end_time, \n",
    "                        psd_start_time, psd_end_time, \n",
    "                        duration, sampling_frequency, \n",
    "                        roll_off, minimum_frequency, maximum_frequency,\n",
    "                        psds_array=psds)\n",
    "\n",
    "priors2 = copy.copy(priors)\n",
    "\n",
    "# test if bilby oscillatory waveform = gwmemory oscillatory waveform.\n",
    "waveform_generator_osc = bilby.gw.waveform_generator.WaveformGenerator(\n",
    "    duration=duration,\n",
    "    sampling_frequency=sampling_frequency,\n",
    "    frequency_domain_source_model= bilby.gw.source.lal_binary_black_hole,\n",
    "    parameter_conversion = bilby.gw.conversion.convert_to_lal_binary_black_hole_parameters,\n",
    "    waveform_arguments=dict(duration=duration,\n",
    "                            minimum_frequency=minimum_frequency,\n",
    "                            maximum_frequency=maximum_frequency,\n",
    "                            sampling_frequency=sampling_frequency,\n",
    "                            reference_frequency=reference_frequency,\n",
    "                            waveform_approximant=waveform_name,\n",
    "                            )\n",
    "\n",
    ")\n",
    "\n",
    "target_likelihood = bilby.gw.likelihood.GravitationalWaveTransient(\n",
    "    ifo_list,\n",
    "    waveform_generator_osc,\n",
    "    time_marginalization = True,\n",
    "    distance_marginalization = True,\n",
    "    distance_marginalization_lookup_table = '../TD.npz',\n",
    "    jitter_time=True,\n",
    "    priors = priors2,\n",
    "    reference_frame = args['reference_frame'],\n",
    "    time_reference = args['time_reference'],\n",
    ")\n",
    "\n",
    "for i in range(10):\n",
    "    posterior = samples.iloc[i].to_dict()\n",
    "    target_likelihood.parameters.update(posterior)\n",
    "    reference_parameters = dict(luminosity_distance = priors2['luminosity_distance'],\n",
    "                                geocent_time = priors2['geocent_time'])\n",
    "    target_likelihood.parameters.update(reference_parameters)\n",
    "    likelihood = target_likelihood.log_likelihood_ratio()\n",
    "    print(samples['log_likelihood'].iloc[i],likelihood)"
   ]
  },
  {
   "cell_type": "code",
   "execution_count": 4,
   "metadata": {},
   "outputs": [
    {
     "name": "stderr",
     "output_type": "stream",
     "text": [
      "19:13 bilby INFO    : Downloading analysis data for ifo H1\n"
     ]
    },
    {
     "name": "stdout",
     "output_type": "stream",
     "text": [
      "Jitter time setting cannot be found. Use default setting.\n",
      "channel_dict {'H1': 'DCH-CLEAN_STRAIN_C02', 'L1': 'DCH-CLEAN_STRAIN_C02'}\n",
      "['', 'home', 'daniel.williams', 'events', 'O3', 'o3a_final', 'run_directories', '', 'GW170104', 'ProdF4']\n",
      "information\n",
      "event name:  GW170104\n",
      "detectors:  ['H1', 'L1']\n"
     ]
    },
    {
     "name": "stderr",
     "output_type": "stream",
     "text": [
      "19:13 bilby INFO    : Downloading analysis data for ifo L1\n"
     ]
    },
    {
     "name": "stdout",
     "output_type": "stream",
     "text": [
      "Using pre-computed psd from results file\n"
     ]
    },
    {
     "name": "stderr",
     "output_type": "stream",
     "text": [
      "19:14 bilby INFO    : Waveform generator initiated with\n",
      "  frequency_domain_source_model: bilby.gw.source.lal_binary_black_hole\n",
      "  time_domain_source_model: None\n",
      "  parameter_conversion: bilby.gw.conversion.convert_to_lal_binary_black_hole_parameters\n"
     ]
    },
    {
     "name": "stdout",
     "output_type": "stream",
     "text": [
      "Using pre-computed psd from results file\n"
     ]
    },
    {
     "name": "stderr",
     "output_type": "stream",
     "text": [
      "19:14 bilby INFO    : Loaded distance marginalisation lookup table from ../TD.npz.\n"
     ]
    },
    {
     "name": "stdout",
     "output_type": "stream",
     "text": [
      "84.3138201496587 84.36057414395954\n",
      "83.167606317808 83.26564015430378\n",
      "84.00056429167402 83.94490652328467\n",
      "85.3006907088475 85.03731137660829\n",
      "84.09727649328131 84.31594884505964\n",
      "82.04036522969737 82.13741460228083\n",
      "83.80935751451489 83.81212695199832\n",
      "82.97480345152786 82.98299972108165\n",
      "83.28110581106311 83.74147378536357\n",
      "83.49142161876397 83.64343956440973\n"
     ]
    }
   ],
   "source": [
    "event_number = 3\n",
    "event_name, file_path, trigger_time, duration, waveform, data_file = call_event_table()[event_number]\n",
    "samples, meta_dict, config_dict, priors, psds, calibration = create_post_dict(file_path, waveform)\n",
    "args = extract_relevant_info(meta_dict, config_dict)\n",
    "\n",
    "logger = bilby.core.utils.logger\n",
    "\n",
    "sampling_frequency = args['sampling_frequency']\n",
    "maximum_frequency = args['maximum_frequency']\n",
    "minimum_frequency = args['minimum_frequency']\n",
    "reference_frequency = args['reference_frequency']\n",
    "roll_off = args['tukey_roll_off']\n",
    "duration = args['duration']\n",
    "post_trigger_duration = args['post_trigger_duration']\n",
    "trigger_time = args['trigger_time']\n",
    "detectors = args['detectors']\n",
    "\n",
    "print('information')\n",
    "print('event name: ', event_name)\n",
    "print('detectors: ', detectors)\n",
    "\n",
    "detectors = args['detectors']\n",
    "if 'V1' in detectors:\n",
    "    detectors.remove('V1')\n",
    "\n",
    "end_time = trigger_time + post_trigger_duration\n",
    "start_time = end_time - duration\n",
    "\n",
    "psd_duration = 32*duration # deprecated\n",
    "psd_start_time = start_time - psd_duration # deprecated\n",
    "psd_end_time = start_time # deprecated\n",
    "\n",
    "waveform_name = args['waveform_approximant']\n",
    "\n",
    "ifo_list= call_data_GWOSC(logger, args, \n",
    "                        calibration, samples, detectors,\n",
    "                        start_time, end_time, \n",
    "                        psd_start_time, psd_end_time, \n",
    "                        duration, sampling_frequency, \n",
    "                        roll_off, minimum_frequency, maximum_frequency,\n",
    "                        psds_array=psds)\n",
    "\n",
    "priors2 = copy.copy(priors)\n",
    "\n",
    "# test if bilby oscillatory waveform = gwmemory oscillatory waveform.\n",
    "waveform_generator_osc = bilby.gw.waveform_generator.WaveformGenerator(\n",
    "    duration=duration,\n",
    "    sampling_frequency=sampling_frequency,\n",
    "    frequency_domain_source_model= bilby.gw.source.lal_binary_black_hole,\n",
    "    parameter_conversion = bilby.gw.conversion.convert_to_lal_binary_black_hole_parameters,\n",
    "    waveform_arguments=dict(duration=duration,\n",
    "                            minimum_frequency=minimum_frequency,\n",
    "                            maximum_frequency=maximum_frequency,\n",
    "                            sampling_frequency=sampling_frequency,\n",
    "                            reference_frequency=reference_frequency,\n",
    "                            waveform_approximant=waveform_name,\n",
    "                            )\n",
    "\n",
    ")\n",
    "\n",
    "target_likelihood = bilby.gw.likelihood.GravitationalWaveTransient(\n",
    "    ifo_list,\n",
    "    waveform_generator_osc,\n",
    "    time_marginalization = True,\n",
    "    distance_marginalization = True,\n",
    "    distance_marginalization_lookup_table = '../TD.npz',\n",
    "    jitter_time=True,\n",
    "    priors = priors2,\n",
    "    reference_frame = args['reference_frame'],\n",
    "    time_reference = args['time_reference'],\n",
    ")\n",
    "\n",
    "for i in range(10):\n",
    "    posterior = samples.iloc[i].to_dict()\n",
    "    target_likelihood.parameters.update(posterior)\n",
    "    reference_parameters = dict(luminosity_distance = priors2['luminosity_distance'],\n",
    "                                geocent_time = priors2['geocent_time'])\n",
    "    target_likelihood.parameters.update(reference_parameters)\n",
    "    likelihood = target_likelihood.log_likelihood_ratio()\n",
    "    print(samples['log_likelihood'].iloc[i],likelihood)"
   ]
  },
  {
   "cell_type": "code",
   "execution_count": 5,
   "metadata": {},
   "outputs": [
    {
     "name": "stderr",
     "output_type": "stream",
     "text": [
      "19:16 bilby INFO    : Downloading analysis data for ifo H1\n"
     ]
    },
    {
     "name": "stdout",
     "output_type": "stream",
     "text": [
      "Jitter time setting cannot be found. Use default setting.\n",
      "channel_dict {'H1': 'DCH-CLEAN_STRAIN_C02', 'L1': 'DCH-CLEAN_STRAIN_C02', 'V1': 'Hrec_hoft_V1O2Repro2A_16384Hz'}\n",
      "['', 'home', 'daniel.williams', 'events', 'O3', 'o3a_final', 'run_directories', '', 'GW170729', 'ProdF10']\n",
      "information\n",
      "event name:  GW170729\n",
      "detectors:  ['H1', 'L1', 'V1']\n"
     ]
    },
    {
     "name": "stderr",
     "output_type": "stream",
     "text": [
      "19:16 bilby INFO    : Downloading analysis data for ifo L1\n"
     ]
    },
    {
     "name": "stdout",
     "output_type": "stream",
     "text": [
      "Using pre-computed psd from results file\n"
     ]
    },
    {
     "name": "stderr",
     "output_type": "stream",
     "text": [
      "19:16 bilby INFO    : Waveform generator initiated with\n",
      "  frequency_domain_source_model: bilby.gw.source.lal_binary_black_hole\n",
      "  time_domain_source_model: None\n",
      "  parameter_conversion: bilby.gw.conversion.convert_to_lal_binary_black_hole_parameters\n",
      "19:16 bilby INFO    : Loaded distance marginalisation lookup table from ../TD.npz.\n"
     ]
    },
    {
     "name": "stdout",
     "output_type": "stream",
     "text": [
      "Using pre-computed psd from results file\n",
      "43.09752838383797 41.32865422182828\n",
      "38.733543490410014 36.4932821571847\n",
      "48.99378571457131 47.71714232139952\n",
      "47.829432209892076 48.179876751760865\n",
      "41.38606221259258 38.64679020155381\n",
      "48.193407316089484 46.3122135186991\n",
      "50.46963718404028 48.448524394257376\n",
      "45.772241335356966 46.10887929894709\n",
      "46.082125143673586 46.26278311651207\n",
      "43.42179530884173 44.44488574282893\n"
     ]
    }
   ],
   "source": [
    "event_number = 5\n",
    "event_name, file_path, trigger_time, duration, waveform, data_file = call_event_table()[event_number]\n",
    "samples, meta_dict, config_dict, priors, psds, calibration = create_post_dict(file_path, waveform)\n",
    "args = extract_relevant_info(meta_dict, config_dict)\n",
    "\n",
    "logger = bilby.core.utils.logger\n",
    "\n",
    "sampling_frequency = args['sampling_frequency']\n",
    "maximum_frequency = args['maximum_frequency']\n",
    "minimum_frequency = args['minimum_frequency']\n",
    "reference_frequency = args['reference_frequency']\n",
    "roll_off = args['tukey_roll_off']\n",
    "duration = args['duration']\n",
    "post_trigger_duration = args['post_trigger_duration']\n",
    "trigger_time = args['trigger_time']\n",
    "detectors = args['detectors']\n",
    "\n",
    "print('information')\n",
    "print('event name: ', event_name)\n",
    "print('detectors: ', detectors)\n",
    "\n",
    "detectors = args['detectors']\n",
    "if 'V1' in detectors:\n",
    "    detectors.remove('V1')\n",
    "\n",
    "end_time = trigger_time + post_trigger_duration\n",
    "start_time = end_time - duration\n",
    "\n",
    "psd_duration = 32*duration # deprecated\n",
    "psd_start_time = start_time - psd_duration # deprecated\n",
    "psd_end_time = start_time # deprecated\n",
    "\n",
    "waveform_name = args['waveform_approximant']\n",
    "\n",
    "ifo_list= call_data_GWOSC(logger, args, \n",
    "                        calibration, samples, detectors,\n",
    "                        start_time, end_time, \n",
    "                        psd_start_time, psd_end_time, \n",
    "                        duration, sampling_frequency, \n",
    "                        roll_off, minimum_frequency, maximum_frequency,\n",
    "                        psds_array=psds)\n",
    "\n",
    "priors2 = copy.copy(priors)\n",
    "\n",
    "# test if bilby oscillatory waveform = gwmemory oscillatory waveform.\n",
    "waveform_generator_osc = bilby.gw.waveform_generator.WaveformGenerator(\n",
    "    duration=duration,\n",
    "    sampling_frequency=sampling_frequency,\n",
    "    frequency_domain_source_model= bilby.gw.source.lal_binary_black_hole,\n",
    "    parameter_conversion = bilby.gw.conversion.convert_to_lal_binary_black_hole_parameters,\n",
    "    waveform_arguments=dict(duration=duration,\n",
    "                            minimum_frequency=minimum_frequency,\n",
    "                            maximum_frequency=maximum_frequency,\n",
    "                            sampling_frequency=sampling_frequency,\n",
    "                            reference_frequency=reference_frequency,\n",
    "                            waveform_approximant=waveform_name,\n",
    "                            )\n",
    "\n",
    ")\n",
    "\n",
    "target_likelihood = bilby.gw.likelihood.GravitationalWaveTransient(\n",
    "    ifo_list,\n",
    "    waveform_generator_osc,\n",
    "    time_marginalization = True,\n",
    "    distance_marginalization = True,\n",
    "    distance_marginalization_lookup_table = '../TD.npz',\n",
    "    jitter_time=True,\n",
    "    priors = priors2,\n",
    "    reference_frame = args['reference_frame'],\n",
    "    time_reference = args['time_reference'],\n",
    ")\n",
    "\n",
    "for i in range(10):\n",
    "    posterior = samples.iloc[i].to_dict()\n",
    "    target_likelihood.parameters.update(posterior)\n",
    "    reference_parameters = dict(luminosity_distance = priors2['luminosity_distance'],\n",
    "                                geocent_time = priors2['geocent_time'])\n",
    "    target_likelihood.parameters.update(reference_parameters)\n",
    "    likelihood = target_likelihood.log_likelihood_ratio()\n",
    "    print(samples['log_likelihood'].iloc[i],likelihood)"
   ]
  },
  {
   "cell_type": "code",
   "execution_count": 2,
   "metadata": {},
   "outputs": [
    {
     "name": "stderr",
     "output_type": "stream",
     "text": [
      "19:31 bilby INFO    : Downloading analysis data for ifo H1\n"
     ]
    },
    {
     "name": "stdout",
     "output_type": "stream",
     "text": [
      "Jitter time setting cannot be found. Use default setting.\n",
      "channel_dict {'H1': 'DCS-CALIB_STRAIN_CLEAN_SUB60HZ_C01', 'L1': 'DCS-CALIB_STRAIN_CLEAN_SUB60HZ_C01'}\n",
      "['', 'home', 'daniel.williams', 'events', 'O3', 'o3b', 'run_directories', 'S200128d', 'Prod6']\n",
      "information\n",
      "event name:  GW200128\n",
      "detectors:  ['H1', 'L1']\n"
     ]
    },
    {
     "name": "stderr",
     "output_type": "stream",
     "text": [
      "19:31 bilby INFO    : Downloading analysis data for ifo L1\n"
     ]
    },
    {
     "name": "stdout",
     "output_type": "stream",
     "text": [
      "Using pre-computed psd from results file\n"
     ]
    },
    {
     "name": "stderr",
     "output_type": "stream",
     "text": [
      "19:31 bilby INFO    : Waveform generator initiated with\n",
      "  frequency_domain_source_model: bilby.gw.source.lal_binary_black_hole\n",
      "  time_domain_source_model: None\n",
      "  parameter_conversion: bilby.gw.conversion.convert_to_lal_binary_black_hole_parameters\n"
     ]
    },
    {
     "name": "stdout",
     "output_type": "stream",
     "text": [
      "Using pre-computed psd from results file\n"
     ]
    },
    {
     "name": "stderr",
     "output_type": "stream",
     "text": [
      "19:31 bilby INFO    : Loaded distance marginalisation lookup table from ../TD.npz.\n"
     ]
    },
    {
     "name": "stdout",
     "output_type": "stream",
     "text": [
      "46.454554025662695 45.37634129348023\n",
      "48.914275648546365 49.486387465414104\n",
      "50.32807187848023 50.46559509614716\n",
      "51.815565992841464 51.912495899788276\n",
      "47.02574737825925 47.02466605680508\n",
      "49.066449703904446 49.641822438306264\n",
      "50.856912189222626 50.67858727954246\n",
      "46.58761895637697 47.46005212996484\n",
      "49.769207658185174 49.52569829103165\n",
      "51.46049302036471 51.65095950843296\n"
     ]
    }
   ],
   "source": [
    "event_number = 70\n",
    "event_name, file_path, trigger_time, duration, waveform, data_file = call_event_table()[event_number]\n",
    "samples, meta_dict, config_dict, priors, psds, calibration = create_post_dict(file_path, waveform)\n",
    "args = extract_relevant_info(meta_dict, config_dict)\n",
    "\n",
    "logger = bilby.core.utils.logger\n",
    "\n",
    "sampling_frequency = args['sampling_frequency']\n",
    "maximum_frequency = args['maximum_frequency']\n",
    "minimum_frequency = args['minimum_frequency']\n",
    "reference_frequency = args['reference_frequency']\n",
    "roll_off = args['tukey_roll_off']\n",
    "duration = args['duration']\n",
    "post_trigger_duration = args['post_trigger_duration']\n",
    "trigger_time = args['trigger_time']\n",
    "detectors = args['detectors']\n",
    "\n",
    "print('information')\n",
    "print('event name: ', event_name)\n",
    "print('detectors: ', detectors)\n",
    "\n",
    "detectors = args['detectors']\n",
    "if 'V1' in detectors:\n",
    "    detectors.remove('V1')\n",
    "\n",
    "end_time = trigger_time + post_trigger_duration\n",
    "start_time = end_time - duration\n",
    "\n",
    "psd_duration = 32*duration # deprecated\n",
    "psd_start_time = start_time - psd_duration # deprecated\n",
    "psd_end_time = start_time # deprecated\n",
    "\n",
    "waveform_name = args['waveform_approximant']\n",
    "\n",
    "ifo_list= call_data_GWOSC(logger, args, \n",
    "                        calibration, samples, detectors,\n",
    "                        start_time, end_time, \n",
    "                        psd_start_time, psd_end_time, \n",
    "                        duration, sampling_frequency, \n",
    "                        roll_off, minimum_frequency, maximum_frequency,\n",
    "                        psds_array=psds)\n",
    "\n",
    "priors2 = copy.copy(priors)\n",
    "\n",
    "# test if bilby oscillatory waveform = gwmemory oscillatory waveform.\n",
    "waveform_generator_osc = bilby.gw.waveform_generator.WaveformGenerator(\n",
    "    duration=duration,\n",
    "    sampling_frequency=sampling_frequency,\n",
    "    frequency_domain_source_model= bilby.gw.source.lal_binary_black_hole,\n",
    "    parameter_conversion = bilby.gw.conversion.convert_to_lal_binary_black_hole_parameters,\n",
    "    waveform_arguments=dict(duration=duration,\n",
    "                            minimum_frequency=minimum_frequency,\n",
    "                            maximum_frequency=maximum_frequency,\n",
    "                            sampling_frequency=sampling_frequency,\n",
    "                            reference_frequency=reference_frequency,\n",
    "                            waveform_approximant=waveform_name,\n",
    "                            )\n",
    "\n",
    ")\n",
    "\n",
    "target_likelihood = bilby.gw.likelihood.GravitationalWaveTransient(\n",
    "    ifo_list,\n",
    "    waveform_generator_osc,\n",
    "    time_marginalization = True,\n",
    "    distance_marginalization = True,\n",
    "    distance_marginalization_lookup_table = '../TD.npz',\n",
    "    jitter_time=True,\n",
    "    priors = priors2,\n",
    "    reference_frame = args['reference_frame'],\n",
    "    time_reference = args['time_reference'],\n",
    ")\n",
    "\n",
    "for i in range(10):\n",
    "    posterior = samples.iloc[i].to_dict()\n",
    "    target_likelihood.parameters.update(posterior)\n",
    "    reference_parameters = dict(luminosity_distance = priors2['luminosity_distance'],\n",
    "                                geocent_time = priors2['geocent_time'])\n",
    "    target_likelihood.parameters.update(reference_parameters)\n",
    "    likelihood = target_likelihood.log_likelihood_ratio()\n",
    "    print(samples['log_likelihood'].iloc[i],likelihood)"
   ]
  },
  {
   "cell_type": "code",
   "execution_count": 3,
   "metadata": {},
   "outputs": [
    {
     "name": "stderr",
     "output_type": "stream",
     "text": [
      "19:10 bilby INFO    : Downloading analysis data for ifo H1\n"
     ]
    },
    {
     "name": "stdout",
     "output_type": "stream",
     "text": [
      "Jitter time setting cannot be found. Use default setting.\n",
      "channel_dict {'H1': 'DCS-CALIB_STRAIN_CLEAN_SUB60HZ_C01', 'L1': 'DCS-CALIB_STRAIN_CLEAN_SUB60HZ_C01_P1800169_v4', 'V1': 'Hrec_hoft_16384Hz'}\n",
      "['', 'home', 'daniel.williams', 'events', 'O3', 'o3b', 'run_directories', 'S200129a', 'Prod5']\n",
      "information\n",
      "event name:  GW200129\n",
      "detectors:  ['H1', 'L1', 'V1']\n"
     ]
    },
    {
     "name": "stderr",
     "output_type": "stream",
     "text": [
      "19:10 bilby INFO    : Downloading analysis data for ifo L1\n"
     ]
    },
    {
     "name": "stdout",
     "output_type": "stream",
     "text": [
      "Using pre-computed psd from results file\n"
     ]
    },
    {
     "name": "stderr",
     "output_type": "stream",
     "text": [
      "19:10 bilby INFO    : Waveform generator initiated with\n",
      "  frequency_domain_source_model: bilby.gw.source.lal_binary_black_hole\n",
      "  time_domain_source_model: None\n",
      "  parameter_conversion: bilby.gw.conversion.convert_to_lal_binary_black_hole_parameters\n",
      "19:10 bilby INFO    : Loaded distance marginalisation lookup table from ../TD.npz.\n"
     ]
    },
    {
     "name": "stdout",
     "output_type": "stream",
     "text": [
      "Using pre-computed psd from results file\n",
      "stored log likelihood | calculated log likelihood\n",
      "343.3227330124775 323.01450865688844\n",
      "351.40100526024895 328.58757990628936\n",
      "348.6071723056927 324.2286082327364\n",
      "343.8096152410793 326.02915056913446\n",
      "349.5071979302905 327.68828956636486\n",
      "342.32545779665253 319.8435788528477\n",
      "341.96529596978445 322.68936942101175\n",
      "344.54033078610394 323.4948385240985\n",
      "345.6460803216168 321.8244111797693\n",
      "350.1555587581522 328.46734910922373\n"
     ]
    }
   ],
   "source": [
    "event_number = 71\n",
    "event_name, file_path, trigger_time, duration, waveform, data_file = call_event_table()[event_number]\n",
    "samples, meta_dict, config_dict, priors, psds, calibration = create_post_dict(file_path, waveform)\n",
    "args = extract_relevant_info(meta_dict, config_dict)\n",
    "\n",
    "logger = bilby.core.utils.logger\n",
    "\n",
    "sampling_frequency = args['sampling_frequency']\n",
    "maximum_frequency = args['maximum_frequency']\n",
    "minimum_frequency = args['minimum_frequency']\n",
    "reference_frequency = args['reference_frequency']\n",
    "roll_off = args['tukey_roll_off']\n",
    "duration = args['duration']\n",
    "post_trigger_duration = args['post_trigger_duration']\n",
    "trigger_time = args['trigger_time']\n",
    "detectors = args['detectors']\n",
    "\n",
    "print('information')\n",
    "print('event name: ', event_name)\n",
    "print('detectors: ', detectors)\n",
    "\n",
    "detectors = args['detectors']\n",
    "if 'V1' in detectors:\n",
    "    detectors.remove('V1')\n",
    "\n",
    "end_time = trigger_time + post_trigger_duration\n",
    "start_time = end_time - duration\n",
    "\n",
    "psd_duration = 32*duration # deprecated\n",
    "psd_start_time = start_time - psd_duration # deprecated\n",
    "psd_end_time = start_time # deprecated\n",
    "\n",
    "waveform_name = args['waveform_approximant']\n",
    "\n",
    "ifo_list= call_data_GWOSC(logger, args, \n",
    "                        calibration, samples, detectors,\n",
    "                        start_time, end_time, \n",
    "                        psd_start_time, psd_end_time, \n",
    "                        duration, sampling_frequency, \n",
    "                        roll_off, minimum_frequency, maximum_frequency,\n",
    "                        psds_array=psds)\n",
    "\n",
    "priors2 = copy.copy(priors)\n",
    "\n",
    "# test if bilby oscillatory waveform = gwmemory oscillatory waveform.\n",
    "waveform_generator_osc = bilby.gw.waveform_generator.WaveformGenerator(\n",
    "    duration=duration,\n",
    "    sampling_frequency=sampling_frequency,\n",
    "    frequency_domain_source_model= bilby.gw.source.lal_binary_black_hole,\n",
    "    parameter_conversion = bilby.gw.conversion.convert_to_lal_binary_black_hole_parameters,\n",
    "    waveform_arguments=dict(duration=duration,\n",
    "                            minimum_frequency=minimum_frequency,\n",
    "                            maximum_frequency=maximum_frequency,\n",
    "                            sampling_frequency=sampling_frequency,\n",
    "                            reference_frequency=reference_frequency,\n",
    "                            waveform_approximant=waveform_name,\n",
    "                            )\n",
    "\n",
    ")\n",
    "\n",
    "target_likelihood = bilby.gw.likelihood.GravitationalWaveTransient(\n",
    "    ifo_list,\n",
    "    waveform_generator_osc,\n",
    "    time_marginalization = True,\n",
    "    distance_marginalization = True,\n",
    "    distance_marginalization_lookup_table = '../TD.npz',\n",
    "    jitter_time=True,\n",
    "    priors = priors2,\n",
    "    reference_frame = args['reference_frame'],\n",
    "    time_reference = args['time_reference'],\n",
    ")\n",
    "\n",
    "\n",
    "print('stored log likelihood | calculated log likelihood')\n",
    "for i in range(10):\n",
    "    posterior = samples.iloc[i].to_dict()\n",
    "    target_likelihood.parameters.update(posterior)\n",
    "    reference_parameters = dict(luminosity_distance = priors2['luminosity_distance'],\n",
    "                                geocent_time = priors2['geocent_time'])\n",
    "    target_likelihood.parameters.update(reference_parameters)\n",
    "    likelihood = target_likelihood.log_likelihood_ratio()\n",
    "    print(samples['log_likelihood'].iloc[i],likelihood)"
   ]
  },
  {
   "cell_type": "code",
   "execution_count": null,
   "metadata": {},
   "outputs": [],
   "source": []
  },
  {
   "cell_type": "code",
   "execution_count": 3,
   "metadata": {},
   "outputs": [
    {
     "name": "stderr",
     "output_type": "stream",
     "text": [
      "18:42 bilby INFO    : Downloading analysis data for ifo H1\n"
     ]
    },
    {
     "name": "stdout",
     "output_type": "stream",
     "text": [
      "Jitter time setting cannot be found. Use default setting.\n",
      "channel_dict {'H1': 'DCS-CALIB_STRAIN_CLEAN_SUB60HZ_C01', 'L1': 'DCS-CALIB_STRAIN_CLEAN_SUB60HZ_C01', 'V1': 'Hrec_hoft_16384Hz'}\n",
      "['', 'home', 'daniel.williams', 'events', 'O3', 'o3a', 'run_directories', 'S190408a', 'ProdF6']\n",
      "information\n",
      "event name:  GW190408\n",
      "detectors:  ['H1', 'L1', 'V1']\n"
     ]
    },
    {
     "name": "stderr",
     "output_type": "stream",
     "text": [
      "18:42 bilby INFO    : Downloading analysis data for ifo L1\n"
     ]
    },
    {
     "name": "stdout",
     "output_type": "stream",
     "text": [
      "Using pre-computed psd from results file\n"
     ]
    },
    {
     "name": "stderr",
     "output_type": "stream",
     "text": [
      "18:42 bilby INFO    : Waveform generator initiated with\n",
      "  frequency_domain_source_model: bilby.gw.source.lal_binary_black_hole\n",
      "  time_domain_source_model: None\n",
      "  parameter_conversion: bilby.gw.conversion.convert_to_lal_binary_black_hole_parameters\n",
      "18:42 bilby INFO    : Loaded distance marginalisation lookup table from ../TD.npz.\n"
     ]
    },
    {
     "name": "stdout",
     "output_type": "stream",
     "text": [
      "Using pre-computed psd from results file\n",
      "Index(['chirp_mass', 'mass_ratio', 'a_1', 'a_2', 'tilt_1', 'tilt_2', 'phi_12',\n",
      "       'phi_jl', 'theta_jn', 'psi',\n",
      "       ...\n",
      "       'chi_p_2spin', 'spin_1z_infinity_only_prec_avg',\n",
      "       'spin_2z_infinity_only_prec_avg', 'chi_eff_infinity_only_prec_avg',\n",
      "       'chi_p_infinity_only_prec_avg', 'beta', 'psi_J',\n",
      "       'cos_tilt_1_infinity_only_prec_avg',\n",
      "       'cos_tilt_2_infinity_only_prec_avg', 'viewing_angle'],\n",
      "      dtype='object', length=172)\n",
      "96.13321557705225 95.68721276132023\n",
      "97.52210499837784 96.47080420157651\n",
      "95.39133885333096 95.21780949824928\n",
      "95.0022100999799 93.59982160088657\n",
      "95.29525480450286 94.11312100949\n",
      "97.6515416670528 95.01613838827325\n",
      "96.54191031546229 94.73761249040348\n",
      "92.22958787420554 91.67718926971847\n",
      "93.72577697255392 93.87061157515119\n",
      "94.55299567374753 93.18565119494613\n"
     ]
    }
   ],
   "source": [
    "event_number = 11\n",
    "event_name, file_path, trigger_time, duration, waveform, data_file = call_event_table()[event_number]\n",
    "samples, meta_dict, config_dict, priors, psds, calibration = create_post_dict(file_path, waveform)\n",
    "args = extract_relevant_info(meta_dict, config_dict)\n",
    "\n",
    "logger = bilby.core.utils.logger\n",
    "\n",
    "sampling_frequency = args['sampling_frequency']\n",
    "maximum_frequency = args['maximum_frequency']\n",
    "minimum_frequency = args['minimum_frequency']\n",
    "reference_frequency = args['reference_frequency']\n",
    "roll_off = args['tukey_roll_off']\n",
    "duration = args['duration']\n",
    "post_trigger_duration = args['post_trigger_duration']\n",
    "trigger_time = args['trigger_time']\n",
    "detectors = args['detectors']\n",
    "\n",
    "print('information')\n",
    "print('event name: ', event_name)\n",
    "print('detectors: ', detectors)\n",
    "\n",
    "detectors = args['detectors']\n",
    "if 'V1' in detectors:\n",
    "    detectors.remove('V1')\n",
    "\n",
    "end_time = trigger_time + post_trigger_duration\n",
    "start_time = end_time - duration\n",
    "\n",
    "psd_duration = 32*duration # deprecated\n",
    "psd_start_time = start_time - psd_duration # deprecated\n",
    "psd_end_time = start_time # deprecated\n",
    "\n",
    "waveform_name = args['waveform_approximant']\n",
    "\n",
    "ifo_list= call_data_GWOSC(logger, args, \n",
    "                        calibration, samples, detectors,\n",
    "                        start_time, end_time, \n",
    "                        psd_start_time, psd_end_time, \n",
    "                        duration, sampling_frequency, \n",
    "                        roll_off, minimum_frequency, maximum_frequency,\n",
    "                        psds_array=psds)\n",
    "\n",
    "priors2 = copy.copy(priors)\n",
    "\n",
    "# test if bilby oscillatory waveform = gwmemory oscillatory waveform.\n",
    "waveform_generator_osc = bilby.gw.waveform_generator.WaveformGenerator(\n",
    "    duration=duration,\n",
    "    sampling_frequency=sampling_frequency,\n",
    "    frequency_domain_source_model= bilby.gw.source.lal_binary_black_hole,\n",
    "    parameter_conversion = bilby.gw.conversion.convert_to_lal_binary_black_hole_parameters,\n",
    "    waveform_arguments=dict(duration=duration,\n",
    "                            minimum_frequency=minimum_frequency,\n",
    "                            maximum_frequency=maximum_frequency,\n",
    "                            sampling_frequency=sampling_frequency,\n",
    "                            reference_frequency=reference_frequency,\n",
    "                            waveform_approximant=waveform_name,\n",
    "                            )\n",
    "\n",
    ")\n",
    "\n",
    "target_likelihood = bilby.gw.likelihood.GravitationalWaveTransient(\n",
    "    ifo_list,\n",
    "    waveform_generator_osc,\n",
    "    time_marginalization = True,\n",
    "    distance_marginalization = True,\n",
    "    distance_marginalization_lookup_table = '../TD.npz',\n",
    "    jitter_time=True,\n",
    "    priors = priors2,\n",
    "    reference_frame = args['reference_frame'],\n",
    "    time_reference = args['time_reference'],\n",
    ")\n",
    "\n",
    "print(samples.keys())\n",
    "\n",
    "for i in range(10):\n",
    "    posterior = samples.iloc[i].to_dict()\n",
    "    target_likelihood.parameters.update(posterior)\n",
    "    reference_parameters = dict(luminosity_distance = priors2['luminosity_distance'],\n",
    "                                geocent_time = priors2['geocent_time'])\n",
    "    target_likelihood.parameters.update(reference_parameters)\n",
    "    likelihood = target_likelihood.log_likelihood_ratio()\n",
    "    print(samples['log_likelihood'].iloc[i],likelihood)"
   ]
  },
  {
   "cell_type": "code",
   "execution_count": 5,
   "metadata": {},
   "outputs": [
    {
     "name": "stdout",
     "output_type": "stream",
     "text": [
      "0        0.709722\n",
      "1        2.519534\n",
      "2        0.747665\n",
      "3        1.179041\n",
      "4        2.507522\n",
      "           ...   \n",
      "53966    1.250815\n",
      "53967    0.452119\n",
      "53968    2.499889\n",
      "53969    1.555109\n",
      "53970    3.189811\n",
      "Name: V1_optimal_snr, Length: 53971, dtype: float64\n"
     ]
    }
   ],
   "source": [
    "print(samples['V1_optimal_snr'])"
   ]
  },
  {
   "cell_type": "code",
   "execution_count": 5,
   "metadata": {},
   "outputs": [
    {
     "name": "stderr",
     "output_type": "stream",
     "text": [
      "16:00 bilby INFO    : Waveform generator initiated with\n",
      "  frequency_domain_source_model: bilby.gw.source.lal_binary_black_hole\n",
      "  time_domain_source_model: None\n",
      "  parameter_conversion: bilby.gw.conversion.convert_to_lal_binary_black_hole_parameters\n",
      "16:00 bilby INFO    : Loaded distance marginalisation lookup table from ../TD.npz.\n"
     ]
    },
    {
     "name": "stdout",
     "output_type": "stream",
     "text": [
      "59.806386915704934 59.80638686678582\n",
      "60.270465592097025 60.2704640807553\n",
      "60.32883868276258 60.32878740672286\n",
      "60.33572764760174 60.335648783105476\n",
      "61.37355782564555 61.373559460485346\n",
      "61.44738926480932 61.44740283873642\n",
      "61.88217383780284 61.8821756199675\n",
      "61.89252575987484 61.8924702866146\n",
      "61.89523999423545 61.894943525603566\n",
      "62.02201167587191 62.022010927612435\n"
     ]
    }
   ],
   "source": [
    "import pickle\n",
    "\n",
    "file_path = '/home/shunyin.cheung/other_PE_run/GW190728.json'\n",
    "data_file = '/home/shunyin.cheung/other_PE_run/data/GW190728_data_dump.pickle'\n",
    "\n",
    "\n",
    "result = bilby.core.result.read_in_result(file_path)\n",
    "samples = result.posterior\n",
    "args = process_bilby_result(result.meta_data['command_line_args'])\n",
    "priors = result.priors\n",
    "priors2 = copy.copy(priors)\n",
    "psds=None\n",
    "\n",
    "with open(data_file, 'rb') as f:\n",
    "    data_dump = pickle.load(f)\n",
    "try:\n",
    "    ifo_list = data_dump.interferometers\n",
    "\n",
    "except AttributeError:\n",
    "    ifo_list = data_dump['ifo_list']\n",
    "\n",
    "sampling_frequency = ifo_list.sampling_frequency\n",
    "maximum_frequency = args['maximum_frequency']\n",
    "minimum_frequency = args['minimum_frequency']\n",
    "reference_frequency = args['reference_frequency']\n",
    "roll_off = args['tukey_roll_off']\n",
    "duration = args['duration']\n",
    "\n",
    "waveform_name = args['waveform_approximant']\n",
    "    \n",
    "\n",
    "# test if bilby oscillatory waveform = gwmemory oscillatory waveform.\n",
    "waveform_generator_osc = bilby.gw.waveform_generator.WaveformGenerator(\n",
    "    duration=duration,\n",
    "    sampling_frequency=sampling_frequency,\n",
    "    frequency_domain_source_model= bilby.gw.source.lal_binary_black_hole,\n",
    "    parameter_conversion = bilby.gw.conversion.convert_to_lal_binary_black_hole_parameters,\n",
    "    waveform_arguments=dict(duration=duration,\n",
    "                            minimum_frequency=minimum_frequency,\n",
    "                            maximum_frequency=maximum_frequency,\n",
    "                            sampling_frequency=sampling_frequency,\n",
    "                            reference_frequency=reference_frequency,\n",
    "                            waveform_approximant=waveform_name,\n",
    "                            )\n",
    "\n",
    ")\n",
    "\n",
    "target_likelihood = bilby.gw.likelihood.GravitationalWaveTransient(\n",
    "    ifo_list,\n",
    "    waveform_generator_osc,\n",
    "    time_marginalization = True,\n",
    "    distance_marginalization = True,\n",
    "    distance_marginalization_lookup_table = '../TD.npz',\n",
    "    jitter_time=True,\n",
    "    priors = priors2,\n",
    "    reference_frame = args['reference_frame'],\n",
    "    time_reference = args['time_reference'],\n",
    ")\n",
    "\n",
    "for i in range(10):\n",
    "    posterior = samples.iloc[i].to_dict()\n",
    "    if np.iscomplexobj(posterior['mass_2']):\n",
    "        for keys in posterior:\n",
    "            posterior[keys] = float(np.real(posterior[keys]))\n",
    "    target_likelihood.parameters.update(posterior)\n",
    "    reference_parameters = dict(luminosity_distance = priors2['luminosity_distance'],\n",
    "                                geocent_time = priors2['geocent_time'])\n",
    "    target_likelihood.parameters.update(reference_parameters)\n",
    "    likelihood = target_likelihood.log_likelihood_ratio()\n",
    "    print(samples['log_likelihood'].iloc[i],likelihood)"
   ]
  },
  {
   "cell_type": "code",
   "execution_count": 6,
   "metadata": {},
   "outputs": [
    {
     "name": "stderr",
     "output_type": "stream",
     "text": [
      "16:21 bilby INFO    : Waveform generator initiated with\n",
      "  frequency_domain_source_model: bilby.gw.source.lal_binary_black_hole\n",
      "  time_domain_source_model: None\n",
      "  parameter_conversion: bilby.gw.conversion.convert_to_lal_binary_black_hole_parameters\n",
      "16:21 bilby INFO    : Loaded distance marginalisation lookup table does not match for distance_array.\n",
      "16:21 bilby INFO    : Building lookup table for distance marginalisation.\n",
      "100%|██████████| 400/400 [00:47<00:00,  8.35it/s]\n"
     ]
    },
    {
     "name": "stdout",
     "output_type": "stream",
     "text": [
      "43.85931352246553 43.85930885748777\n",
      "44.101655219565146 44.10168099912901\n",
      "44.637883813644294 44.6378875924874\n",
      "46.14454905100865 46.14454907146559\n",
      "46.3715550492052 46.37147642925093\n",
      "46.603375209029764 46.6033752087545\n",
      "46.66206593840616 46.66206593591889\n",
      "46.68458501494024 46.684587842259226\n",
      "46.74755420727888 46.747636635602284\n",
      "46.92007853859104 46.920075995563266\n"
     ]
    }
   ],
   "source": [
    "import pickle\n",
    "\n",
    "file_path = '/home/shunyin.cheung/other_PE_run/GW190924.json'\n",
    "data_file = '/home/shunyin.cheung/other_PE_run/data/GW190924_data_dump.pickle'\n",
    "\n",
    "\n",
    "result = bilby.core.result.read_in_result(file_path)\n",
    "samples = result.posterior\n",
    "args = process_bilby_result(result.meta_data['command_line_args'])\n",
    "priors = result.priors\n",
    "priors2 = copy.copy(priors)\n",
    "psds=None\n",
    "\n",
    "with open(data_file, 'rb') as f:\n",
    "    data_dump = pickle.load(f)\n",
    "try:\n",
    "    ifo_list = data_dump.interferometers\n",
    "\n",
    "except AttributeError:\n",
    "    ifo_list = data_dump['ifo_list']\n",
    "\n",
    "sampling_frequency = ifo_list.sampling_frequency\n",
    "maximum_frequency = args['maximum_frequency']\n",
    "minimum_frequency = args['minimum_frequency']\n",
    "reference_frequency = args['reference_frequency']\n",
    "roll_off = args['tukey_roll_off']\n",
    "duration = args['duration']\n",
    "\n",
    "waveform_name = args['waveform_approximant']\n",
    "    \n",
    "\n",
    "# test if bilby oscillatory waveform = gwmemory oscillatory waveform.\n",
    "waveform_generator_osc = bilby.gw.waveform_generator.WaveformGenerator(\n",
    "    duration=duration,\n",
    "    sampling_frequency=sampling_frequency,\n",
    "    frequency_domain_source_model= bilby.gw.source.lal_binary_black_hole,\n",
    "    parameter_conversion = bilby.gw.conversion.convert_to_lal_binary_black_hole_parameters,\n",
    "    waveform_arguments=dict(duration=duration,\n",
    "                            minimum_frequency=minimum_frequency,\n",
    "                            maximum_frequency=maximum_frequency,\n",
    "                            sampling_frequency=sampling_frequency,\n",
    "                            reference_frequency=reference_frequency,\n",
    "                            waveform_approximant=waveform_name,\n",
    "                            )\n",
    "\n",
    ")\n",
    "\n",
    "target_likelihood = bilby.gw.likelihood.GravitationalWaveTransient(\n",
    "    ifo_list,\n",
    "    waveform_generator_osc,\n",
    "    time_marginalization = True,\n",
    "    distance_marginalization = True,\n",
    "    distance_marginalization_lookup_table = '../TD.npz',\n",
    "    jitter_time=True,\n",
    "    priors = priors2,\n",
    "    reference_frame = args['reference_frame'],\n",
    "    time_reference = args['time_reference'],\n",
    ")\n",
    "\n",
    "\n",
    "for i in range(10):\n",
    "    posterior = samples.iloc[i].to_dict()\n",
    "    if np.iscomplexobj(posterior['mass_2']):\n",
    "        for keys in posterior:\n",
    "            posterior[keys] = float(np.real(posterior[keys]))\n",
    "    target_likelihood.parameters.update(posterior)\n",
    "    reference_parameters = dict(luminosity_distance = priors2['luminosity_distance'],\n",
    "                                geocent_time = priors2['geocent_time'])\n",
    "    target_likelihood.parameters.update(reference_parameters)\n",
    "    likelihood = target_likelihood.log_likelihood_ratio()\n",
    "    print(samples['log_likelihood'].iloc[i],likelihood)"
   ]
  }
 ],
 "metadata": {
  "kernelspec": {
   "display_name": "altenv",
   "language": "python",
   "name": "python3"
  },
  "language_info": {
   "codemirror_mode": {
    "name": "ipython",
    "version": 3
   },
   "file_extension": ".py",
   "mimetype": "text/x-python",
   "name": "python",
   "nbconvert_exporter": "python",
   "pygments_lexer": "ipython3",
   "version": "3.11.5"
  }
 },
 "nbformat": 4,
 "nbformat_minor": 2
}
