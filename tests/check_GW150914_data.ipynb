{
 "cells": [
  {
   "cell_type": "code",
   "execution_count": 2,
   "metadata": {},
   "outputs": [],
   "source": [
    "import pandas as pd\n",
    "import numpy as np\n",
    "import bilby\n",
    "import lal\n",
    "import gwpy\n",
    "from gwpy.timeseries import TimeSeries\n",
    "import matplotlib.pyplot as plt\n",
    "import copy\n",
    "\n",
    "import sys\n",
    "sys.path.append(\"..\")\n",
    "\n",
    "from waveforms import osc_freq_XPHM, mem_freq_XPHM, mem_freq_XPHM_only\n",
    "from create_post_dict import create_post_dict, extract_relevant_info"
   ]
  },
  {
   "cell_type": "code",
   "execution_count": 2,
   "metadata": {},
   "outputs": [],
   "source": [
    "logger = bilby.core.utils.logger\n",
    "\n",
    "def call_data_GWOSC(logger, args, calibration, samples, detectors, start_time, end_time, psd_start_time, psd_end_time, duration, sampling_frequency, roll_off, minimum_frequency, maximum_frequency, psds_array=None, plot=False):\n",
    "    \n",
    "    ifo_list = bilby.gw.detector.InterferometerList([])\n",
    "    \n",
    "    # define interferometer objects\n",
    "    for det in detectors:   \n",
    "        logger.info(\"Downloading analysis data for ifo {}\".format(det))\n",
    "        ifo = bilby.gw.detector.get_empty_interferometer(det)\n",
    "        \n",
    "        channel_type = args['channel_dict'][det]\n",
    "        channel = f\"{det}:{channel_type}\"\n",
    "        \n",
    "        kwargs = dict(\n",
    "            start=start_time,\n",
    "            end=end_time,\n",
    "            verbose=False,\n",
    "            allow_tape=True,\n",
    "        )\n",
    "\n",
    "        type_kwargs = dict(\n",
    "            dtype=\"float64\",\n",
    "            subok=True,\n",
    "            copy=False,\n",
    "        )\n",
    "        data = gwpy.timeseries.TimeSeries.get(channel, **kwargs).astype(\n",
    "                **type_kwargs)\n",
    "        \n",
    "        # Resampling timeseries to sampling_frequency using lal.\n",
    "        lal_timeseries = data.to_lal()\n",
    "        lal.ResampleREAL8TimeSeries(\n",
    "            lal_timeseries, float(1/sampling_frequency)\n",
    "        )\n",
    "        data = TimeSeries(\n",
    "            lal_timeseries.data.data,\n",
    "            epoch=lal_timeseries.epoch,\n",
    "            dt=lal_timeseries.deltaT\n",
    "        )\n",
    "    \n",
    "        # define some attributes in ifo\n",
    "        ifo.strain_data.roll_off = roll_off\n",
    "        ifo.maximum_frequency = maximum_frequency\n",
    "        ifo.minimum_frequency = minimum_frequency\n",
    "        \n",
    "        # set data as the strain data\n",
    "        ifo.strain_data.set_from_gwpy_timeseries(data)\n",
    "        \n",
    "        # compute the psd\n",
    "        if det in psds_array.keys():\n",
    "            print(\"Using pre-computed psd from results file\")\n",
    "            ifo.power_spectral_density = bilby.gw.detector.PowerSpectralDensity(\n",
    "            frequency_array=psds_array[det][: ,0], psd_array=psds_array[det][:, 1]\n",
    "            )\n",
    "        else:\n",
    "            print('Error: PSD is missing!')\n",
    "            exit()\n",
    "\n",
    "        ifo_list.append(ifo)\n",
    "\n",
    "    return ifo_list, data"
   ]
  },
  {
   "cell_type": "code",
   "execution_count": 5,
   "metadata": {},
   "outputs": [
    {
     "name": "stdout",
     "output_type": "stream",
     "text": [
      "{'a_1': Uniform(minimum=0, maximum=0.99, name='a_1', latex_label='$a_1$', unit=None, boundary=None), 'a_2': Uniform(minimum=0, maximum=0.99, name='a_2', latex_label='$a_2$', unit=None, boundary=None), 'azimuth': Uniform(minimum=0, maximum=6.283185307179586, name=None, latex_label='$\\\\\\\\epsilon$', unit=None, boundary='periodic'), 'chirp_mass': bilby.gw.prior.UniformInComponentsChirpMass(minimum=21.418182160215295, maximum=41.97447913941358, name='chirp_mass', latex_label='$\\\\\\\\mathcal{M}$', unit='$M_{\\\\\\\\odot}$', boundary=None), 'geocent_time': Uniform(minimum=1126259462.2910001, maximum=1126259462.491, name='geocent_time', latex_label='$t_c$', unit='$s$', boundary=None), 'luminosity_distance': PowerLaw(alpha=2, minimum=10, maximum=10000, name='luminosity_distance', latex_label='$d_L$', unit='Mpc', boundary=None), 'mass_1': Constraint(minimum=1, maximum=1000, name='mass_1', latex_label='$m_1$', unit=None), 'mass_2': Constraint(minimum=1, maximum=1000, name='mass_2', latex_label='$m_2$', unit=None), 'mass_ratio': bilby.gw.prior.UniformInComponentsMassRatio(minimum=0.05, maximum=1.0, name='mass_ratio', latex_label='$q$', unit=None, boundary=None, equal_mass=False), 'phase': Uniform(minimum=0, maximum=6.283185307179586, name='phase', latex_label='$\\\\\\\\phi$', unit=None, boundary='periodic'), 'phi_12': Uniform(minimum=0, maximum=6.283185307179586, name='phi_12', latex_label='$\\\\\\\\Delta\\\\\\\\phi$', unit=None, boundary='periodic'), 'phi_jl': Uniform(minimum=0, maximum=6.283185307179586, name='phi_jl', latex_label='$\\\\\\\\phi_{JL}$', unit=None, boundary='periodic'), 'psi': Uniform(minimum=0, maximum=3.141592653589793, name='psi', latex_label='$\\\\\\\\psi$', unit=None, boundary='periodic'), 'recalib_H1_amplitude_0': Gaussian(mu=0.0022497139999999582, sigma=0.032482292999999995, name='recalib_H1_amplitude_0', latex_label='$A^H1_0$', unit=None, boundary='reflective'), 'recalib_H1_amplitude_1': Gaussian(mu=-0.0022525476996070083, sigma=0.03909717651863342, name='recalib_H1_amplitude_1', latex_label='$A^H1_1$', unit=None, boundary='reflective'), 'recalib_H1_amplitude_2': Gaussian(mu=0.004632777733005889, sigma=0.04078174073734512, name='recalib_H1_amplitude_2', latex_label='$A^H1_2$', unit=None, boundary='reflective'), 'recalib_H1_amplitude_3': Gaussian(mu=0.003987700439142069, sigma=0.03287682593561539, name='recalib_H1_amplitude_3', latex_label='$A^H1_3$', unit=None, boundary='reflective'), 'recalib_H1_amplitude_4': Gaussian(mu=0.0018107999614999065, sigma=0.01936965624646965, name='recalib_H1_amplitude_4', latex_label='$A^H1_4$', unit=None, boundary='reflective'), 'recalib_H1_amplitude_5': Gaussian(mu=0.003528123018086278, sigma=0.012591404744135145, name='recalib_H1_amplitude_5', latex_label='$A^H1_5$', unit=None, boundary='reflective'), 'recalib_H1_amplitude_6': Gaussian(mu=-0.0018296964612414133, sigma=0.01075481852283716, name='recalib_H1_amplitude_6', latex_label='$A^H1_6$', unit=None, boundary='reflective'), 'recalib_H1_amplitude_7': Gaussian(mu=-0.005059244326670863, sigma=0.008407555954093059, name='recalib_H1_amplitude_7', latex_label='$A^H1_7$', unit=None, boundary='reflective'), 'recalib_H1_amplitude_8': Gaussian(mu=-0.0010763014001435082, sigma=0.01391150436119593, name='recalib_H1_amplitude_8', latex_label='$A^H1_8$', unit=None, boundary='reflective'), 'recalib_H1_amplitude_9': Gaussian(mu=-0.0017064540000000237, sigma=0.016027046000000045, name='recalib_H1_amplitude_9', latex_label='$A^H1_9$', unit=None, boundary='reflective'), 'recalib_H1_frequency_0': DeltaFunction(peak=19.999999999999996, name='recalib_H1_frequency_0', latex_label='$f^H1_0$', unit=None), 'recalib_H1_frequency_1': DeltaFunction(peak=30.514434824844255, name='recalib_H1_frequency_1', latex_label='$f^H1_1$', unit=None), 'recalib_H1_frequency_2': DeltaFunction(peak=46.55653663398341, name='recalib_H1_frequency_2', latex_label='$f^H1_2$', unit=None), 'recalib_H1_frequency_3': DeltaFunction(peak=71.03232013940804, name='recalib_H1_frequency_3', latex_label='$f^H1_3$', unit=None), 'recalib_H1_frequency_4': DeltaFunction(peak=108.37555516757195, name='recalib_H1_frequency_4', latex_label='$f^H1_4$', unit=None), 'recalib_H1_frequency_5': DeltaFunction(peak=165.35094073835938, name='recalib_H1_frequency_5', latex_label='$f^H1_5$', unit=None), 'recalib_H1_frequency_6': DeltaFunction(peak=252.27952521936786, name='recalib_H1_frequency_6', latex_label='$f^H1_6$', unit=None), 'recalib_H1_frequency_7': DeltaFunction(peak=384.9083564974527, name='recalib_H1_frequency_7', latex_label='$f^H1_7$', unit=None), 'recalib_H1_frequency_8': DeltaFunction(peak=587.2630478939719, name='recalib_H1_frequency_8', latex_label='$f^H1_8$', unit=None), 'recalib_H1_frequency_9': DeltaFunction(peak=895.9999999999999, name='recalib_H1_frequency_9', latex_label='$f^H1_9$', unit=None), 'recalib_H1_phase_0': Gaussian(mu=-0.009355752999999998, sigma=0.030123145, name='recalib_H1_phase_0', latex_label='$\\\\\\\\phi^H1_0$', unit=None, boundary='reflective'), 'recalib_H1_phase_1': Gaussian(mu=0.0050309026057799855, sigma=0.04177354702981138, name='recalib_H1_phase_1', latex_label='$\\\\\\\\phi^H1_1$', unit=None, boundary='reflective'), 'recalib_H1_phase_2': Gaussian(mu=0.0043774230879091115, sigma=0.045027737962814354, name='recalib_H1_phase_2', latex_label='$\\\\\\\\phi^H1_2$', unit=None, boundary='reflective'), 'recalib_H1_phase_3': Gaussian(mu=-0.0023545243645386326, sigma=0.036339899119904644, name='recalib_H1_phase_3', latex_label='$\\\\\\\\phi^H1_3$', unit=None, boundary='reflective'), 'recalib_H1_phase_4': Gaussian(mu=-0.00444209518471385, sigma=0.032837260835226936, name='recalib_H1_phase_4', latex_label='$\\\\\\\\phi^H1_4$', unit=None, boundary='reflective'), 'recalib_H1_phase_5': Gaussian(mu=-0.006872683631006688, sigma=0.02806419946997496, name='recalib_H1_phase_5', latex_label='$\\\\\\\\phi^H1_5$', unit=None, boundary='reflective'), 'recalib_H1_phase_6': Gaussian(mu=-0.01508554971905464, sigma=0.022470973360749408, name='recalib_H1_phase_6', latex_label='$\\\\\\\\phi^H1_6$', unit=None, boundary='reflective'), 'recalib_H1_phase_7': Gaussian(mu=-0.009105656795490394, sigma=0.0186470280190447, name='recalib_H1_phase_7', latex_label='$\\\\\\\\phi^H1_7$', unit=None, boundary='reflective'), 'recalib_H1_phase_8': Gaussian(mu=-0.01327344249855343, sigma=0.019250972190353967, name='recalib_H1_phase_8', latex_label='$\\\\\\\\phi^H1_8$', unit=None, boundary='reflective'), 'recalib_H1_phase_9': Gaussian(mu=-0.006712540999999999, sigma=0.020072625, name='recalib_H1_phase_9', latex_label='$\\\\\\\\phi^H1_9$', unit=None, boundary='reflective'), 'recalib_L1_amplitude_0': Gaussian(mu=0.005476730999999901, sigma=0.08406088199999993, name='recalib_L1_amplitude_0', latex_label='$A^L1_0$', unit=None, boundary='reflective'), 'recalib_L1_amplitude_1': Gaussian(mu=-0.012104387120680028, sigma=0.07651583147867605, name='recalib_L1_amplitude_1', latex_label='$A^L1_1$', unit=None, boundary='reflective'), 'recalib_L1_amplitude_2': Gaussian(mu=-0.013219120050478253, sigma=0.06508029899775643, name='recalib_L1_amplitude_2', latex_label='$A^L1_2$', unit=None, boundary='reflective'), 'recalib_L1_amplitude_3': Gaussian(mu=-0.006657329180423924, sigma=0.05665180922845485, name='recalib_L1_amplitude_3', latex_label='$A^L1_3$', unit=None, boundary='reflective'), 'recalib_L1_amplitude_4': Gaussian(mu=-0.0026286630232402308, sigma=0.05041154190241824, name='recalib_L1_amplitude_4', latex_label='$A^L1_4$', unit=None, boundary='reflective'), 'recalib_L1_amplitude_5': Gaussian(mu=-0.008989482013408759, sigma=0.0391433695986004, name='recalib_L1_amplitude_5', latex_label='$A^L1_5$', unit=None, boundary='reflective'), 'recalib_L1_amplitude_6': Gaussian(mu=-0.0112041341409286, sigma=0.02176964617289734, name='recalib_L1_amplitude_6', latex_label='$A^L1_6$', unit=None, boundary='reflective'), 'recalib_L1_amplitude_7': Gaussian(mu=-0.007323119754866439, sigma=0.01662038622968457, name='recalib_L1_amplitude_7', latex_label='$A^L1_7$', unit=None, boundary='reflective'), 'recalib_L1_amplitude_8': Gaussian(mu=-0.007118273569718694, sigma=0.017534092484121667, name='recalib_L1_amplitude_8', latex_label='$A^L1_8$', unit=None, boundary='reflective'), 'recalib_L1_amplitude_9': Gaussian(mu=-0.00654931000000003, sigma=0.018560549000000037, name='recalib_L1_amplitude_9', latex_label='$A^L1_9$', unit=None, boundary='reflective'), 'recalib_L1_frequency_0': DeltaFunction(peak=19.999999999999996, name='recalib_L1_frequency_0', latex_label='$f^L1_0$', unit=None), 'recalib_L1_frequency_1': DeltaFunction(peak=30.514434824844255, name='recalib_L1_frequency_1', latex_label='$f^L1_1$', unit=None), 'recalib_L1_frequency_2': DeltaFunction(peak=46.55653663398341, name='recalib_L1_frequency_2', latex_label='$f^L1_2$', unit=None), 'recalib_L1_frequency_3': DeltaFunction(peak=71.03232013940804, name='recalib_L1_frequency_3', latex_label='$f^L1_3$', unit=None), 'recalib_L1_frequency_4': DeltaFunction(peak=108.37555516757195, name='recalib_L1_frequency_4', latex_label='$f^L1_4$', unit=None), 'recalib_L1_frequency_5': DeltaFunction(peak=165.35094073835938, name='recalib_L1_frequency_5', latex_label='$f^L1_5$', unit=None), 'recalib_L1_frequency_6': DeltaFunction(peak=252.27952521936786, name='recalib_L1_frequency_6', latex_label='$f^L1_6$', unit=None), 'recalib_L1_frequency_7': DeltaFunction(peak=384.9083564974527, name='recalib_L1_frequency_7', latex_label='$f^L1_7$', unit=None), 'recalib_L1_frequency_8': DeltaFunction(peak=587.2630478939719, name='recalib_L1_frequency_8', latex_label='$f^L1_8$', unit=None), 'recalib_L1_frequency_9': DeltaFunction(peak=895.9999999999999, name='recalib_L1_frequency_9', latex_label='$f^L1_9$', unit=None), 'recalib_L1_phase_0': Gaussian(mu=-0.027121368999999992, sigma=0.065822439, name='recalib_L1_phase_0', latex_label='$\\\\\\\\phi^L1_0$', unit=None, boundary='reflective'), 'recalib_L1_phase_1': Gaussian(mu=-0.015666055283929895, sigma=0.06971337917415898, name='recalib_L1_phase_1', latex_label='$\\\\\\\\phi^L1_1$', unit=None, boundary='reflective'), 'recalib_L1_phase_2': Gaussian(mu=-0.0021521761445731018, sigma=0.06846083085274324, name='recalib_L1_phase_2', latex_label='$\\\\\\\\phi^L1_2$', unit=None, boundary='reflective'), 'recalib_L1_phase_3': Gaussian(mu=0.0022536976421022887, sigma=0.06194252192559962, name='recalib_L1_phase_3', latex_label='$\\\\\\\\phi^L1_3$', unit=None, boundary='reflective'), 'recalib_L1_phase_4': Gaussian(mu=-0.002461783883218465, sigma=0.048859883075223744, name='recalib_L1_phase_4', latex_label='$\\\\\\\\phi^L1_4$', unit=None, boundary='reflective'), 'recalib_L1_phase_5': Gaussian(mu=-0.0067988571593666286, sigma=0.03330895148538794, name='recalib_L1_phase_5', latex_label='$\\\\\\\\phi^L1_5$', unit=None, boundary='reflective'), 'recalib_L1_phase_6': Gaussian(mu=0.0015671495057928866, sigma=0.0194164413063868, name='recalib_L1_phase_6', latex_label='$\\\\\\\\phi^L1_6$', unit=None, boundary='reflective'), 'recalib_L1_phase_7': Gaussian(mu=0.0016729416638600334, sigma=0.013796249113051186, name='recalib_L1_phase_7', latex_label='$\\\\\\\\phi^L1_7$', unit=None, boundary='reflective'), 'recalib_L1_phase_8': Gaussian(mu=0.003950310144720625, sigma=0.014338015652101466, name='recalib_L1_phase_8', latex_label='$\\\\\\\\phi^L1_8$', unit=None, boundary='reflective'), 'recalib_L1_phase_9': Gaussian(mu=0.008061858000000002, sigma=0.015019266, name='recalib_L1_phase_9', latex_label='$\\\\\\\\phi^L1_9$', unit=None, boundary='reflective'), 'theta_jn': Sine(minimum=0, maximum=3.141592653589793, name='theta_jn', latex_label='$\\\\\\\\theta_{JN}$', unit=None, boundary=None), 'tilt_1': Sine(minimum=0, maximum=3.141592653589793, name='tilt_1', latex_label='$\\\\\\\\theta_1$', unit=None, boundary=None), 'tilt_2': Sine(minimum=0, maximum=3.141592653589793, name='tilt_2', latex_label='$\\\\\\\\theta_2$', unit=None, boundary=None), 'time_jitter': Uniform(minimum=-0.00048828125, maximum=0.00048828125, name=None, latex_label=None, unit=None, boundary='periodic'), 'zenith': Sine(minimum=0, maximum=3.141592653589793, name=None, latex_label='$\\\\\\\\kappa$', unit=None, boundary=None)}\n"
     ]
    }
   ],
   "source": [
    "events_name = 'GW150914' \n",
    "file_path = '/home/shunyin.cheung/GWOSC_PE_runs/posteriors/IGWN-GWTC2p1-v2-GW150914_095045_PEDataRelease_mixed_cosmo.h5'\n",
    "waveform = \"C01:IMRPhenomXPHM\"\n",
    "data_file = None\n",
    "\n",
    "samples, meta_dict, config_dict, priors, psds, calibration = create_post_dict(file_path, waveform)\n",
    "priors.to_json(outdir='test_results', label='GW150914_priors.json')\n",
    "print(priors)"
   ]
  },
  {
   "cell_type": "code",
   "execution_count": 3,
   "metadata": {},
   "outputs": [
    {
     "name": "stdout",
     "output_type": "stream",
     "text": [
      "Jitter time setting cannot be found. Use default setting.\n",
      "channel_dict {'H1': 'DCS-CALIB_STRAIN_C02', 'L1': 'DCS-CALIB_STRAIN_C02'}\n",
      "['', 'home', 'daniel.williams', 'events', 'O3', 'o3a', 'run_directories', 'GW150914', 'ProdF4']\n",
      "20.0\n"
     ]
    }
   ],
   "source": [
    "events_name = 'GW150914' \n",
    "file_path = '/home/shunyin.cheung/GWOSC_posteriors/IGWN-GWTC2p1-v2-GW150914_095045_PEDataRelease_mixed_cosmo.h5'\n",
    "waveform = \"C01:IMRPhenomXPHM\"\n",
    "data_file = None\n",
    "\n",
    "samples, meta_dict, config_dict, priors, psds, calibration = create_post_dict(file_path, waveform)\n",
    "args = extract_relevant_info(meta_dict, config_dict)\n",
    "\n",
    "\n",
    "priors2 = copy.copy(priors)\n",
    "\n",
    "logger = bilby.core.utils.logger\n",
    "\n",
    "sampling_frequency = args['sampling_frequency']\n",
    "maximum_frequency = args['maximum_frequency']\n",
    "minimum_frequency = args['minimum_frequency']\n",
    "reference_frequency = args['reference_frequency']\n",
    "roll_off = args['tukey_roll_off']\n",
    "duration = args['duration']\n",
    "post_trigger_duration = args['post_trigger_duration']\n",
    "trigger_time = args['trigger_time']\n",
    "detectors = args['detectors']\n",
    "\n",
    "detectors = args['detectors']\n",
    "if 'V1' in detectors:\n",
    "    detectors.remove('V1')\n",
    "\n",
    "end_time = trigger_time + post_trigger_duration\n",
    "start_time = end_time - duration\n",
    "\n",
    "psd_duration = 32*duration # deprecated\n",
    "psd_start_time = start_time - psd_duration # deprecated\n",
    "psd_end_time = start_time # deprecated\n",
    "\n",
    "\n",
    "waveform_name = args['waveform_approximant']\n",
    "\n",
    "print(minimum_frequency)\n"
   ]
  },
  {
   "cell_type": "code",
   "execution_count": 4,
   "metadata": {},
   "outputs": [
    {
     "name": "stderr",
     "output_type": "stream",
     "text": [
      "21:16 bilby INFO    : Downloading analysis data for ifo H1\n",
      "21:16 bilby INFO    : Downloading analysis data for ifo L1\n"
     ]
    },
    {
     "name": "stdout",
     "output_type": "stream",
     "text": [
      "Using pre-computed psd from results file\n",
      "Using pre-computed psd from results file\n"
     ]
    }
   ],
   "source": [
    "ifo_list, data = call_data_GWOSC(logger, args, \n",
    "                            calibration, samples, detectors,\n",
    "                            start_time, end_time, \n",
    "                            psd_start_time, psd_end_time, \n",
    "                            duration, sampling_frequency, \n",
    "                            roll_off, minimum_frequency, maximum_frequency,\n",
    "                            psds_array=psds)"
   ]
  },
  {
   "cell_type": "code",
   "execution_count": 5,
   "metadata": {},
   "outputs": [],
   "source": [
    "from gwpy.signal.filter_design import bandpass, concatenate_zpks, notch\n",
    "\n",
    "td_H1 = ifo_list[1].time_domain_strain\n",
    "times2 = ifo_list[1].time_array\n",
    "\n",
    "timeseries = TimeSeries(\n",
    "            data=td_H1, times=times2)\n",
    "\n",
    "\n",
    "bandpass_frequencies=(50, 250)\n",
    "\n",
    "zpks = []\n",
    "\n",
    "zpks.append(bandpass(\n",
    "                bandpass_frequencies[0], bandpass_frequencies[1],\n",
    "                sampling_frequency))\n",
    "zpk = concatenate_zpks(*zpks)\n",
    "strain_H1 = timeseries.filter(zpk, filtfilt=False)\n",
    "\n",
    "td_L1 = ifo_list[0].time_domain_strain\n",
    "times2 = ifo_list[0].time_array\n",
    "\n",
    "timeseries = TimeSeries(\n",
    "            data=td_L1, times=times2)\n",
    "\n",
    "\n",
    "bandpass_frequencies=(50, 250)\n",
    "\n",
    "zpks = []\n",
    "\n",
    "zpks.append(bandpass(\n",
    "                bandpass_frequencies[0], bandpass_frequencies[1],\n",
    "                sampling_frequency))\n",
    "zpk = concatenate_zpks(*zpks)\n",
    "strain_L1 = timeseries.filter(zpk, filtfilt=False)"
   ]
  },
  {
   "cell_type": "code",
   "execution_count": 10,
   "metadata": {},
   "outputs": [
    {
     "data": {
      "image/png": "[encoded data removed]",
      "text/plain": [
       "<Figure size 640x480 with 1 Axes>"
      ]
     },
     "metadata": {},
     "output_type": "display_data"
    }
   ],
   "source": [
    "plt.plot(strain_H1.times, np.roll(strain_H1.value, -4096), label='H1')\n",
    "plt.plot(strain_L1.times, np.roll(strain_L1.value, -4096), label='L1', alpha=0.6)\n",
    "plt.xlim(trigger_time-0.5, trigger_time+0.5)\n",
    "plt.show()"
   ]
  },
  {
   "cell_type": "code",
   "execution_count": 8,
   "metadata": {},
   "outputs": [],
   "source": [
    "ifo_list[0].plot_time_domain_data(outdir='tests', label='td_data_GW150914')\n",
    "ifo_list[1].plot_time_domain_data(outdir='tests', label='td_data_GW150914')"
   ]
  },
  {
   "cell_type": "code",
   "execution_count": 6,
   "metadata": {},
   "outputs": [
    {
     "name": "stderr",
     "output_type": "stream",
     "text": [
      "21:17 bilby INFO    : Waveform generator initiated with\n",
      "  frequency_domain_source_model: bilby.gw.source.lal_binary_black_hole\n",
      "  time_domain_source_model: None\n",
      "  parameter_conversion: bilby.gw.conversion.convert_to_lal_binary_black_hole_parameters\n",
      "21:17 bilby INFO    : Loaded distance marginalisation lookup table does not match for distance_array.\n",
      "/home/shunyin.cheung/.conda/envs/altenv/lib/python3.11/site-packages/tqdm/auto.py:21: TqdmWarning: IProgress not found. Please update jupyter and ipywidgets. See https://ipywidgets.readthedocs.io/en/stable/user_install.html\n",
      "  from .autonotebook import tqdm as notebook_tqdm\n",
      "21:17 bilby INFO    : Building lookup table for distance marginalisation.\n"
     ]
    },
    {
     "name": "stdout",
     "output_type": "stream",
     "text": [
      "amplitude =  1\n"
     ]
    },
    {
     "name": "stderr",
     "output_type": "stream",
     "text": [
      "100%|██████████| 400/400 [00:50<00:00,  7.94it/s]\n"
     ]
    }
   ],
   "source": [
    "amplitude = 1\n",
    "print('amplitude = ',amplitude)\n",
    "\n",
    "priors2 = copy.copy(priors)\n",
    "\n",
    "# test if bilby oscillatory waveform = gwmemory oscillatory waveform.\n",
    "waveform_generator_osc = bilby.gw.waveform_generator.WaveformGenerator(\n",
    "    duration=duration,\n",
    "    sampling_frequency=sampling_frequency,\n",
    "    frequency_domain_source_model= bilby.gw.source.lal_binary_black_hole,\n",
    "    parameter_conversion = bilby.gw.conversion.convert_to_lal_binary_black_hole_parameters,\n",
    "    waveform_arguments=dict(duration=duration,\n",
    "                            minimum_frequency=minimum_frequency,\n",
    "                            maximum_frequency=maximum_frequency,\n",
    "                            sampling_frequency=sampling_frequency,\n",
    "                            reference_frequency=reference_frequency,\n",
    "                            waveform_approximant=waveform_name,\n",
    "                            )\n",
    "\n",
    ")\n",
    "\n",
    "\n",
    "target_likelihood = bilby.gw.likelihood.GravitationalWaveTransient(\n",
    "    ifo_list,\n",
    "    waveform_generator_osc,\n",
    "    time_marginalization = True,\n",
    "    distance_marginalization = True,\n",
    "    distance_marginalization_lookup_table = 'TD.npz',\n",
    "    jitter_time=True,\n",
    "    priors = priors2,\n",
    "    reference_frame = args['reference_frame'],\n",
    "    time_reference = args['time_reference'],\n",
    ")"
   ]
  },
  {
   "cell_type": "code",
   "execution_count": 7,
   "metadata": {},
   "outputs": [],
   "source": [
    "max_like = np.argmax(samples['log_likelihood'])\n",
    "posterior = samples.iloc[max_like].to_dict()"
   ]
  },
  {
   "cell_type": "code",
   "execution_count": 8,
   "metadata": {},
   "outputs": [
    {
     "name": "stdout",
     "output_type": "stream",
     "text": [
      "327.88806594283005\n",
      "328.4324942070929\n"
     ]
    }
   ],
   "source": [
    "reference_parameters = dict(luminosity_distance = priors2['luminosity_distance'], \n",
    "                            geocent_time = priors2['geocent_time'])\n",
    "target_likelihood.parameters.update(posterior)\n",
    "target_likelihood.parameters.update(reference_parameters)\n",
    "print(target_likelihood.log_likelihood_ratio())\n",
    "print(posterior['log_likelihood'])"
   ]
  }
 ],
 "metadata": {
  "kernelspec": {
   "display_name": "altenv",
   "language": "python",
   "name": "python3"
  },
  "language_info": {
   "codemirror_mode": {
    "name": "ipython",
    "version": 3
   },
   "file_extension": ".py",
   "mimetype": "text/x-python",
   "name": "python",
   "nbconvert_exporter": "python",
   "pygments_lexer": "ipython3",
   "version": "3.11.5"
  }
 },
 "nbformat": 4,
 "nbformat_minor": 2
}
