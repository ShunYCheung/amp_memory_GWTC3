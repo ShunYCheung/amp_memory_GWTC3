{
 "cells": [
  {
   "cell_type": "code",
   "execution_count": 1,
   "metadata": {},
   "outputs": [],
   "source": [
    "import pandas as pd\n",
    "import numpy as np\n",
    "import bilby\n",
    "import lal\n",
    "import gwpy\n",
    "from gwpy.timeseries import TimeSeries\n",
    "import matplotlib.pyplot as plt\n",
    "import copy\n",
    "\n",
    "from waveforms import osc_freq_XPHM, mem_freq_XPHM, mem_freq_XPHM_only\n",
    "from create_post_dict import create_post_dict, extract_relevant_info"
   ]
  },
  {
   "cell_type": "code",
   "execution_count": 2,
   "metadata": {},
   "outputs": [],
   "source": [
    "def call_data_GWOSC(logger, args, calibration, samples, detectors, start_time, end_time, psd_start_time, psd_end_time, duration, sampling_frequency, roll_off, minimum_frequency, maximum_frequency, psds_array=None, plot=False):\n",
    "    \n",
    "    ifo_list = bilby.gw.detector.InterferometerList([])\n",
    "    \n",
    "    # define interferometer objects\n",
    "    for det in detectors:   \n",
    "        logger.info(\"Downloading analysis data for ifo {}\".format(det))\n",
    "        ifo = bilby.gw.detector.get_empty_interferometer(det)\n",
    "        \n",
    "        channel_type = args['channel_dict'][det]\n",
    "        channel = f\"{det}:{channel_type}\"\n",
    "        \n",
    "        kwargs = dict(\n",
    "            start=start_time,\n",
    "            end=end_time,\n",
    "            verbose=False,\n",
    "            allow_tape=True,\n",
    "        )\n",
    "\n",
    "        type_kwargs = dict(\n",
    "            dtype=\"float64\",\n",
    "            subok=True,\n",
    "            copy=False,\n",
    "        )\n",
    "        data = gwpy.timeseries.TimeSeries.get(channel, **kwargs).astype(\n",
    "                **type_kwargs)\n",
    "        \n",
    "        # Resampling timeseries to sampling_frequency using lal.\n",
    "        lal_timeseries = data.to_lal()\n",
    "        lal.ResampleREAL8TimeSeries(\n",
    "            lal_timeseries, float(1/sampling_frequency)\n",
    "        )\n",
    "        data = TimeSeries(\n",
    "            lal_timeseries.data.data,\n",
    "            epoch=lal_timeseries.epoch,\n",
    "            dt=lal_timeseries.deltaT\n",
    "        )\n",
    "    \n",
    "        # define some attributes in ifo\n",
    "        ifo.strain_data.roll_off = roll_off\n",
    "        ifo.maximum_frequency = maximum_frequency\n",
    "        ifo.minimum_frequency = minimum_frequency\n",
    "        \n",
    "        # set data as the strain data\n",
    "        ifo.strain_data.set_from_gwpy_timeseries(data)\n",
    "        \n",
    "        # compute the psd\n",
    "        if det in psds_array.keys():\n",
    "            print(\"Using pre-computed psd from results file\")\n",
    "            ifo.power_spectral_density = bilby.gw.detector.PowerSpectralDensity(\n",
    "            frequency_array=psds_array[det][: ,0], psd_array=psds_array[det][:, 1]\n",
    "            )\n",
    "        else:\n",
    "            print('Error: PSD is missing!')\n",
    "            exit()\n",
    "\n",
    "        ifo_list.append(ifo)\n",
    "\n",
    "    return ifo_list"
   ]
  },
  {
   "cell_type": "code",
   "execution_count": 44,
   "metadata": {},
   "outputs": [
    {
     "name": "stdout",
     "output_type": "stream",
     "text": [
      "amplitude =  50\n",
      "Jitter time setting cannot be found. Use default setting.\n",
      "channel_dict {'H1': 'DCS-CALIB_STRAIN_CLEAN_SUB60HZ_C01', 'V1': 'Hrec_hoft_16384Hz'}\n"
     ]
    }
   ],
   "source": [
    "events_name = 'GW200302' \n",
    "file_path = '/home/shunyin.cheung/GWOSC_posteriors/IGWN-GWTC3p0-v1-GW200302_015811_PEDataRelease_mixed_cosmo.h5'\n",
    "waveform = \"C01:IMRPhenomXPHM\"\n",
    "data_file = None\n",
    "\n",
    "amplitude = 50\n",
    "print('amplitude = ',amplitude)\n",
    "\n",
    "samples, meta_dict, config_dict, priors, psds, calibration = create_post_dict(file_path, waveform)\n",
    "args = extract_relevant_info(meta_dict, config_dict)\n",
    "\n",
    "priors2 = copy.copy(priors)\n",
    "\n",
    "logger = bilby.core.utils.logger\n",
    "\n",
    "sampling_frequency = args['sampling_frequency']\n",
    "maximum_frequency = args['maximum_frequency']\n",
    "minimum_frequency = args['minimum_frequency']\n",
    "reference_frequency = args['reference_frequency']\n",
    "roll_off = args['tukey_roll_off']\n",
    "duration = args['duration']\n",
    "post_trigger_duration = args['post_trigger_duration']\n",
    "trigger_time = args['trigger_time']\n",
    "detectors = args['detectors']\n",
    "\n",
    "detectors = args['detectors']\n",
    "if 'V1' in detectors:\n",
    "    detectors.remove('V1')\n",
    "\n",
    "end_time = trigger_time + post_trigger_duration\n",
    "start_time = end_time - duration\n",
    "\n",
    "psd_duration = 32*duration # deprecated\n",
    "psd_start_time = start_time - psd_duration # deprecated\n",
    "psd_end_time = start_time # deprecated\n"
   ]
  },
  {
   "cell_type": "code",
   "execution_count": 31,
   "metadata": {},
   "outputs": [
    {
     "name": "stderr",
     "output_type": "stream",
     "text": [
      "20:43 bilby INFO    : Downloading analysis data for ifo H1\n"
     ]
    },
    {
     "name": "stdout",
     "output_type": "stream",
     "text": [
      "Using pre-computed psd from results file\n"
     ]
    }
   ],
   "source": [
    "ifo_list = call_data_GWOSC(logger, args, \n",
    "                            calibration, samples, detectors,\n",
    "                            start_time, end_time, \n",
    "                            psd_start_time, psd_end_time, \n",
    "                            duration, sampling_frequency, \n",
    "                            roll_off, minimum_frequency, maximum_frequency,\n",
    "                            psds_array=psds)"
   ]
  },
  {
   "cell_type": "code",
   "execution_count": 45,
   "metadata": {},
   "outputs": [
    {
     "name": "stderr",
     "output_type": "stream",
     "text": [
      "20:46 bilby INFO    : Waveform generator initiated with\n",
      "  frequency_domain_source_model: bilby.gw.source.lal_binary_black_hole\n",
      "  time_domain_source_model: None\n",
      "  parameter_conversion: bilby.gw.conversion.convert_to_lal_binary_black_hole_parameters\n",
      "20:46 bilby INFO    : Waveform generator initiated with\n",
      "  frequency_domain_source_model: waveforms.mem_freq_XPHM_v2\n",
      "  time_domain_source_model: None\n",
      "  parameter_conversion: bilby.gw.conversion.convert_to_lal_binary_black_hole_parameters\n",
      "20:46 bilby INFO    : Waveform generator initiated with\n",
      "  frequency_domain_source_model: waveforms.mem_freq_XPHM_only\n",
      "  time_domain_source_model: None\n",
      "  parameter_conversion: bilby.gw.conversion.convert_to_lal_binary_black_hole_parameters\n"
     ]
    },
    {
     "name": "stdout",
     "output_type": "stream",
     "text": [
      "amplitude =  1\n"
     ]
    },
    {
     "name": "stderr",
     "output_type": "stream",
     "text": [
      "20:46 bilby INFO    : Loaded distance marginalisation lookup table from 'TD.npz'.npz.\n"
     ]
    },
    {
     "name": "stdout",
     "output_type": "stream",
     "text": [
      "H1V1\n",
      "geocent\n"
     ]
    }
   ],
   "source": [
    "waveform_name = args['waveform_approximant']\n",
    "\n",
    "amplitude = 1\n",
    "print('amplitude = ',amplitude)\n",
    "\n",
    "# test if bilby oscillatory waveform = gwmemory oscillatory waveform.\n",
    "waveform_generator_osc = bilby.gw.waveform_generator.WaveformGenerator(\n",
    "    duration=duration,\n",
    "    sampling_frequency=sampling_frequency,\n",
    "    frequency_domain_source_model= bilby.gw.source.lal_binary_black_hole,\n",
    "    parameter_conversion = bilby.gw.conversion.convert_to_lal_binary_black_hole_parameters,\n",
    "    waveform_arguments=dict(duration=duration,\n",
    "                            minimum_frequency=minimum_frequency,\n",
    "                            maximum_frequency=maximum_frequency,\n",
    "                            sampling_frequency=sampling_frequency,\n",
    "                            reference_frequency=reference_frequency,\n",
    "                            waveform_approximant=waveform_name,\n",
    "                            )\n",
    "\n",
    ")\n",
    "\n",
    "# define oscillatory + memory model using gwmemory.\n",
    "waveform_generator_full = bilby.gw.waveform_generator.WaveformGenerator(\n",
    "    duration=duration,\n",
    "    sampling_frequency=sampling_frequency,\n",
    "    frequency_domain_source_model= mem_freq_XPHM,\n",
    "    parameter_conversion = bilby.gw.conversion.convert_to_lal_binary_black_hole_parameters,\n",
    "    waveform_arguments=dict(duration=duration,\n",
    "                            roll_off=roll_off,\n",
    "                            minimum_frequency=minimum_frequency,\n",
    "                            maximum_frequency=maximum_frequency,\n",
    "                            sampling_frequency=sampling_frequency,\n",
    "                            reference_frequency=reference_frequency,\n",
    "                            bilby_generator = waveform_generator_osc,\n",
    "                            amplitude=amplitude)\n",
    "\n",
    ")\n",
    "\n",
    "waveform_generator_mem = bilby.gw.waveform_generator.WaveformGenerator(\n",
    "    duration=duration,\n",
    "    sampling_frequency=sampling_frequency,\n",
    "    frequency_domain_source_model= mem_freq_XPHM_only,\n",
    "    parameter_conversion = bilby.gw.conversion.convert_to_lal_binary_black_hole_parameters,\n",
    "    waveform_arguments=dict(duration=duration,\n",
    "                            roll_off=roll_off,\n",
    "                            minimum_frequency=minimum_frequency,\n",
    "                            maximum_frequency=maximum_frequency,\n",
    "                            sampling_frequency=sampling_frequency,\n",
    "                            reference_frequency=reference_frequency,\n",
    "                            bilby_generator = waveform_generator_osc,\n",
    "                            amplitude=amplitude)\n",
    "\n",
    ")\n",
    "\n",
    "target_likelihood = bilby.gw.likelihood.GravitationalWaveTransient(\n",
    "    ifo_list,\n",
    "    waveform_generator_full,\n",
    "    time_marginalization = True,\n",
    "    distance_marginalization = True,\n",
    "    distance_marginalization_lookup_table = \"'TD.npz'.npz\",\n",
    "    jitter_time=True,\n",
    "    priors = priors,\n",
    "    reference_frame = args['reference_frame'],\n",
    "    time_reference = args['time_reference'],\n",
    ")\n",
    "print(args['reference_frame'])\n",
    "print(args['time_reference'])"
   ]
  },
  {
   "cell_type": "code",
   "execution_count": 46,
   "metadata": {},
   "outputs": [
    {
     "name": "stdout",
     "output_type": "stream",
     "text": [
      "chirp_mass 29.582700386999147\n",
      "mass_ratio 0.5246535569264629\n",
      "a_1 0.394566253588848\n",
      "a_2 0.4711618927308135\n",
      "tilt_1 1.628933016163738\n",
      "tilt_2 1.5308133116917346\n",
      "phi_12 3.1389618907235963\n",
      "phi_jl 3.1112753080669453\n",
      "theta_jn 1.4214795532311664\n",
      "psi 1.5514010930343984\n",
      "phase 2.5082453117667485\n",
      "azimuth 3.7904186471567\n",
      "zenith 1.5868824010383662\n",
      "recalib_H1_amplitude_0 -0.012419718487650219\n",
      "recalib_H1_amplitude_1 -0.010161657884543793\n",
      "recalib_H1_amplitude_2 0.008977303790953264\n",
      "recalib_H1_amplitude_3 0.022259185978268713\n",
      "recalib_H1_amplitude_4 0.0032302987709198223\n",
      "recalib_H1_amplitude_5 -0.005637701132820977\n",
      "recalib_H1_amplitude_6 -0.0026985901843639567\n",
      "recalib_H1_amplitude_7 0.002622690762101328\n",
      "recalib_H1_amplitude_8 0.006076930200948951\n",
      "recalib_H1_amplitude_9 0.008495829676674262\n",
      "recalib_H1_phase_0 -0.014477810072888477\n",
      "recalib_H1_phase_1 0.011781548317636545\n",
      "recalib_H1_phase_2 0.017467169540166458\n",
      "recalib_H1_phase_3 -0.001305634850361018\n",
      "recalib_H1_phase_4 -0.016358962002507135\n",
      "recalib_H1_phase_5 -0.007602422233664789\n",
      "recalib_H1_phase_6 0.00021412759673241597\n",
      "recalib_H1_phase_7 0.004220018250534338\n",
      "recalib_H1_phase_8 0.0018798524312175612\n",
      "recalib_H1_phase_9 -0.005046242177498185\n",
      "recalib_V1_amplitude_0 -0.0003118511291501522\n",
      "recalib_V1_amplitude_1 7.314505477602897e-05\n",
      "recalib_V1_amplitude_2 -0.0016956895343111413\n",
      "recalib_V1_amplitude_3 -0.0031079039666082834\n",
      "recalib_V1_amplitude_4 -0.0004051034394580231\n",
      "recalib_V1_amplitude_5 0.00014014352898795903\n",
      "recalib_V1_amplitude_6 -0.0004843222307461977\n",
      "recalib_V1_amplitude_7 0.0008369534961539408\n",
      "recalib_V1_amplitude_8 -0.0006123423961663947\n",
      "recalib_V1_amplitude_9 -0.0008304385372761634\n",
      "recalib_V1_phase_0 0.000431343686735371\n",
      "recalib_V1_phase_1 -0.0005172088385485313\n",
      "recalib_V1_phase_2 -0.00029221601933454507\n",
      "recalib_V1_phase_3 0.000274097179592887\n",
      "recalib_V1_phase_4 -0.0002347292956221296\n",
      "recalib_V1_phase_5 0.00034333792925225304\n",
      "recalib_V1_phase_6 0.00043929821443317317\n",
      "recalib_V1_phase_7 -0.00012448880309013952\n",
      "recalib_V1_phase_8 0.0007403040413596078\n",
      "recalib_V1_phase_9 -0.00106729310308427\n",
      "time_jitter 1.4144247905427498e-06\n",
      "luminosity_distance 1473.831650726055\n",
      "geocent_time 1267149509.5144174\n",
      "recalib_H1_frequency_0 19.999999999999996\n",
      "recalib_H1_frequency_1 30.514434824844262\n",
      "recalib_H1_frequency_2 46.55653663398342\n",
      "recalib_H1_frequency_3 71.03232013940804\n",
      "recalib_H1_frequency_4 108.37555516757196\n",
      "recalib_H1_frequency_5 165.3509407383594\n",
      "recalib_H1_frequency_6 252.2795252193678\n",
      "recalib_H1_frequency_7 384.90835649745264\n",
      "recalib_H1_frequency_8 587.2630478939719\n",
      "recalib_H1_frequency_9 895.9999999999998\n",
      "recalib_V1_frequency_0 19.999999999999996\n",
      "recalib_V1_frequency_1 30.514434824844262\n",
      "recalib_V1_frequency_2 46.55653663398342\n",
      "recalib_V1_frequency_3 71.03232013940804\n",
      "recalib_V1_frequency_4 108.37555516757196\n",
      "recalib_V1_frequency_5 165.3509407383594\n",
      "recalib_V1_frequency_6 252.2795252193678\n",
      "recalib_V1_frequency_7 384.90835649745264\n",
      "recalib_V1_frequency_8 587.2630478939719\n",
      "recalib_V1_frequency_9 895.9999999999998\n",
      "log_likelihood 46.61551090026833\n",
      "log_prior 82.24806403999673\n",
      "total_mass 73.65559745555205\n",
      "mass_1 48.77957692742038\n",
      "mass_2 24.87602052813167\n",
      "ra 2.6373870124513155\n",
      "dec 0.06329451446947806\n",
      "symmetric_mass_ratio 0.21882456696732247\n",
      "iota 1.423937301479532\n",
      "spin_1x -0.0008704724556728669\n",
      "spin_1y -0.00020245332790350576\n",
      "spin_1z -0.027868887103864953\n",
      "spin_2x 0.002925093290868061\n",
      "spin_2y -0.0008713935115591106\n",
      "spin_2z 0.018277635733153413\n",
      "phi_1 3.148661299564674\n",
      "phi_2 3.1448367712822938\n",
      "chi_eff -0.011393305124307602\n",
      "chi_1_in_plane 0.339924431201118\n",
      "chi_2_in_plane 0.3789671427562822\n",
      "chi_p 0.38736743421010267\n",
      "cos_tilt_1 -0.05068802537302989\n",
      "cos_tilt_2 0.034800246574506734\n",
      "comoving_distance 1134.610335641159\n",
      "H1_matched_filter_snr 10.812273759428793\n",
      "H1_optimal_snr 10.330574044132376\n",
      "V1_matched_filter_snr 0.9185596325297584\n",
      "V1_optimal_snr 1.7685157623382421\n",
      "H1_matched_filter_abs_snr 10.835015632969668\n",
      "H1_matched_filter_snr_angle 0.0023849637601923877\n",
      "V1_matched_filter_abs_snr 1.2611018975821948\n",
      "V1_matched_filter_snr_angle 0.024733757905899767\n",
      "redshift 0.27681652600100404\n",
      "inverted_mass_ratio 2.091865319301459\n",
      "mass_1_source 38.36053009822971\n",
      "mass_2_source 19.44726241877116\n",
      "total_mass_source 57.80779251700087\n",
      "chirp_mass_source 23.192882688806968\n",
      "final_spin 0.6348711588758347\n",
      "peak_luminosity 2.7670309160662243\n",
      "final_mass 70.81143635823243\n",
      "final_mass_source 55.58738975800094\n",
      "radiated_energy 2.220402758999935\n",
      "H1_time 1267149509.5133097\n",
      "V1_time 1267149509.5131009\n",
      "network_optimal_snr 10.516468269371169\n",
      "network_matched_filter_snr 10.820374501049988\n",
      "cos_theta_jn 0.12731730391013354\n",
      "cos_iota 0.12558582655546563\n",
      "tilt_1_infinity_only_prec_avg 1.6265505226061907\n",
      "tilt_2_infinity_only_prec_avg 1.5325284502675993\n",
      "chi_p_2spin 0.3903962800642721\n",
      "spin_1z_infinity_only_prec_avg -0.02718664715105783\n",
      "spin_2z_infinity_only_prec_avg 0.017729259258885813\n",
      "chi_eff_infinity_only_prec_avg -0.011393305124307602\n",
      "chi_p_infinity_only_prec_avg 0.38660354849388384\n",
      "beta 0.19289047230353504\n",
      "psi_J 3.1314289186440516\n",
      "cos_tilt_1_infinity_only_prec_avg -0.048800044527526044\n",
      "cos_tilt_2_infinity_only_prec_avg 0.032798549255364226\n",
      "viewing_angle 0.8516714294013996\n"
     ]
    }
   ],
   "source": [
    "mean_parameters = dict()\n",
    "for key in samples:\n",
    "    value = np.mean(samples[key])\n",
    "    mean_parameters[key] = value\n",
    "    print(key, value)\n",
    "posterior = mean_parameters"
   ]
  },
  {
   "cell_type": "code",
   "execution_count": 49,
   "metadata": {},
   "outputs": [
    {
     "name": "stdout",
     "output_type": "stream",
     "text": [
      "length of waveform array,  8193\n",
      "length of waveform array,  8193\n",
      "full waveform\n",
      "network opt SNR:  1.410554203730321\n",
      "network complex matched_filter SNR (-4.589952090309368-7.798692101763571j)\n"
     ]
    }
   ],
   "source": [
    "frequency_domain_strain = waveform_generator_full.frequency_domain_strain(posterior)\n",
    "time_domain_strain_osc = waveform_generator_osc.time_domain_strain(posterior)\n",
    "time_domain_strain_full = waveform_generator_full.time_domain_strain(posterior)\n",
    "time_domain_strain_mem = waveform_generator_mem.time_domain_strain(posterior)\n",
    "time_array = waveform_generator_full.time_array\n",
    "target_likelihood.parameters.update(posterior)\n",
    "snr_array_H1 = target_likelihood.calculate_snrs(frequency_domain_strain, ifo_list[0])\n",
    "opt_snr_H = snr_array_H1.optimal_snr_squared\n",
    "cmf_snr_H = snr_array_H1.complex_matched_filter_snr\n",
    "print('full waveform')\n",
    "print('network opt SNR: ', np.sqrt(opt_snr_H))\n",
    "print('network complex matched_filter SNR', cmf_snr_H)"
   ]
  },
  {
   "cell_type": "code",
   "execution_count": 24,
   "metadata": {},
   "outputs": [
    {
     "name": "stdout",
     "output_type": "stream",
     "text": [
      "memory-only waveform\n",
      "network opt SNR:  0.007452634682179739\n",
      "network complex matched_filter SNR (-2.016527466132971+3.236346726010191j)\n"
     ]
    }
   ],
   "source": [
    "frequency_domain_strain_mem = waveform_generator_mem.frequency_domain_strain(posterior)\n",
    "snr_array_H1 = target_likelihood.calculate_snrs(frequency_domain_strain_mem, ifo_list[0])\n",
    "opt_snr_H = snr_array_H1.optimal_snr_squared\n",
    "cmf_snr_H = snr_array_H1.complex_matched_filter_snr\n",
    "\n",
    "print('memory-only waveform')\n",
    "print('network opt SNR: ', np.sqrt(opt_snr_H))\n",
    "print('network complex matched_filter SNR', cmf_snr_H)"
   ]
  },
  {
   "cell_type": "code",
   "execution_count": 25,
   "metadata": {},
   "outputs": [
    {
     "name": "stderr",
     "output_type": "stream",
     "text": [
      "/home/shunyin.cheung/.conda/envs/altenv/lib/python3.11/site-packages/matplotlib/cbook/__init__.py:1369: ComplexWarning: Casting complex values to real discards the imaginary part\n",
      "  return np.asarray(x, float)\n"
     ]
    },
    {
     "data": {
      "image/png": "[encoded data removed]",
      "text/plain": [
       "<Figure size 640x480 with 1 Axes>"
      ]
     },
     "metadata": {},
     "output_type": "display_data"
    }
   ],
   "source": [
    "plt.figure()\n",
    "plt.plot(time_array, np.roll(time_domain_strain_full['plus']-1j*time_domain_strain_full['cross'], -4096), linestyle='dashed', label='full')\n",
    "plt.plot(time_array, np.roll(time_domain_strain_osc['plus']-1j*time_domain_strain_osc['cross'], -4096), label='osc only')\n",
    "plt.plot(time_array, np.roll(time_domain_strain_mem['plus']-1j*time_domain_strain_mem['cross'], -4096), label='mem only')\n",
    "plt.legend()\n",
    "plt.savefig(f'tests/td_waveform_{amplitude}_{events_name}.png')\n",
    "plt.show()"
   ]
  },
  {
   "cell_type": "code",
   "execution_count": 16,
   "metadata": {},
   "outputs": [
    {
     "data": {
      "image/png": "[encoded data removed]",
      "text/plain": [
       "<Figure size 640x480 with 1 Axes>"
      ]
     },
     "metadata": {},
     "output_type": "display_data"
    }
   ],
   "source": [
    "frequency_array = waveform_generator_mem.frequency_array\n",
    "fd_strain_osc = waveform_generator_osc.frequency_domain_strain(posterior)\n",
    "\n",
    "plt.figure()\n",
    "plt.loglog(frequency_array, np.abs(frequency_domain_strain_mem['plus']+frequency_domain_strain_mem['cross']), label='memory')\n",
    "plt.loglog(frequency_array, np.abs(fd_strain_osc['plus']+fd_strain_osc['cross']), label='osc')\n",
    "plt.xlabel('frequnecy (Hz)')\n",
    "plt.legend()\n",
    "plt.show()"
   ]
  }
 ],
 "metadata": {
  "kernelspec": {
   "display_name": "altenv",
   "language": "python",
   "name": "python3"
  },
  "language_info": {
   "codemirror_mode": {
    "name": "ipython",
    "version": 3
   },
   "file_extension": ".py",
   "mimetype": "text/x-python",
   "name": "python",
   "nbconvert_exporter": "python",
   "pygments_lexer": "ipython3",
   "version": "3.11.5"
  }
 },
 "nbformat": 4,
 "nbformat_minor": 2
}
