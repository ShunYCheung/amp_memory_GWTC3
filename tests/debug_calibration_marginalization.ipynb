{
 "cells": [
  {
   "cell_type": "code",
   "execution_count": 3,
   "metadata": {},
   "outputs": [],
   "source": [
    "import numpy as np\n",
    "import bilby\n",
    "import lal\n",
    "import gwpy\n",
    "import copy\n",
    "from gwpy.timeseries import TimeSeries\n",
    "import multiprocessing as mp\n",
    "\n",
    "import sys\n",
    "sys.path.append(\"..\")\n",
    "\n",
    "from create_post_dict import create_post_dict, extract_relevant_info"
   ]
  },
  {
   "cell_type": "code",
   "execution_count": 4,
   "metadata": {},
   "outputs": [],
   "source": [
    "def call_data_GWOSC(logger, args, calibration, samples, detectors, start_time, end_time, sampling_frequency, roll_off, minimum_frequency, maximum_frequency, psds_array=None, plot=False):\n",
    "    \n",
    "    ifo_list = bilby.gw.detector.InterferometerList([])\n",
    "    \n",
    "    # define interferometer objects\n",
    "    for det in detectors:   \n",
    "        logger.info(\"Downloading analysis data for ifo {}\".format(det))\n",
    "        ifo = bilby.gw.detector.get_empty_interferometer(det)\n",
    "        \n",
    "        channel_type = args['channel_dict'][det]\n",
    "        channel = f\"{det}:{channel_type}\"\n",
    "        \n",
    "        kwargs = dict(\n",
    "            start=start_time,\n",
    "            end=end_time,\n",
    "            verbose=False,\n",
    "            allow_tape=True,\n",
    "        )\n",
    "\n",
    "        type_kwargs = dict(\n",
    "            dtype=\"float64\",\n",
    "            subok=True,\n",
    "            copy=False,\n",
    "        )\n",
    "        data = gwpy.timeseries.TimeSeries.get(channel, **kwargs).astype(\n",
    "                **type_kwargs)\n",
    "        \n",
    "        # Resampling timeseries to sampling_frequency using lal.\n",
    "        lal_timeseries = data.to_lal()\n",
    "        lal.ResampleREAL8TimeSeries(\n",
    "            lal_timeseries, float(1/sampling_frequency)\n",
    "        )\n",
    "        data = TimeSeries(\n",
    "            lal_timeseries.data.data,\n",
    "            epoch=lal_timeseries.epoch,\n",
    "            dt=lal_timeseries.deltaT\n",
    "        )\n",
    "    \n",
    "        # define some attributes in ifo\n",
    "        ifo.strain_data.roll_off = roll_off\n",
    "        ifo.maximum_frequency = maximum_frequency\n",
    "        ifo.minimum_frequency = minimum_frequency\n",
    "        \n",
    "        # set data as the strain data\n",
    "        ifo.strain_data.set_from_gwpy_timeseries(data)\n",
    "        \n",
    "        # compute the psd\n",
    "        if det in psds_array.keys():\n",
    "            print(\"Using pre-computed psd from results file\")\n",
    "            ifo.power_spectral_density = bilby.gw.detector.PowerSpectralDensity(\n",
    "            frequency_array=psds_array[det][: ,0], psd_array=psds_array[det][:, 1]\n",
    "            )\n",
    "        else:\n",
    "            print('Error: PSD is missing!')\n",
    "            exit()\n",
    "\n",
    "        \n",
    "        if calibration is not None:\n",
    "            print(f'{det}: Using pre-computed calibration model')\n",
    "            model = bilby.gw.calibration.Precomputed\n",
    "            det = ifo.name\n",
    "            file_paths={\"H1\":\"/home/daniel.williams/events/O3/event_repos/GW150914/C01_offline/calibration/H1.dat\",\n",
    "                        \"L1\":\"/home/daniel.williams/events/O3/event_repos/GW150914/C01_offline/calibration/L1.dat\", }\n",
    "            \n",
    "            ifo.calibration_model = model.from_envelope_file(\n",
    "                file_paths[det],\n",
    "                frequency_array=ifo.frequency_array[ifo.frequency_mask],\n",
    "                n_nodes=10,\n",
    "                label=det,\n",
    "                n_curves=1000,\n",
    "            )\n",
    "        \n",
    "\n",
    "        ifo_list.append(ifo)\n",
    "\n",
    "    return ifo_list"
   ]
  },
  {
   "cell_type": "code",
   "execution_count": 5,
   "metadata": {},
   "outputs": [
    {
     "name": "stdout",
     "output_type": "stream",
     "text": [
      "Jitter time setting cannot be found. Use default setting.\n"
     ]
    }
   ],
   "source": [
    "logger = bilby.core.utils.logger\n",
    "\n",
    "# adds in detectors and the specs for the detectors. \n",
    "waveform = 'C01:IMRPhenomXPHM'\n",
    "file_path = '/home/shunyin.cheung/GWOSC_posteriors/IGWN-GWTC2p1-v2-GW170818_022509_PEDataRelease_mixed_cosmo.h5'\n",
    "\n",
    "samples, meta_dict, config_dict, priors, psds, calibration = create_post_dict(file_path, waveform)\n",
    "args = extract_relevant_info(meta_dict, config_dict)\n",
    "\n",
    "sampling_frequency = args['sampling_frequency']\n",
    "maximum_frequency = args['maximum_frequency']\n",
    "minimum_frequency = args['minimum_frequency']\n",
    "reference_frequency = args['reference_frequency']\n",
    "roll_off = args['tukey_roll_off']\n",
    "duration = args['duration']\n",
    "post_trigger_duration = args['post_trigger_duration']\n",
    "trigger_time = args['trigger_time']\n",
    "detectors = args['detectors']\n",
    "end_time = trigger_time + post_trigger_duration\n",
    "start_time = end_time - duration"
   ]
  },
  {
   "cell_type": "code",
   "execution_count": 6,
   "metadata": {},
   "outputs": [
    {
     "name": "stderr",
     "output_type": "stream",
     "text": [
      "20:52 bilby INFO    : Downloading analysis data for ifo L1\n",
      "20:52 bilby INFO    : Downloading analysis data for ifo H1\n"
     ]
    },
    {
     "name": "stdout",
     "output_type": "stream",
     "text": [
      "Using pre-computed psd from results file\n"
     ]
    },
    {
     "name": "stderr",
     "output_type": "stream",
     "text": [
      "20:52 bilby INFO    : Downloading analysis data for ifo V1\n"
     ]
    },
    {
     "name": "stdout",
     "output_type": "stream",
     "text": [
      "Using pre-computed psd from results file\n",
      "Using pre-computed psd from results file\n"
     ]
    }
   ],
   "source": [
    "calibration = None\n",
    "\n",
    "ifo_list = call_data_GWOSC(logger, args, \n",
    "                            calibration, samples, \n",
    "                            detectors, start_time, \n",
    "                            end_time, sampling_frequency, \n",
    "                            roll_off, minimum_frequency, \n",
    "                            maximum_frequency, psds_array=psds)"
   ]
  },
  {
   "cell_type": "code",
   "execution_count": 8,
   "metadata": {},
   "outputs": [
    {
     "name": "stderr",
     "output_type": "stream",
     "text": [
      "17:15 bilby INFO    : Waveform generator initiated with\n",
      "  frequency_domain_source_model: bilby.gw.source.lal_binary_black_hole\n",
      "  time_domain_source_model: None\n",
      "  parameter_conversion: bilby.gw.conversion.convert_to_lal_binary_black_hole_parameters\n",
      "17:15 bilby INFO    : Loaded distance marginalisation lookup table from /home/daniel.williams/events/O3/o3a/run_directories/GW150914/'TD.npz'.npz.\n",
      "17:15 bilby INFO    : Loaded distance marginalisation lookup table from /home/daniel.williams/events/O3/o3a/run_directories/GW150914/'TD.npz'.npz.\n"
     ]
    },
    {
     "name": "stdout",
     "output_type": "stream",
     "text": [
      "difference in log likelihood -0.9159724244584027\n"
     ]
    }
   ],
   "source": [
    "amplitude = 1.0\n",
    "\n",
    "priors2 = copy.copy(priors)\n",
    "priors3 = copy.copy(priors)\n",
    "\n",
    "waveform_name = args['waveform_approximant']\n",
    "    \n",
    "# test if bilby oscillatory waveform = gwmemory oscillatory waveform.\n",
    "waveform_generator_osc = bilby.gw.waveform_generator.WaveformGenerator(\n",
    "    duration=duration,\n",
    "    sampling_frequency=sampling_frequency,\n",
    "    frequency_domain_source_model= bilby.gw.source.lal_binary_black_hole,\n",
    "    parameter_conversion = bilby.gw.conversion.convert_to_lal_binary_black_hole_parameters,\n",
    "    waveform_arguments=dict(duration=duration,\n",
    "                            minimum_frequency=minimum_frequency,\n",
    "                            maximum_frequency=maximum_frequency,\n",
    "                            sampling_frequency=sampling_frequency,\n",
    "                            reference_frequency=reference_frequency,\n",
    "                            waveform_approximant=waveform_name,\n",
    "                            )\n",
    ")\n",
    "\n",
    "proposal_likelihood = bilby.gw.likelihood.GravitationalWaveTransient(\n",
    "    ifo_list,\n",
    "    waveform_generator_osc,\n",
    "    time_marginalization = True,\n",
    "    distance_marginalization = True,\n",
    "    distance_marginalization_lookup_table = args['distance_marginalization_lookup_table'],\n",
    "    #distance_marginalization_lookup_table = 'TD.npz',\n",
    "    jitter_time=True,\n",
    "    priors = priors2,\n",
    "    reference_frame = args['reference_frame'],\n",
    "    time_reference = args['time_reference'],\n",
    "    calibration_marginalization=False,\n",
    "    #calibration_lookup_table=calibration_lookup_table,\n",
    ")\n",
    "\n",
    "file_paths={\"H1\":\"/home/daniel.williams/events/O3/event_repos/GW150914/C01_offline/calibration/H1.dat\",\n",
    "                            \"L1\":\"/home/daniel.williams/events/O3/event_repos/GW150914/C01_offline/calibration/L1.dat\",}\n",
    "\n",
    "if calibration is not None:\n",
    "    for i in range(len(detectors)):\n",
    "\n",
    "        \n",
    "        ifo_list[i].calibration_model = bilby.gw.calibration.Precomputed.from_envelope_file(\n",
    "                file_paths[f\"{ifo_list[i].name}\"],\n",
    "                frequency_array=ifo_list[i].frequency_array[ifo_list[i].frequency_mask],\n",
    "                n_nodes=10,\n",
    "                label=ifo_list[i].name,\n",
    "                n_curves=1000,\n",
    "            )\n",
    "             \n",
    "\n",
    "target_likelihood = bilby.gw.likelihood.GravitationalWaveTransient(\n",
    "    ifo_list,\n",
    "    waveform_generator_osc,\n",
    "    time_marginalization = True,\n",
    "    distance_marginalization = True,\n",
    "    distance_marginalization_lookup_table = args['distance_marginalization_lookup_table'],\n",
    "    #distance_marginalization_lookup_table = 'TD.npz',\n",
    "    jitter_time=True,\n",
    "    priors = priors3,\n",
    "    reference_frame = args['reference_frame'],\n",
    "    time_reference = args['time_reference'],\n",
    "    calibration_marginalization=False,\n",
    "    #calibration_lookup_table=calibration_lookup_table,\n",
    ")\n",
    "\n",
    "reference_dict = {'geocent_time': priors2['geocent_time'],\n",
    "                'luminosity_distance': priors2['luminosity_distance']}\n",
    "\n",
    "for i in range(1):    \n",
    "    GWOSC_likelihood_values = samples['log_likelihood'].iloc[i]\n",
    "\n",
    "    proposal_likelihood.parameters.update(samples.iloc[i].to_dict())\n",
    "    proposal_likelihood.parameters.update(reference_dict)\n",
    "    proposal_likelihood_values = proposal_likelihood.log_likelihood_ratio()\n",
    "\n",
    "    target_likelihood.parameters.update(samples.iloc[i].to_dict())\n",
    "    target_likelihood.parameters.update(reference_dict)\n",
    "    target_likelihood_values = target_likelihood.log_likelihood_ratio()\n",
    "\n",
    "    #ln_weights = target_likelihood_values - proposal_likelihood_values\n",
    "    \n",
    "    ln_weights = target_likelihood_values - GWOSC_likelihood_values\n",
    "\n",
    "    print(\"difference in log likelihood\", ln_weights)"
   ]
  }
 ],
 "metadata": {
  "kernelspec": {
   "display_name": "altenv",
   "language": "python",
   "name": "python3"
  },
  "language_info": {
   "codemirror_mode": {
    "name": "ipython",
    "version": 3
   },
   "file_extension": ".py",
   "mimetype": "text/x-python",
   "name": "python",
   "nbconvert_exporter": "python",
   "pygments_lexer": "ipython3",
   "version": "3.11.5"
  }
 },
 "nbformat": 4,
 "nbformat_minor": 2
}
